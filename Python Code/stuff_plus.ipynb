{
 "cells": [
  {
   "cell_type": "code",
   "execution_count": 6,
   "metadata": {},
   "outputs": [],
   "source": [
    "# Load Libraries\n",
    "import pandas as pd\n",
    "import pickle\n",
    "from pandas import DataFrame, Series\n",
    "from sklearn.ensemble import RandomForestClassifier,RandomForestRegressor\n",
    "from sklearn.preprocessing import StandardScaler\n",
    "import numpy as np\n",
    "import seaborn as sns\n",
    "import statsmodels.api as sm\n",
    "from sklearn import linear_model, naive_bayes\n",
    "from sklearn.datasets import make_regression\n",
    "from sklearn.model_selection import train_test_split, cross_val_score\n",
    "from sklearn.naive_bayes import GaussianNB\n",
    "from sklearn.naive_bayes import MultinomialNB\n",
    "from sklearn.tree import DecisionTreeRegressor\n",
    "from sklearn import svm\n",
    "from statsmodels.stats.outliers_influence import variance_inflation_factor\n",
    "import matplotlib.pyplot as plt\n",
    "from sklearn.metrics import mean_squared_error,r2_score\n",
    "import pybaseball as pyb\n",
    "from pybaseball import statcast\n",
    "import xgboost as xgb\n",
    "from xgboost import XGBRegressor, XGBClassifier\n",
    "from keras.models import Sequential\n",
    "from keras.layers import Dense\n",
    "from sklearn.linear_model import LinearRegression\n",
    "from sklearn.svm import SVR\n",
    "from sklearn import model_selection\n",
    "from sklearn.linear_model import LogisticRegression\n",
    "from sklearn.tree import DecisionTreeClassifier\n",
    "from sklearn.neighbors import KNeighborsClassifier\n",
    "from sklearn.svm import SVC\n",
    "from sklearn.ensemble import VotingClassifier\n",
    "from sklearn.metrics import classification_report, confusion_matrix ,accuracy_score\n",
    "from sklearn.model_selection import GridSearchCV\n",
    "from sklearn.model_selection import KFold\n",
    "from sklearn.pipeline import Pipeline\n",
    "from sklearn.feature_selection import RFE\n",
    "from sklearn.ensemble import RandomForestRegressor\n",
    "\n",
    "from pybaseball import statcast\n",
    "from pybaseball import  playerid_lookup\n",
    "from pybaseball import  statcast_pitcher\n",
    "from pybaseball import pitching_stats\n",
    "from pybaseball import batting_stats\n",
    "import matplotlib.pyplot as plt\n",
    "import matplotlib.patches as mpatches\n",
    "import numpy as np\n",
    "from pybaseball import pitching_stats_bref\n",
    "from pybaseball import statcast_batter"
   ]
  },
  {
   "cell_type": "code",
   "execution_count": 7,
   "metadata": {},
   "outputs": [],
   "source": [
    "pyb.cache.enable()"
   ]
  },
  {
   "cell_type": "code",
   "execution_count": 45,
   "metadata": {},
   "outputs": [
    {
     "name": "stdout",
     "output_type": "stream",
     "text": [
      "This is a large query, it may take a moment to complete\n"
     ]
    },
    {
     "name": "stderr",
     "output_type": "stream",
     "text": [
      "100%|██████████| 209/209 [00:30<00:00,  6.81it/s]\n"
     ]
    }
   ],
   "source": [
    "data = statcast(start_dt=\"2023-03-30\", end_dt=\"2023-10-24\")\n",
    "columns = ['game_date', 'player_name', 'batter', 'p_throws', 'stand', 'pitch_type', 'release_speed', 'pfx_x', 'pfx_z', 'release_pos_x', 'release_pos_y', 'release_pos_z', 'effective_speed', 'release_spin_rate', 'release_extension', 'plate_x', 'plate_z', 'description']\n"
   ]
  },
  {
   "cell_type": "code",
   "execution_count": 46,
   "metadata": {},
   "outputs": [],
   "source": [
    "df = data[columns]"
   ]
  },
  {
   "cell_type": "markdown",
   "metadata": {},
   "source": [
    "# **Data Cleaning**"
   ]
  },
  {
   "cell_type": "code",
   "execution_count": 47,
   "metadata": {},
   "outputs": [
    {
     "name": "stderr",
     "output_type": "stream",
     "text": [
      "c:\\Users\\genoc\\Anaconda3\\lib\\site-packages\\pandas\\core\\frame.py:4441: SettingWithCopyWarning: \n",
      "A value is trying to be set on a copy of a slice from a DataFrame\n",
      "\n",
      "See the caveats in the documentation: https://pandas.pydata.org/pandas-docs/stable/user_guide/indexing.html#returning-a-view-versus-a-copy\n",
      "  return super().rename(\n"
     ]
    }
   ],
   "source": [
    "# Rename columns for easier access\n",
    "column_mapping = {\n",
    "    'game_date': 'date',\n",
    "    'player_name': 'pitcher_name',\n",
    "    'batter': 'batter_id',\n",
    "    'p_throws': 'p_hand',\n",
    "    'stand': 'batter_side',\n",
    "    'pitch_type': 'pitch_type',\n",
    "    'release_speed': 'velocity',\n",
    "    'pfx_x': 'horizontal_break',\n",
    "    'pfx_z': 'induced_vertical_break',\n",
    "    'release_pos_x': 'release_side',\n",
    "    'release_pos_y': 'release_dist_from_C',\n",
    "    'release_pos_z': 'release_height',\n",
    "    'spin_axis': 'spin_axis',\n",
    "    'effective_speed': 'effective_velocity',\n",
    "    'release_spin_rate': 'spin_rate',\n",
    "    'release_extension': 'extension',\n",
    "    'plate_x': 'pitch_height',\n",
    "    'plate_z': 'pitch_side'\n",
    "}\n",
    "\n",
    "df.rename(columns=column_mapping, inplace=True)"
   ]
  },
  {
   "cell_type": "code",
   "execution_count": 48,
   "metadata": {},
   "outputs": [
    {
     "name": "stderr",
     "output_type": "stream",
     "text": [
      "<ipython-input-48-630fba45d089>:5: SettingWithCopyWarning: \n",
      "A value is trying to be set on a copy of a slice from a DataFrame.\n",
      "Try using .loc[row_indexer,col_indexer] = value instead\n",
      "\n",
      "See the caveats in the documentation: https://pandas.pydata.org/pandas-docs/stable/user_guide/indexing.html#returning-a-view-versus-a-copy\n",
      "  df['pitcher_name'] = df['pitcher_name'].str.split(' ', expand=True)[1] + ' ' + df['pitcher_name'].str.split(' ', expand=True)[0]\n",
      "<ipython-input-48-630fba45d089>:8: SettingWithCopyWarning: \n",
      "A value is trying to be set on a copy of a slice from a DataFrame.\n",
      "Try using .loc[row_indexer,col_indexer] = value instead\n",
      "\n",
      "See the caveats in the documentation: https://pandas.pydata.org/pandas-docs/stable/user_guide/indexing.html#returning-a-view-versus-a-copy\n",
      "  df['pitcher_name'] = df['pitcher_name'].replace(',', '', regex=True)\n"
     ]
    }
   ],
   "source": [
    "# release side, release height, induced vertical break, extension, velocity, horizontal break, differential break, spin rate, spin axis\n",
    "# pitcher name, pitcher team, pitch type\n",
    "\n",
    "# Edit the pitcher names so the first name is first and the last name is last\n",
    "df['pitcher_name'] = df['pitcher_name'].str.split(' ', expand=True)[1] + ' ' + df['pitcher_name'].str.split(' ', expand=True)[0]\n",
    "\n",
    "# Remove the comma from the last name\n",
    "df['pitcher_name'] = df['pitcher_name'].replace(',', '', regex=True)"
   ]
  },
  {
   "cell_type": "code",
   "execution_count": 49,
   "metadata": {},
   "outputs": [
    {
     "data": {
      "text/plain": [
       "'\\n# Get a list of unique batter IDs in the dataframe\\nbatter_ids = df[\\'batter_id\\'].unique()\\n\\n# Initialize an empty DataFrame to store the player names\\ndf_batters = pd.DataFrame()\\n\\n# Loop over the batter IDs and look up the player names\\nfor batter_id in batter_ids:\\n    try:\\n        # Get data for the batter\\n        data = statcast_batter(\\'2023-03-30\\', \\'2023-10-24\\', batter_id)\\n        \\n        # Get the player\\'s name\\n        name = data[\\'player_name\\'].iloc[0]\\n        \\n        # Append the batter ID and name to df_batters\\n        df_batters = df_batters.append({\\'batter_id\\': batter_id, \\'name\\': name}, ignore_index=True)\\n    except:\\n        print(f\"No player found for ID {batter_id}\")\\n\\n# Split the \\'name\\' column into a DataFrame of separate words\\nname_df = df_batters[\\'name\\'].str.split(\\' \\', expand=True)\\n\\n# Initialize an empty list to store the new names\\nnew_names = []\\n\\n# Loop over the rows in name_df\\nfor i, row in name_df.iterrows():\\n    # If the name has only two words, use the existing method\\n    if row.count() == 2:\\n        new_name = row[1] + \\' \\' + row[0]\\n    # If the name has more than two words, use the other method\\n    else:\\n        first_name = row[row.last_valid_index()]\\n        last_name = \\' \\'.join(row[:row.last_valid_index()].dropna())\\n        new_name = first_name + \\' \\' + last_name\\n\\n    # Remove the comma from the new name\\n    new_name = new_name.replace(\\',\\', \\'\\')\\n\\n    # Append the new name to new_names\\n    new_names.append(new_name)\\n\\n# Replace the \\'name\\' column in df_batters with new_names\\ndf_batters[\\'name\\'] = new_names\\n'"
      ]
     },
     "execution_count": 49,
     "metadata": {},
     "output_type": "execute_result"
    }
   ],
   "source": [
    "\"\"\"\n",
    "# Get a list of unique batter IDs in the dataframe\n",
    "batter_ids = df['batter_id'].unique()\n",
    "\n",
    "# Initialize an empty DataFrame to store the player names\n",
    "df_batters = pd.DataFrame()\n",
    "\n",
    "# Loop over the batter IDs and look up the player names\n",
    "for batter_id in batter_ids:\n",
    "    try:\n",
    "        # Get data for the batter\n",
    "        data = statcast_batter('2023-03-30', '2023-10-24', batter_id)\n",
    "        \n",
    "        # Get the player's name\n",
    "        name = data['player_name'].iloc[0]\n",
    "        \n",
    "        # Append the batter ID and name to df_batters\n",
    "        df_batters = df_batters.append({'batter_id': batter_id, 'name': name}, ignore_index=True)\n",
    "    except:\n",
    "        print(f\"No player found for ID {batter_id}\")\n",
    "\n",
    "# Split the 'name' column into a DataFrame of separate words\n",
    "name_df = df_batters['name'].str.split(' ', expand=True)\n",
    "\n",
    "# Initialize an empty list to store the new names\n",
    "new_names = []\n",
    "\n",
    "# Loop over the rows in name_df\n",
    "for i, row in name_df.iterrows():\n",
    "    # If the name has only two words, use the existing method\n",
    "    if row.count() == 2:\n",
    "        new_name = row[1] + ' ' + row[0]\n",
    "    # If the name has more than two words, use the other method\n",
    "    else:\n",
    "        first_name = row[row.last_valid_index()]\n",
    "        last_name = ' '.join(row[:row.last_valid_index()].dropna())\n",
    "        new_name = first_name + ' ' + last_name\n",
    "\n",
    "    # Remove the comma from the new name\n",
    "    new_name = new_name.replace(',', '')\n",
    "\n",
    "    # Append the new name to new_names\n",
    "    new_names.append(new_name)\n",
    "\n",
    "# Replace the 'name' column in df_batters with new_names\n",
    "df_batters['name'] = new_names\n",
    "\"\"\"\n"
   ]
  },
  {
   "cell_type": "code",
   "execution_count": 50,
   "metadata": {},
   "outputs": [
    {
     "data": {
      "text/plain": [
       "386"
      ]
     },
     "execution_count": 50,
     "metadata": {},
     "output_type": "execute_result"
    }
   ],
   "source": [
    "# Load the DataFrame from a pickle file\n",
    "with open('df_batters.pkl', 'rb') as f:\n",
    "    df_batters = pickle.load(f)\n",
    "\n",
    "len(df_batters)"
   ]
  },
  {
   "cell_type": "code",
   "execution_count": 51,
   "metadata": {},
   "outputs": [
    {
     "name": "stderr",
     "output_type": "stream",
     "text": [
      "<ipython-input-51-7ce10a242e12>:5: SettingWithCopyWarning: \n",
      "A value is trying to be set on a copy of a slice from a DataFrame.\n",
      "Try using .loc[row_indexer,col_indexer] = value instead\n",
      "\n",
      "See the caveats in the documentation: https://pandas.pydata.org/pandas-docs/stable/user_guide/indexing.html#returning-a-view-versus-a-copy\n",
      "  df['batter_name'] = df['batter_id'].map(batter_id_to_name)\n"
     ]
    }
   ],
   "source": [
    "# Create a mapping from batter_id to name\n",
    "batter_id_to_name = df_batters.set_index('batter_id')['name'].to_dict()\n",
    "\n",
    "# Replace the batter_id values with names in the dataframe\n",
    "df['batter_name'] = df['batter_id'].map(batter_id_to_name)\n",
    "\n",
    "# Delete batter_id from the dataframe\n",
    "df = df.drop('batter_id', axis=1)\n",
    "\n",
    "# Replace null values in the batter_name column with 'Unknown'\n",
    "df['batter_name'] = df['batter_name'].fillna('Unknown')"
   ]
  },
  {
   "cell_type": "code",
   "execution_count": 52,
   "metadata": {},
   "outputs": [
    {
     "name": "stdout",
     "output_type": "stream",
     "text": [
      "Total hitters who played in 2023: 385\n",
      "Total pitchers who played in 2023: 861\n",
      "Total players who played in 2023: 1247\n"
     ]
    }
   ],
   "source": [
    "print(\"Total hitters who played in 2023:\", df['batter_name'].nunique() - 1)\n",
    "print(\"Total pitchers who played in 2023:\", df['pitcher_name'].nunique())\n",
    "print(\"Total players who played in 2023:\", df['batter_name'].nunique() + df['pitcher_name'].nunique())"
   ]
  },
  {
   "cell_type": "code",
   "execution_count": 53,
   "metadata": {},
   "outputs": [
    {
     "name": "stdout",
     "output_type": "stream",
     "text": [
      "728284\n",
      "688685\n"
     ]
    },
    {
     "data": {
      "text/plain": [
       "array(['FB', 'BB', 'CH'], dtype=object)"
      ]
     },
     "execution_count": 53,
     "metadata": {},
     "output_type": "execute_result"
    }
   ],
   "source": [
    "# Define a dictionary mapping different pitch types to standard ones\n",
    "pitch_type_mapping = {\n",
    "    'FF': 'FB',\n",
    "    'FT': 'FB',\n",
    "    'SI': 'FB',\n",
    "    'FC': 'FB',\n",
    "    'CH': 'CH',\n",
    "    'FS': 'CH',\n",
    "    'SC': 'CH',\n",
    "    'GY': 'CH',\n",
    "    'FO': 'CH',\n",
    "    'FS': 'CH',\n",
    "    'CU': 'BB',\n",
    "    'KC': 'BB',\n",
    "    'SL': 'BB'\n",
    "}\n",
    "\n",
    "# Replace the pitch types\n",
    "df['pitch_type'] = df['pitch_type'].replace(pitch_type_mapping)\n",
    "print(len(df))\n",
    "\n",
    "# Remove pitch types that are not in the mapping\n",
    "df = df[df['pitch_type'].isin(pitch_type_mapping.values())]\n",
    "print(len(df))\n",
    "\n",
    "df['pitch_type'].unique()"
   ]
  },
  {
   "cell_type": "code",
   "execution_count": 54,
   "metadata": {},
   "outputs": [
    {
     "name": "stderr",
     "output_type": "stream",
     "text": [
      "<ipython-input-54-8551bd8b0b96>:8: FutureWarning: Indexing with multiple keys (implicitly converted to a tuple of keys) will be deprecated, use a list instead.\n",
      "  average_fastball = df[df['pitch_type'] == 'FB'].groupby('pitcher_name')['velocity', 'horizontal_break', 'induced_vertical_break'].mean()\n"
     ]
    }
   ],
   "source": [
    "# Make horizontal break the absolute value\n",
    "df['horizontal_break'] = abs(df['horizontal_break'])\n",
    "\n",
    "# Create differential break column: induced vertical break - horizontal break\n",
    "df['differential_break'] = (df['induced_vertical_break'] - df['horizontal_break']).abs()\n",
    "\n",
    "# Calculate the average fastball velocity and movement for each pitcher\n",
    "average_fastball = df[df['pitch_type'] == 'FB'].groupby('pitcher_name')['velocity', 'horizontal_break', 'induced_vertical_break'].mean()\n",
    "\n",
    "# Create new columns for the differences\n",
    "df['velocity_diff'] = df['velocity'] - df['pitcher_name'].map(average_fastball['velocity'])\n",
    "df['horizontal_break_diff'] = df['horizontal_break'] - df['pitcher_name'].map(average_fastball['horizontal_break'])\n",
    "df['induced_vertical_break_diff'] = df['induced_vertical_break'] - df['pitcher_name'].map(average_fastball['induced_vertical_break'])"
   ]
  },
  {
   "cell_type": "code",
   "execution_count": 57,
   "metadata": {},
   "outputs": [],
   "source": [
    "# Handle null values by filling them with the mean\n",
    "df['spin_rate'] = df['spin_rate'].astype(float).fillna(df['spin_rate'].mean())\n",
    "df['extension'] = df['extension'].astype(float).fillna(df['extension'].mean())\n",
    "\n",
    "# Drop the remaining null values\n",
    "df = df.dropna()"
   ]
  },
  {
   "cell_type": "code",
   "execution_count": 58,
   "metadata": {},
   "outputs": [
    {
     "name": "stderr",
     "output_type": "stream",
     "text": [
      "<ipython-input-58-a002bb599fca>:2: SettingWithCopyWarning: \n",
      "A value is trying to be set on a copy of a slice from a DataFrame.\n",
      "Try using .loc[row_indexer,col_indexer] = value instead\n",
      "\n",
      "See the caveats in the documentation: https://pandas.pydata.org/pandas-docs/stable/user_guide/indexing.html#returning-a-view-versus-a-copy\n",
      "  df['whiff'] = df['description'].apply(lambda x: 1 if x == \"swinging_strike\" or x == 'foul_tip' else 0)\n",
      "<ipython-input-58-a002bb599fca>:3: SettingWithCopyWarning: \n",
      "A value is trying to be set on a copy of a slice from a DataFrame.\n",
      "Try using .loc[row_indexer,col_indexer] = value instead\n",
      "\n",
      "See the caveats in the documentation: https://pandas.pydata.org/pandas-docs/stable/user_guide/indexing.html#returning-a-view-versus-a-copy\n",
      "  df['swing'] = df['description'].apply(lambda x: 1 if x == \"swinging_strike\" or x == \"hit_into_play\" or x == \"foul\" or x == \"foul_tip\" else 0)\n"
     ]
    }
   ],
   "source": [
    "# Create columns for whiff (swing and miss) and swings\n",
    "df['whiff'] = df['description'].apply(lambda x: 1 if x == \"swinging_strike\" or x == 'foul_tip' else 0)\n",
    "df['swing'] = df['description'].apply(lambda x: 1 if x == \"swinging_strike\" or x == \"hit_into_play\" or x == \"foul\" or x == \"foul_tip\" else 0)"
   ]
  },
  {
   "cell_type": "markdown",
   "metadata": {},
   "source": [
    "# **When performing analysis, run the code from this line on down**"
   ]
  },
  {
   "cell_type": "code",
   "execution_count": 82,
   "metadata": {},
   "outputs": [
    {
     "data": {
      "text/html": [
       "<div>\n",
       "<style scoped>\n",
       "    .dataframe tbody tr th:only-of-type {\n",
       "        vertical-align: middle;\n",
       "    }\n",
       "\n",
       "    .dataframe tbody tr th {\n",
       "        vertical-align: top;\n",
       "    }\n",
       "\n",
       "    .dataframe thead th {\n",
       "        text-align: right;\n",
       "    }\n",
       "</style>\n",
       "<table border=\"1\" class=\"dataframe\">\n",
       "  <thead>\n",
       "    <tr style=\"text-align: right;\">\n",
       "      <th></th>\n",
       "      <th>date</th>\n",
       "      <th>pitcher_name</th>\n",
       "      <th>p_hand</th>\n",
       "      <th>batter_side</th>\n",
       "      <th>pitch_type</th>\n",
       "      <th>velocity</th>\n",
       "      <th>horizontal_break</th>\n",
       "      <th>induced_vertical_break</th>\n",
       "      <th>release_side</th>\n",
       "      <th>release_dist_from_C</th>\n",
       "      <th>...</th>\n",
       "      <th>pitch_height</th>\n",
       "      <th>pitch_side</th>\n",
       "      <th>description</th>\n",
       "      <th>batter_name</th>\n",
       "      <th>differential_break</th>\n",
       "      <th>velocity_diff</th>\n",
       "      <th>horizontal_break_diff</th>\n",
       "      <th>induced_vertical_break_diff</th>\n",
       "      <th>whiff</th>\n",
       "      <th>swing</th>\n",
       "    </tr>\n",
       "  </thead>\n",
       "  <tbody>\n",
       "    <tr>\n",
       "      <th>149</th>\n",
       "      <td>2023-10-24</td>\n",
       "      <td>Paul Sewald</td>\n",
       "      <td>R</td>\n",
       "      <td>L</td>\n",
       "      <td>FB</td>\n",
       "      <td>93.8</td>\n",
       "      <td>1.03</td>\n",
       "      <td>1.2</td>\n",
       "      <td>-3.6</td>\n",
       "      <td>53.9</td>\n",
       "      <td>...</td>\n",
       "      <td>-0.37</td>\n",
       "      <td>3.42</td>\n",
       "      <td>foul</td>\n",
       "      <td>Jake Cave</td>\n",
       "      <td>0.17</td>\n",
       "      <td>1.522849</td>\n",
       "      <td>0.153472</td>\n",
       "      <td>0.062285</td>\n",
       "      <td>0</td>\n",
       "      <td>1</td>\n",
       "    </tr>\n",
       "    <tr>\n",
       "      <th>158</th>\n",
       "      <td>2023-10-24</td>\n",
       "      <td>Paul Sewald</td>\n",
       "      <td>R</td>\n",
       "      <td>L</td>\n",
       "      <td>FB</td>\n",
       "      <td>93.6</td>\n",
       "      <td>0.99</td>\n",
       "      <td>1.14</td>\n",
       "      <td>-3.54</td>\n",
       "      <td>54.41</td>\n",
       "      <td>...</td>\n",
       "      <td>0.29</td>\n",
       "      <td>2.88</td>\n",
       "      <td>foul</td>\n",
       "      <td>Jake Cave</td>\n",
       "      <td>0.15</td>\n",
       "      <td>1.322849</td>\n",
       "      <td>0.113472</td>\n",
       "      <td>0.002285</td>\n",
       "      <td>0</td>\n",
       "      <td>1</td>\n",
       "    </tr>\n",
       "    <tr>\n",
       "      <th>163</th>\n",
       "      <td>2023-10-24</td>\n",
       "      <td>Paul Sewald</td>\n",
       "      <td>R</td>\n",
       "      <td>L</td>\n",
       "      <td>FB</td>\n",
       "      <td>92.1</td>\n",
       "      <td>0.69</td>\n",
       "      <td>1.18</td>\n",
       "      <td>-3.63</td>\n",
       "      <td>53.79</td>\n",
       "      <td>...</td>\n",
       "      <td>0.21</td>\n",
       "      <td>3.22</td>\n",
       "      <td>foul</td>\n",
       "      <td>Jake Cave</td>\n",
       "      <td>0.49</td>\n",
       "      <td>-0.177151</td>\n",
       "      <td>-0.186528</td>\n",
       "      <td>0.042285</td>\n",
       "      <td>0</td>\n",
       "      <td>1</td>\n",
       "    </tr>\n",
       "    <tr>\n",
       "      <th>170</th>\n",
       "      <td>2023-10-24</td>\n",
       "      <td>Paul Sewald</td>\n",
       "      <td>R</td>\n",
       "      <td>L</td>\n",
       "      <td>FB</td>\n",
       "      <td>93.0</td>\n",
       "      <td>0.99</td>\n",
       "      <td>1.26</td>\n",
       "      <td>-3.57</td>\n",
       "      <td>54.36</td>\n",
       "      <td>...</td>\n",
       "      <td>-1.08</td>\n",
       "      <td>3.82</td>\n",
       "      <td>ball</td>\n",
       "      <td>Jake Cave</td>\n",
       "      <td>0.27</td>\n",
       "      <td>0.722849</td>\n",
       "      <td>0.113472</td>\n",
       "      <td>0.122285</td>\n",
       "      <td>0</td>\n",
       "      <td>0</td>\n",
       "    </tr>\n",
       "    <tr>\n",
       "      <th>183</th>\n",
       "      <td>2023-10-24</td>\n",
       "      <td>Paul Sewald</td>\n",
       "      <td>R</td>\n",
       "      <td>L</td>\n",
       "      <td>FB</td>\n",
       "      <td>92.4</td>\n",
       "      <td>0.93</td>\n",
       "      <td>1.22</td>\n",
       "      <td>-3.5</td>\n",
       "      <td>54.33</td>\n",
       "      <td>...</td>\n",
       "      <td>0.58</td>\n",
       "      <td>2.4</td>\n",
       "      <td>called_strike</td>\n",
       "      <td>Jake Cave</td>\n",
       "      <td>0.29</td>\n",
       "      <td>0.122849</td>\n",
       "      <td>0.053472</td>\n",
       "      <td>0.082285</td>\n",
       "      <td>0</td>\n",
       "      <td>0</td>\n",
       "    </tr>\n",
       "  </tbody>\n",
       "</table>\n",
       "<p>5 rows × 24 columns</p>\n",
       "</div>"
      ],
      "text/plain": [
       "          date pitcher_name p_hand batter_side pitch_type  velocity  \\\n",
       "149 2023-10-24  Paul Sewald      R           L         FB      93.8   \n",
       "158 2023-10-24  Paul Sewald      R           L         FB      93.6   \n",
       "163 2023-10-24  Paul Sewald      R           L         FB      92.1   \n",
       "170 2023-10-24  Paul Sewald      R           L         FB      93.0   \n",
       "183 2023-10-24  Paul Sewald      R           L         FB      92.4   \n",
       "\n",
       "     horizontal_break  induced_vertical_break  release_side  \\\n",
       "149              1.03                     1.2          -3.6   \n",
       "158              0.99                    1.14         -3.54   \n",
       "163              0.69                    1.18         -3.63   \n",
       "170              0.99                    1.26         -3.57   \n",
       "183              0.93                    1.22          -3.5   \n",
       "\n",
       "     release_dist_from_C  ...  pitch_height  pitch_side    description  \\\n",
       "149                 53.9  ...         -0.37        3.42           foul   \n",
       "158                54.41  ...          0.29        2.88           foul   \n",
       "163                53.79  ...          0.21        3.22           foul   \n",
       "170                54.36  ...         -1.08        3.82           ball   \n",
       "183                54.33  ...          0.58         2.4  called_strike   \n",
       "\n",
       "     batter_name  differential_break  velocity_diff horizontal_break_diff  \\\n",
       "149    Jake Cave                0.17       1.522849              0.153472   \n",
       "158    Jake Cave                0.15       1.322849              0.113472   \n",
       "163    Jake Cave                0.49      -0.177151             -0.186528   \n",
       "170    Jake Cave                0.27       0.722849              0.113472   \n",
       "183    Jake Cave                0.29       0.122849              0.053472   \n",
       "\n",
       "    induced_vertical_break_diff  whiff  swing  \n",
       "149                    0.062285      0      1  \n",
       "158                    0.002285      0      1  \n",
       "163                    0.042285      0      1  \n",
       "170                    0.122285      0      0  \n",
       "183                    0.082285      0      0  \n",
       "\n",
       "[5 rows x 24 columns]"
      ]
     },
     "execution_count": 82,
     "metadata": {},
     "output_type": "execute_result"
    }
   ],
   "source": [
    "# Load the DataFrame from a pickle file\n",
    "with open('C:/Users/genoc/Desktop/Michigan Files/2023-2024/Semester 2/SI 339/Final Project/statcast_pitch_data.pkl', 'rb') as f:\n",
    "  df = pickle.load(f)\n",
    "df.head()"
   ]
  },
  {
   "cell_type": "code",
   "execution_count": 83,
   "metadata": {},
   "outputs": [
    {
     "name": "stdout",
     "output_type": "stream",
     "text": [
      "<class 'pandas.core.frame.DataFrame'>\n",
      "Int64Index: 688477 entries, 149 to 4411\n",
      "Data columns (total 24 columns):\n",
      " #   Column                       Non-Null Count   Dtype         \n",
      "---  ------                       --------------   -----         \n",
      " 0   date                         688477 non-null  datetime64[ns]\n",
      " 1   pitcher_name                 688477 non-null  object        \n",
      " 2   p_hand                       688477 non-null  object        \n",
      " 3   batter_side                  688477 non-null  object        \n",
      " 4   pitch_type                   688477 non-null  object        \n",
      " 5   velocity                     688477 non-null  Float64       \n",
      " 6   horizontal_break             688477 non-null  Float64       \n",
      " 7   induced_vertical_break       688477 non-null  Float64       \n",
      " 8   release_side                 688477 non-null  Float64       \n",
      " 9   release_dist_from_C          688477 non-null  Float64       \n",
      " 10  release_height               688477 non-null  Float64       \n",
      " 11  effective_velocity           688477 non-null  Float64       \n",
      " 12  spin_rate                    688477 non-null  float64       \n",
      " 13  extension                    688477 non-null  float64       \n",
      " 14  pitch_height                 688477 non-null  Float64       \n",
      " 15  pitch_side                   688477 non-null  Float64       \n",
      " 16  description                  688477 non-null  object        \n",
      " 17  batter_name                  688477 non-null  object        \n",
      " 18  differential_break           688477 non-null  Float64       \n",
      " 19  velocity_diff                688477 non-null  Float64       \n",
      " 20  horizontal_break_diff        688477 non-null  Float64       \n",
      " 21  induced_vertical_break_diff  688477 non-null  Float64       \n",
      " 22  whiff                        688477 non-null  int64         \n",
      " 23  swing                        688477 non-null  int64         \n",
      "dtypes: Float64(13), datetime64[ns](1), float64(2), int64(2), object(6)\n",
      "memory usage: 139.9+ MB\n"
     ]
    }
   ],
   "source": [
    "df.info()"
   ]
  },
  {
   "cell_type": "markdown",
   "metadata": {},
   "source": [
    "Create different Dataframes for different Stuff+ models"
   ]
  },
  {
   "cell_type": "code",
   "execution_count": 84,
   "metadata": {},
   "outputs": [
    {
     "name": "stdout",
     "output_type": "stream",
     "text": [
      "Total Pitches Thrown:  688477\n",
      "--------------------------------------------------------------------------------------------------------------------\n",
      "Total Pitches thrown by RHP: 505878\n",
      "Total Pitches thrown by LHP: 182599\n",
      "Total Fastballs thrown by RHP: 296077\n",
      "Total Fastballs thrown by LHP: 107141\n",
      "Total Breaking Balls thrown by RHP: 141012\n",
      "Total Breaking Balls thrown by LHP: 48045\n",
      "Total Changeups thrown by RHP: 68789\n",
      "Total Changeups thrown by LHP: 27413\n",
      "--------------------------------------------------------------------------------------------------------------------\n",
      "Total Swings on Fastballs thrown by RHP: 140459\n",
      "Total Swings on Fastballs thrown by LHP: 50460\n",
      "Total Swings on Breaking Balls thrown by RHP: 62461\n",
      "Total Swings on Breaking Balls thrown by LHP: 21568\n",
      "Total Swings on Changeups thrown by RHP: 34097\n",
      "Total Swings on Changeups thrown by LHP: 13662\n",
      "--------------------------------------------------------------------------------------------------------------------\n",
      "Total Whiffs on Fastballs thrown by RHP: 28949\n",
      "Total Whiffs on Fastballs thrown by LHP: 9990\n",
      "Total Whiffs on Breaking Balls thrown by RHP: 19435\n",
      "Total Whiffs on Breaking Balls thrown by LHP: 6471\n",
      "Total Whiffs on Changeups thrown by RHP: 10436\n",
      "Total Whiffs on Changeups thrown by LHP: 4303\n",
      "--------------------------------------------------------------------------------------------------------------------\n",
      "Whiff Percentage on Fastballs thrown by RHP: 0.21\n",
      "Whiff Percentage on Fastballs thrown by LHP: 0.2\n",
      "Whiff Percentage on Breaking Balls thrown by RHP: 0.31\n",
      "Whiff Percentage on Breaking Balls thrown by LHP: 0.3\n",
      "Whiff Percentage on Changeups thrown by RHP: 0.31\n",
      "Whiff Percentage on Changeups thrown by LHP: 0.31\n"
     ]
    }
   ],
   "source": [
    "df_rhp = df[df['p_hand'] == 'R']\n",
    "df_lhp = df[df['p_hand'] == 'L']\n",
    "\n",
    " # rhp fastball\n",
    "df_rhp_fb = df_rhp[df_rhp['pitch_type'] == 'FB']\n",
    "df_rhp_fb_swing = df_rhp_fb[df_rhp_fb['swing'] == 1]\n",
    "df_rhp_fb_whiff = df_rhp_fb[df_rhp_fb['whiff'] == 1]\n",
    "\n",
    "# lhp fastball\n",
    "df_lhp_fb = df_lhp[df_lhp['pitch_type'] == 'FB']\n",
    "df_lhp_fb_swing = df_lhp_fb[df_lhp_fb['swing'] == 1]\n",
    "df_lhp_fb_whiff = df_lhp_fb[df_lhp_fb['whiff'] == 1]\n",
    "\n",
    "# rhp breakingballs\n",
    "df_rhp_bb = df_rhp[df_rhp['pitch_type'] == 'BB']\n",
    "df_rhp_bb_swing = df_rhp_bb[df_rhp_bb['swing'] == 1]\n",
    "df_rhp_bb_whiff = df_rhp_bb[df_rhp_bb['whiff'] == 1]\n",
    "\n",
    "# lhp breakingballs\n",
    "df_lhp_bb = df_lhp[df_lhp['pitch_type'] == 'BB']\n",
    "df_lhp_bb_swing = df_lhp_bb[df_lhp_bb['swing'] == 1]\n",
    "df_lhp_bb_whiff = df_lhp_bb[df_lhp_bb['whiff'] == 1]\n",
    "\n",
    "# rhp offspeed\n",
    "df_rhp_ch = df_rhp[df_rhp['pitch_type'] == 'CH']\n",
    "df_rhp_ch_swing = df_rhp_ch[df_rhp_ch['swing'] == 1]\n",
    "df_rhp_ch_whiff = df_rhp_ch[df_rhp_ch['whiff'] == 1]\n",
    "\n",
    "# lhp offspeed\n",
    "df_lhp_ch = df_lhp[df_lhp['pitch_type'] == 'CH']\n",
    "df_lhp_ch_swing = df_lhp_ch[df_lhp_ch['swing'] == 1]\n",
    "df_lhp_ch_whiff = df_lhp_ch[df_lhp_ch['whiff'] == 1]\n",
    "\n",
    "print(\"Total Pitches Thrown: \", len(df))\n",
    "print(\"--------------------------------------------------------------------------------------------------------------------\")\n",
    "\n",
    "print(\"Total Pitches thrown by RHP:\", len(df_rhp))\n",
    "print(\"Total Pitches thrown by LHP:\", len(df_lhp))\n",
    "print(\"Total Fastballs thrown by RHP:\", len(df_rhp_fb))\n",
    "print(\"Total Fastballs thrown by LHP:\", len(df_lhp_fb))\n",
    "print(\"Total Breaking Balls thrown by RHP:\", len(df_rhp_bb))\n",
    "print(\"Total Breaking Balls thrown by LHP:\", len(df_lhp_bb))\n",
    "print(\"Total Changeups thrown by RHP:\", len(df_rhp_ch))\n",
    "print(\"Total Changeups thrown by LHP:\", len(df_lhp_ch))\n",
    "\n",
    "print(\"--------------------------------------------------------------------------------------------------------------------\")\n",
    "\n",
    "print(\"Total Swings on Fastballs thrown by RHP:\", len(df_rhp_fb_swing))\n",
    "print(\"Total Swings on Fastballs thrown by LHP:\", len(df_lhp_fb_swing))\n",
    "print(\"Total Swings on Breaking Balls thrown by RHP:\", len(df_rhp_bb_swing))\n",
    "print(\"Total Swings on Breaking Balls thrown by LHP:\", len(df_lhp_bb_swing))\n",
    "print(\"Total Swings on Changeups thrown by RHP:\", len(df_rhp_ch_swing))\n",
    "print(\"Total Swings on Changeups thrown by LHP:\", len(df_lhp_ch_swing))\n",
    "\n",
    "print(\"--------------------------------------------------------------------------------------------------------------------\")\n",
    "\n",
    "print(\"Total Whiffs on Fastballs thrown by RHP:\", len(df_rhp_fb_whiff))\n",
    "print(\"Total Whiffs on Fastballs thrown by LHP:\", len(df_lhp_fb_whiff))\n",
    "print(\"Total Whiffs on Breaking Balls thrown by RHP:\", len(df_rhp_bb_whiff))\n",
    "print(\"Total Whiffs on Breaking Balls thrown by LHP:\", len(df_lhp_bb_whiff))\n",
    "print(\"Total Whiffs on Changeups thrown by RHP:\", len(df_rhp_ch_whiff))\n",
    "print(\"Total Whiffs on Changeups thrown by LHP:\", len(df_lhp_ch_whiff))\n",
    "\n",
    "print(\"--------------------------------------------------------------------------------------------------------------------\")\n",
    "\n",
    "print(\"Whiff Percentage on Fastballs thrown by RHP:\", round((len(df_rhp_fb_whiff) / len(df_rhp_fb_swing)), 2))\n",
    "print(\"Whiff Percentage on Fastballs thrown by LHP:\", round((len(df_lhp_fb_whiff) / len(df_lhp_fb_swing)), 2))\n",
    "print(\"Whiff Percentage on Breaking Balls thrown by RHP:\", round((len(df_rhp_bb_whiff) / len(df_rhp_bb_swing)), 2))\n",
    "print(\"Whiff Percentage on Breaking Balls thrown by LHP:\", round((len(df_lhp_bb_whiff) / len(df_lhp_bb_swing)), 2))\n",
    "print(\"Whiff Percentage on Changeups thrown by RHP:\", round((len(df_rhp_ch_whiff) / len(df_rhp_ch_swing)), 2))\n",
    "print(\"Whiff Percentage on Changeups thrown by LHP:\", round((len(df_lhp_ch_whiff) / len(df_lhp_ch_swing)), 2))"
   ]
  },
  {
   "cell_type": "code",
   "execution_count": 85,
   "metadata": {},
   "outputs": [],
   "source": [
    "# Save each dataframe to a pickle file and load it back"
   ]
  },
  {
   "cell_type": "markdown",
   "metadata": {},
   "source": [
    "# **Training Model on RHP FB Whiff DataFrame**"
   ]
  },
  {
   "cell_type": "code",
   "execution_count": 135,
   "metadata": {},
   "outputs": [
    {
     "name": "stderr",
     "output_type": "stream",
     "text": [
      "<ipython-input-135-6bb949ddb10f>:1: SettingWithCopyWarning: \n",
      "A value is trying to be set on a copy of a slice from a DataFrame.\n",
      "Try using .loc[row_indexer,col_indexer] = value instead\n",
      "\n",
      "See the caveats in the documentation: https://pandas.pydata.org/pandas-docs/stable/user_guide/indexing.html#returning-a-view-versus-a-copy\n",
      "  df_rhp_fb_swing['velocity^2'] = df_rhp_fb_swing['velocity']**2\n",
      "<ipython-input-135-6bb949ddb10f>:2: SettingWithCopyWarning: \n",
      "A value is trying to be set on a copy of a slice from a DataFrame.\n",
      "Try using .loc[row_indexer,col_indexer] = value instead\n",
      "\n",
      "See the caveats in the documentation: https://pandas.pydata.org/pandas-docs/stable/user_guide/indexing.html#returning-a-view-versus-a-copy\n",
      "  df_rhp_fb_swing['extension_IVB'] = df_rhp_fb_swing['extension'] * df_rhp_fb_swing['induced_vertical_break']\n",
      "<ipython-input-135-6bb949ddb10f>:3: SettingWithCopyWarning: \n",
      "A value is trying to be set on a copy of a slice from a DataFrame.\n",
      "Try using .loc[row_indexer,col_indexer] = value instead\n",
      "\n",
      "See the caveats in the documentation: https://pandas.pydata.org/pandas-docs/stable/user_guide/indexing.html#returning-a-view-versus-a-copy\n",
      "  df_rhp_fb_swing['spin_rate^3'] = df_rhp_fb_swing['spin_rate']**3\n",
      "<ipython-input-135-6bb949ddb10f>:4: SettingWithCopyWarning: \n",
      "A value is trying to be set on a copy of a slice from a DataFrame.\n",
      "Try using .loc[row_indexer,col_indexer] = value instead\n",
      "\n",
      "See the caveats in the documentation: https://pandas.pydata.org/pandas-docs/stable/user_guide/indexing.html#returning-a-view-versus-a-copy\n",
      "  df_rhp_fb_swing['IVB^2'] = df_rhp_fb_swing['induced_vertical_break']**2\n",
      "<ipython-input-135-6bb949ddb10f>:5: SettingWithCopyWarning: \n",
      "A value is trying to be set on a copy of a slice from a DataFrame.\n",
      "Try using .loc[row_indexer,col_indexer] = value instead\n",
      "\n",
      "See the caveats in the documentation: https://pandas.pydata.org/pandas-docs/stable/user_guide/indexing.html#returning-a-view-versus-a-copy\n",
      "  df_rhp_fb_swing['release'] = df_rhp_fb_swing['release_side'] * df_rhp_fb_swing['release_height']\n",
      "<ipython-input-135-6bb949ddb10f>:6: SettingWithCopyWarning: \n",
      "A value is trying to be set on a copy of a slice from a DataFrame.\n",
      "Try using .loc[row_indexer,col_indexer] = value instead\n",
      "\n",
      "See the caveats in the documentation: https://pandas.pydata.org/pandas-docs/stable/user_guide/indexing.html#returning-a-view-versus-a-copy\n",
      "  df_rhp_fb_swing['DB^2'] = df_rhp_fb_swing['differential_break']**2\n"
     ]
    }
   ],
   "source": [
    "df_rhp_fb_swing['velocity^2'] = df_rhp_fb_swing['velocity']**2\n",
    "df_rhp_fb_swing['extension_IVB'] = df_rhp_fb_swing['extension'] * df_rhp_fb_swing['induced_vertical_break']\n",
    "df_rhp_fb_swing['spin_rate^3'] = df_rhp_fb_swing['spin_rate']**3\n",
    "df_rhp_fb_swing['IVB^2'] = df_rhp_fb_swing['induced_vertical_break']**2\n",
    "df_rhp_fb_swing['release'] = df_rhp_fb_swing['release_side'] * df_rhp_fb_swing['release_height']\n",
    "df_rhp_fb_swing['DB^2'] = df_rhp_fb_swing['differential_break']**2\n",
    "\n",
    "X = df_rhp_fb_swing[['DB^2', 'release', 'IVB^2', 'velocity^2', 'horizontal_break', 'release_side', 'release_height', 'spin_rate^3', 'extension_IVB', 'velocity_diff', 'horizontal_break_diff', 'induced_vertical_break_diff']]\n",
    "y = df_rhp_fb_swing['whiff']"
   ]
  },
  {
   "cell_type": "code",
   "execution_count": 136,
   "metadata": {},
   "outputs": [],
   "source": [
    "X_train, X_test, y_train, y_test = train_test_split(X, y, test_size=0.2, random_state=42)\n",
    "\n",
    "assert len(X_train) == len(y_train)\n",
    "assert len(X_test) == len(y_test)"
   ]
  },
  {
   "cell_type": "code",
   "execution_count": 137,
   "metadata": {},
   "outputs": [],
   "source": [
    "# Initialize the model\n",
    "model = RandomForestRegressor()\n",
    "\n",
    "# Initialize RFE\n",
    "rfe = RFE(estimator=model, n_features_to_select=10, step=1)\n",
    "\n",
    "# Fit RFE\n",
    "rfe = rfe.fit(X_train, y_train)\n",
    "\n",
    "important_features = [X_train.columns[i] for i in range(X_train.shape[1]) if rfe.support_[i]]\n",
    "X_train = X_train[important_features]\n",
    "X_test = X_test[important_features]"
   ]
  },
  {
   "cell_type": "code",
   "execution_count": 138,
   "metadata": {},
   "outputs": [
    {
     "data": {
      "text/html": [
       "<style>#sk-container-id-19 {color: black;}#sk-container-id-19 pre{padding: 0;}#sk-container-id-19 div.sk-toggleable {background-color: white;}#sk-container-id-19 label.sk-toggleable__label {cursor: pointer;display: block;width: 100%;margin-bottom: 0;padding: 0.3em;box-sizing: border-box;text-align: center;}#sk-container-id-19 label.sk-toggleable__label-arrow:before {content: \"▸\";float: left;margin-right: 0.25em;color: #696969;}#sk-container-id-19 label.sk-toggleable__label-arrow:hover:before {color: black;}#sk-container-id-19 div.sk-estimator:hover label.sk-toggleable__label-arrow:before {color: black;}#sk-container-id-19 div.sk-toggleable__content {max-height: 0;max-width: 0;overflow: hidden;text-align: left;background-color: #f0f8ff;}#sk-container-id-19 div.sk-toggleable__content pre {margin: 0.2em;color: black;border-radius: 0.25em;background-color: #f0f8ff;}#sk-container-id-19 input.sk-toggleable__control:checked~div.sk-toggleable__content {max-height: 200px;max-width: 100%;overflow: auto;}#sk-container-id-19 input.sk-toggleable__control:checked~label.sk-toggleable__label-arrow:before {content: \"▾\";}#sk-container-id-19 div.sk-estimator input.sk-toggleable__control:checked~label.sk-toggleable__label {background-color: #d4ebff;}#sk-container-id-19 div.sk-label input.sk-toggleable__control:checked~label.sk-toggleable__label {background-color: #d4ebff;}#sk-container-id-19 input.sk-hidden--visually {border: 0;clip: rect(1px 1px 1px 1px);clip: rect(1px, 1px, 1px, 1px);height: 1px;margin: -1px;overflow: hidden;padding: 0;position: absolute;width: 1px;}#sk-container-id-19 div.sk-estimator {font-family: monospace;background-color: #f0f8ff;border: 1px dotted black;border-radius: 0.25em;box-sizing: border-box;margin-bottom: 0.5em;}#sk-container-id-19 div.sk-estimator:hover {background-color: #d4ebff;}#sk-container-id-19 div.sk-parallel-item::after {content: \"\";width: 100%;border-bottom: 1px solid gray;flex-grow: 1;}#sk-container-id-19 div.sk-label:hover label.sk-toggleable__label {background-color: #d4ebff;}#sk-container-id-19 div.sk-serial::before {content: \"\";position: absolute;border-left: 1px solid gray;box-sizing: border-box;top: 0;bottom: 0;left: 50%;z-index: 0;}#sk-container-id-19 div.sk-serial {display: flex;flex-direction: column;align-items: center;background-color: white;padding-right: 0.2em;padding-left: 0.2em;position: relative;}#sk-container-id-19 div.sk-item {position: relative;z-index: 1;}#sk-container-id-19 div.sk-parallel {display: flex;align-items: stretch;justify-content: center;background-color: white;position: relative;}#sk-container-id-19 div.sk-item::before, #sk-container-id-19 div.sk-parallel-item::before {content: \"\";position: absolute;border-left: 1px solid gray;box-sizing: border-box;top: 0;bottom: 0;left: 50%;z-index: -1;}#sk-container-id-19 div.sk-parallel-item {display: flex;flex-direction: column;z-index: 1;position: relative;background-color: white;}#sk-container-id-19 div.sk-parallel-item:first-child::after {align-self: flex-end;width: 50%;}#sk-container-id-19 div.sk-parallel-item:last-child::after {align-self: flex-start;width: 50%;}#sk-container-id-19 div.sk-parallel-item:only-child::after {width: 0;}#sk-container-id-19 div.sk-dashed-wrapped {border: 1px dashed gray;margin: 0 0.4em 0.5em 0.4em;box-sizing: border-box;padding-bottom: 0.4em;background-color: white;}#sk-container-id-19 div.sk-label label {font-family: monospace;font-weight: bold;display: inline-block;line-height: 1.2em;}#sk-container-id-19 div.sk-label-container {text-align: center;}#sk-container-id-19 div.sk-container {/* jupyter's `normalize.less` sets `[hidden] { display: none; }` but bootstrap.min.css set `[hidden] { display: none !important; }` so we also need the `!important` here to be able to override the default hidden behavior on the sphinx rendered scikit-learn.org. See: https://github.com/scikit-learn/scikit-learn/issues/21755 */display: inline-block !important;position: relative;}#sk-container-id-19 div.sk-text-repr-fallback {display: none;}</style><div id=\"sk-container-id-19\" class=\"sk-top-container\"><div class=\"sk-text-repr-fallback\"><pre>RandomForestRegressor(random_state=42)</pre><b>In a Jupyter environment, please rerun this cell to show the HTML representation or trust the notebook. <br />On GitHub, the HTML representation is unable to render, please try loading this page with nbviewer.org.</b></div><div class=\"sk-container\" hidden><div class=\"sk-item\"><div class=\"sk-estimator sk-toggleable\"><input class=\"sk-toggleable__control sk-hidden--visually\" id=\"sk-estimator-id-19\" type=\"checkbox\" checked><label for=\"sk-estimator-id-19\" class=\"sk-toggleable__label sk-toggleable__label-arrow\">RandomForestRegressor</label><div class=\"sk-toggleable__content\"><pre>RandomForestRegressor(random_state=42)</pre></div></div></div></div></div>"
      ],
      "text/plain": [
       "RandomForestRegressor(random_state=42)"
      ]
     },
     "execution_count": 138,
     "metadata": {},
     "output_type": "execute_result"
    }
   ],
   "source": [
    "# Initialize the model\n",
    "model = RandomForestRegressor(n_estimators=100, random_state=42)\n",
    "\n",
    "# Train the model\n",
    "model.fit(X_train, y_train)"
   ]
  },
  {
   "cell_type": "code",
   "execution_count": 139,
   "metadata": {},
   "outputs": [
    {
     "name": "stdout",
     "output_type": "stream",
     "text": [
      "Random Forest Mean Squared Error: 0.16520477716075752\n",
      "Random Forest R-squared score: -0.0021043278823920097\n"
     ]
    }
   ],
   "source": [
    "# Predict xWhiff for the test set using the Random Forest model\n",
    "y_rf_pred = model.predict(X_test)\n",
    "\n",
    "# Evaluate the Random Forest model's performance\n",
    "rf_mse = mean_squared_error(y_test, y_rf_pred)\n",
    "rf_r2 = r2_score(y_test, y_rf_pred)\n",
    "\n",
    "print(\"Random Forest Mean Squared Error:\", rf_mse)\n",
    "print(\"Random Forest R-squared score:\", rf_r2)"
   ]
  },
  {
   "cell_type": "code",
   "execution_count": 140,
   "metadata": {},
   "outputs": [
    {
     "name": "stdout",
     "output_type": "stream",
     "text": [
      "                             importance\n",
      "release                        0.117037\n",
      "spin_rate^3                    0.115080\n",
      "induced_vertical_break_diff    0.109505\n",
      "horizontal_break_diff          0.104802\n",
      "extension_IVB                  0.104304\n",
      "velocity_diff                  0.104135\n",
      "release_height                 0.099373\n",
      "velocity^2                     0.084502\n",
      "horizontal_break               0.081031\n",
      "DB^2                           0.080231\n"
     ]
    },
    {
     "data": {
      "image/png": "[encoded data removed]",
      "text/plain": [
       "<Figure size 720x432 with 1 Axes>"
      ]
     },
     "metadata": {
      "needs_background": "light"
     },
     "output_type": "display_data"
    }
   ],
   "source": [
    "# Get feature importances from the model\n",
    "feature_importances = model.feature_importances_\n",
    "\n",
    "# Create a DataFrame with feature importances\n",
    "feature_importances_df = pd.DataFrame({'importance': feature_importances}, index=X_train.columns)\n",
    "\n",
    "# Sort the DataFrame by importance in descending order\n",
    "feature_importances_df = feature_importances_df.sort_values('importance', ascending=False)\n",
    "\n",
    "# Print the feature importances\n",
    "print(feature_importances_df)\n",
    "\n",
    "# Plot the feature importances\n",
    "plt.figure(figsize=(10, 6))\n",
    "plt.barh(feature_importances_df.index, feature_importances_df['importance'])\n",
    "plt.xlabel('Importance')\n",
    "plt.ylabel('Feature')\n",
    "plt.title('Feature Importances')\n",
    "plt.show()"
   ]
  },
  {
   "cell_type": "markdown",
   "metadata": {},
   "source": [
    "# **Training Model on RHP BB Whiff DataFrame**"
   ]
  },
  {
   "cell_type": "code",
   "execution_count": null,
   "metadata": {},
   "outputs": [],
   "source": [
    "X = df_rhp_bb_swing[['velocity', 'horizontal_break', 'induced_vertical_break', 'release_side', 'release_dist_from_C', 'release_height', 'spin_rate', 'effective_velocity', 'extension', 'differential_break', 'velocity_diff', 'horizontal_break_diff', 'induced_vertical_break_diff']]\n",
    "y = df_rhp_bb_swing['whiff']\n",
    "\n",
    "X_train, X_test, y_train, y_test = train_test_split(X, y, test_size=0.2, random_state=42)\n",
    "\n",
    "assert len(X_train) == len(y_train)\n",
    "assert len(X_test) == len(y_test)\n",
    "\n",
    "# Initialize the model\n",
    "model = RandomForestRegressor(n_estimators=100, random_state=42)\n",
    "\n",
    "# Train the model\n",
    "model.fit(X_train, y_train)\n",
    "\n",
    "# Predict xWhiff for the test set using the Random Forest model\n",
    "y_rf_pred = model.predict(X_test)\n",
    "\n",
    "# Evaluate the Random Forest model's performance\n",
    "rf_mse = mean_squared_error(y_test, y_rf_pred)\n",
    "rf_r2 = r2_score(y_test, y_rf_pred)\n",
    "\n",
    "print(\"Random Forest Mean Squared Error:\", rf_mse)\n",
    "print(\"Random Forest R-squared score:\", rf_r2)\n",
    "\n",
    "# Get feature importances from the model\n",
    "feature_importances = model.feature_importances_\n",
    "\n",
    "# Create a DataFrame with feature importances\n",
    "feature_importances_df = pd.DataFrame({'importance': feature_importances}, index=X_train.columns)\n",
    "\n",
    "# Sort the DataFrame by importance in descending order\n",
    "feature_importances_df = feature_importances_df.sort_values('importance', ascending=False)\n",
    "\n",
    "# Print the feature importances\n",
    "print(feature_importances_df)\n",
    "\n",
    "# Plot the feature importances\n",
    "plt.figure(figsize=(10, 6))\n",
    "plt.barh(feature_importances_df.index, feature_importances_df['importance'])\n",
    "plt.xlabel('Importance')\n",
    "plt.ylabel('Feature')\n",
    "plt.title('Feature Importances')\n",
    "plt.show()"
   ]
  },
  {
   "cell_type": "markdown",
   "metadata": {},
   "source": [
    "# **Training Model on RHP CH Whiff DataFrame**"
   ]
  },
  {
   "cell_type": "code",
   "execution_count": null,
   "metadata": {},
   "outputs": [],
   "source": [
    "X = df_rhp_ch_swing[['velocity', 'horizontal_break', 'induced_vertical_break', 'release_side', 'release_dist_from_C', 'release_height', 'spin_rate', 'effective_velocity', 'extension', 'differential_break', 'velocity_diff', 'horizontal_break_diff', 'induced_vertical_break_diff']]\n",
    "y = df_rhp_ch_swing['whiff']\n",
    "\n",
    "X_train, X_test, y_train, y_test = train_test_split(X, y, test_size=0.2, random_state=42)\n",
    "\n",
    "assert len(X_train) == len(y_train)\n",
    "assert len(X_test) == len(y_test)\n",
    "\n",
    "# Initialize the model\n",
    "model = RandomForestRegressor(n_estimators=100, random_state=42)\n",
    "\n",
    "# Train the model\n",
    "model.fit(X_train, y_train)\n",
    "\n",
    "# Predict xWhiff for the test set using the Random Forest model\n",
    "y_rf_pred = model.predict(X_test)\n",
    "\n",
    "# Evaluate the Random Forest model's performance\n",
    "rf_mse = mean_squared_error(y_test, y_rf_pred)\n",
    "rf_r2 = r2_score(y_test, y_rf_pred)\n",
    "\n",
    "print(\"Random Forest Mean Squared Error:\", rf_mse)\n",
    "print(\"Random Forest R-squared score:\", rf_r2)\n",
    "\n",
    "# Get feature importances from the model\n",
    "feature_importances = model.feature_importances_\n",
    "\n",
    "# Create a DataFrame with feature importances\n",
    "feature_importances_df = pd.DataFrame({'importance': feature_importances}, index=X_train.columns)\n",
    "\n",
    "# Sort the DataFrame by importance in descending order\n",
    "feature_importances_df = feature_importances_df.sort_values('importance', ascending=False)\n",
    "\n",
    "# Print the feature importances\n",
    "print(feature_importances_df)\n",
    "\n",
    "# Plot the feature importances\n",
    "plt.figure(figsize=(10, 6))\n",
    "plt.barh(feature_importances_df.index, feature_importances_df['importance'])\n",
    "plt.xlabel('Importance')\n",
    "plt.ylabel('Feature')\n",
    "plt.title('Feature Importances')\n",
    "plt.show()"
   ]
  },
  {
   "cell_type": "markdown",
   "metadata": {},
   "source": [
    "# **Training Model on LHP FB Whiff DataFrame**"
   ]
  },
  {
   "cell_type": "code",
   "execution_count": null,
   "metadata": {},
   "outputs": [],
   "source": [
    "X = df_lhp_fb_swing[['velocity', 'horizontal_break', 'induced_vertical_break', 'release_side', 'release_dist_from_C', 'release_height', 'spin_rate', 'effective_velocity', 'extension', 'differential_break', 'velocity_diff', 'horizontal_break_diff', 'induced_vertical_break_diff']]\n",
    "y = df_lhp_fb_swing['whiff']\n",
    "\n",
    "X_train, X_test, y_train, y_test = train_test_split(X, y, test_size=0.2, random_state=42)\n",
    "\n",
    "assert len(X_train) == len(y_train)\n",
    "assert len(X_test) == len(y_test)\n",
    "\n",
    "# Initialize the model\n",
    "model = RandomForestRegressor(n_estimators=100, random_state=42)\n",
    "\n",
    "# Train the model\n",
    "model.fit(X_train, y_train)\n",
    "\n",
    "# Predict xWhiff for the test set using the Random Forest model\n",
    "y_rf_pred = model.predict(X_test)\n",
    "\n",
    "# Evaluate the Random Forest model's performance\n",
    "rf_mse = mean_squared_error(y_test, y_rf_pred)\n",
    "rf_r2 = r2_score(y_test, y_rf_pred)\n",
    "\n",
    "print(\"Random Forest Mean Squared Error:\", rf_mse)\n",
    "print(\"Random Forest R-squared score:\", rf_r2)\n",
    "\n",
    "# Get feature importances from the model\n",
    "feature_importances = model.feature_importances_\n",
    "\n",
    "# Create a DataFrame with feature importances\n",
    "feature_importances_df = pd.DataFrame({'importance': feature_importances}, index=X_train.columns)\n",
    "\n",
    "# Sort the DataFrame by importance in descending order\n",
    "feature_importances_df = feature_importances_df.sort_values('importance', ascending=False)\n",
    "\n",
    "# Print the feature importances\n",
    "print(feature_importances_df)\n",
    "\n",
    "# Plot the feature importances\n",
    "plt.figure(figsize=(10, 6))\n",
    "plt.barh(feature_importances_df.index, feature_importances_df['importance'])\n",
    "plt.xlabel('Importance')\n",
    "plt.ylabel('Feature')\n",
    "plt.title('Feature Importances')\n",
    "plt.show()"
   ]
  },
  {
   "cell_type": "markdown",
   "metadata": {},
   "source": [
    "# **Training Model on LHP BB Whiff DataFrame**"
   ]
  },
  {
   "cell_type": "code",
   "execution_count": null,
   "metadata": {},
   "outputs": [],
   "source": [
    "X = df_lhp_bb_swing[['velocity', 'horizontal_break', 'induced_vertical_break', 'release_side', 'release_dist_from_C', 'release_height', 'spin_rate', 'effective_velocity', 'extension', 'differential_break', 'velocity_diff', 'horizontal_break_diff', 'induced_vertical_break_diff']]\n",
    "y = df_lhp_bb_swing['whiff']\n",
    "\n",
    "X_train, X_test, y_train, y_test = train_test_split(X, y, test_size=0.2, random_state=42)\n",
    "\n",
    "assert len(X_train) == len(y_train)\n",
    "assert len(X_test) == len(y_test)\n",
    "\n",
    "# Initialize the model\n",
    "model = RandomForestRegressor(n_estimators=100, random_state=42)\n",
    "\n",
    "# Train the model\n",
    "model.fit(X_train, y_train)\n",
    "\n",
    "# Predict xWhiff for the test set using the Random Forest model\n",
    "y_rf_pred = model.predict(X_test)\n",
    "\n",
    "# Evaluate the Random Forest model's performance\n",
    "rf_mse = mean_squared_error(y_test, y_rf_pred)\n",
    "rf_r2 = r2_score(y_test, y_rf_pred)\n",
    "\n",
    "print(\"Random Forest Mean Squared Error:\", rf_mse)\n",
    "print(\"Random Forest R-squared score:\", rf_r2)\n",
    "\n",
    "# Get feature importances from the model\n",
    "feature_importances = model.feature_importances_\n",
    "\n",
    "# Create a DataFrame with feature importances\n",
    "feature_importances_df = pd.DataFrame({'importance': feature_importances}, index=X_train.columns)\n",
    "\n",
    "# Sort the DataFrame by importance in descending order\n",
    "feature_importances_df = feature_importances_df.sort_values('importance', ascending=False)\n",
    "\n",
    "# Print the feature importances\n",
    "print(feature_importances_df)\n",
    "\n",
    "# Plot the feature importances\n",
    "plt.figure(figsize=(10, 6))\n",
    "plt.barh(feature_importances_df.index, feature_importances_df['importance'])\n",
    "plt.xlabel('Importance')\n",
    "plt.ylabel('Feature')\n",
    "plt.title('Feature Importances')\n",
    "plt.show()"
   ]
  },
  {
   "cell_type": "markdown",
   "metadata": {},
   "source": [
    "# **Training Model on LHP CH  Whiff DataFrame**"
   ]
  },
  {
   "cell_type": "code",
   "execution_count": null,
   "metadata": {},
   "outputs": [],
   "source": [
    "X = df_lhp_ch_swing[['velocity', 'horizontal_break', 'induced_vertical_break', 'release_side', 'release_dist_from_C', 'release_height', 'spin_rate', 'effective_velocity', 'extension', 'differential_break', 'velocity_diff', 'horizontal_break_diff', 'induced_vertical_break_diff']]\n",
    "y = df_lhp_ch_swing['whiff']\n",
    "\n",
    "X_train, X_test, y_train, y_test = train_test_split(X, y, test_size=0.2, random_state=42)\n",
    "\n",
    "assert len(X_train) == len(y_train)\n",
    "assert len(X_test) == len(y_test)\n",
    "\n",
    "# Initialize the model\n",
    "model = RandomForestRegressor(n_estimators=100, random_state=42)\n",
    "\n",
    "# Train the model\n",
    "model.fit(X_train, y_train)\n",
    "\n",
    "# Predict xWhiff for the test set using the Random Forest model\n",
    "y_rf_pred = model.predict(X_test)\n",
    "\n",
    "# Evaluate the Random Forest model's performance\n",
    "rf_mse = mean_squared_error(y_test, y_rf_pred)\n",
    "rf_r2 = r2_score(y_test, y_rf_pred)\n",
    "\n",
    "print(\"Random Forest Mean Squared Error:\", rf_mse)\n",
    "print(\"Random Forest R-squared score:\", rf_r2)\n",
    "\n",
    "# Get feature importances from the model\n",
    "feature_importances = model.feature_importances_\n",
    "\n",
    "# Create a DataFrame with feature importances\n",
    "feature_importances_df = pd.DataFrame({'importance': feature_importances}, index=X_train.columns)\n",
    "\n",
    "# Sort the DataFrame by importance in descending order\n",
    "feature_importances_df = feature_importances_df.sort_values('importance', ascending=False)\n",
    "\n",
    "# Print the feature importances\n",
    "print(feature_importances_df)\n",
    "\n",
    "# Plot the feature importances\n",
    "plt.figure(figsize=(10, 6))\n",
    "plt.barh(feature_importances_df.index, feature_importances_df['importance'])\n",
    "plt.xlabel('Importance')\n",
    "plt.ylabel('Feature')\n",
    "plt.title('Feature Importances')\n",
    "plt.show()"
   ]
  },
  {
   "cell_type": "markdown",
   "metadata": {},
   "source": [
    "# **Applying the Random Forest Model to the dataframes separated by hand (df_rhp and df_lhp)**"
   ]
  },
  {
   "cell_type": "markdown",
   "metadata": {},
   "source": [
    "Put it in a column in the dataframe called 'stuff_plus_forest' (separate column for 'stuff_plus_xg')"
   ]
  },
  {
   "cell_type": "code",
   "execution_count": 22,
   "metadata": {},
   "outputs": [],
   "source": [
    "df_rhp_fb['velocity^2'] = df_rhp_fb['velocity']**2\n",
    "df_rhp_fb['extension_IVB'] = df_rhp_fb['extension'] * df_rhp_fb['induced_vertical_break']\n",
    "df_rhp_fb['spin_rate^3'] = df_rhp_fb['spin_rate']**3"
   ]
  },
  {
   "cell_type": "code",
   "execution_count": 23,
   "metadata": {},
   "outputs": [],
   "source": [
    "#X = df_swing_fb[['velocity', 'horizontal_break', 'induced_vertical_break', 'release_side', 'release_height', 'spin_rate', 'extension', 'differential_break']]\n",
    "X = df_rhp_fb[['spin_rate^3', 'velocity^2', 'induced_vertical_break', 'horizontal_break', 'release_side', 'release_height', 'spin_rate', 'differential_break', 'extension_IVB']]\n",
    "y = df_rhp_fb['whiff']"
   ]
  },
  {
   "cell_type": "code",
   "execution_count": 27,
   "metadata": {},
   "outputs": [
    {
     "name": "stdout",
     "output_type": "stream",
     "text": [
      "Random Forest Mean Squared Error: 0.0905981405844522\n",
      "Random Forest R-squared score: -0.037036122615350164\n"
     ]
    }
   ],
   "source": [
    "# Predict Stuff+ scores for the test set using the Random Forest model\n",
    "y_rf_pred = model.predict(X_test)\n",
    "\n",
    "# Evaluate the Random Forest model's performance\n",
    "rf_mse = mean_squared_error(y_test, y_rf_pred)\n",
    "rf_r2 = r2_score(y_test, y_rf_pred)\n",
    "\n",
    "print(\"Random Forest Mean Squared Error:\", rf_mse)\n",
    "print(\"Random Forest R-squared score:\", rf_r2)"
   ]
  },
  {
   "cell_type": "code",
   "execution_count": 28,
   "metadata": {},
   "outputs": [
    {
     "name": "stdout",
     "output_type": "stream",
     "text": [
      "                        importance\n",
      "release_side              0.142433\n",
      "extension_IVB             0.136538\n",
      "release_height            0.130277\n",
      "velocity^2                0.115775\n",
      "horizontal_break          0.104506\n",
      "differential_break        0.100255\n",
      "spin_rate^3               0.090185\n",
      "induced_vertical_break    0.090033\n",
      "spin_rate                 0.089998\n"
     ]
    }
   ],
   "source": [
    "# Get feature importances from the model\n",
    "feature_importances = model.feature_importances_\n",
    "\n",
    "# Create a DataFrame with feature importances\n",
    "feature_importances_df = pd.DataFrame({'importance': feature_importances}, index=X_train.columns)\n",
    "\n",
    "# Sort the DataFrame by importance in descending order\n",
    "feature_importances_df = feature_importances_df.sort_values('importance', ascending=False)\n",
    "\n",
    "# Print the feature importances\n",
    "print(feature_importances_df)"
   ]
  },
  {
   "cell_type": "markdown",
   "metadata": {},
   "source": [
    "# **XG Boost Model Training**"
   ]
  },
  {
   "cell_type": "code",
   "execution_count": 29,
   "metadata": {},
   "outputs": [],
   "source": [
    "# XG Boost Model\n",
    "df_rhp_fb['velocity^2'] = df_rhp_fb['velocity']**2\n",
    "df_rhp_fb['extension_spin'] = df_rhp_fb['extension'] * df_rhp_fb['spin_rate']\n",
    "df_rhp_fb['spin_rate^3'] = df_rhp_fb['spin_rate']**3\n",
    "df_rhp_fb['IVB^3'] = df_rhp_fb['induced_vertical_break']**3\n",
    "df_rhp_fb['HB^3'] = df_rhp_fb['horizontal_break']**3\n",
    "df_rhp_fb['DB^2'] = df_rhp_fb['differential_break']**2\n",
    "df_rhp_fb['velocity_feature'] = df_rhp_fb['velocity^2'] *  (df_rhp_fb['velocity']**3)"
   ]
  },
  {
   "cell_type": "code",
   "execution_count": 30,
   "metadata": {},
   "outputs": [],
   "source": [
    "# Select the features and target variable\n",
    "X = df_rhp_fb[['HB^3', 'velocity_feature', 'IVB^3', 'release_side', 'release_height', 'extension_spin', 'DB^2']]\n",
    "y = df_rhp_fb['whiff']"
   ]
  },
  {
   "cell_type": "code",
   "execution_count": 31,
   "metadata": {},
   "outputs": [
    {
     "name": "stdout",
     "output_type": "stream",
     "text": [
      "XGBoost Mean Squared Error: 0.08656915979123168\n",
      "XGBoost R-squared score: 0.012782054811101506\n",
      "                  importance\n",
      "HB^3                0.205363\n",
      "IVB^3               0.181799\n",
      "velocity_feature    0.153112\n",
      "release_height      0.122429\n",
      "extension_spin      0.119977\n",
      "DB^2                0.109020\n",
      "release_side        0.108300\n"
     ]
    }
   ],
   "source": [
    "#X = df_swing_fb_sample[['velocity', 'horizontal_break', 'induced_vertical_break', 'release_side', 'release_dist_from_C', 'release_height', 'spin_axis', 'effective_velocity', 'spin_rate', 'extension', 'pitch_height', 'pitch_side', 'differential_break', 'velocity_diff', 'horizontal_break_diff', 'induced_vertical_break_diff']]\n",
    "\n",
    "X_train, X_test, y_train, y_test = train_test_split(X, y, test_size=0.2, random_state=1)\n",
    "\n",
    "# Standardize the features for better SVR training\n",
    "scaler = StandardScaler()\n",
    "X_train_scaled = scaler.fit_transform(X_train)\n",
    "X_test_scaled = scaler.transform(X_test)\n",
    "\n",
    "# Create the XGBoost regressor object with the best parameters from the hyperparameter tuning\n",
    "xgb_model = xgb.XGBRegressor(n_estimators=254, learning_rate=0.02521371583925624, max_depth=6, reg_alpha=1.0387116997045198, reg_lambda=0.47113390095546825, random_state=1)\n",
    "\n",
    "# Train the XGBoost model using the training data\n",
    "xgb_model.fit(X_train_scaled, y_train)\n",
    "\n",
    "# Predict Stuff+ scores for the test set using the XGBoost model\n",
    "y_xgb_pred = xgb_model.predict(X_test_scaled)\n",
    "\n",
    "# Evaluate the XGBoost model's performance\n",
    "xgb_mse = mean_squared_error(y_test, y_xgb_pred)\n",
    "xgb_r2 = r2_score(y_test, y_xgb_pred)\n",
    "\n",
    "print(\"XGBoost Mean Squared Error:\", xgb_mse)\n",
    "print(\"XGBoost R-squared score:\", xgb_r2)\n",
    "\n",
    "# Get feature importances from the model\n",
    "feature_importances = xgb_model.feature_importances_\n",
    "\n",
    "# Create a DataFrame with feature importances\n",
    "feature_importances_df = pd.DataFrame({'importance': feature_importances}, index=X_train.columns)\n",
    "\n",
    "# Sort the DataFrame by importance in descending order\n",
    "feature_importances_df = feature_importances_df.sort_values('importance', ascending=False)\n",
    "\n",
    "# Print the feature importances\n",
    "print(feature_importances_df)"
   ]
  },
  {
   "cell_type": "code",
   "execution_count": 32,
   "metadata": {},
   "outputs": [
    {
     "name": "stdout",
     "output_type": "stream",
     "text": [
      "Feature ranking:\n",
      "HB^3: 0.23256342113018036\n",
      "IVB^3: 0.17717818915843964\n",
      "velocity_feature: 0.1510094404220581\n",
      "release_height: 0.11923085898160934\n",
      "extension_spin: 0.1096758171916008\n",
      "release_side: 0.10690349340438843\n",
      "DB^2: 0.10343869775533676\n"
     ]
    },
    {
     "data": {
      "image/png": "[encoded data removed]",
      "text/plain": [
       "<Figure size 432x288 with 1 Axes>"
      ]
     },
     "metadata": {
      "needs_background": "light"
     },
     "output_type": "display_data"
    }
   ],
   "source": [
    "# Assuming X is your feature matrix and y is the target variable\n",
    "model = xgb.XGBRegressor(n_estimators=254, learning_rate=0.02521371583925624, max_depth=6, reg_alpha=1.0387116997045198, reg_lambda=0.47113390095546825, random_state=1)\n",
    "\n",
    "model.fit(X, y)\n",
    "\n",
    "# Get feature importances\n",
    "importances = model.feature_importances_\n",
    "\n",
    "# Sort features by importance\n",
    "sorted_indices = np.argsort(importances)[::-1]\n",
    "\n",
    "# Print the feature ranking\n",
    "print(\"Feature ranking:\")\n",
    "for i in range(X.shape[1]):\n",
    "    print(f\"{X.columns[sorted_indices[i]]}: {importances[sorted_indices[i]]}\")\n",
    "\n",
    "# Create a bar chart of feature importances\n",
    "plt.barh(X.columns[sorted_indices], importances[sorted_indices])\n",
    "plt.xlabel('Importance')\n",
    "plt.ylabel('Feature')\n",
    "plt.title('Feature importances')\n",
    "plt.show()"
   ]
  },
  {
   "cell_type": "code",
   "execution_count": null,
   "metadata": {},
   "outputs": [],
   "source": []
  },
  {
   "cell_type": "markdown",
   "metadata": {},
   "source": [
    "# **XG Boost Model Application**"
   ]
  },
  {
   "cell_type": "code",
   "execution_count": 33,
   "metadata": {},
   "outputs": [
    {
     "data": {
      "text/plain": [
       "count    221574.000000\n",
       "mean        100.001014\n",
       "std          36.997114\n",
       "min          -0.710000\n",
       "25%          72.560000\n",
       "50%          96.730000\n",
       "75%         117.900000\n",
       "max         714.890000\n",
       "Name: stuff_plus, dtype: float64"
      ]
     },
     "execution_count": 33,
     "metadata": {},
     "output_type": "execute_result"
    }
   ],
   "source": [
    "# Predict xWhiff for all rows in the DataFrame\n",
    "df_rhp_fb['xWhiff'] = xgb_model.predict(scaler.transform(df_rhp_fb[X.columns]))\n",
    "\n",
    "# Scale the predictions so that the average is 100\n",
    "df_rhp_fb['stuff_plus'] = (100 * df_rhp_fb['xWhiff'] / df_rhp_fb['xWhiff'].mean()).round(2)\n",
    "\n",
    "df_rhp_fb['stuff_plus'].describe()"
   ]
  },
  {
   "cell_type": "markdown",
   "metadata": {},
   "source": [
    "# **Results**"
   ]
  },
  {
   "cell_type": "code",
   "execution_count": 34,
   "metadata": {},
   "outputs": [
    {
     "data": {
      "text/plain": [
       "array(['R'], dtype=object)"
      ]
     },
     "execution_count": 34,
     "metadata": {},
     "output_type": "execute_result"
    }
   ],
   "source": [
    "df_rhp_fb['p_hand'].unique()"
   ]
  },
  {
   "cell_type": "code",
   "execution_count": 35,
   "metadata": {},
   "outputs": [
    {
     "data": {
      "text/html": [
       "<div>\n",
       "<style scoped>\n",
       "    .dataframe tbody tr th:only-of-type {\n",
       "        vertical-align: middle;\n",
       "    }\n",
       "\n",
       "    .dataframe tbody tr th {\n",
       "        vertical-align: top;\n",
       "    }\n",
       "\n",
       "    .dataframe thead th {\n",
       "        text-align: right;\n",
       "    }\n",
       "</style>\n",
       "<table border=\"1\" class=\"dataframe\">\n",
       "  <thead>\n",
       "    <tr style=\"text-align: right;\">\n",
       "      <th></th>\n",
       "      <th>date</th>\n",
       "      <th>pitcher_name</th>\n",
       "      <th>p_hand</th>\n",
       "      <th>batter_side</th>\n",
       "      <th>pitch_type</th>\n",
       "      <th>velocity</th>\n",
       "      <th>horizontal_break</th>\n",
       "      <th>induced_vertical_break</th>\n",
       "      <th>release_side</th>\n",
       "      <th>release_dist_from_C</th>\n",
       "      <th>...</th>\n",
       "      <th>velocity^2</th>\n",
       "      <th>extension_IVB</th>\n",
       "      <th>spin_rate^3</th>\n",
       "      <th>extension_spin</th>\n",
       "      <th>IVB^3</th>\n",
       "      <th>HB^3</th>\n",
       "      <th>DB^2</th>\n",
       "      <th>velocity_feature</th>\n",
       "      <th>xWhiff</th>\n",
       "      <th>stuff_plus</th>\n",
       "    </tr>\n",
       "  </thead>\n",
       "  <tbody>\n",
       "    <tr>\n",
       "      <th>0</th>\n",
       "      <td>2023-07-07</td>\n",
       "      <td>Félix Bautista</td>\n",
       "      <td>R</td>\n",
       "      <td>L</td>\n",
       "      <td>FB</td>\n",
       "      <td>101.6</td>\n",
       "      <td>0.25</td>\n",
       "      <td>1.75</td>\n",
       "      <td>0.28</td>\n",
       "      <td>53.95</td>\n",
       "      <td>...</td>\n",
       "      <td>10322.56</td>\n",
       "      <td>11.375</td>\n",
       "      <td>13430356633</td>\n",
       "      <td>15450.5</td>\n",
       "      <td>5.359375</td>\n",
       "      <td>0.015625</td>\n",
       "      <td>2.25</td>\n",
       "      <td>10826012887.285759</td>\n",
       "      <td>0.692126</td>\n",
       "      <td>714.89</td>\n",
       "    </tr>\n",
       "    <tr>\n",
       "      <th>1</th>\n",
       "      <td>2023-03-30</td>\n",
       "      <td>Ryan Helsley</td>\n",
       "      <td>R</td>\n",
       "      <td>R</td>\n",
       "      <td>FB</td>\n",
       "      <td>100.5</td>\n",
       "      <td>0.27</td>\n",
       "      <td>1.85</td>\n",
       "      <td>-0.04</td>\n",
       "      <td>53.7</td>\n",
       "      <td>...</td>\n",
       "      <td>10100.25</td>\n",
       "      <td>12.58</td>\n",
       "      <td>21184951663</td>\n",
       "      <td>18815.6</td>\n",
       "      <td>6.331625</td>\n",
       "      <td>0.019683</td>\n",
       "      <td>2.4964</td>\n",
       "      <td>10252512531.28125</td>\n",
       "      <td>0.645588</td>\n",
       "      <td>666.83</td>\n",
       "    </tr>\n",
       "    <tr>\n",
       "      <th>2</th>\n",
       "      <td>2023-07-19</td>\n",
       "      <td>Félix Bautista</td>\n",
       "      <td>R</td>\n",
       "      <td>L</td>\n",
       "      <td>FB</td>\n",
       "      <td>101.2</td>\n",
       "      <td>0.32</td>\n",
       "      <td>1.59</td>\n",
       "      <td>0.08</td>\n",
       "      <td>54.04</td>\n",
       "      <td>...</td>\n",
       "      <td>10241.44</td>\n",
       "      <td>10.335</td>\n",
       "      <td>13962701312</td>\n",
       "      <td>15652.0</td>\n",
       "      <td>4.019679</td>\n",
       "      <td>0.032768</td>\n",
       "      <td>1.6129</td>\n",
       "      <td>10614573839.288322</td>\n",
       "      <td>0.599712</td>\n",
       "      <td>619.44</td>\n",
       "    </tr>\n",
       "    <tr>\n",
       "      <th>3</th>\n",
       "      <td>2023-05-22</td>\n",
       "      <td>Ryan Helsley</td>\n",
       "      <td>R</td>\n",
       "      <td>R</td>\n",
       "      <td>FB</td>\n",
       "      <td>102.4</td>\n",
       "      <td>0.3</td>\n",
       "      <td>1.63</td>\n",
       "      <td>-0.04</td>\n",
       "      <td>53.67</td>\n",
       "      <td>...</td>\n",
       "      <td>10485.76</td>\n",
       "      <td>11.084</td>\n",
       "      <td>21601086625</td>\n",
       "      <td>18938.0</td>\n",
       "      <td>4.330747</td>\n",
       "      <td>0.027</td>\n",
       "      <td>1.7689</td>\n",
       "      <td>11258999068.426245</td>\n",
       "      <td>0.568781</td>\n",
       "      <td>587.49</td>\n",
       "    </tr>\n",
       "    <tr>\n",
       "      <th>4</th>\n",
       "      <td>2023-04-08</td>\n",
       "      <td>Kaleb Ort</td>\n",
       "      <td>R</td>\n",
       "      <td>L</td>\n",
       "      <td>FB</td>\n",
       "      <td>97.5</td>\n",
       "      <td>0.92</td>\n",
       "      <td>1.55</td>\n",
       "      <td>-2.77</td>\n",
       "      <td>54.18</td>\n",
       "      <td>...</td>\n",
       "      <td>9506.25</td>\n",
       "      <td>9.765</td>\n",
       "      <td>9814089221</td>\n",
       "      <td>13488.3</td>\n",
       "      <td>3.723875</td>\n",
       "      <td>0.778688</td>\n",
       "      <td>0.3969</td>\n",
       "      <td>8810956933.59375</td>\n",
       "      <td>0.510313</td>\n",
       "      <td>527.10</td>\n",
       "    </tr>\n",
       "    <tr>\n",
       "      <th>5</th>\n",
       "      <td>2023-07-05</td>\n",
       "      <td>Seth Lugo</td>\n",
       "      <td>R</td>\n",
       "      <td>L</td>\n",
       "      <td>FB</td>\n",
       "      <td>96.4</td>\n",
       "      <td>0.64</td>\n",
       "      <td>1.88</td>\n",
       "      <td>-1.05</td>\n",
       "      <td>54.39</td>\n",
       "      <td>...</td>\n",
       "      <td>9292.96</td>\n",
       "      <td>11.468</td>\n",
       "      <td>12358435328</td>\n",
       "      <td>14103.2</td>\n",
       "      <td>6.644672</td>\n",
       "      <td>0.262144</td>\n",
       "      <td>1.5376</td>\n",
       "      <td>8325017776.138243</td>\n",
       "      <td>0.488121</td>\n",
       "      <td>504.18</td>\n",
       "    </tr>\n",
       "    <tr>\n",
       "      <th>6</th>\n",
       "      <td>2023-07-05</td>\n",
       "      <td>Seth Lugo</td>\n",
       "      <td>R</td>\n",
       "      <td>R</td>\n",
       "      <td>FB</td>\n",
       "      <td>96.4</td>\n",
       "      <td>0.61</td>\n",
       "      <td>1.87</td>\n",
       "      <td>-0.78</td>\n",
       "      <td>54.4</td>\n",
       "      <td>...</td>\n",
       "      <td>9292.96</td>\n",
       "      <td>11.407</td>\n",
       "      <td>12438789013</td>\n",
       "      <td>14133.7</td>\n",
       "      <td>6.539203</td>\n",
       "      <td>0.226981</td>\n",
       "      <td>1.5876</td>\n",
       "      <td>8325017776.138243</td>\n",
       "      <td>0.487952</td>\n",
       "      <td>504.00</td>\n",
       "    </tr>\n",
       "    <tr>\n",
       "      <th>7</th>\n",
       "      <td>2023-07-05</td>\n",
       "      <td>Félix Bautista</td>\n",
       "      <td>R</td>\n",
       "      <td>R</td>\n",
       "      <td>FB</td>\n",
       "      <td>101.2</td>\n",
       "      <td>0.55</td>\n",
       "      <td>1.72</td>\n",
       "      <td>0.07</td>\n",
       "      <td>53.99</td>\n",
       "      <td>...</td>\n",
       "      <td>10241.44</td>\n",
       "      <td>11.18</td>\n",
       "      <td>14032398528</td>\n",
       "      <td>15678.0</td>\n",
       "      <td>5.088448</td>\n",
       "      <td>0.166375</td>\n",
       "      <td>1.3689</td>\n",
       "      <td>10614573839.288322</td>\n",
       "      <td>0.484250</td>\n",
       "      <td>500.18</td>\n",
       "    </tr>\n",
       "    <tr>\n",
       "      <th>8</th>\n",
       "      <td>2023-07-07</td>\n",
       "      <td>Félix Bautista</td>\n",
       "      <td>R</td>\n",
       "      <td>R</td>\n",
       "      <td>FB</td>\n",
       "      <td>101.1</td>\n",
       "      <td>0.34</td>\n",
       "      <td>1.61</td>\n",
       "      <td>0.29</td>\n",
       "      <td>53.8</td>\n",
       "      <td>...</td>\n",
       "      <td>10221.21</td>\n",
       "      <td>10.787</td>\n",
       "      <td>14402116737</td>\n",
       "      <td>16301.1</td>\n",
       "      <td>4.173281</td>\n",
       "      <td>0.039304</td>\n",
       "      <td>1.6129</td>\n",
       "      <td>10562233833.660507</td>\n",
       "      <td>0.482272</td>\n",
       "      <td>498.14</td>\n",
       "    </tr>\n",
       "    <tr>\n",
       "      <th>9</th>\n",
       "      <td>2023-07-22</td>\n",
       "      <td>Shintaro Fujinami</td>\n",
       "      <td>R</td>\n",
       "      <td>R</td>\n",
       "      <td>FB</td>\n",
       "      <td>101.4</td>\n",
       "      <td>1.01</td>\n",
       "      <td>1.48</td>\n",
       "      <td>-1.81</td>\n",
       "      <td>53.37</td>\n",
       "      <td>...</td>\n",
       "      <td>10281.96</td>\n",
       "      <td>10.508</td>\n",
       "      <td>7750636739</td>\n",
       "      <td>14050.9</td>\n",
       "      <td>3.241792</td>\n",
       "      <td>1.030301</td>\n",
       "      <td>0.2209</td>\n",
       "      <td>10719876326.178244</td>\n",
       "      <td>0.479812</td>\n",
       "      <td>495.60</td>\n",
       "    </tr>\n",
       "    <tr>\n",
       "      <th>10</th>\n",
       "      <td>2023-08-10</td>\n",
       "      <td>Félix Bautista</td>\n",
       "      <td>R</td>\n",
       "      <td>L</td>\n",
       "      <td>FB</td>\n",
       "      <td>101.4</td>\n",
       "      <td>0.31</td>\n",
       "      <td>1.7</td>\n",
       "      <td>0.3</td>\n",
       "      <td>53.86</td>\n",
       "      <td>...</td>\n",
       "      <td>10281.96</td>\n",
       "      <td>11.22</td>\n",
       "      <td>15032647232</td>\n",
       "      <td>16288.8</td>\n",
       "      <td>4.913</td>\n",
       "      <td>0.029791</td>\n",
       "      <td>1.9321</td>\n",
       "      <td>10719876326.178244</td>\n",
       "      <td>0.468105</td>\n",
       "      <td>483.50</td>\n",
       "    </tr>\n",
       "    <tr>\n",
       "      <th>11</th>\n",
       "      <td>2023-06-02</td>\n",
       "      <td>Félix Bautista</td>\n",
       "      <td>R</td>\n",
       "      <td>L</td>\n",
       "      <td>FB</td>\n",
       "      <td>98.9</td>\n",
       "      <td>0.58</td>\n",
       "      <td>1.82</td>\n",
       "      <td>-0.08</td>\n",
       "      <td>54.18</td>\n",
       "      <td>...</td>\n",
       "      <td>9781.21</td>\n",
       "      <td>11.466</td>\n",
       "      <td>10175991463</td>\n",
       "      <td>13652.1</td>\n",
       "      <td>6.028568</td>\n",
       "      <td>0.195112</td>\n",
       "      <td>1.5376</td>\n",
       "      <td>9461967630.439491</td>\n",
       "      <td>0.466895</td>\n",
       "      <td>482.25</td>\n",
       "    </tr>\n",
       "    <tr>\n",
       "      <th>12</th>\n",
       "      <td>2023-05-31</td>\n",
       "      <td>Hunter Harvey</td>\n",
       "      <td>R</td>\n",
       "      <td>R</td>\n",
       "      <td>FB</td>\n",
       "      <td>99.0</td>\n",
       "      <td>0.35</td>\n",
       "      <td>1.41</td>\n",
       "      <td>-1.96</td>\n",
       "      <td>54.46</td>\n",
       "      <td>...</td>\n",
       "      <td>9801.0</td>\n",
       "      <td>8.46</td>\n",
       "      <td>8365427000</td>\n",
       "      <td>12180.0</td>\n",
       "      <td>2.803221</td>\n",
       "      <td>0.042875</td>\n",
       "      <td>1.1236</td>\n",
       "      <td>9509900499.0</td>\n",
       "      <td>0.464385</td>\n",
       "      <td>479.66</td>\n",
       "    </tr>\n",
       "    <tr>\n",
       "      <th>13</th>\n",
       "      <td>2023-09-27</td>\n",
       "      <td>Tommy Doyle</td>\n",
       "      <td>R</td>\n",
       "      <td>R</td>\n",
       "      <td>FB</td>\n",
       "      <td>88.7</td>\n",
       "      <td>0.18</td>\n",
       "      <td>0.14</td>\n",
       "      <td>-2.2</td>\n",
       "      <td>54.64</td>\n",
       "      <td>...</td>\n",
       "      <td>7867.69</td>\n",
       "      <td>0.826</td>\n",
       "      <td>12796484219</td>\n",
       "      <td>13800.1</td>\n",
       "      <td>0.002744</td>\n",
       "      <td>0.005832</td>\n",
       "      <td>0.0016</td>\n",
       "      <td>5490578424.532071</td>\n",
       "      <td>0.463546</td>\n",
       "      <td>478.80</td>\n",
       "    </tr>\n",
       "    <tr>\n",
       "      <th>14</th>\n",
       "      <td>2023-07-31</td>\n",
       "      <td>Félix Bautista</td>\n",
       "      <td>R</td>\n",
       "      <td>R</td>\n",
       "      <td>FB</td>\n",
       "      <td>97.9</td>\n",
       "      <td>0.48</td>\n",
       "      <td>1.9</td>\n",
       "      <td>-0.1</td>\n",
       "      <td>53.98</td>\n",
       "      <td>...</td>\n",
       "      <td>9584.41</td>\n",
       "      <td>12.35</td>\n",
       "      <td>14508930519</td>\n",
       "      <td>15853.5</td>\n",
       "      <td>6.859</td>\n",
       "      <td>0.110592</td>\n",
       "      <td>2.0164</td>\n",
       "      <td>8993183583.208994</td>\n",
       "      <td>0.455574</td>\n",
       "      <td>470.56</td>\n",
       "    </tr>\n",
       "    <tr>\n",
       "      <th>15</th>\n",
       "      <td>2023-05-31</td>\n",
       "      <td>Hunter Harvey</td>\n",
       "      <td>R</td>\n",
       "      <td>R</td>\n",
       "      <td>FB</td>\n",
       "      <td>99.5</td>\n",
       "      <td>0.39</td>\n",
       "      <td>1.4</td>\n",
       "      <td>-1.97</td>\n",
       "      <td>54.36</td>\n",
       "      <td>...</td>\n",
       "      <td>9900.25</td>\n",
       "      <td>8.54</td>\n",
       "      <td>6869835701</td>\n",
       "      <td>11596.1</td>\n",
       "      <td>2.744</td>\n",
       "      <td>0.059319</td>\n",
       "      <td>1.0201</td>\n",
       "      <td>9752487531.21875</td>\n",
       "      <td>0.453382</td>\n",
       "      <td>468.30</td>\n",
       "    </tr>\n",
       "    <tr>\n",
       "      <th>16</th>\n",
       "      <td>2023-05-20</td>\n",
       "      <td>Félix Bautista</td>\n",
       "      <td>R</td>\n",
       "      <td>L</td>\n",
       "      <td>FB</td>\n",
       "      <td>99.8</td>\n",
       "      <td>0.43</td>\n",
       "      <td>2.05</td>\n",
       "      <td>-0.09</td>\n",
       "      <td>53.91</td>\n",
       "      <td>...</td>\n",
       "      <td>9960.04</td>\n",
       "      <td>13.53</td>\n",
       "      <td>14977894625</td>\n",
       "      <td>16269.0</td>\n",
       "      <td>8.615125</td>\n",
       "      <td>0.079507</td>\n",
       "      <td>2.6244</td>\n",
       "      <td>9900399200.799679</td>\n",
       "      <td>0.450564</td>\n",
       "      <td>465.39</td>\n",
       "    </tr>\n",
       "    <tr>\n",
       "      <th>17</th>\n",
       "      <td>2023-06-04</td>\n",
       "      <td>Drew Smith</td>\n",
       "      <td>R</td>\n",
       "      <td>L</td>\n",
       "      <td>FB</td>\n",
       "      <td>95.9</td>\n",
       "      <td>0.78</td>\n",
       "      <td>2.09</td>\n",
       "      <td>-2.75</td>\n",
       "      <td>54.42</td>\n",
       "      <td>...</td>\n",
       "      <td>9196.81</td>\n",
       "      <td>12.749</td>\n",
       "      <td>16561875149</td>\n",
       "      <td>15548.9</td>\n",
       "      <td>9.129329</td>\n",
       "      <td>0.474552</td>\n",
       "      <td>1.7161</td>\n",
       "      <td>8111348029.487992</td>\n",
       "      <td>0.450551</td>\n",
       "      <td>465.37</td>\n",
       "    </tr>\n",
       "    <tr>\n",
       "      <th>18</th>\n",
       "      <td>2023-07-20</td>\n",
       "      <td>Félix Bautista</td>\n",
       "      <td>R</td>\n",
       "      <td>R</td>\n",
       "      <td>FB</td>\n",
       "      <td>99.4</td>\n",
       "      <td>0.68</td>\n",
       "      <td>1.93</td>\n",
       "      <td>-0.15</td>\n",
       "      <td>54.0</td>\n",
       "      <td>...</td>\n",
       "      <td>9880.36</td>\n",
       "      <td>12.545</td>\n",
       "      <td>13927939416</td>\n",
       "      <td>15639.0</td>\n",
       "      <td>7.189057</td>\n",
       "      <td>0.314432</td>\n",
       "      <td>1.5625</td>\n",
       "      <td>9703578464.722242</td>\n",
       "      <td>0.444763</td>\n",
       "      <td>459.39</td>\n",
       "    </tr>\n",
       "    <tr>\n",
       "      <th>19</th>\n",
       "      <td>2023-08-03</td>\n",
       "      <td>Carlos Estévez</td>\n",
       "      <td>R</td>\n",
       "      <td>R</td>\n",
       "      <td>FB</td>\n",
       "      <td>98.9</td>\n",
       "      <td>0.36</td>\n",
       "      <td>1.5</td>\n",
       "      <td>-1.63</td>\n",
       "      <td>54.26</td>\n",
       "      <td>...</td>\n",
       "      <td>9781.21</td>\n",
       "      <td>9.3</td>\n",
       "      <td>7552609128</td>\n",
       "      <td>12164.4</td>\n",
       "      <td>3.375</td>\n",
       "      <td>0.046656</td>\n",
       "      <td>1.2996</td>\n",
       "      <td>9461967630.439491</td>\n",
       "      <td>0.444600</td>\n",
       "      <td>459.23</td>\n",
       "    </tr>\n",
       "  </tbody>\n",
       "</table>\n",
       "<p>20 rows × 35 columns</p>\n",
       "</div>"
      ],
      "text/plain": [
       "         date       pitcher_name p_hand batter_side pitch_type  velocity  \\\n",
       "0  2023-07-07     Félix Bautista      R           L         FB     101.6   \n",
       "1  2023-03-30       Ryan Helsley      R           R         FB     100.5   \n",
       "2  2023-07-19     Félix Bautista      R           L         FB     101.2   \n",
       "3  2023-05-22       Ryan Helsley      R           R         FB     102.4   \n",
       "4  2023-04-08          Kaleb Ort      R           L         FB      97.5   \n",
       "5  2023-07-05          Seth Lugo      R           L         FB      96.4   \n",
       "6  2023-07-05          Seth Lugo      R           R         FB      96.4   \n",
       "7  2023-07-05     Félix Bautista      R           R         FB     101.2   \n",
       "8  2023-07-07     Félix Bautista      R           R         FB     101.1   \n",
       "9  2023-07-22  Shintaro Fujinami      R           R         FB     101.4   \n",
       "10 2023-08-10     Félix Bautista      R           L         FB     101.4   \n",
       "11 2023-06-02     Félix Bautista      R           L         FB      98.9   \n",
       "12 2023-05-31      Hunter Harvey      R           R         FB      99.0   \n",
       "13 2023-09-27        Tommy Doyle      R           R         FB      88.7   \n",
       "14 2023-07-31     Félix Bautista      R           R         FB      97.9   \n",
       "15 2023-05-31      Hunter Harvey      R           R         FB      99.5   \n",
       "16 2023-05-20     Félix Bautista      R           L         FB      99.8   \n",
       "17 2023-06-04         Drew Smith      R           L         FB      95.9   \n",
       "18 2023-07-20     Félix Bautista      R           R         FB      99.4   \n",
       "19 2023-08-03     Carlos Estévez      R           R         FB      98.9   \n",
       "\n",
       "    horizontal_break  induced_vertical_break  release_side  \\\n",
       "0               0.25                    1.75          0.28   \n",
       "1               0.27                    1.85         -0.04   \n",
       "2               0.32                    1.59          0.08   \n",
       "3                0.3                    1.63         -0.04   \n",
       "4               0.92                    1.55         -2.77   \n",
       "5               0.64                    1.88         -1.05   \n",
       "6               0.61                    1.87         -0.78   \n",
       "7               0.55                    1.72          0.07   \n",
       "8               0.34                    1.61          0.29   \n",
       "9               1.01                    1.48         -1.81   \n",
       "10              0.31                     1.7           0.3   \n",
       "11              0.58                    1.82         -0.08   \n",
       "12              0.35                    1.41         -1.96   \n",
       "13              0.18                    0.14          -2.2   \n",
       "14              0.48                     1.9          -0.1   \n",
       "15              0.39                     1.4         -1.97   \n",
       "16              0.43                    2.05         -0.09   \n",
       "17              0.78                    2.09         -2.75   \n",
       "18              0.68                    1.93         -0.15   \n",
       "19              0.36                     1.5         -1.63   \n",
       "\n",
       "    release_dist_from_C  ...  velocity^2  extension_IVB  spin_rate^3  \\\n",
       "0                 53.95  ...    10322.56         11.375  13430356633   \n",
       "1                  53.7  ...    10100.25          12.58  21184951663   \n",
       "2                 54.04  ...    10241.44         10.335  13962701312   \n",
       "3                 53.67  ...    10485.76         11.084  21601086625   \n",
       "4                 54.18  ...     9506.25          9.765   9814089221   \n",
       "5                 54.39  ...     9292.96         11.468  12358435328   \n",
       "6                  54.4  ...     9292.96         11.407  12438789013   \n",
       "7                 53.99  ...    10241.44          11.18  14032398528   \n",
       "8                  53.8  ...    10221.21         10.787  14402116737   \n",
       "9                 53.37  ...    10281.96         10.508   7750636739   \n",
       "10                53.86  ...    10281.96          11.22  15032647232   \n",
       "11                54.18  ...     9781.21         11.466  10175991463   \n",
       "12                54.46  ...      9801.0           8.46   8365427000   \n",
       "13                54.64  ...     7867.69          0.826  12796484219   \n",
       "14                53.98  ...     9584.41          12.35  14508930519   \n",
       "15                54.36  ...     9900.25           8.54   6869835701   \n",
       "16                53.91  ...     9960.04          13.53  14977894625   \n",
       "17                54.42  ...     9196.81         12.749  16561875149   \n",
       "18                 54.0  ...     9880.36         12.545  13927939416   \n",
       "19                54.26  ...     9781.21            9.3   7552609128   \n",
       "\n",
       "    extension_spin     IVB^3      HB^3    DB^2    velocity_feature    xWhiff  \\\n",
       "0          15450.5  5.359375  0.015625    2.25  10826012887.285759  0.692126   \n",
       "1          18815.6  6.331625  0.019683  2.4964   10252512531.28125  0.645588   \n",
       "2          15652.0  4.019679  0.032768  1.6129  10614573839.288322  0.599712   \n",
       "3          18938.0  4.330747     0.027  1.7689  11258999068.426245  0.568781   \n",
       "4          13488.3  3.723875  0.778688  0.3969    8810956933.59375  0.510313   \n",
       "5          14103.2  6.644672  0.262144  1.5376   8325017776.138243  0.488121   \n",
       "6          14133.7  6.539203  0.226981  1.5876   8325017776.138243  0.487952   \n",
       "7          15678.0  5.088448  0.166375  1.3689  10614573839.288322  0.484250   \n",
       "8          16301.1  4.173281  0.039304  1.6129  10562233833.660507  0.482272   \n",
       "9          14050.9  3.241792  1.030301  0.2209  10719876326.178244  0.479812   \n",
       "10         16288.8     4.913  0.029791  1.9321  10719876326.178244  0.468105   \n",
       "11         13652.1  6.028568  0.195112  1.5376   9461967630.439491  0.466895   \n",
       "12         12180.0  2.803221  0.042875  1.1236        9509900499.0  0.464385   \n",
       "13         13800.1  0.002744  0.005832  0.0016   5490578424.532071  0.463546   \n",
       "14         15853.5     6.859  0.110592  2.0164   8993183583.208994  0.455574   \n",
       "15         11596.1     2.744  0.059319  1.0201    9752487531.21875  0.453382   \n",
       "16         16269.0  8.615125  0.079507  2.6244   9900399200.799679  0.450564   \n",
       "17         15548.9  9.129329  0.474552  1.7161   8111348029.487992  0.450551   \n",
       "18         15639.0  7.189057  0.314432  1.5625   9703578464.722242  0.444763   \n",
       "19         12164.4     3.375  0.046656  1.2996   9461967630.439491  0.444600   \n",
       "\n",
       "    stuff_plus  \n",
       "0       714.89  \n",
       "1       666.83  \n",
       "2       619.44  \n",
       "3       587.49  \n",
       "4       527.10  \n",
       "5       504.18  \n",
       "6       504.00  \n",
       "7       500.18  \n",
       "8       498.14  \n",
       "9       495.60  \n",
       "10      483.50  \n",
       "11      482.25  \n",
       "12      479.66  \n",
       "13      478.80  \n",
       "14      470.56  \n",
       "15      468.30  \n",
       "16      465.39  \n",
       "17      465.37  \n",
       "18      459.39  \n",
       "19      459.23  \n",
       "\n",
       "[20 rows x 35 columns]"
      ]
     },
     "execution_count": 35,
     "metadata": {},
     "output_type": "execute_result"
    }
   ],
   "source": [
    "# Sort the DataFrame by 'Stuff+' values in descending order\n",
    "df_sorted = df_rhp_fb.sort_values(by='stuff_plus', ascending=False)\n",
    "\n",
    "# Reset the index of the sorted DataFrame\n",
    "df_sorted.reset_index(drop=True, inplace=True)\n",
    "\n",
    "df_sorted.head(20)"
   ]
  },
  {
   "cell_type": "code",
   "execution_count": 36,
   "metadata": {},
   "outputs": [
    {
     "data": {
      "image/png": "[encoded data removed]",
      "text/plain": [
       "<Figure size 432x288 with 1 Axes>"
      ]
     },
     "metadata": {
      "needs_background": "light"
     },
     "output_type": "display_data"
    }
   ],
   "source": [
    "# Define the strike zone boundaries\n",
    "sz_top = 1  \n",
    "sz_bottom = -1\n",
    "\n",
    "# The width of the strike zone is 17 inches, which is approximately 1.42 feet\n",
    "# Since pitch_side is centered around 2.627, the left and right boundaries are 2.627 - 0.71 and 2.627 + 0.71\n",
    "sz_left = 2.627 - 0.71\n",
    "sz_right = 2.627 + 0.71\n",
    "\n",
    "# Create a figure and axis\n",
    "fig, ax = plt.subplots()\n",
    "\n",
    "# Plot the strike zone\n",
    "ax.plot([sz_left, sz_right, sz_right, sz_left, sz_left], [sz_bottom, sz_bottom, sz_top, sz_top, sz_bottom], color='black')\n",
    "\n",
    "# Plot the locations of the pitches\n",
    "ax.scatter(df_sorted.head(20)['pitch_side'], df_sorted.head(20)['pitch_height'], color='red')\n",
    "\n",
    "# Set the x and y axis limits to slightly larger than the strike zone\n",
    "ax.set_xlim(sz_left - 1, sz_right + 1)\n",
    "ax.set_ylim(sz_bottom - 1, sz_top + 1)\n",
    "\n",
    "# Set the aspect of the plot to be equal, so the strike zone is square\n",
    "ax.set_aspect('equal')\n",
    "\n",
    "# Add labels and a title\n",
    "ax.set_xlabel('Pitch Side')\n",
    "ax.set_ylabel('Pitch Height')\n",
    "ax.set_title('Locations of the 20 Best Fastballs by Stuff+')\n",
    "\n",
    "# Show the plot\n",
    "plt.show()"
   ]
  },
  {
   "cell_type": "code",
   "execution_count": 37,
   "metadata": {},
   "outputs": [
    {
     "data": {
      "image/png": "[encoded data removed]",
      "text/plain": [
       "<Figure size 432x288 with 1 Axes>"
      ]
     },
     "metadata": {
      "needs_background": "light"
     },
     "output_type": "display_data"
    },
    {
     "data": {
      "text/plain": [
       "<Figure size 432x288 with 0 Axes>"
      ]
     },
     "metadata": {},
     "output_type": "display_data"
    }
   ],
   "source": [
    "# Average Stuff+ for each possible pitch event\n",
    "# Assuming df_sorted.groupby(by='description')['stuff_plus'].mean().round(2) is stored in the variable 'series'\n",
    "series = df_sorted.groupby(by='description')['stuff_plus'].mean().round(2)\n",
    "\n",
    "# Create a bar plot of the average Stuff+ for each pitch event\n",
    "plt.barh(series.index, series.values, color='black')\n",
    "\n",
    "# Add value labels and a title\n",
    "for i, value in enumerate(series.values):\n",
    "    plt.text(round(value, 1), i, str(round(value, 1)), va='center')\n",
    "plt.xlabel('Stuff+')\n",
    "plt.ylabel('Pitch Event')\n",
    "plt.title('Average Stuff+ for Each Pitch Event')\n",
    "\n",
    "# Show the plot\n",
    "plt.show()\n",
    "\n",
    "# Save the figure as an image\n",
    "plt.savefig('avg_stuff+_per_event.png', bbox_inches='tight', facecolor='white')"
   ]
  },
  {
   "cell_type": "code",
   "execution_count": 38,
   "metadata": {},
   "outputs": [
    {
     "name": "stderr",
     "output_type": "stream",
     "text": [
      "c:\\Users\\genoc\\Anaconda3\\lib\\site-packages\\pandas\\core\\frame.py:3191: SettingWithCopyWarning: \n",
      "A value is trying to be set on a copy of a slice from a DataFrame.\n",
      "Try using .loc[row_indexer,col_indexer] = value instead\n",
      "\n",
      "See the caveats in the documentation: https://pandas.pydata.org/pandas-docs/stable/user_guide/indexing.html#returning-a-view-versus-a-copy\n",
      "  self[k1] = value[k2]\n"
     ]
    },
    {
     "data": {
      "text/html": [
       "<div>\n",
       "<style scoped>\n",
       "    .dataframe tbody tr th:only-of-type {\n",
       "        vertical-align: middle;\n",
       "    }\n",
       "\n",
       "    .dataframe tbody tr th {\n",
       "        vertical-align: top;\n",
       "    }\n",
       "\n",
       "    .dataframe thead th {\n",
       "        text-align: right;\n",
       "    }\n",
       "</style>\n",
       "<table border=\"1\" class=\"dataframe\">\n",
       "  <thead>\n",
       "    <tr style=\"text-align: right;\">\n",
       "      <th></th>\n",
       "      <th>stuff_plus</th>\n",
       "      <th>pitcher_name</th>\n",
       "      <th>batter_name</th>\n",
       "      <th>date</th>\n",
       "      <th>description</th>\n",
       "      <th>velocity</th>\n",
       "      <th>spin_rate</th>\n",
       "      <th>induced_vertical_break</th>\n",
       "      <th>horizontal_break</th>\n",
       "      <th>differential_break</th>\n",
       "    </tr>\n",
       "  </thead>\n",
       "  <tbody>\n",
       "    <tr>\n",
       "      <th>0</th>\n",
       "      <td>714.89</td>\n",
       "      <td>Félix Bautista</td>\n",
       "      <td>Max Kepler</td>\n",
       "      <td>2023-07-07</td>\n",
       "      <td>swinging_strike</td>\n",
       "      <td>101.6</td>\n",
       "      <td>2377</td>\n",
       "      <td>21.0</td>\n",
       "      <td>3.0</td>\n",
       "      <td>18.0</td>\n",
       "    </tr>\n",
       "    <tr>\n",
       "      <th>1</th>\n",
       "      <td>666.83</td>\n",
       "      <td>Ryan Helsley</td>\n",
       "      <td>Bo Bichette</td>\n",
       "      <td>2023-03-30</td>\n",
       "      <td>swinging_strike</td>\n",
       "      <td>100.5</td>\n",
       "      <td>2767</td>\n",
       "      <td>22.2</td>\n",
       "      <td>3.24</td>\n",
       "      <td>18.96</td>\n",
       "    </tr>\n",
       "    <tr>\n",
       "      <th>2</th>\n",
       "      <td>619.44</td>\n",
       "      <td>Félix Bautista</td>\n",
       "      <td>James Outman</td>\n",
       "      <td>2023-07-19</td>\n",
       "      <td>swinging_strike</td>\n",
       "      <td>101.2</td>\n",
       "      <td>2408</td>\n",
       "      <td>19.08</td>\n",
       "      <td>3.84</td>\n",
       "      <td>15.24</td>\n",
       "    </tr>\n",
       "    <tr>\n",
       "      <th>3</th>\n",
       "      <td>587.49</td>\n",
       "      <td>Ryan Helsley</td>\n",
       "      <td>Spencer Steer</td>\n",
       "      <td>2023-05-22</td>\n",
       "      <td>swinging_strike</td>\n",
       "      <td>102.4</td>\n",
       "      <td>2785</td>\n",
       "      <td>19.56</td>\n",
       "      <td>3.6</td>\n",
       "      <td>15.96</td>\n",
       "    </tr>\n",
       "    <tr>\n",
       "      <th>4</th>\n",
       "      <td>527.10</td>\n",
       "      <td>Kaleb Ort</td>\n",
       "      <td>Kerry Carpenter</td>\n",
       "      <td>2023-04-08</td>\n",
       "      <td>swinging_strike</td>\n",
       "      <td>97.5</td>\n",
       "      <td>2141</td>\n",
       "      <td>18.6</td>\n",
       "      <td>11.04</td>\n",
       "      <td>7.56</td>\n",
       "    </tr>\n",
       "    <tr>\n",
       "      <th>5</th>\n",
       "      <td>504.18</td>\n",
       "      <td>Seth Lugo</td>\n",
       "      <td>Mike Moustakas</td>\n",
       "      <td>2023-07-05</td>\n",
       "      <td>swinging_strike</td>\n",
       "      <td>96.4</td>\n",
       "      <td>2312</td>\n",
       "      <td>22.56</td>\n",
       "      <td>7.68</td>\n",
       "      <td>14.88</td>\n",
       "    </tr>\n",
       "    <tr>\n",
       "      <th>6</th>\n",
       "      <td>504.00</td>\n",
       "      <td>Seth Lugo</td>\n",
       "      <td>Jo Adell</td>\n",
       "      <td>2023-07-05</td>\n",
       "      <td>swinging_strike</td>\n",
       "      <td>96.4</td>\n",
       "      <td>2317</td>\n",
       "      <td>22.44</td>\n",
       "      <td>7.32</td>\n",
       "      <td>15.12</td>\n",
       "    </tr>\n",
       "    <tr>\n",
       "      <th>7</th>\n",
       "      <td>500.18</td>\n",
       "      <td>Félix Bautista</td>\n",
       "      <td>Isiah Kiner-Falefa</td>\n",
       "      <td>2023-07-05</td>\n",
       "      <td>swinging_strike</td>\n",
       "      <td>101.2</td>\n",
       "      <td>2412</td>\n",
       "      <td>20.64</td>\n",
       "      <td>6.6</td>\n",
       "      <td>14.04</td>\n",
       "    </tr>\n",
       "    <tr>\n",
       "      <th>8</th>\n",
       "      <td>498.14</td>\n",
       "      <td>Félix Bautista</td>\n",
       "      <td>Christian Vázquez</td>\n",
       "      <td>2023-07-07</td>\n",
       "      <td>swinging_strike</td>\n",
       "      <td>101.1</td>\n",
       "      <td>2433</td>\n",
       "      <td>19.32</td>\n",
       "      <td>4.08</td>\n",
       "      <td>15.24</td>\n",
       "    </tr>\n",
       "    <tr>\n",
       "      <th>9</th>\n",
       "      <td>495.60</td>\n",
       "      <td>Shintaro Fujinami</td>\n",
       "      <td>Randy Arozarena</td>\n",
       "      <td>2023-07-22</td>\n",
       "      <td>swinging_strike</td>\n",
       "      <td>101.4</td>\n",
       "      <td>1979</td>\n",
       "      <td>17.76</td>\n",
       "      <td>12.12</td>\n",
       "      <td>5.64</td>\n",
       "    </tr>\n",
       "    <tr>\n",
       "      <th>10</th>\n",
       "      <td>483.50</td>\n",
       "      <td>Félix Bautista</td>\n",
       "      <td>Kyle Tucker</td>\n",
       "      <td>2023-08-10</td>\n",
       "      <td>ball</td>\n",
       "      <td>101.4</td>\n",
       "      <td>2468</td>\n",
       "      <td>20.4</td>\n",
       "      <td>3.72</td>\n",
       "      <td>16.68</td>\n",
       "    </tr>\n",
       "    <tr>\n",
       "      <th>11</th>\n",
       "      <td>482.25</td>\n",
       "      <td>Félix Bautista</td>\n",
       "      <td>Michael Conforto</td>\n",
       "      <td>2023-06-02</td>\n",
       "      <td>swinging_strike</td>\n",
       "      <td>98.9</td>\n",
       "      <td>2167</td>\n",
       "      <td>21.84</td>\n",
       "      <td>6.96</td>\n",
       "      <td>14.88</td>\n",
       "    </tr>\n",
       "    <tr>\n",
       "      <th>12</th>\n",
       "      <td>479.66</td>\n",
       "      <td>Hunter Harvey</td>\n",
       "      <td>Will Smith</td>\n",
       "      <td>2023-05-31</td>\n",
       "      <td>swinging_strike</td>\n",
       "      <td>99.0</td>\n",
       "      <td>2030</td>\n",
       "      <td>16.92</td>\n",
       "      <td>4.2</td>\n",
       "      <td>12.72</td>\n",
       "    </tr>\n",
       "    <tr>\n",
       "      <th>13</th>\n",
       "      <td>478.80</td>\n",
       "      <td>Tommy Doyle</td>\n",
       "      <td>J.D. Martinez</td>\n",
       "      <td>2023-09-27</td>\n",
       "      <td>swinging_strike</td>\n",
       "      <td>88.7</td>\n",
       "      <td>2339</td>\n",
       "      <td>1.68</td>\n",
       "      <td>2.16</td>\n",
       "      <td>0.48</td>\n",
       "    </tr>\n",
       "    <tr>\n",
       "      <th>14</th>\n",
       "      <td>470.56</td>\n",
       "      <td>Félix Bautista</td>\n",
       "      <td>Matt Chapman</td>\n",
       "      <td>2023-07-31</td>\n",
       "      <td>foul_tip</td>\n",
       "      <td>97.9</td>\n",
       "      <td>2439</td>\n",
       "      <td>22.8</td>\n",
       "      <td>5.76</td>\n",
       "      <td>17.04</td>\n",
       "    </tr>\n",
       "    <tr>\n",
       "      <th>15</th>\n",
       "      <td>468.30</td>\n",
       "      <td>Hunter Harvey</td>\n",
       "      <td>Will Smith</td>\n",
       "      <td>2023-05-31</td>\n",
       "      <td>swinging_strike</td>\n",
       "      <td>99.5</td>\n",
       "      <td>1901</td>\n",
       "      <td>16.8</td>\n",
       "      <td>4.68</td>\n",
       "      <td>12.12</td>\n",
       "    </tr>\n",
       "    <tr>\n",
       "      <th>16</th>\n",
       "      <td>465.39</td>\n",
       "      <td>Félix Bautista</td>\n",
       "      <td>Daulton Varsho</td>\n",
       "      <td>2023-05-20</td>\n",
       "      <td>swinging_strike</td>\n",
       "      <td>99.8</td>\n",
       "      <td>2465</td>\n",
       "      <td>24.6</td>\n",
       "      <td>5.16</td>\n",
       "      <td>19.44</td>\n",
       "    </tr>\n",
       "    <tr>\n",
       "      <th>17</th>\n",
       "      <td>465.37</td>\n",
       "      <td>Drew Smith</td>\n",
       "      <td>Cavan Biggio</td>\n",
       "      <td>2023-06-04</td>\n",
       "      <td>swinging_strike</td>\n",
       "      <td>95.9</td>\n",
       "      <td>2549</td>\n",
       "      <td>25.08</td>\n",
       "      <td>9.36</td>\n",
       "      <td>15.72</td>\n",
       "    </tr>\n",
       "    <tr>\n",
       "      <th>18</th>\n",
       "      <td>459.39</td>\n",
       "      <td>Félix Bautista</td>\n",
       "      <td>Yandy Díaz</td>\n",
       "      <td>2023-07-20</td>\n",
       "      <td>swinging_strike</td>\n",
       "      <td>99.4</td>\n",
       "      <td>2406</td>\n",
       "      <td>23.16</td>\n",
       "      <td>8.16</td>\n",
       "      <td>15.0</td>\n",
       "    </tr>\n",
       "    <tr>\n",
       "      <th>19</th>\n",
       "      <td>459.23</td>\n",
       "      <td>Carlos Estévez</td>\n",
       "      <td>Julio Rodríguez</td>\n",
       "      <td>2023-08-03</td>\n",
       "      <td>swinging_strike</td>\n",
       "      <td>98.9</td>\n",
       "      <td>1962</td>\n",
       "      <td>18.0</td>\n",
       "      <td>4.32</td>\n",
       "      <td>13.68</td>\n",
       "    </tr>\n",
       "  </tbody>\n",
       "</table>\n",
       "</div>"
      ],
      "text/plain": [
       "    stuff_plus       pitcher_name         batter_name       date  \\\n",
       "0       714.89     Félix Bautista          Max Kepler 2023-07-07   \n",
       "1       666.83       Ryan Helsley         Bo Bichette 2023-03-30   \n",
       "2       619.44     Félix Bautista        James Outman 2023-07-19   \n",
       "3       587.49       Ryan Helsley       Spencer Steer 2023-05-22   \n",
       "4       527.10          Kaleb Ort     Kerry Carpenter 2023-04-08   \n",
       "5       504.18          Seth Lugo      Mike Moustakas 2023-07-05   \n",
       "6       504.00          Seth Lugo            Jo Adell 2023-07-05   \n",
       "7       500.18     Félix Bautista  Isiah Kiner-Falefa 2023-07-05   \n",
       "8       498.14     Félix Bautista   Christian Vázquez 2023-07-07   \n",
       "9       495.60  Shintaro Fujinami     Randy Arozarena 2023-07-22   \n",
       "10      483.50     Félix Bautista         Kyle Tucker 2023-08-10   \n",
       "11      482.25     Félix Bautista    Michael Conforto 2023-06-02   \n",
       "12      479.66      Hunter Harvey          Will Smith 2023-05-31   \n",
       "13      478.80        Tommy Doyle       J.D. Martinez 2023-09-27   \n",
       "14      470.56     Félix Bautista        Matt Chapman 2023-07-31   \n",
       "15      468.30      Hunter Harvey          Will Smith 2023-05-31   \n",
       "16      465.39     Félix Bautista      Daulton Varsho 2023-05-20   \n",
       "17      465.37         Drew Smith        Cavan Biggio 2023-06-04   \n",
       "18      459.39     Félix Bautista          Yandy Díaz 2023-07-20   \n",
       "19      459.23     Carlos Estévez     Julio Rodríguez 2023-08-03   \n",
       "\n",
       "        description  velocity  spin_rate  induced_vertical_break  \\\n",
       "0   swinging_strike     101.6       2377                    21.0   \n",
       "1   swinging_strike     100.5       2767                    22.2   \n",
       "2   swinging_strike     101.2       2408                   19.08   \n",
       "3   swinging_strike     102.4       2785                   19.56   \n",
       "4   swinging_strike      97.5       2141                    18.6   \n",
       "5   swinging_strike      96.4       2312                   22.56   \n",
       "6   swinging_strike      96.4       2317                   22.44   \n",
       "7   swinging_strike     101.2       2412                   20.64   \n",
       "8   swinging_strike     101.1       2433                   19.32   \n",
       "9   swinging_strike     101.4       1979                   17.76   \n",
       "10             ball     101.4       2468                    20.4   \n",
       "11  swinging_strike      98.9       2167                   21.84   \n",
       "12  swinging_strike      99.0       2030                   16.92   \n",
       "13  swinging_strike      88.7       2339                    1.68   \n",
       "14         foul_tip      97.9       2439                    22.8   \n",
       "15  swinging_strike      99.5       1901                    16.8   \n",
       "16  swinging_strike      99.8       2465                    24.6   \n",
       "17  swinging_strike      95.9       2549                   25.08   \n",
       "18  swinging_strike      99.4       2406                   23.16   \n",
       "19  swinging_strike      98.9       1962                    18.0   \n",
       "\n",
       "    horizontal_break  differential_break  \n",
       "0                3.0                18.0  \n",
       "1               3.24               18.96  \n",
       "2               3.84               15.24  \n",
       "3                3.6               15.96  \n",
       "4              11.04                7.56  \n",
       "5               7.68               14.88  \n",
       "6               7.32               15.12  \n",
       "7                6.6               14.04  \n",
       "8               4.08               15.24  \n",
       "9              12.12                5.64  \n",
       "10              3.72               16.68  \n",
       "11              6.96               14.88  \n",
       "12               4.2               12.72  \n",
       "13              2.16                0.48  \n",
       "14              5.76               17.04  \n",
       "15              4.68               12.12  \n",
       "16              5.16               19.44  \n",
       "17              9.36               15.72  \n",
       "18              8.16                15.0  \n",
       "19              4.32               13.68  "
      ]
     },
     "execution_count": 38,
     "metadata": {},
     "output_type": "execute_result"
    }
   ],
   "source": [
    "top_20 = df_sorted.head(20)\n",
    "top_20[['induced_vertical_break', 'horizontal_break', 'differential_break']] = top_20[['induced_vertical_break', 'horizontal_break', 'differential_break']] * 12\n",
    "top_20[['stuff_plus', 'pitcher_name', 'batter_name', 'date', 'description', 'velocity', 'spin_rate', 'induced_vertical_break', 'horizontal_break', 'differential_break']].head(30)\n"
   ]
  },
  {
   "cell_type": "markdown",
   "metadata": {},
   "source": [
    "# Top 5 RHP Fastballs by Stuff+ (Find videos on Statcast):\n",
    "Emmanuel Clase vs. Randy Arozarena, 8/12, 102.8 mph  \n",
    "Ryan Helsley vs. Bo Bichette, 3/30, 100.5 MPH  \n",
    "Camilo Doval vs. Brandon Nimmo, 6/30, 102.4 MPH  \n",
    "Emmanuel Clase vs. Wander Franco, 8/12, 102.4 MPH  \n",
    "Ryne Nelson vs. Xander Bogaerts, 4/3, 93.9 MPH  \n",
    "\n",
    "Best by a starter:  \n",
    "Jacob Degrom vs. Ryan Noda, 4/23, 101 MPH  \n",
    "Justin Verlander vs. Everson Pereira, 9/1, 94.2 MPH  \n",
    "Maybe more?"
   ]
  },
  {
   "cell_type": "code",
   "execution_count": 39,
   "metadata": {},
   "outputs": [
    {
     "ename": "AttributeError",
     "evalue": "'Series' object has no attribute 'DataFrame'",
     "output_type": "error",
     "traceback": [
      "\u001b[1;31m---------------------------------------------------------------------------\u001b[0m",
      "\u001b[1;31mAttributeError\u001b[0m                            Traceback (most recent call last)",
      "\u001b[1;32m<ipython-input-39-a8469ca3bcc5>\u001b[0m in \u001b[0;36m<module>\u001b[1;34m\u001b[0m\n\u001b[0;32m      5\u001b[0m \u001b[0maverage_fb_Stuff_sorted\u001b[0m \u001b[1;33m=\u001b[0m \u001b[0maverage_fb_Stuff\u001b[0m\u001b[1;33m.\u001b[0m\u001b[0msort_values\u001b[0m\u001b[1;33m(\u001b[0m\u001b[0mascending\u001b[0m\u001b[1;33m=\u001b[0m\u001b[1;32mFalse\u001b[0m\u001b[1;33m)\u001b[0m\u001b[1;33m\u001b[0m\u001b[1;33m\u001b[0m\u001b[0m\n\u001b[0;32m      6\u001b[0m \u001b[1;33m\u001b[0m\u001b[0m\n\u001b[1;32m----> 7\u001b[1;33m \u001b[0maverage_fb_Stuff_sorted\u001b[0m \u001b[1;33m=\u001b[0m \u001b[0maverage_fb_Stuff_sorted\u001b[0m\u001b[1;33m.\u001b[0m\u001b[0mDataFrame\u001b[0m\u001b[1;33m(\u001b[0m\u001b[1;33m)\u001b[0m\u001b[1;33m\u001b[0m\u001b[1;33m\u001b[0m\u001b[0m\n\u001b[0m\u001b[0;32m      8\u001b[0m \u001b[0maverage_fb_Stuff_sorted\u001b[0m\u001b[1;33m.\u001b[0m\u001b[0mhead\u001b[0m\u001b[1;33m(\u001b[0m\u001b[1;33m)\u001b[0m\u001b[1;33m\u001b[0m\u001b[1;33m\u001b[0m\u001b[0m\n",
      "\u001b[1;32mc:\\Users\\genoc\\Anaconda3\\lib\\site-packages\\pandas\\core\\generic.py\u001b[0m in \u001b[0;36m__getattr__\u001b[1;34m(self, name)\u001b[0m\n\u001b[0;32m   5463\u001b[0m             \u001b[1;32mif\u001b[0m \u001b[0mself\u001b[0m\u001b[1;33m.\u001b[0m\u001b[0m_info_axis\u001b[0m\u001b[1;33m.\u001b[0m\u001b[0m_can_hold_identifiers_and_holds_name\u001b[0m\u001b[1;33m(\u001b[0m\u001b[0mname\u001b[0m\u001b[1;33m)\u001b[0m\u001b[1;33m:\u001b[0m\u001b[1;33m\u001b[0m\u001b[1;33m\u001b[0m\u001b[0m\n\u001b[0;32m   5464\u001b[0m                 \u001b[1;32mreturn\u001b[0m \u001b[0mself\u001b[0m\u001b[1;33m[\u001b[0m\u001b[0mname\u001b[0m\u001b[1;33m]\u001b[0m\u001b[1;33m\u001b[0m\u001b[1;33m\u001b[0m\u001b[0m\n\u001b[1;32m-> 5465\u001b[1;33m             \u001b[1;32mreturn\u001b[0m \u001b[0mobject\u001b[0m\u001b[1;33m.\u001b[0m\u001b[0m__getattribute__\u001b[0m\u001b[1;33m(\u001b[0m\u001b[0mself\u001b[0m\u001b[1;33m,\u001b[0m \u001b[0mname\u001b[0m\u001b[1;33m)\u001b[0m\u001b[1;33m\u001b[0m\u001b[1;33m\u001b[0m\u001b[0m\n\u001b[0m\u001b[0;32m   5466\u001b[0m \u001b[1;33m\u001b[0m\u001b[0m\n\u001b[0;32m   5467\u001b[0m     \u001b[1;32mdef\u001b[0m \u001b[0m__setattr__\u001b[0m\u001b[1;33m(\u001b[0m\u001b[0mself\u001b[0m\u001b[1;33m,\u001b[0m \u001b[0mname\u001b[0m\u001b[1;33m:\u001b[0m \u001b[0mstr\u001b[0m\u001b[1;33m,\u001b[0m \u001b[0mvalue\u001b[0m\u001b[1;33m)\u001b[0m \u001b[1;33m->\u001b[0m \u001b[1;32mNone\u001b[0m\u001b[1;33m:\u001b[0m\u001b[1;33m\u001b[0m\u001b[1;33m\u001b[0m\u001b[0m\n",
      "\u001b[1;31mAttributeError\u001b[0m: 'Series' object has no attribute 'DataFrame'"
     ]
    }
   ],
   "source": [
    "average_fb_Stuff = df_sorted.groupby('pitcher_name')['stuff_plus'].mean()\n",
    "average_fb_Stuff = average_fb_Stuff.round(2)\n",
    "\n",
    "# Sort the Series in descending order based on the average Stuff+ values\n",
    "average_fb_Stuff_sorted = average_fb_Stuff.sort_values(ascending=False)\n",
    "\n",
    "average_fb_Stuff_sorted = average_fb_Stuff_sorted.DataFrame()\n",
    "average_fb_Stuff_sorted.head()"
   ]
  },
  {
   "cell_type": "markdown",
   "metadata": {},
   "source": [
    "# **Importing Season Stats for Analysis**"
   ]
  },
  {
   "cell_type": "code",
   "execution_count": null,
   "metadata": {},
   "outputs": [
    {
     "data": {
      "text/html": [
       "<div>\n",
       "<style scoped>\n",
       "    .dataframe tbody tr th:only-of-type {\n",
       "        vertical-align: middle;\n",
       "    }\n",
       "\n",
       "    .dataframe tbody tr th {\n",
       "        vertical-align: top;\n",
       "    }\n",
       "\n",
       "    .dataframe thead th {\n",
       "        text-align: right;\n",
       "    }\n",
       "</style>\n",
       "<table border=\"1\" class=\"dataframe\">\n",
       "  <thead>\n",
       "    <tr style=\"text-align: right;\">\n",
       "      <th></th>\n",
       "      <th>name</th>\n",
       "      <th>player_id</th>\n",
       "      <th>year</th>\n",
       "      <th>pa</th>\n",
       "      <th>bip</th>\n",
       "      <th>ba</th>\n",
       "      <th>est_ba</th>\n",
       "      <th>est_ba_minus_ba_diff</th>\n",
       "      <th>slg</th>\n",
       "      <th>est_slg</th>\n",
       "      <th>est_slg_minus_slg_diff</th>\n",
       "      <th>woba</th>\n",
       "      <th>est_woba</th>\n",
       "      <th>est_woba_minus_woba_diff</th>\n",
       "      <th>era</th>\n",
       "      <th>xera</th>\n",
       "      <th>era_minus_xera_diff</th>\n",
       "    </tr>\n",
       "  </thead>\n",
       "  <tbody>\n",
       "    <tr>\n",
       "      <th>0</th>\n",
       "      <td>Mikolas, Miles</td>\n",
       "      <td>571945</td>\n",
       "      <td>2023</td>\n",
       "      <td>860</td>\n",
       "      <td>674</td>\n",
       "      <td>0.282</td>\n",
       "      <td>0.291</td>\n",
       "      <td>-0.009</td>\n",
       "      <td>0.454</td>\n",
       "      <td>0.498</td>\n",
       "      <td>-0.044</td>\n",
       "      <td>0.330</td>\n",
       "      <td>0.354</td>\n",
       "      <td>-0.024</td>\n",
       "      <td>4.78</td>\n",
       "      <td>5.44</td>\n",
       "      <td>-0.657</td>\n",
       "    </tr>\n",
       "    <tr>\n",
       "      <th>1</th>\n",
       "      <td>Webb, Logan</td>\n",
       "      <td>657277</td>\n",
       "      <td>2023</td>\n",
       "      <td>850</td>\n",
       "      <td>619</td>\n",
       "      <td>0.248</td>\n",
       "      <td>0.255</td>\n",
       "      <td>-0.007</td>\n",
       "      <td>0.374</td>\n",
       "      <td>0.395</td>\n",
       "      <td>-0.021</td>\n",
       "      <td>0.283</td>\n",
       "      <td>0.295</td>\n",
       "      <td>-0.012</td>\n",
       "      <td>3.25</td>\n",
       "      <td>3.63</td>\n",
       "      <td>-0.380</td>\n",
       "    </tr>\n",
       "    <tr>\n",
       "      <th>2</th>\n",
       "      <td>Gallen, Zac</td>\n",
       "      <td>668678</td>\n",
       "      <td>2023</td>\n",
       "      <td>846</td>\n",
       "      <td>574</td>\n",
       "      <td>0.238</td>\n",
       "      <td>0.254</td>\n",
       "      <td>-0.016</td>\n",
       "      <td>0.382</td>\n",
       "      <td>0.427</td>\n",
       "      <td>-0.045</td>\n",
       "      <td>0.289</td>\n",
       "      <td>0.314</td>\n",
       "      <td>-0.025</td>\n",
       "      <td>3.47</td>\n",
       "      <td>4.16</td>\n",
       "      <td>-0.689</td>\n",
       "    </tr>\n",
       "    <tr>\n",
       "      <th>3</th>\n",
       "      <td>Bassitt, Chris</td>\n",
       "      <td>605135</td>\n",
       "      <td>2023</td>\n",
       "      <td>826</td>\n",
       "      <td>569</td>\n",
       "      <td>0.235</td>\n",
       "      <td>0.241</td>\n",
       "      <td>-0.006</td>\n",
       "      <td>0.403</td>\n",
       "      <td>0.405</td>\n",
       "      <td>-0.002</td>\n",
       "      <td>0.304</td>\n",
       "      <td>0.310</td>\n",
       "      <td>-0.006</td>\n",
       "      <td>3.60</td>\n",
       "      <td>4.04</td>\n",
       "      <td>-0.440</td>\n",
       "    </tr>\n",
       "    <tr>\n",
       "      <th>4</th>\n",
       "      <td>Keller, Mitch</td>\n",
       "      <td>656605</td>\n",
       "      <td>2023</td>\n",
       "      <td>825</td>\n",
       "      <td>548</td>\n",
       "      <td>0.249</td>\n",
       "      <td>0.251</td>\n",
       "      <td>-0.002</td>\n",
       "      <td>0.404</td>\n",
       "      <td>0.404</td>\n",
       "      <td>0.000</td>\n",
       "      <td>0.310</td>\n",
       "      <td>0.315</td>\n",
       "      <td>-0.005</td>\n",
       "      <td>4.21</td>\n",
       "      <td>4.18</td>\n",
       "      <td>0.034</td>\n",
       "    </tr>\n",
       "  </tbody>\n",
       "</table>\n",
       "</div>"
      ],
      "text/plain": [
       "             name  player_id  year   pa  bip     ba  est_ba  \\\n",
       "0  Mikolas, Miles     571945  2023  860  674  0.282   0.291   \n",
       "1     Webb, Logan     657277  2023  850  619  0.248   0.255   \n",
       "2     Gallen, Zac     668678  2023  846  574  0.238   0.254   \n",
       "3  Bassitt, Chris     605135  2023  826  569  0.235   0.241   \n",
       "4   Keller, Mitch     656605  2023  825  548  0.249   0.251   \n",
       "\n",
       "   est_ba_minus_ba_diff    slg  est_slg  est_slg_minus_slg_diff   woba  \\\n",
       "0                -0.009  0.454    0.498                  -0.044  0.330   \n",
       "1                -0.007  0.374    0.395                  -0.021  0.283   \n",
       "2                -0.016  0.382    0.427                  -0.045  0.289   \n",
       "3                -0.006  0.403    0.405                  -0.002  0.304   \n",
       "4                -0.002  0.404    0.404                   0.000  0.310   \n",
       "\n",
       "   est_woba  est_woba_minus_woba_diff   era  xera  era_minus_xera_diff  \n",
       "0     0.354                    -0.024  4.78  5.44               -0.657  \n",
       "1     0.295                    -0.012  3.25  3.63               -0.380  \n",
       "2     0.314                    -0.025  3.47  4.16               -0.689  \n",
       "3     0.310                    -0.006  3.60  4.04               -0.440  \n",
       "4     0.315                    -0.005  4.21  4.18                0.034  "
      ]
     },
     "execution_count": 111,
     "metadata": {},
     "output_type": "execute_result"
    }
   ],
   "source": [
    "# Get pitching stats for 2023 from csv file\n",
    "pitching_2023 = pd.read_csv('pitching_stats_2023.csv')\n",
    "\n",
    "pitching_2023.head()"
   ]
  },
  {
   "cell_type": "code",
   "execution_count": null,
   "metadata": {},
   "outputs": [
    {
     "data": {
      "text/plain": [
       "0       Miles Mikolas\n",
       "1          Logan Webb\n",
       "2          Zac Gallen\n",
       "3       Chris Bassitt\n",
       "4        Mitch Keller\n",
       "            ...      \n",
       "367      Tom Cosgrove\n",
       "368    Ron Marinaccio\n",
       "369        Trevor May\n",
       "370    John Schreiber\n",
       "371        José Ureña\n",
       "Name: name, Length: 372, dtype: object"
      ]
     },
     "execution_count": 112,
     "metadata": {},
     "output_type": "execute_result"
    }
   ],
   "source": [
    "# Remove the comma from the last name\n",
    "pitching_2023['name'] = pitching_2023['name'].replace(',', '', regex=True)\n",
    "\n",
    "# Edit the pitcher names so the first name is first and the last name is last\n",
    "pitching_2023['name'] = pitching_2023['name'].str.split(' ', expand=True)[1] + ' ' + pitching_2023['name'].str.split(' ', expand=True)[0]\n",
    "\n",
    "pitching_2023['name']"
   ]
  },
  {
   "cell_type": "code",
   "execution_count": null,
   "metadata": {},
   "outputs": [
    {
     "ename": "ValueError",
     "evalue": "The truth value of a DataFrame is ambiguous. Use a.empty, a.bool(), a.item(), a.any() or a.all().",
     "output_type": "error",
     "traceback": [
      "\u001b[1;31m---------------------------------------------------------------------------\u001b[0m",
      "\u001b[1;31mValueError\u001b[0m                                Traceback (most recent call last)",
      "\u001b[1;32m<ipython-input-116-b6a8cff3b3f2>\u001b[0m in \u001b[0;36m<module>\u001b[1;34m\u001b[0m\n\u001b[1;32m----> 1\u001b[1;33m \u001b[0mnew_df\u001b[0m \u001b[1;33m=\u001b[0m \u001b[0maverage_fb_Stuff_sorted\u001b[0m\u001b[1;33m.\u001b[0m\u001b[0mmerge\u001b[0m\u001b[1;33m(\u001b[0m\u001b[0mpitching_2023\u001b[0m\u001b[1;33m,\u001b[0m \u001b[0mleft_on\u001b[0m\u001b[1;33m=\u001b[0m\u001b[0maverage_fb_Stuff_sorted\u001b[0m\u001b[1;33m,\u001b[0m \u001b[0mright_on\u001b[0m\u001b[1;33m=\u001b[0m\u001b[1;34m'name'\u001b[0m\u001b[1;33m)\u001b[0m\u001b[1;33m\u001b[0m\u001b[1;33m\u001b[0m\u001b[0m\n\u001b[0m\u001b[0;32m      2\u001b[0m \u001b[1;33m\u001b[0m\u001b[0m\n\u001b[0;32m      3\u001b[0m \u001b[0mnew_df\u001b[0m\u001b[1;33m.\u001b[0m\u001b[0mhead\u001b[0m\u001b[1;33m(\u001b[0m\u001b[1;33m)\u001b[0m\u001b[1;33m\u001b[0m\u001b[1;33m\u001b[0m\u001b[0m\n",
      "\u001b[1;32mc:\\Users\\genoc\\Anaconda3\\lib\\site-packages\\pandas\\core\\frame.py\u001b[0m in \u001b[0;36mmerge\u001b[1;34m(self, right, how, on, left_on, right_on, left_index, right_index, sort, suffixes, copy, indicator, validate)\u001b[0m\n\u001b[0;32m   8193\u001b[0m         \u001b[1;32mfrom\u001b[0m \u001b[0mpandas\u001b[0m\u001b[1;33m.\u001b[0m\u001b[0mcore\u001b[0m\u001b[1;33m.\u001b[0m\u001b[0mreshape\u001b[0m\u001b[1;33m.\u001b[0m\u001b[0mmerge\u001b[0m \u001b[1;32mimport\u001b[0m \u001b[0mmerge\u001b[0m\u001b[1;33m\u001b[0m\u001b[1;33m\u001b[0m\u001b[0m\n\u001b[0;32m   8194\u001b[0m \u001b[1;33m\u001b[0m\u001b[0m\n\u001b[1;32m-> 8195\u001b[1;33m         return merge(\n\u001b[0m\u001b[0;32m   8196\u001b[0m             \u001b[0mself\u001b[0m\u001b[1;33m,\u001b[0m\u001b[1;33m\u001b[0m\u001b[1;33m\u001b[0m\u001b[0m\n\u001b[0;32m   8197\u001b[0m             \u001b[0mright\u001b[0m\u001b[1;33m,\u001b[0m\u001b[1;33m\u001b[0m\u001b[1;33m\u001b[0m\u001b[0m\n",
      "\u001b[1;32mc:\\Users\\genoc\\Anaconda3\\lib\\site-packages\\pandas\\core\\reshape\\merge.py\u001b[0m in \u001b[0;36mmerge\u001b[1;34m(left, right, how, on, left_on, right_on, left_index, right_index, sort, suffixes, copy, indicator, validate)\u001b[0m\n\u001b[0;32m     72\u001b[0m     \u001b[0mvalidate\u001b[0m\u001b[1;33m=\u001b[0m\u001b[1;32mNone\u001b[0m\u001b[1;33m,\u001b[0m\u001b[1;33m\u001b[0m\u001b[1;33m\u001b[0m\u001b[0m\n\u001b[0;32m     73\u001b[0m ) -> \"DataFrame\":\n\u001b[1;32m---> 74\u001b[1;33m     op = _MergeOperation(\n\u001b[0m\u001b[0;32m     75\u001b[0m         \u001b[0mleft\u001b[0m\u001b[1;33m,\u001b[0m\u001b[1;33m\u001b[0m\u001b[1;33m\u001b[0m\u001b[0m\n\u001b[0;32m     76\u001b[0m         \u001b[0mright\u001b[0m\u001b[1;33m,\u001b[0m\u001b[1;33m\u001b[0m\u001b[1;33m\u001b[0m\u001b[0m\n",
      "\u001b[1;32mc:\\Users\\genoc\\Anaconda3\\lib\\site-packages\\pandas\\core\\reshape\\merge.py\u001b[0m in \u001b[0;36m__init__\u001b[1;34m(self, left, right, how, on, left_on, right_on, axis, left_index, right_index, sort, suffixes, copy, indicator, validate)\u001b[0m\n\u001b[0;32m    666\u001b[0m             \u001b[0mself\u001b[0m\u001b[1;33m.\u001b[0m\u001b[0mright_join_keys\u001b[0m\u001b[1;33m,\u001b[0m\u001b[1;33m\u001b[0m\u001b[1;33m\u001b[0m\u001b[0m\n\u001b[0;32m    667\u001b[0m             \u001b[0mself\u001b[0m\u001b[1;33m.\u001b[0m\u001b[0mjoin_names\u001b[0m\u001b[1;33m,\u001b[0m\u001b[1;33m\u001b[0m\u001b[1;33m\u001b[0m\u001b[0m\n\u001b[1;32m--> 668\u001b[1;33m         ) = self._get_merge_keys()\n\u001b[0m\u001b[0;32m    669\u001b[0m \u001b[1;33m\u001b[0m\u001b[0m\n\u001b[0;32m    670\u001b[0m         \u001b[1;31m# validate the merge keys dtypes. We may need to coerce\u001b[0m\u001b[1;33m\u001b[0m\u001b[1;33m\u001b[0m\u001b[1;33m\u001b[0m\u001b[0m\n",
      "\u001b[1;32mc:\\Users\\genoc\\Anaconda3\\lib\\site-packages\\pandas\\core\\reshape\\merge.py\u001b[0m in \u001b[0;36m_get_merge_keys\u001b[1;34m(self)\u001b[0m\n\u001b[0;32m   1035\u001b[0m                             \u001b[1;31m# work-around for merge_asof(right_index=True)\u001b[0m\u001b[1;33m\u001b[0m\u001b[1;33m\u001b[0m\u001b[1;33m\u001b[0m\u001b[0m\n\u001b[0;32m   1036\u001b[0m                             \u001b[0mright_keys\u001b[0m\u001b[1;33m.\u001b[0m\u001b[0mappend\u001b[0m\u001b[1;33m(\u001b[0m\u001b[0mright\u001b[0m\u001b[1;33m.\u001b[0m\u001b[0mindex\u001b[0m\u001b[1;33m)\u001b[0m\u001b[1;33m\u001b[0m\u001b[1;33m\u001b[0m\u001b[0m\n\u001b[1;32m-> 1037\u001b[1;33m                         \u001b[1;32mif\u001b[0m \u001b[0mlk\u001b[0m \u001b[1;32mis\u001b[0m \u001b[1;32mnot\u001b[0m \u001b[1;32mNone\u001b[0m \u001b[1;32mand\u001b[0m \u001b[0mlk\u001b[0m \u001b[1;33m==\u001b[0m \u001b[0mrk\u001b[0m\u001b[1;33m:\u001b[0m\u001b[1;33m\u001b[0m\u001b[1;33m\u001b[0m\u001b[0m\n\u001b[0m\u001b[0;32m   1038\u001b[0m                             \u001b[1;31m# avoid key upcast in corner case (length-0)\u001b[0m\u001b[1;33m\u001b[0m\u001b[1;33m\u001b[0m\u001b[1;33m\u001b[0m\u001b[0m\n\u001b[0;32m   1039\u001b[0m                             \u001b[1;32mif\u001b[0m \u001b[0mlen\u001b[0m\u001b[1;33m(\u001b[0m\u001b[0mleft\u001b[0m\u001b[1;33m)\u001b[0m \u001b[1;33m>\u001b[0m \u001b[1;36m0\u001b[0m\u001b[1;33m:\u001b[0m\u001b[1;33m\u001b[0m\u001b[1;33m\u001b[0m\u001b[0m\n",
      "\u001b[1;32mc:\\Users\\genoc\\Anaconda3\\lib\\site-packages\\pandas\\core\\generic.py\u001b[0m in \u001b[0;36m__nonzero__\u001b[1;34m(self)\u001b[0m\n\u001b[0;32m   1440\u001b[0m     \u001b[1;33m@\u001b[0m\u001b[0mfinal\u001b[0m\u001b[1;33m\u001b[0m\u001b[1;33m\u001b[0m\u001b[0m\n\u001b[0;32m   1441\u001b[0m     \u001b[1;32mdef\u001b[0m \u001b[0m__nonzero__\u001b[0m\u001b[1;33m(\u001b[0m\u001b[0mself\u001b[0m\u001b[1;33m)\u001b[0m\u001b[1;33m:\u001b[0m\u001b[1;33m\u001b[0m\u001b[1;33m\u001b[0m\u001b[0m\n\u001b[1;32m-> 1442\u001b[1;33m         raise ValueError(\n\u001b[0m\u001b[0;32m   1443\u001b[0m             \u001b[1;34mf\"The truth value of a {type(self).__name__} is ambiguous. \"\u001b[0m\u001b[1;33m\u001b[0m\u001b[1;33m\u001b[0m\u001b[0m\n\u001b[0;32m   1444\u001b[0m             \u001b[1;34m\"Use a.empty, a.bool(), a.item(), a.any() or a.all().\"\u001b[0m\u001b[1;33m\u001b[0m\u001b[1;33m\u001b[0m\u001b[0m\n",
      "\u001b[1;31mValueError\u001b[0m: The truth value of a DataFrame is ambiguous. Use a.empty, a.bool(), a.item(), a.any() or a.all()."
     ]
    }
   ],
   "source": [
    "new_df = average_fb_Stuff_sorted.merge(pitching_2023, left_on='pitcher_name', right_on='name')\n",
    "\n",
    "new_df.head()"
   ]
  },
  {
   "cell_type": "code",
   "execution_count": null,
   "metadata": {},
   "outputs": [
    {
     "ename": "NameError",
     "evalue": "name 'plt' is not defined",
     "output_type": "error",
     "traceback": [
      "\u001b[1;31m---------------------------------------------------------------------------\u001b[0m",
      "\u001b[1;31mNameError\u001b[0m                                 Traceback (most recent call last)",
      "\u001b[1;32m<ipython-input-1-b5ee1e6c4395>\u001b[0m in \u001b[0;36m<module>\u001b[1;34m\u001b[0m\n\u001b[0;32m      1\u001b[0m \u001b[1;31m# Scatterplot of Batting Average Against (on all pitches) vs. Fastball Stuff+\u001b[0m\u001b[1;33m\u001b[0m\u001b[1;33m\u001b[0m\u001b[1;33m\u001b[0m\u001b[0m\n\u001b[1;32m----> 2\u001b[1;33m \u001b[0mplt\u001b[0m\u001b[1;33m.\u001b[0m\u001b[0mscatter\u001b[0m\u001b[1;33m(\u001b[0m\u001b[0mx\u001b[0m\u001b[1;33m=\u001b[0m\u001b[0mdf_sorted\u001b[0m\u001b[1;33m[\u001b[0m\u001b[1;34m'stuff_plus'\u001b[0m\u001b[1;33m]\u001b[0m\u001b[1;33m,\u001b[0m \u001b[0my\u001b[0m\u001b[1;33m=\u001b[0m\u001b[0mpitching_2023\u001b[0m\u001b[1;33m[\u001b[0m\u001b[1;34m'ba'\u001b[0m\u001b[1;33m]\u001b[0m\u001b[1;33m)\u001b[0m\u001b[1;33m\u001b[0m\u001b[1;33m\u001b[0m\u001b[0m\n\u001b[0m\u001b[0;32m      3\u001b[0m \u001b[1;33m\u001b[0m\u001b[0m\n\u001b[0;32m      4\u001b[0m \u001b[0mplt\u001b[0m\u001b[1;33m.\u001b[0m\u001b[0mxlabel\u001b[0m\u001b[1;33m(\u001b[0m\u001b[1;34m'Stuff+'\u001b[0m\u001b[1;33m)\u001b[0m\u001b[1;33m\u001b[0m\u001b[1;33m\u001b[0m\u001b[0m\n\u001b[0;32m      5\u001b[0m \u001b[0mplt\u001b[0m\u001b[1;33m.\u001b[0m\u001b[0mylabel\u001b[0m\u001b[1;33m(\u001b[0m\u001b[1;34m'Batting Average Against (on all pitches)'\u001b[0m\u001b[1;33m)\u001b[0m\u001b[1;33m\u001b[0m\u001b[1;33m\u001b[0m\u001b[0m\n",
      "\u001b[1;31mNameError\u001b[0m: name 'plt' is not defined"
     ]
    }
   ],
   "source": [
    "# Scatterplot of Batting Average Against (on all pitches) vs. Fastball Stuff+\n",
    "plt.scatter(x=df_sorted['stuff_plus'], y=pitching_2023['ba'])\n",
    "\n",
    "plt.xlabel('Stuff+')\n",
    "plt.ylabel('Batting Average Against (on all pitches)')\n",
    "plt.title('Stuff+ vs Batting Average Against')\n",
    "\n",
    "plt.show()\n",
    "\n",
    "# Save the figure as an image\n",
    "#plt.savefig('stuff_vs_spinrate.png', bbox_inches='tight', facecolor='white')"
   ]
  },
  {
   "cell_type": "code",
   "execution_count": null,
   "metadata": {},
   "outputs": [],
   "source": [
    "# Scatterplot of Batting Average Against (just fastballs) vs. Fastball Stuff+"
   ]
  },
  {
   "cell_type": "markdown",
   "metadata": {},
   "source": [
    "# **Visualizations**"
   ]
  },
  {
   "cell_type": "code",
   "execution_count": null,
   "metadata": {},
   "outputs": [
    {
     "data": {
      "image/png": "[encoded data removed]",
      "text/plain": [
       "<Figure size 432x288 with 1 Axes>"
      ]
     },
     "metadata": {
      "needs_background": "light"
     },
     "output_type": "display_data"
    },
    {
     "data": {
      "text/plain": [
       "<Figure size 432x288 with 0 Axes>"
      ]
     },
     "metadata": {},
     "output_type": "display_data"
    }
   ],
   "source": [
    "# Distribution of Stuff+\n",
    "\n",
    "df_sorted['stuff_plus'].plot(kind='hist', bins=100, color='blue', range=(0, 200))\n",
    "\n",
    "plt.xlabel('Stuff+')\n",
    "plt.ylabel('Frequency')\n",
    "plt.title('Distribution of Stuff+ Values')\n",
    "\n",
    "plt.show()\n",
    "\n",
    "# Save the figure as an image\n",
    "plt.savefig('stuff_plus_distribution.png', bbox_inches='tight', facecolor='white')"
   ]
  },
  {
   "cell_type": "code",
   "execution_count": null,
   "metadata": {},
   "outputs": [
    {
     "data": {
      "image/png": "[encoded data removed]",
      "text/plain": [
       "<Figure size 432x288 with 1 Axes>"
      ]
     },
     "metadata": {
      "needs_background": "light"
     },
     "output_type": "display_data"
    },
    {
     "data": {
      "text/plain": [
       "<Figure size 432x288 with 0 Axes>"
      ]
     },
     "metadata": {},
     "output_type": "display_data"
    }
   ],
   "source": [
    "df_sorted.boxplot(column='stuff_plus')\n",
    "\n",
    "plt.ylabel('Stuff+')\n",
    "plt.title('Boxplot of Stuff+ Values')\n",
    "\n",
    "plt.show()\n",
    "\n",
    "# Save the figure as an image\n",
    "plt.savefig('boxplot.png', bbox_inches='tight', facecolor='white')"
   ]
  },
  {
   "cell_type": "code",
   "execution_count": null,
   "metadata": {},
   "outputs": [
    {
     "data": {
      "image/png": "[encoded data removed]",
      "text/plain": [
       "<Figure size 432x288 with 1 Axes>"
      ]
     },
     "metadata": {
      "needs_background": "light"
     },
     "output_type": "display_data"
    },
    {
     "data": {
      "text/plain": [
       "<Figure size 432x288 with 0 Axes>"
      ]
     },
     "metadata": {},
     "output_type": "display_data"
    }
   ],
   "source": [
    "# Does the average Stuff+ decrease as the season progresses\n",
    "march_april = df_sorted[(df_sorted['date'] >= '2023-03-30') & (df_sorted['date'] <= '2023-04-30')]\n",
    "may = df_sorted[(df_sorted['date'] >= '2023-05-01') & (df_sorted['date'] <= '2023-05-31')]\n",
    "june = df_sorted[(df_sorted['date'] >= '2023-06-01') & (df_sorted['date'] <= '2023-06-30')]\n",
    "july = df_sorted[(df_sorted['date'] >= '2023-07-01') & (df_sorted['date'] <= '2023-07-31')]\n",
    "august = df_sorted[(df_sorted['date'] >= '2023-08-01') & (df_sorted['date'] <= '2023-08-31')]\n",
    "september_october = df_sorted[(df_sorted['date'] >= '2023-09-01') & (df_sorted['date'] <= '2023-09-30')]\n",
    "\n",
    "# Plot the mean Stuff+ values for each month\n",
    "plt.plot(['March-April', 'May', 'June', 'July', 'August', 'Sept-Oct'], [march_april['stuff_plus'].mean(), may['stuff_plus'].mean(), june['stuff_plus'].mean(), july['stuff_plus'].mean(), august['stuff_plus'].mean(), september_october['stuff_plus'].mean()], marker='o')\n",
    "plt.xlabel('Month')\n",
    "plt.ylabel('Average Stuff+')\n",
    "plt.title('Average Stuff+ by Month')\n",
    "plt.show()\n",
    "\n",
    "# Save the figure as an image\n",
    "plt.savefig('avg_stuff+_per_month.png', bbox_inches='tight', facecolor='white')"
   ]
  },
  {
   "cell_type": "code",
   "execution_count": null,
   "metadata": {},
   "outputs": [
    {
     "data": {
      "image/png": "[encoded data removed]",
      "text/plain": [
       "<Figure size 720x432 with 2 Axes>"
      ]
     },
     "metadata": {
      "needs_background": "light"
     },
     "output_type": "display_data"
    }
   ],
   "source": [
    "plt.figure(figsize=(10, 6))\n",
    "\n",
    "corr = df_sorted[['stuff_plus', 'spin_rate', 'velocity', 'induced_vertical_break']].corr()\n",
    "sns.heatmap(corr, annot=True)\n",
    "\n",
    "# Save the figure as an image\n",
    "plt.savefig('correlation_heatmap.png', bbox_inches='tight', facecolor='white')"
   ]
  },
  {
   "cell_type": "markdown",
   "metadata": {},
   "source": [
    "Variable Relationships with Stuff+"
   ]
  },
  {
   "cell_type": "code",
   "execution_count": null,
   "metadata": {},
   "outputs": [
    {
     "data": {
      "text/plain": [
       "<Figure size 1080x432 with 0 Axes>"
      ]
     },
     "metadata": {},
     "output_type": "display_data"
    },
    {
     "data": {
      "image/png": "[encoded data removed]",
      "text/plain": [
       "<Figure size 432x288 with 1 Axes>"
      ]
     },
     "metadata": {
      "needs_background": "light"
     },
     "output_type": "display_data"
    },
    {
     "data": {
      "text/plain": [
       "<Figure size 432x288 with 0 Axes>"
      ]
     },
     "metadata": {},
     "output_type": "display_data"
    }
   ],
   "source": [
    "plt.figure(figsize=(15, 6))\n",
    "\n",
    "# Convert the 'stuff_plus' and 'spin_rate' columns to floats\n",
    "df_sorted['stuff_plus'] = df_sorted['stuff_plus'].astype(float)\n",
    "df_sorted['spin_rate'] = df_sorted['spin_rate'].astype(float)\n",
    "\n",
    "# Drop any rows with NaN values in these columns\n",
    "df_sorted = df_sorted.dropna(subset=['stuff_plus', 'spin_rate'])\n",
    "\n",
    "# Now you can plot your data and fit a polynomial\n",
    "df_sorted.plot(kind='scatter', x='stuff_plus', y='spin_rate')\n",
    "\n",
    "# Add trendline\n",
    "z = np.polyfit(df_sorted['stuff_plus'], df_sorted['spin_rate'], 1)\n",
    "p = np.poly1d(z)\n",
    "plt.plot(df_sorted['stuff_plus'], p(df_sorted['stuff_plus']), color='red')\n",
    "\n",
    "plt.xlabel('Stuff+')\n",
    "plt.ylabel('Spin Rate')\n",
    "plt.title('Stuff+ vs Spin Rate')\n",
    "\n",
    "plt.show()\n",
    "\n",
    "# Save the figure as an image\n",
    "plt.savefig('stuff_vs_spinrate.png', bbox_inches='tight', facecolor='white')"
   ]
  },
  {
   "cell_type": "code",
   "execution_count": null,
   "metadata": {},
   "outputs": [
    {
     "data": {
      "text/plain": [
       "<Figure size 1080x432 with 0 Axes>"
      ]
     },
     "metadata": {},
     "output_type": "display_data"
    },
    {
     "data": {
      "image/png": "[encoded data removed]",
      "text/plain": [
       "<Figure size 432x288 with 1 Axes>"
      ]
     },
     "metadata": {
      "needs_background": "light"
     },
     "output_type": "display_data"
    },
    {
     "data": {
      "text/plain": [
       "<Figure size 432x288 with 0 Axes>"
      ]
     },
     "metadata": {},
     "output_type": "display_data"
    }
   ],
   "source": [
    "plt.figure(figsize=(15, 6))\n",
    "\n",
    "# Convert the 'stuff_plus' and 'spin_rate' columns to floats\n",
    "df_sorted['stuff_plus'] = df_sorted['stuff_plus'].astype(float)\n",
    "df_sorted['velocity'] = df_sorted['velocity'].astype(float)\n",
    "\n",
    "# Drop any rows with NaN values in these columns\n",
    "df_sorted = df_sorted.dropna(subset=['stuff_plus', 'velocity'])\n",
    "\n",
    "# Now you can plot your data and fit a polynomial\n",
    "df_sorted.plot(kind='scatter', x='stuff_plus', y='velocity')\n",
    "\n",
    "# Add trendline\n",
    "z = np.polyfit(df_sorted['stuff_plus'], df_sorted['velocity'], 1)\n",
    "p = np.poly1d(z)\n",
    "plt.plot(df_sorted['stuff_plus'], p(df_sorted['stuff_plus']), color='red')\n",
    "\n",
    "plt.xlabel('Stuff+')\n",
    "plt.ylabel('Velocity')\n",
    "plt.title('Stuff+ vs Velocity')\n",
    "\n",
    "plt.show()\n",
    "\n",
    "# Save the figure as an image\n",
    "plt.savefig('stuff_vs_velocity.png', bbox_inches='tight', facecolor='white')"
   ]
  },
  {
   "cell_type": "code",
   "execution_count": null,
   "metadata": {},
   "outputs": [
    {
     "data": {
      "text/plain": [
       "<Figure size 1080x432 with 0 Axes>"
      ]
     },
     "metadata": {},
     "output_type": "display_data"
    },
    {
     "data": {
      "image/png": "[encoded data removed]",
      "text/plain": [
       "<Figure size 432x288 with 1 Axes>"
      ]
     },
     "metadata": {
      "needs_background": "light"
     },
     "output_type": "display_data"
    },
    {
     "data": {
      "text/plain": [
       "<Figure size 432x288 with 0 Axes>"
      ]
     },
     "metadata": {},
     "output_type": "display_data"
    }
   ],
   "source": [
    "plt.figure(figsize=(15, 6))\n",
    "\n",
    "# Convert the 'stuff_plus' and 'spin_rate' columns to floats\n",
    "df_sorted['stuff_plus'] = df_sorted['stuff_plus'].astype(float)\n",
    "df_sorted['induced_vertical_break'] = df_sorted['induced_vertical_break'].astype(float)\n",
    "\n",
    "# Drop any rows with NaN values in these columns\n",
    "df_sorted = df_sorted.dropna(subset=['stuff_plus', 'induced_vertical_break'])\n",
    "\n",
    "# Now you can plot your data and fit a polynomial\n",
    "df_sorted.plot(kind='scatter', x='stuff_plus', y='induced_vertical_break')\n",
    "\n",
    "# Add trendline\n",
    "z = np.polyfit(df_sorted['stuff_plus'], df_sorted['induced_vertical_break'], 1)\n",
    "p = np.poly1d(z)\n",
    "plt.plot(df_sorted['stuff_plus'], p(df_sorted['stuff_plus']), color='red')\n",
    "\n",
    "plt.xlabel('Stuff+')\n",
    "plt.ylabel('Induced Vertical Break')\n",
    "plt.title('Stuff+ vs Induced Vertical Break')\n",
    "\n",
    "plt.show()\n",
    "\n",
    "# Save the figure as an image\n",
    "plt.savefig('stuff_vs_IVB.png', bbox_inches='tight', facecolor='white')"
   ]
  },
  {
   "cell_type": "code",
   "execution_count": null,
   "metadata": {},
   "outputs": [
    {
     "data": {
      "text/plain": [
       "<Figure size 1080x432 with 0 Axes>"
      ]
     },
     "metadata": {},
     "output_type": "display_data"
    },
    {
     "data": {
      "image/png": "[encoded data removed]",
      "text/plain": [
       "<Figure size 432x288 with 1 Axes>"
      ]
     },
     "metadata": {
      "needs_background": "light"
     },
     "output_type": "display_data"
    },
    {
     "data": {
      "text/plain": [
       "<Figure size 432x288 with 0 Axes>"
      ]
     },
     "metadata": {},
     "output_type": "display_data"
    }
   ],
   "source": [
    "plt.figure(figsize=(15, 6))\n",
    "\n",
    "# Convert the 'stuff_plus' and 'spin_rate' columns to floats\n",
    "df_sorted['stuff_plus'] = df_sorted['stuff_plus'].astype(float)\n",
    "df_sorted['horizontal_break'] = df_sorted['horizontal_break'].astype(float)\n",
    "\n",
    "# Drop any rows with NaN values in these columns\n",
    "df_sorted = df_sorted.dropna(subset=['stuff_plus', 'horizontal_break'])\n",
    "\n",
    "# Now you can plot your data and fit a polynomial\n",
    "df_sorted.plot(kind='scatter', x='stuff_plus', y='horizontal_break')\n",
    "\n",
    "# Add trendline\n",
    "z = np.polyfit(df_sorted['stuff_plus'], df_sorted['horizontal_break'], 1)\n",
    "p = np.poly1d(z)\n",
    "plt.plot(df_sorted['stuff_plus'], p(df_sorted['stuff_plus']), color='red')\n",
    "\n",
    "plt.xlabel('Stuff+')\n",
    "plt.ylabel('Horizontal Break')\n",
    "plt.title('Stuff+ vs Horizontal Break')\n",
    "\n",
    "plt.show()\n",
    "\n",
    "# Save the figure as an image\n",
    "plt.savefig('stuff_vs_HB.png', bbox_inches='tight', facecolor='white')"
   ]
  },
  {
   "cell_type": "markdown",
   "metadata": {},
   "source": [
    "# Which hitters faced the best fastball Stuff+ from RHP?"
   ]
  },
  {
   "cell_type": "code",
   "execution_count": null,
   "metadata": {},
   "outputs": [],
   "source": [
    "# Count the number of pitches each batter has seen\n",
    "pitch_count = df_sorted.groupby('batter_name')['stuff_plus'].count()\n",
    "\n",
    "# Add the pitch count to the DataFrame\n",
    "average_fb_Stuff = df_sorted.groupby('batter_name')['stuff_plus'].mean().reset_index()\n",
    "average_fb_Stuff['pitch_count'] = pitch_count.values\n",
    "average_fb_Stuff = average_fb_Stuff.round(2)\n",
    "\n",
    "# Filter the DataFrame\n",
    "average_fb_Stuff_filtered = average_fb_Stuff[average_fb_Stuff['pitch_count'] >= 50]\n",
    "\n",
    "# Sort the DataFrame in descending order based on the average Stuff+ values\n",
    "average_fb_Stuff_sorted = average_fb_Stuff_filtered.sort_values(by='stuff_plus', ascending=False)\n",
    "\n",
    "top_10 = average_fb_Stuff_sorted.iloc[:10]\n",
    "bottom_10 = average_fb_Stuff_sorted.iloc[-10:]"
   ]
  },
  {
   "cell_type": "code",
   "execution_count": null,
   "metadata": {},
   "outputs": [
    {
     "name": "stdout",
     "output_type": "stream",
     "text": [
      "          batter_name  stuff_plus  pitch_count\n",
      "140   Heston Kjerstad      116.54           58\n",
      "356    Tyler Heineman      116.09           98\n",
      "264     Mickey Moniak      113.84          438\n",
      "116       Evan Carter      113.81          275\n",
      "182     Jordan Lawlar      113.05           55\n",
      "192         Josh Lowe      112.82          980\n",
      "80       Corey Seager      112.73          678\n",
      "293   Osleivis Basabe      112.52          123\n",
      "21   Andrew Stevenson      112.27           53\n",
      "48     Brett Phillips      111.39          161\n",
      "-----------------------------------------\n",
      "          batter_name  stuff_plus  pitch_count\n",
      "282     Nick Gonzales       90.21          160\n",
      "104  Elehuris Montero       90.18          322\n",
      "87     Dansby Swanson       89.87          972\n",
      "213      Kevin Pillar       89.73          178\n",
      "229      Logan Porter       89.65           55\n",
      "139       Henry Davis       89.35          354\n",
      "266    Miguel Andujar       89.05          100\n",
      "248        Masyn Winn       88.54          230\n",
      "199       José Fermín       87.85          101\n",
      "148      Iván Herrera       84.62          102\n"
     ]
    }
   ],
   "source": [
    "# It would be interesting to find their batting average against fastballs vs. their stuff+ faced. \n",
    "# Likely negative correlation btwn BA and Stuff+ (stuff on x-axis)\n",
    "print(top_10)\n",
    "print(\"-----------------------------------------\")\n",
    "print(bottom_10)"
   ]
  },
  {
   "cell_type": "code",
   "execution_count": null,
   "metadata": {},
   "outputs": [
    {
     "data": {
      "image/png": "[encoded data removed]",
      "text/plain": [
       "<Figure size 432x288 with 1 Axes>"
      ]
     },
     "metadata": {
      "needs_background": "light"
     },
     "output_type": "display_data"
    },
    {
     "data": {
      "text/plain": [
       "<Figure size 432x288 with 0 Axes>"
      ]
     },
     "metadata": {},
     "output_type": "display_data"
    }
   ],
   "source": [
    "# Create a bar plot of the average Stuff+ for each batter\n",
    "plt.barh(top_10['batter_name'], top_10['stuff_plus'], color='blue')\n",
    "plt.barh(bottom_10['batter_name'], bottom_10['stuff_plus'], color='red')\n",
    "\n",
    "plt.xlabel('Stuff+')\n",
    "plt.ylabel('Batter')\n",
    "plt.title('Average Stuff+ for Each Batter')\n",
    "\n",
    "plt.show()\n",
    "\n",
    "# Save the figure as an image\n",
    "plt.savefig('avg_stuff+_per_batter.png', bbox_inches='tight', facecolor='white')"
   ]
  },
  {
   "cell_type": "markdown",
   "metadata": {},
   "source": [
    "# **Hyperparameter Tuning**"
   ]
  },
  {
   "cell_type": "code",
   "execution_count": null,
   "metadata": {},
   "outputs": [
    {
     "ename": "KeyboardInterrupt",
     "evalue": "",
     "output_type": "error",
     "traceback": [
      "\u001b[1;31m---------------------------------------------------------------------------\u001b[0m",
      "\u001b[1;31mKeyboardInterrupt\u001b[0m                         Traceback (most recent call last)",
      "\u001b[1;32m<ipython-input-291-37910b61d12d>\u001b[0m in \u001b[0;36m<module>\u001b[1;34m\u001b[0m\n\u001b[0;32m     18\u001b[0m \u001b[1;33m\u001b[0m\u001b[0m\n\u001b[0;32m     19\u001b[0m \u001b[1;31m# Fit the random search object to the data\u001b[0m\u001b[1;33m\u001b[0m\u001b[1;33m\u001b[0m\u001b[1;33m\u001b[0m\u001b[0m\n\u001b[1;32m---> 20\u001b[1;33m \u001b[0mrandom_search\u001b[0m\u001b[1;33m.\u001b[0m\u001b[0mfit\u001b[0m\u001b[1;33m(\u001b[0m\u001b[0mX\u001b[0m\u001b[1;33m,\u001b[0m \u001b[0my\u001b[0m\u001b[1;33m)\u001b[0m\u001b[1;33m\u001b[0m\u001b[1;33m\u001b[0m\u001b[0m\n\u001b[0m\u001b[0;32m     21\u001b[0m \u001b[1;33m\u001b[0m\u001b[0m\n\u001b[0;32m     22\u001b[0m \u001b[1;31m# Print the best parameters\u001b[0m\u001b[1;33m\u001b[0m\u001b[1;33m\u001b[0m\u001b[1;33m\u001b[0m\u001b[0m\n",
      "\u001b[1;32mc:\\Users\\genoc\\Anaconda3\\lib\\site-packages\\sklearn\\utils\\validation.py\u001b[0m in \u001b[0;36minner_f\u001b[1;34m(*args, **kwargs)\u001b[0m\n\u001b[0;32m     61\u001b[0m         \u001b[1;33m@\u001b[0m\u001b[0mwraps\u001b[0m\u001b[1;33m(\u001b[0m\u001b[0mf\u001b[0m\u001b[1;33m)\u001b[0m\u001b[1;33m\u001b[0m\u001b[1;33m\u001b[0m\u001b[0m\n\u001b[0;32m     62\u001b[0m         \u001b[1;32mdef\u001b[0m \u001b[0minner_f\u001b[0m\u001b[1;33m(\u001b[0m\u001b[1;33m*\u001b[0m\u001b[0margs\u001b[0m\u001b[1;33m,\u001b[0m \u001b[1;33m**\u001b[0m\u001b[0mkwargs\u001b[0m\u001b[1;33m)\u001b[0m\u001b[1;33m:\u001b[0m\u001b[1;33m\u001b[0m\u001b[1;33m\u001b[0m\u001b[0m\n\u001b[1;32m---> 63\u001b[1;33m             \u001b[0mextra_args\u001b[0m \u001b[1;33m=\u001b[0m \u001b[0mlen\u001b[0m\u001b[1;33m(\u001b[0m\u001b[0margs\u001b[0m\u001b[1;33m)\u001b[0m \u001b[1;33m-\u001b[0m \u001b[0mlen\u001b[0m\u001b[1;33m(\u001b[0m\u001b[0mall_args\u001b[0m\u001b[1;33m)\u001b[0m\u001b[1;33m\u001b[0m\u001b[1;33m\u001b[0m\u001b[0m\n\u001b[0m\u001b[0;32m     64\u001b[0m             \u001b[1;32mif\u001b[0m \u001b[0mextra_args\u001b[0m \u001b[1;33m<=\u001b[0m \u001b[1;36m0\u001b[0m\u001b[1;33m:\u001b[0m\u001b[1;33m\u001b[0m\u001b[1;33m\u001b[0m\u001b[0m\n\u001b[0;32m     65\u001b[0m                 \u001b[1;32mreturn\u001b[0m \u001b[0mf\u001b[0m\u001b[1;33m(\u001b[0m\u001b[1;33m*\u001b[0m\u001b[0margs\u001b[0m\u001b[1;33m,\u001b[0m \u001b[1;33m**\u001b[0m\u001b[0mkwargs\u001b[0m\u001b[1;33m)\u001b[0m\u001b[1;33m\u001b[0m\u001b[1;33m\u001b[0m\u001b[0m\n",
      "\u001b[1;32mc:\\Users\\genoc\\Anaconda3\\lib\\site-packages\\sklearn\\model_selection\\_search.py\u001b[0m in \u001b[0;36mfit\u001b[1;34m(self, X, y, groups, **fit_params)\u001b[0m\n\u001b[0;32m    839\u001b[0m                         \u001b[1;34m\"Fitting {0} folds for each of {1} candidates,\"\u001b[0m\u001b[1;33m\u001b[0m\u001b[1;33m\u001b[0m\u001b[0m\n\u001b[0;32m    840\u001b[0m                         \" totalling {2} fits\".format(\n\u001b[1;32m--> 841\u001b[1;33m                             \u001b[0mn_splits\u001b[0m\u001b[1;33m,\u001b[0m \u001b[0mn_candidates\u001b[0m\u001b[1;33m,\u001b[0m \u001b[0mn_candidates\u001b[0m \u001b[1;33m*\u001b[0m \u001b[0mn_splits\u001b[0m\u001b[1;33m\u001b[0m\u001b[1;33m\u001b[0m\u001b[0m\n\u001b[0m\u001b[0;32m    842\u001b[0m                         )\n\u001b[0;32m    843\u001b[0m                     )\n",
      "\u001b[1;32mc:\\Users\\genoc\\Anaconda3\\lib\\site-packages\\sklearn\\model_selection\\_search.py\u001b[0m in \u001b[0;36m_run_search\u001b[1;34m(self, evaluate_candidates)\u001b[0m\n\u001b[0;32m   1617\u001b[0m         \u001b[1;33m+\u001b[0m\u001b[1;33m-\u001b[0m\u001b[1;33m-\u001b[0m\u001b[1;33m-\u001b[0m\u001b[1;33m-\u001b[0m\u001b[1;33m-\u001b[0m\u001b[1;33m-\u001b[0m\u001b[1;33m-\u001b[0m\u001b[1;33m-\u001b[0m\u001b[1;33m-\u001b[0m\u001b[1;33m-\u001b[0m\u001b[1;33m-\u001b[0m\u001b[1;33m-\u001b[0m\u001b[1;33m-\u001b[0m\u001b[1;33m-\u001b[0m\u001b[1;33m+\u001b[0m\u001b[1;33m-\u001b[0m\u001b[1;33m-\u001b[0m\u001b[1;33m-\u001b[0m\u001b[1;33m-\u001b[0m\u001b[1;33m-\u001b[0m\u001b[1;33m-\u001b[0m\u001b[1;33m-\u001b[0m\u001b[1;33m-\u001b[0m\u001b[1;33m-\u001b[0m\u001b[1;33m-\u001b[0m\u001b[1;33m-\u001b[0m\u001b[1;33m-\u001b[0m\u001b[1;33m-\u001b[0m\u001b[1;33m+\u001b[0m\u001b[1;33m-\u001b[0m\u001b[1;33m-\u001b[0m\u001b[1;33m-\u001b[0m\u001b[1;33m-\u001b[0m\u001b[1;33m-\u001b[0m\u001b[1;33m-\u001b[0m\u001b[1;33m-\u001b[0m\u001b[1;33m-\u001b[0m\u001b[1;33m-\u001b[0m\u001b[1;33m-\u001b[0m\u001b[1;33m-\u001b[0m\u001b[1;33m-\u001b[0m\u001b[1;33m-\u001b[0m\u001b[1;33m-\u001b[0m\u001b[1;33m-\u001b[0m\u001b[1;33m-\u001b[0m\u001b[1;33m-\u001b[0m\u001b[1;33m-\u001b[0m\u001b[1;33m-\u001b[0m\u001b[1;33m+\u001b[0m\u001b[1;33m-\u001b[0m\u001b[1;33m-\u001b[0m\u001b[1;33m-\u001b[0m\u001b[1;33m+\u001b[0m\u001b[1;33m-\u001b[0m\u001b[1;33m-\u001b[0m\u001b[1;33m-\u001b[0m\u001b[1;33m-\u001b[0m\u001b[1;33m-\u001b[0m\u001b[1;33m-\u001b[0m\u001b[1;33m-\u001b[0m\u001b[1;33m-\u001b[0m\u001b[1;33m-\u001b[0m\u001b[1;33m-\u001b[0m\u001b[1;33m-\u001b[0m\u001b[1;33m-\u001b[0m\u001b[1;33m-\u001b[0m\u001b[1;33m-\u001b[0m\u001b[1;33m-\u001b[0m\u001b[1;33m+\u001b[0m\u001b[1;33m\u001b[0m\u001b[1;33m\u001b[0m\u001b[0m\n\u001b[0;32m   1618\u001b[0m         \u001b[1;33m|\u001b[0m    \u001b[1;34m'rbf'\u001b[0m     \u001b[1;33m|\u001b[0m     \u001b[1;36m0.3\u001b[0m     \u001b[1;33m|\u001b[0m       \u001b[1;36m0.70\u001b[0m        \u001b[1;33m|\u001b[0m\u001b[1;33m...\u001b[0m\u001b[1;33m|\u001b[0m       \u001b[1;36m2\u001b[0m       \u001b[1;33m|\u001b[0m\u001b[1;33m\u001b[0m\u001b[1;33m\u001b[0m\u001b[0m\n\u001b[1;32m-> 1619\u001b[1;33m         \u001b[1;33m+\u001b[0m\u001b[1;33m-\u001b[0m\u001b[1;33m-\u001b[0m\u001b[1;33m-\u001b[0m\u001b[1;33m-\u001b[0m\u001b[1;33m-\u001b[0m\u001b[1;33m-\u001b[0m\u001b[1;33m-\u001b[0m\u001b[1;33m-\u001b[0m\u001b[1;33m-\u001b[0m\u001b[1;33m-\u001b[0m\u001b[1;33m-\u001b[0m\u001b[1;33m-\u001b[0m\u001b[1;33m-\u001b[0m\u001b[1;33m-\u001b[0m\u001b[1;33m+\u001b[0m\u001b[1;33m-\u001b[0m\u001b[1;33m-\u001b[0m\u001b[1;33m-\u001b[0m\u001b[1;33m-\u001b[0m\u001b[1;33m-\u001b[0m\u001b[1;33m-\u001b[0m\u001b[1;33m-\u001b[0m\u001b[1;33m-\u001b[0m\u001b[1;33m-\u001b[0m\u001b[1;33m-\u001b[0m\u001b[1;33m-\u001b[0m\u001b[1;33m-\u001b[0m\u001b[1;33m-\u001b[0m\u001b[1;33m+\u001b[0m\u001b[1;33m-\u001b[0m\u001b[1;33m-\u001b[0m\u001b[1;33m-\u001b[0m\u001b[1;33m-\u001b[0m\u001b[1;33m-\u001b[0m\u001b[1;33m-\u001b[0m\u001b[1;33m-\u001b[0m\u001b[1;33m-\u001b[0m\u001b[1;33m-\u001b[0m\u001b[1;33m-\u001b[0m\u001b[1;33m-\u001b[0m\u001b[1;33m-\u001b[0m\u001b[1;33m-\u001b[0m\u001b[1;33m-\u001b[0m\u001b[1;33m-\u001b[0m\u001b[1;33m-\u001b[0m\u001b[1;33m-\u001b[0m\u001b[1;33m-\u001b[0m\u001b[1;33m-\u001b[0m\u001b[1;33m+\u001b[0m\u001b[1;33m-\u001b[0m\u001b[1;33m-\u001b[0m\u001b[1;33m-\u001b[0m\u001b[1;33m+\u001b[0m\u001b[1;33m-\u001b[0m\u001b[1;33m-\u001b[0m\u001b[1;33m-\u001b[0m\u001b[1;33m-\u001b[0m\u001b[1;33m-\u001b[0m\u001b[1;33m-\u001b[0m\u001b[1;33m-\u001b[0m\u001b[1;33m-\u001b[0m\u001b[1;33m-\u001b[0m\u001b[1;33m-\u001b[0m\u001b[1;33m-\u001b[0m\u001b[1;33m-\u001b[0m\u001b[1;33m-\u001b[0m\u001b[1;33m-\u001b[0m\u001b[1;33m-\u001b[0m\u001b[1;33m+\u001b[0m\u001b[1;33m\u001b[0m\u001b[1;33m\u001b[0m\u001b[0m\n\u001b[0m\u001b[0;32m   1620\u001b[0m \u001b[1;33m\u001b[0m\u001b[0m\n\u001b[0;32m   1621\u001b[0m         \u001b[0mwill\u001b[0m \u001b[0mbe\u001b[0m \u001b[0mrepresented\u001b[0m \u001b[0mby\u001b[0m \u001b[0ma\u001b[0m\u001b[0;31m \u001b[0m\u001b[0;31m`\u001b[0m\u001b[0;31m`\u001b[0m\u001b[0mcv_results_\u001b[0m\u001b[0;31m`\u001b[0m\u001b[0;31m`\u001b[0m \u001b[0mdict\u001b[0m \u001b[0mof\u001b[0m\u001b[1;33m:\u001b[0m\u001b[1;33m:\u001b[0m\u001b[1;33m\u001b[0m\u001b[1;33m\u001b[0m\u001b[0m\n",
      "\u001b[1;32mc:\\Users\\genoc\\Anaconda3\\lib\\site-packages\\sklearn\\model_selection\\_search.py\u001b[0m in \u001b[0;36mevaluate_candidates\u001b[1;34m(candidate_params, cv, more_results)\u001b[0m\n\u001b[0;32m    793\u001b[0m         \"\"\"\n\u001b[0;32m    794\u001b[0m         \u001b[0mestimator\u001b[0m \u001b[1;33m=\u001b[0m \u001b[0mself\u001b[0m\u001b[1;33m.\u001b[0m\u001b[0mestimator\u001b[0m\u001b[1;33m\u001b[0m\u001b[1;33m\u001b[0m\u001b[0m\n\u001b[1;32m--> 795\u001b[1;33m         \u001b[0mrefit_metric\u001b[0m \u001b[1;33m=\u001b[0m \u001b[1;34m\"score\"\u001b[0m\u001b[1;33m\u001b[0m\u001b[1;33m\u001b[0m\u001b[0m\n\u001b[0m\u001b[0;32m    796\u001b[0m \u001b[1;33m\u001b[0m\u001b[0m\n\u001b[0;32m    797\u001b[0m         \u001b[1;32mif\u001b[0m \u001b[0mcallable\u001b[0m\u001b[1;33m(\u001b[0m\u001b[0mself\u001b[0m\u001b[1;33m.\u001b[0m\u001b[0mscoring\u001b[0m\u001b[1;33m)\u001b[0m\u001b[1;33m:\u001b[0m\u001b[1;33m\u001b[0m\u001b[1;33m\u001b[0m\u001b[0m\n",
      "\u001b[1;32mc:\\Users\\genoc\\Anaconda3\\lib\\site-packages\\joblib\\parallel.py\u001b[0m in \u001b[0;36m__call__\u001b[1;34m(self, iterable)\u001b[0m\n\u001b[0;32m   1042\u001b[0m             \u001b[0mthe\u001b[0m \u001b[0mtime\u001b[0m \u001b[0mon\u001b[0m \u001b[0mthe\u001b[0m \u001b[0morder\u001b[0m \u001b[0mof\u001b[0m \u001b[0mhalf\u001b[0m \u001b[0ma\u001b[0m \u001b[0msecond\u001b[0m\u001b[1;33m,\u001b[0m \u001b[0musing\u001b[0m \u001b[0ma\u001b[0m \u001b[0mheuristic\u001b[0m\u001b[1;33m.\u001b[0m \u001b[0mThe\u001b[0m\u001b[1;33m\u001b[0m\u001b[1;33m\u001b[0m\u001b[0m\n\u001b[0;32m   1043\u001b[0m             \u001b[0minitial\u001b[0m \u001b[0mbatch\u001b[0m \u001b[0msize\u001b[0m \u001b[1;32mis\u001b[0m \u001b[1;36m1.\u001b[0m\u001b[1;33m\u001b[0m\u001b[1;33m\u001b[0m\u001b[0m\n\u001b[1;32m-> 1044\u001b[1;33m             \u001b[0;31m`\u001b[0m\u001b[0;31m`\u001b[0m\u001b[0mbatch_size\u001b[0m\u001b[1;33m=\u001b[0m\u001b[1;34m\"auto\"\u001b[0m\u001b[0;31m`\u001b[0m\u001b[0;31m`\u001b[0m \u001b[1;32mwith\u001b[0m\u001b[0;31m \u001b[0m\u001b[0;31m`\u001b[0m\u001b[0;31m`\u001b[0m\u001b[0mbackend\u001b[0m\u001b[1;33m=\u001b[0m\u001b[1;34m\"threading\"\u001b[0m\u001b[0;31m`\u001b[0m\u001b[0;31m`\u001b[0m \u001b[0mwill\u001b[0m \u001b[0mdispatch\u001b[0m\u001b[1;33m\u001b[0m\u001b[1;33m\u001b[0m\u001b[0m\n\u001b[0m\u001b[0;32m   1045\u001b[0m             \u001b[0mbatches\u001b[0m \u001b[0mof\u001b[0m \u001b[0ma\u001b[0m \u001b[0msingle\u001b[0m \u001b[0mtask\u001b[0m \u001b[0mat\u001b[0m \u001b[0ma\u001b[0m \u001b[0mtime\u001b[0m \u001b[1;32mas\u001b[0m \u001b[0mthe\u001b[0m \u001b[0mthreading\u001b[0m \u001b[0mbackend\u001b[0m \u001b[0mhas\u001b[0m\u001b[1;33m\u001b[0m\u001b[1;33m\u001b[0m\u001b[0m\n\u001b[0;32m   1046\u001b[0m             \u001b[0mvery\u001b[0m \u001b[0mlittle\u001b[0m \u001b[0moverhead\u001b[0m \u001b[1;32mand\u001b[0m \u001b[0musing\u001b[0m \u001b[0mlarger\u001b[0m \u001b[0mbatch\u001b[0m \u001b[0msize\u001b[0m \u001b[0mhas\u001b[0m \u001b[1;32mnot\u001b[0m \u001b[0mproved\u001b[0m \u001b[0mto\u001b[0m\u001b[1;33m\u001b[0m\u001b[1;33m\u001b[0m\u001b[0m\n",
      "\u001b[1;32mc:\\Users\\genoc\\Anaconda3\\lib\\site-packages\\joblib\\parallel.py\u001b[0m in \u001b[0;36mdispatch_one_batch\u001b[1;34m(self, iterator)\u001b[0m\n\u001b[0;32m    857\u001b[0m             \u001b[0me\u001b[0m\u001b[1;33m.\u001b[0m\u001b[0m__traceback__\u001b[0m \u001b[1;33m=\u001b[0m \u001b[1;32mNone\u001b[0m\u001b[1;33m\u001b[0m\u001b[1;33m\u001b[0m\u001b[0m\n\u001b[0;32m    858\u001b[0m             \u001b[0moutcome\u001b[0m \u001b[1;33m=\u001b[0m \u001b[0mdict\u001b[0m\u001b[1;33m(\u001b[0m\u001b[0mresult\u001b[0m\u001b[1;33m=\u001b[0m\u001b[0me\u001b[0m\u001b[1;33m,\u001b[0m \u001b[0mstatus\u001b[0m\u001b[1;33m=\u001b[0m\u001b[0mTASK_ERROR\u001b[0m\u001b[1;33m)\u001b[0m\u001b[1;33m\u001b[0m\u001b[1;33m\u001b[0m\u001b[0m\n\u001b[1;32m--> 859\u001b[1;33m \u001b[1;33m\u001b[0m\u001b[0m\n\u001b[0m\u001b[0;32m    860\u001b[0m         \u001b[0mself\u001b[0m\u001b[1;33m.\u001b[0m\u001b[0m_register_outcome\u001b[0m\u001b[1;33m(\u001b[0m\u001b[0moutcome\u001b[0m\u001b[1;33m)\u001b[0m\u001b[1;33m\u001b[0m\u001b[1;33m\u001b[0m\u001b[0m\n\u001b[0;32m    861\u001b[0m         \u001b[1;32mreturn\u001b[0m \u001b[0moutcome\u001b[0m\u001b[1;33m[\u001b[0m\u001b[1;34m'status'\u001b[0m\u001b[1;33m]\u001b[0m \u001b[1;33m!=\u001b[0m \u001b[0mTASK_ERROR\u001b[0m\u001b[1;33m\u001b[0m\u001b[1;33m\u001b[0m\u001b[0m\n",
      "\u001b[1;32mc:\\Users\\genoc\\Anaconda3\\lib\\site-packages\\joblib\\parallel.py\u001b[0m in \u001b[0;36m_dispatch\u001b[1;34m(self, batch)\u001b[0m\n\u001b[0;32m    775\u001b[0m             \u001b[1;32mreturn\u001b[0m \u001b[0mself\u001b[0m\u001b[1;33m.\u001b[0m\u001b[0mstatus\u001b[0m\u001b[1;33m\u001b[0m\u001b[1;33m\u001b[0m\u001b[0m\n\u001b[0;32m    776\u001b[0m \u001b[1;33m\u001b[0m\u001b[0m\n\u001b[1;32m--> 777\u001b[1;33m         \u001b[1;31m# The computation are running and the status is pending.\u001b[0m\u001b[1;33m\u001b[0m\u001b[1;33m\u001b[0m\u001b[1;33m\u001b[0m\u001b[0m\n\u001b[0m\u001b[0;32m    778\u001b[0m         \u001b[1;31m# Check that we did not wait for this jobs more than `timeout`.\u001b[0m\u001b[1;33m\u001b[0m\u001b[1;33m\u001b[0m\u001b[1;33m\u001b[0m\u001b[0m\n\u001b[0;32m    779\u001b[0m         \u001b[0mnow\u001b[0m \u001b[1;33m=\u001b[0m \u001b[0mtime\u001b[0m\u001b[1;33m.\u001b[0m\u001b[0mtime\u001b[0m\u001b[1;33m(\u001b[0m\u001b[1;33m)\u001b[0m\u001b[1;33m\u001b[0m\u001b[1;33m\u001b[0m\u001b[0m\n",
      "\u001b[1;32mc:\\Users\\genoc\\Anaconda3\\lib\\site-packages\\joblib\\_parallel_backends.py\u001b[0m in \u001b[0;36mapply_async\u001b[1;34m(self, func, callback)\u001b[0m\n\u001b[0;32m    206\u001b[0m \u001b[1;33m\u001b[0m\u001b[0m\n\u001b[0;32m    207\u001b[0m \u001b[1;33m\u001b[0m\u001b[0m\n\u001b[1;32m--> 208\u001b[1;33m \u001b[1;32mclass\u001b[0m \u001b[0mSequentialBackend\u001b[0m\u001b[1;33m(\u001b[0m\u001b[0mParallelBackendBase\u001b[0m\u001b[1;33m)\u001b[0m\u001b[1;33m:\u001b[0m\u001b[1;33m\u001b[0m\u001b[1;33m\u001b[0m\u001b[0m\n\u001b[0m\u001b[0;32m    209\u001b[0m     \"\"\"A ParallelBackend which will execute all batches sequentially.\n\u001b[0;32m    210\u001b[0m \u001b[1;33m\u001b[0m\u001b[0m\n",
      "\u001b[1;32mc:\\Users\\genoc\\Anaconda3\\lib\\site-packages\\joblib\\_parallel_backends.py\u001b[0m in \u001b[0;36m__init__\u001b[1;34m(self, batch)\u001b[0m\n\u001b[0;32m    570\u001b[0m                     )\n\u001b[0;32m    571\u001b[0m                 \u001b[0mwarnings\u001b[0m\u001b[1;33m.\u001b[0m\u001b[0mwarn\u001b[0m\u001b[1;33m(\u001b[0m\u001b[0mmsg\u001b[0m\u001b[1;33m,\u001b[0m \u001b[0mstacklevel\u001b[0m\u001b[1;33m=\u001b[0m\u001b[1;36m3\u001b[0m\u001b[1;33m)\u001b[0m\u001b[1;33m\u001b[0m\u001b[1;33m\u001b[0m\u001b[0m\n\u001b[1;32m--> 572\u001b[1;33m \u001b[1;33m\u001b[0m\u001b[0m\n\u001b[0m\u001b[0;32m    573\u001b[0m             \u001b[1;32mreturn\u001b[0m \u001b[1;36m1\u001b[0m\u001b[1;33m\u001b[0m\u001b[1;33m\u001b[0m\u001b[0m\n\u001b[0;32m    574\u001b[0m         \u001b[1;32melif\u001b[0m \u001b[1;32mnot\u001b[0m \u001b[1;33m(\u001b[0m\u001b[0mself\u001b[0m\u001b[1;33m.\u001b[0m\u001b[0min_main_thread\u001b[0m\u001b[1;33m(\u001b[0m\u001b[1;33m)\u001b[0m \u001b[1;32mor\u001b[0m \u001b[0mself\u001b[0m\u001b[1;33m.\u001b[0m\u001b[0mnesting_level\u001b[0m \u001b[1;33m==\u001b[0m \u001b[1;36m0\u001b[0m\u001b[1;33m)\u001b[0m\u001b[1;33m:\u001b[0m\u001b[1;33m\u001b[0m\u001b[1;33m\u001b[0m\u001b[0m\n",
      "\u001b[1;32mc:\\Users\\genoc\\Anaconda3\\lib\\site-packages\\joblib\\parallel.py\u001b[0m in \u001b[0;36m__call__\u001b[1;34m(self)\u001b[0m\n\u001b[0;32m    260\u001b[0m         \u001b[0mthread\u001b[0m\u001b[1;33m-\u001b[0m\u001b[0mpool\u001b[0m \u001b[0mwhen\u001b[0m\u001b[0;31m \u001b[0m\u001b[0;31m`\u001b[0m\u001b[0;31m`\u001b[0m\u001b[0mbackend\u001b[0m\u001b[1;33m=\u001b[0m\u001b[1;34m\"threading\"\u001b[0m\u001b[0;31m`\u001b[0m\u001b[0;31m`\u001b[0m\u001b[1;33m.\u001b[0m\u001b[1;33m\u001b[0m\u001b[1;33m\u001b[0m\u001b[0m\n\u001b[0;32m    261\u001b[0m         \u001b[0mThis\u001b[0m \u001b[0margument\u001b[0m \u001b[1;32mis\u001b[0m \u001b[0mconverted\u001b[0m \u001b[0mto\u001b[0m \u001b[0man\u001b[0m \u001b[0minteger\u001b[0m\u001b[1;33m,\u001b[0m \u001b[0mrounded\u001b[0m \u001b[0mbelow\u001b[0m \u001b[1;32mfor\u001b[0m \u001b[0mfloat\u001b[0m\u001b[1;33m.\u001b[0m\u001b[1;33m\u001b[0m\u001b[1;33m\u001b[0m\u001b[0m\n\u001b[1;32m--> 262\u001b[1;33m         \u001b[0mIf\u001b[0m \u001b[1;33m-\u001b[0m\u001b[1;36m1\u001b[0m \u001b[1;32mis\u001b[0m \u001b[0mgiven\u001b[0m\u001b[1;33m,\u001b[0m\u001b[0;31m \u001b[0m\u001b[0;31m`\u001b[0m\u001b[0mjoblib\u001b[0m\u001b[0;31m`\u001b[0m \u001b[0mtries\u001b[0m \u001b[0mto\u001b[0m \u001b[0muse\u001b[0m \u001b[0mall\u001b[0m \u001b[0mCPUs\u001b[0m\u001b[1;33m.\u001b[0m \u001b[0mThe\u001b[0m \u001b[0mnumber\u001b[0m \u001b[0mof\u001b[0m \u001b[0mCPUs\u001b[0m\u001b[1;33m\u001b[0m\u001b[1;33m\u001b[0m\u001b[0m\n\u001b[0m\u001b[0;32m    263\u001b[0m         \u001b[0;31m`\u001b[0m\u001b[0;31m`\u001b[0m\u001b[0mn_cpus\u001b[0m\u001b[0;31m`\u001b[0m\u001b[0;31m`\u001b[0m \u001b[1;32mis\u001b[0m \u001b[0mobtained\u001b[0m \u001b[1;32mwith\u001b[0m \u001b[1;33m:\u001b[0m\u001b[0mfunc\u001b[0m\u001b[1;33m:\u001b[0m\u001b[0;31m`\u001b[0m\u001b[1;33m~\u001b[0m\u001b[0mcpu_count\u001b[0m\u001b[0;31m`\u001b[0m\u001b[1;33m.\u001b[0m\u001b[1;33m\u001b[0m\u001b[1;33m\u001b[0m\u001b[0m\n\u001b[0;32m    264\u001b[0m         \u001b[0mFor\u001b[0m \u001b[0mn_jobs\u001b[0m \u001b[0mbelow\u001b[0m \u001b[1;33m-\u001b[0m\u001b[1;36m1\u001b[0m\u001b[1;33m,\u001b[0m \u001b[1;33m(\u001b[0m\u001b[0mn_cpus\u001b[0m \u001b[1;33m+\u001b[0m \u001b[1;36m1\u001b[0m \u001b[1;33m+\u001b[0m \u001b[0mn_jobs\u001b[0m\u001b[1;33m)\u001b[0m \u001b[0mare\u001b[0m \u001b[0mused\u001b[0m\u001b[1;33m.\u001b[0m \u001b[0mFor\u001b[0m \u001b[0minstance\u001b[0m\u001b[1;33m,\u001b[0m\u001b[1;33m\u001b[0m\u001b[1;33m\u001b[0m\u001b[0m\n",
      "\u001b[1;32mc:\\Users\\genoc\\Anaconda3\\lib\\site-packages\\joblib\\parallel.py\u001b[0m in \u001b[0;36m<listcomp>\u001b[1;34m(.0)\u001b[0m\n\u001b[0;32m    260\u001b[0m         \u001b[0mthread\u001b[0m\u001b[1;33m-\u001b[0m\u001b[0mpool\u001b[0m \u001b[0mwhen\u001b[0m\u001b[0;31m \u001b[0m\u001b[0;31m`\u001b[0m\u001b[0;31m`\u001b[0m\u001b[0mbackend\u001b[0m\u001b[1;33m=\u001b[0m\u001b[1;34m\"threading\"\u001b[0m\u001b[0;31m`\u001b[0m\u001b[0;31m`\u001b[0m\u001b[1;33m.\u001b[0m\u001b[1;33m\u001b[0m\u001b[1;33m\u001b[0m\u001b[0m\n\u001b[0;32m    261\u001b[0m         \u001b[0mThis\u001b[0m \u001b[0margument\u001b[0m \u001b[1;32mis\u001b[0m \u001b[0mconverted\u001b[0m \u001b[0mto\u001b[0m \u001b[0man\u001b[0m \u001b[0minteger\u001b[0m\u001b[1;33m,\u001b[0m \u001b[0mrounded\u001b[0m \u001b[0mbelow\u001b[0m \u001b[1;32mfor\u001b[0m \u001b[0mfloat\u001b[0m\u001b[1;33m.\u001b[0m\u001b[1;33m\u001b[0m\u001b[1;33m\u001b[0m\u001b[0m\n\u001b[1;32m--> 262\u001b[1;33m         \u001b[0mIf\u001b[0m \u001b[1;33m-\u001b[0m\u001b[1;36m1\u001b[0m \u001b[1;32mis\u001b[0m \u001b[0mgiven\u001b[0m\u001b[1;33m,\u001b[0m\u001b[0;31m \u001b[0m\u001b[0;31m`\u001b[0m\u001b[0mjoblib\u001b[0m\u001b[0;31m`\u001b[0m \u001b[0mtries\u001b[0m \u001b[0mto\u001b[0m \u001b[0muse\u001b[0m \u001b[0mall\u001b[0m \u001b[0mCPUs\u001b[0m\u001b[1;33m.\u001b[0m \u001b[0mThe\u001b[0m \u001b[0mnumber\u001b[0m \u001b[0mof\u001b[0m \u001b[0mCPUs\u001b[0m\u001b[1;33m\u001b[0m\u001b[1;33m\u001b[0m\u001b[0m\n\u001b[0m\u001b[0;32m    263\u001b[0m         \u001b[0;31m`\u001b[0m\u001b[0;31m`\u001b[0m\u001b[0mn_cpus\u001b[0m\u001b[0;31m`\u001b[0m\u001b[0;31m`\u001b[0m \u001b[1;32mis\u001b[0m \u001b[0mobtained\u001b[0m \u001b[1;32mwith\u001b[0m \u001b[1;33m:\u001b[0m\u001b[0mfunc\u001b[0m\u001b[1;33m:\u001b[0m\u001b[0;31m`\u001b[0m\u001b[1;33m~\u001b[0m\u001b[0mcpu_count\u001b[0m\u001b[0;31m`\u001b[0m\u001b[1;33m.\u001b[0m\u001b[1;33m\u001b[0m\u001b[1;33m\u001b[0m\u001b[0m\n\u001b[0;32m    264\u001b[0m         \u001b[0mFor\u001b[0m \u001b[0mn_jobs\u001b[0m \u001b[0mbelow\u001b[0m \u001b[1;33m-\u001b[0m\u001b[1;36m1\u001b[0m\u001b[1;33m,\u001b[0m \u001b[1;33m(\u001b[0m\u001b[0mn_cpus\u001b[0m \u001b[1;33m+\u001b[0m \u001b[1;36m1\u001b[0m \u001b[1;33m+\u001b[0m \u001b[0mn_jobs\u001b[0m\u001b[1;33m)\u001b[0m \u001b[0mare\u001b[0m \u001b[0mused\u001b[0m\u001b[1;33m.\u001b[0m \u001b[0mFor\u001b[0m \u001b[0minstance\u001b[0m\u001b[1;33m,\u001b[0m\u001b[1;33m\u001b[0m\u001b[1;33m\u001b[0m\u001b[0m\n",
      "\u001b[1;32mc:\\Users\\genoc\\Anaconda3\\lib\\site-packages\\sklearn\\utils\\fixes.py\u001b[0m in \u001b[0;36m__call__\u001b[1;34m(self, *args, **kwargs)\u001b[0m\n",
      "\u001b[1;32mc:\\Users\\genoc\\Anaconda3\\lib\\site-packages\\sklearn\\model_selection\\_validation.py\u001b[0m in \u001b[0;36m_fit_and_score\u001b[1;34m(estimator, X, y, scorer, train, test, verbose, parameters, fit_params, return_train_score, return_parameters, return_n_test_samples, return_times, return_estimator, split_progress, candidate_progress, error_score)\u001b[0m\n\u001b[0;32m    591\u001b[0m     \u001b[0mreturn_times\u001b[0m\u001b[1;33m=\u001b[0m\u001b[1;32mFalse\u001b[0m\u001b[1;33m,\u001b[0m\u001b[1;33m\u001b[0m\u001b[1;33m\u001b[0m\u001b[0m\n\u001b[0;32m    592\u001b[0m     \u001b[0mreturn_estimator\u001b[0m\u001b[1;33m=\u001b[0m\u001b[1;32mFalse\u001b[0m\u001b[1;33m,\u001b[0m\u001b[1;33m\u001b[0m\u001b[1;33m\u001b[0m\u001b[0m\n\u001b[1;32m--> 593\u001b[1;33m     \u001b[0msplit_progress\u001b[0m\u001b[1;33m=\u001b[0m\u001b[1;32mNone\u001b[0m\u001b[1;33m,\u001b[0m\u001b[1;33m\u001b[0m\u001b[1;33m\u001b[0m\u001b[0m\n\u001b[0m\u001b[0;32m    594\u001b[0m     \u001b[0mcandidate_progress\u001b[0m\u001b[1;33m=\u001b[0m\u001b[1;32mNone\u001b[0m\u001b[1;33m,\u001b[0m\u001b[1;33m\u001b[0m\u001b[1;33m\u001b[0m\u001b[0m\n\u001b[0;32m    595\u001b[0m     \u001b[0merror_score\u001b[0m\u001b[1;33m=\u001b[0m\u001b[0mnp\u001b[0m\u001b[1;33m.\u001b[0m\u001b[0mnan\u001b[0m\u001b[1;33m,\u001b[0m\u001b[1;33m\u001b[0m\u001b[1;33m\u001b[0m\u001b[0m\n",
      "\u001b[1;32mc:\\Users\\genoc\\Anaconda3\\lib\\site-packages\\xgboost\\core.py\u001b[0m in \u001b[0;36minner_f\u001b[1;34m(*args, **kwargs)\u001b[0m\n\u001b[0;32m    618\u001b[0m             \u001b[1;32mfor\u001b[0m \u001b[0mk\u001b[0m\u001b[1;33m,\u001b[0m \u001b[0marg\u001b[0m \u001b[1;32min\u001b[0m \u001b[0mzip\u001b[0m\u001b[1;33m(\u001b[0m\u001b[0msig\u001b[0m\u001b[1;33m.\u001b[0m\u001b[0mparameters\u001b[0m\u001b[1;33m,\u001b[0m \u001b[0margs\u001b[0m\u001b[1;33m)\u001b[0m\u001b[1;33m:\u001b[0m\u001b[1;33m\u001b[0m\u001b[1;33m\u001b[0m\u001b[0m\n\u001b[0;32m    619\u001b[0m                 \u001b[0mkwargs\u001b[0m\u001b[1;33m[\u001b[0m\u001b[0mk\u001b[0m\u001b[1;33m]\u001b[0m \u001b[1;33m=\u001b[0m \u001b[0marg\u001b[0m\u001b[1;33m\u001b[0m\u001b[1;33m\u001b[0m\u001b[0m\n\u001b[1;32m--> 620\u001b[1;33m             \u001b[1;32mreturn\u001b[0m \u001b[0mfunc\u001b[0m\u001b[1;33m(\u001b[0m\u001b[1;33m**\u001b[0m\u001b[0mkwargs\u001b[0m\u001b[1;33m)\u001b[0m\u001b[1;33m\u001b[0m\u001b[1;33m\u001b[0m\u001b[0m\n\u001b[0m\u001b[0;32m    621\u001b[0m \u001b[1;33m\u001b[0m\u001b[0m\n\u001b[0;32m    622\u001b[0m         \u001b[1;32mreturn\u001b[0m \u001b[0minner_f\u001b[0m\u001b[1;33m\u001b[0m\u001b[1;33m\u001b[0m\u001b[0m\n",
      "\u001b[1;32mc:\\Users\\genoc\\Anaconda3\\lib\\site-packages\\xgboost\\sklearn.py\u001b[0m in \u001b[0;36mfit\u001b[1;34m(self, X, y, sample_weight, base_margin, eval_set, eval_metric, early_stopping_rounds, verbose, xgb_model, sample_weight_eval_set, base_margin_eval_set, feature_weights, callbacks)\u001b[0m\n\u001b[0;32m   1023\u001b[0m                 \u001b[0mxgb_model\u001b[0m\u001b[1;33m,\u001b[0m \u001b[0meval_metric\u001b[0m\u001b[1;33m,\u001b[0m \u001b[0mparams\u001b[0m\u001b[1;33m,\u001b[0m \u001b[0mearly_stopping_rounds\u001b[0m\u001b[1;33m,\u001b[0m \u001b[0mcallbacks\u001b[0m\u001b[1;33m\u001b[0m\u001b[1;33m\u001b[0m\u001b[0m\n\u001b[0;32m   1024\u001b[0m             )\n\u001b[1;32m-> 1025\u001b[1;33m             self._Booster = train(\n\u001b[0m\u001b[0;32m   1026\u001b[0m                 \u001b[0mparams\u001b[0m\u001b[1;33m,\u001b[0m\u001b[1;33m\u001b[0m\u001b[1;33m\u001b[0m\u001b[0m\n\u001b[0;32m   1027\u001b[0m                 \u001b[0mtrain_dmatrix\u001b[0m\u001b[1;33m,\u001b[0m\u001b[1;33m\u001b[0m\u001b[1;33m\u001b[0m\u001b[0m\n",
      "\u001b[1;32mc:\\Users\\genoc\\Anaconda3\\lib\\site-packages\\xgboost\\core.py\u001b[0m in \u001b[0;36minner_f\u001b[1;34m(*args, **kwargs)\u001b[0m\n\u001b[0;32m    618\u001b[0m             \u001b[1;32mfor\u001b[0m \u001b[0mk\u001b[0m\u001b[1;33m,\u001b[0m \u001b[0marg\u001b[0m \u001b[1;32min\u001b[0m \u001b[0mzip\u001b[0m\u001b[1;33m(\u001b[0m\u001b[0msig\u001b[0m\u001b[1;33m.\u001b[0m\u001b[0mparameters\u001b[0m\u001b[1;33m,\u001b[0m \u001b[0margs\u001b[0m\u001b[1;33m)\u001b[0m\u001b[1;33m:\u001b[0m\u001b[1;33m\u001b[0m\u001b[1;33m\u001b[0m\u001b[0m\n\u001b[0;32m    619\u001b[0m                 \u001b[0mkwargs\u001b[0m\u001b[1;33m[\u001b[0m\u001b[0mk\u001b[0m\u001b[1;33m]\u001b[0m \u001b[1;33m=\u001b[0m \u001b[0marg\u001b[0m\u001b[1;33m\u001b[0m\u001b[1;33m\u001b[0m\u001b[0m\n\u001b[1;32m--> 620\u001b[1;33m             \u001b[1;32mreturn\u001b[0m \u001b[0mfunc\u001b[0m\u001b[1;33m(\u001b[0m\u001b[1;33m**\u001b[0m\u001b[0mkwargs\u001b[0m\u001b[1;33m)\u001b[0m\u001b[1;33m\u001b[0m\u001b[1;33m\u001b[0m\u001b[0m\n\u001b[0m\u001b[0;32m    621\u001b[0m \u001b[1;33m\u001b[0m\u001b[0m\n\u001b[0;32m    622\u001b[0m         \u001b[1;32mreturn\u001b[0m \u001b[0minner_f\u001b[0m\u001b[1;33m\u001b[0m\u001b[1;33m\u001b[0m\u001b[0m\n",
      "\u001b[1;32mc:\\Users\\genoc\\Anaconda3\\lib\\site-packages\\xgboost\\training.py\u001b[0m in \u001b[0;36mtrain\u001b[1;34m(params, dtrain, num_boost_round, evals, obj, feval, maximize, early_stopping_rounds, evals_result, verbose_eval, xgb_model, callbacks, custom_metric)\u001b[0m\n\u001b[0;32m    183\u001b[0m         \u001b[1;32mif\u001b[0m \u001b[0mcb_container\u001b[0m\u001b[1;33m.\u001b[0m\u001b[0mbefore_iteration\u001b[0m\u001b[1;33m(\u001b[0m\u001b[0mbst\u001b[0m\u001b[1;33m,\u001b[0m \u001b[0mi\u001b[0m\u001b[1;33m,\u001b[0m \u001b[0mdtrain\u001b[0m\u001b[1;33m,\u001b[0m \u001b[0mevals\u001b[0m\u001b[1;33m)\u001b[0m\u001b[1;33m:\u001b[0m\u001b[1;33m\u001b[0m\u001b[1;33m\u001b[0m\u001b[0m\n\u001b[0;32m    184\u001b[0m             \u001b[1;32mbreak\u001b[0m\u001b[1;33m\u001b[0m\u001b[1;33m\u001b[0m\u001b[0m\n\u001b[1;32m--> 185\u001b[1;33m         \u001b[0mbst\u001b[0m\u001b[1;33m.\u001b[0m\u001b[0mupdate\u001b[0m\u001b[1;33m(\u001b[0m\u001b[0mdtrain\u001b[0m\u001b[1;33m,\u001b[0m \u001b[0mi\u001b[0m\u001b[1;33m,\u001b[0m \u001b[0mobj\u001b[0m\u001b[1;33m)\u001b[0m\u001b[1;33m\u001b[0m\u001b[1;33m\u001b[0m\u001b[0m\n\u001b[0m\u001b[0;32m    186\u001b[0m         \u001b[1;32mif\u001b[0m \u001b[0mcb_container\u001b[0m\u001b[1;33m.\u001b[0m\u001b[0mafter_iteration\u001b[0m\u001b[1;33m(\u001b[0m\u001b[0mbst\u001b[0m\u001b[1;33m,\u001b[0m \u001b[0mi\u001b[0m\u001b[1;33m,\u001b[0m \u001b[0mdtrain\u001b[0m\u001b[1;33m,\u001b[0m \u001b[0mevals\u001b[0m\u001b[1;33m)\u001b[0m\u001b[1;33m:\u001b[0m\u001b[1;33m\u001b[0m\u001b[1;33m\u001b[0m\u001b[0m\n\u001b[0;32m    187\u001b[0m             \u001b[1;32mbreak\u001b[0m\u001b[1;33m\u001b[0m\u001b[1;33m\u001b[0m\u001b[0m\n",
      "\u001b[1;32mc:\\Users\\genoc\\Anaconda3\\lib\\site-packages\\xgboost\\core.py\u001b[0m in \u001b[0;36mupdate\u001b[1;34m(self, dtrain, iteration, fobj)\u001b[0m\n\u001b[0;32m   1916\u001b[0m \u001b[1;33m\u001b[0m\u001b[0m\n\u001b[0;32m   1917\u001b[0m         \u001b[1;32mif\u001b[0m \u001b[0mfobj\u001b[0m \u001b[1;32mis\u001b[0m \u001b[1;32mNone\u001b[0m\u001b[1;33m:\u001b[0m\u001b[1;33m\u001b[0m\u001b[1;33m\u001b[0m\u001b[0m\n\u001b[1;32m-> 1918\u001b[1;33m             _check_call(_LIB.XGBoosterUpdateOneIter(self.handle,\n\u001b[0m\u001b[0;32m   1919\u001b[0m                                                     \u001b[0mctypes\u001b[0m\u001b[1;33m.\u001b[0m\u001b[0mc_int\u001b[0m\u001b[1;33m(\u001b[0m\u001b[0miteration\u001b[0m\u001b[1;33m)\u001b[0m\u001b[1;33m,\u001b[0m\u001b[1;33m\u001b[0m\u001b[1;33m\u001b[0m\u001b[0m\n\u001b[0;32m   1920\u001b[0m                                                     dtrain.handle))\n",
      "\u001b[1;31mKeyboardInterrupt\u001b[0m: "
     ]
    }
   ],
   "source": [
    "\"\"\"\n",
    "from sklearn.model_selection import RandomizedSearchCV\n",
    "from scipy.stats import uniform, randint\n",
    "\n",
    "# Define the parameter distribution\n",
    "param_dist = {\n",
    "    'n_estimators': randint(100, 300),\n",
    "    'learning_rate': uniform(0.01, 0.1),\n",
    "    'max_depth': randint(3, 7),\n",
    "    'reg_alpha': uniform(0.1, 1.0),\n",
    "    'reg_lambda': uniform(0.1, 1.0)\n",
    "}\n",
    "\n",
    "# Create the XGBoost model\n",
    "xgb_model = xgb.XGBRegressor(random_state=1)\n",
    "\n",
    "# Create the random search object\n",
    "random_search = RandomizedSearchCV(xgb_model, param_dist, n_iter=50, cv=5, scoring='neg_mean_squared_error', random_state=1)\n",
    "\n",
    "# Fit the random search object to the data\n",
    "random_search.fit(X, y)\n",
    "\n",
    "# Print the best parameters\n",
    "print(random_search.best_params_)\n",
    "\"\"\""
   ]
  },
  {
   "cell_type": "markdown",
   "metadata": {},
   "source": [
    "'learning_rate': 0.02521371583925624, 'max_depth': 6, \n",
    "'n_estimators': 254, \n",
    "'reg_alpha': 1.0387116997045198, 'reg_lambda': 0.47113390095546825"
   ]
  },
  {
   "cell_type": "code",
   "execution_count": null,
   "metadata": {},
   "outputs": [
    {
     "data": {
      "text/plain": [
       "'\\n# List of features to include\\nfeatures = [\\'HB^3\\', \\'velocity^2\\', \\'IVB^3\\', \\'release_side\\', \\'release_height\\', \\'extension_spin\\', \\'diff_break_bin_high\\']\\n\\n# Train and evaluate the model with the diff_break_bin_high feature\\nX_with = df_swing_fb[features]\\nX_train_with, X_test_with, y_train, y_test = train_test_split(X_with, y, test_size=0.2, random_state=1)\\nX_train_scaled_with = scaler.fit_transform(X_train_with)\\nX_test_scaled_with = scaler.transform(X_test_with)\\nxgb_model_with = xgb.XGBRegressor(n_estimators=181, learning_rate=0.029515477895583855, random_state=1)\\nxgb_model_with.fit(X_train_scaled_with, y_train)\\ny_pred_with = xgb_model_with.predict(X_test_scaled_with)\\nmse_with = mean_squared_error(y_test, y_pred_with)\\nr2_with = r2_score(y_test, y_pred_with)\\n\\n# List of features to include\\nfeatures = [\\'HB^3\\', \\'velocity^2\\', \\'IVB^3\\', \\'release_side\\', \\'release_height\\', \\'extension_spin\\']\\n\\n# Train and evaluate the model without the diff_break_bin_high feature\\nX_without = df_swing_fb[features]\\nX_train_without, X_test_without, y_train, y_test = train_test_split(X_without, y, test_size=0.2, random_state=1)\\nX_train_scaled_without = scaler.fit_transform(X_train_without)\\nX_test_scaled_without = scaler.transform(X_test_without)\\nxgb_model_without = xgb.XGBRegressor(n_estimators=181, learning_rate=0.029515477895583855, random_state=1)\\nxgb_model_without.fit(X_train_scaled_without, y_train)\\ny_pred_without = xgb_model_without.predict(X_test_scaled_without)\\nmse_without = mean_squared_error(y_test, y_pred_without)\\nr2_without = r2_score(y_test, y_pred_without)\\n\\n# Print the results\\nprint(\"With diff_break_bin_high:\")\\nprint(\"Mean Squared Error:\", mse_with)\\nprint(\"R-squared score:\", r2_with)\\nprint(\"\\nWithout diff_break_bin_high:\")\\nprint(\"Mean Squared Error:\", mse_without)\\nprint(\"R-squared score:\", r2_without)\\n'"
      ]
     },
     "execution_count": 224,
     "metadata": {},
     "output_type": "execute_result"
    }
   ],
   "source": [
    "\"\"\"\n",
    "# List of features to include\n",
    "features = ['HB^3', 'velocity^2', 'IVB^3', 'release_side', 'release_height', 'extension_spin', 'diff_break_bin_high']\n",
    "\n",
    "# Train and evaluate the model with the diff_break_bin_high feature\n",
    "X_with = df_swing_fb[features]\n",
    "X_train_with, X_test_with, y_train, y_test = train_test_split(X_with, y, test_size=0.2, random_state=1)\n",
    "X_train_scaled_with = scaler.fit_transform(X_train_with)\n",
    "X_test_scaled_with = scaler.transform(X_test_with)\n",
    "xgb_model_with = xgb.XGBRegressor(n_estimators=181, learning_rate=0.029515477895583855, random_state=1)\n",
    "xgb_model_with.fit(X_train_scaled_with, y_train)\n",
    "y_pred_with = xgb_model_with.predict(X_test_scaled_with)\n",
    "mse_with = mean_squared_error(y_test, y_pred_with)\n",
    "r2_with = r2_score(y_test, y_pred_with)\n",
    "\n",
    "# List of features to include\n",
    "features = ['HB^3', 'velocity^2', 'IVB^3', 'release_side', 'release_height', 'extension_spin']\n",
    "\n",
    "# Train and evaluate the model without the diff_break_bin_high feature\n",
    "X_without = df_swing_fb[features]\n",
    "X_train_without, X_test_without, y_train, y_test = train_test_split(X_without, y, test_size=0.2, random_state=1)\n",
    "X_train_scaled_without = scaler.fit_transform(X_train_without)\n",
    "X_test_scaled_without = scaler.transform(X_test_without)\n",
    "xgb_model_without = xgb.XGBRegressor(n_estimators=181, learning_rate=0.029515477895583855, random_state=1)\n",
    "xgb_model_without.fit(X_train_scaled_without, y_train)\n",
    "y_pred_without = xgb_model_without.predict(X_test_scaled_without)\n",
    "mse_without = mean_squared_error(y_test, y_pred_without)\n",
    "r2_without = r2_score(y_test, y_pred_without)\n",
    "\n",
    "# Print the results\n",
    "print(\"With diff_break_bin_high:\")\n",
    "print(\"Mean Squared Error:\", mse_with)\n",
    "print(\"R-squared score:\", r2_with)\n",
    "print(\"\\nWithout diff_break_bin_high:\")\n",
    "print(\"Mean Squared Error:\", mse_without)\n",
    "print(\"R-squared score:\", r2_without)\n",
    "\"\"\""
   ]
  },
  {
   "cell_type": "code",
   "execution_count": null,
   "metadata": {},
   "outputs": [
    {
     "data": {
      "text/plain": [
       "'\\nfrom sklearn.model_selection import GridSearchCV\\n\\n# Define the parameter grid\\nparam_grid = {\\n    \\'n_estimators\\': [50, 100, 150, 200],\\n    \\'learning_rate\\': [0.01, 0.1, 0.2, 0.3]\\n}\\n\\n# Create the GridSearchCV object\\ngrid_search = GridSearchCV(xgb.XGBRegressor(random_state=42), param_grid, cv=5, scoring=\\'neg_mean_squared_error\\')\\n\\n# Fit the GridSearchCV object to the data\\ngrid_search.fit(X_train_scaled, y_train)\\n\\n# Print the best parameters and the best score\\nprint(\"Best parameters:\", grid_search.best_params_)\\nprint(\"Best score:\", grid_search.best_score_)\\n\\n# Use the best estimator to make predictions\\ny_pred = grid_search.best_estimator_.predict(X_test_scaled)\\n\\n# Evaluate the model\\nmse = mean_squared_error(y_test, y_pred)\\nr2 = r2_score(y_test, y_pred)\\n\\nprint(\"Mean Squared Error:\", mse)\\nprint(\"R-squared score:\", r2)\\n'"
      ]
     },
     "execution_count": 198,
     "metadata": {},
     "output_type": "execute_result"
    }
   ],
   "source": [
    "\"\"\"\n",
    "from sklearn.model_selection import GridSearchCV\n",
    "\n",
    "# Define the parameter grid\n",
    "param_grid = {\n",
    "    'n_estimators': [50, 100, 150, 200],\n",
    "    'learning_rate': [0.01, 0.1, 0.2, 0.3]\n",
    "}\n",
    "\n",
    "# Create the GridSearchCV object\n",
    "grid_search = GridSearchCV(xgb.XGBRegressor(random_state=42), param_grid, cv=5, scoring='neg_mean_squared_error')\n",
    "\n",
    "# Fit the GridSearchCV object to the data\n",
    "grid_search.fit(X_train_scaled, y_train)\n",
    "\n",
    "# Print the best parameters and the best score\n",
    "print(\"Best parameters:\", grid_search.best_params_)\n",
    "print(\"Best score:\", grid_search.best_score_)\n",
    "\n",
    "# Use the best estimator to make predictions\n",
    "y_pred = grid_search.best_estimator_.predict(X_test_scaled)\n",
    "\n",
    "# Evaluate the model\n",
    "mse = mean_squared_error(y_test, y_pred)\n",
    "r2 = r2_score(y_test, y_pred)\n",
    "\n",
    "print(\"Mean Squared Error:\", mse)\n",
    "print(\"R-squared score:\", r2)\n",
    "\"\"\""
   ]
  },
  {
   "cell_type": "code",
   "execution_count": null,
   "metadata": {},
   "outputs": [
    {
     "data": {
      "text/plain": [
       "'\\nfrom sklearn.model_selection import RandomizedSearchCV\\nfrom scipy.stats import randint, uniform\\n\\n# Define the parameter distribution\\nparam_dist = {\\n    \\'n_estimators\\': randint(50, 200),\\n    \\'learning_rate\\': uniform(0.01, 0.3)\\n}\\n\\n# Create the RandomizedSearchCV object\\nrandom_search = RandomizedSearchCV(xgb.XGBRegressor(random_state=42), param_dist, n_iter=50, cv=5, scoring=\\'neg_mean_squared_error\\', random_state=42)\\n\\n# Fit the RandomizedSearchCV object to the data\\nrandom_search.fit(X_train_scaled, y_train)\\n\\n# Print the best parameters and the best score\\nprint(\"Best parameters:\", random_search.best_params_)\\nprint(\"Best score:\", random_search.best_score_)\\n\\n# Use the best estimator to make predictions\\ny_pred = random_search.best_estimator_.predict(X_test_scaled)\\n\\n# Evaluate the model\\nmse = mean_squared_error(y_test, y_pred)\\nr2 = r2_score(y_test, y_pred)\\n\\nprint(\"Mean Squared Error:\", mse)\\nprint(\"R-squared score:\", r2)\\n'"
      ]
     },
     "execution_count": 223,
     "metadata": {},
     "output_type": "execute_result"
    }
   ],
   "source": [
    "\"\"\"\n",
    "from sklearn.model_selection import RandomizedSearchCV\n",
    "from scipy.stats import randint, uniform\n",
    "\n",
    "# Define the parameter distribution\n",
    "param_dist = {\n",
    "    'n_estimators': randint(50, 200),\n",
    "    'learning_rate': uniform(0.01, 0.3)\n",
    "}\n",
    "\n",
    "# Create the RandomizedSearchCV object\n",
    "random_search = RandomizedSearchCV(xgb.XGBRegressor(random_state=42), param_dist, n_iter=50, cv=5, scoring='neg_mean_squared_error', random_state=42)\n",
    "\n",
    "# Fit the RandomizedSearchCV object to the data\n",
    "random_search.fit(X_train_scaled, y_train)\n",
    "\n",
    "# Print the best parameters and the best score\n",
    "print(\"Best parameters:\", random_search.best_params_)\n",
    "print(\"Best score:\", random_search.best_score_)\n",
    "\n",
    "# Use the best estimator to make predictions\n",
    "y_pred = random_search.best_estimator_.predict(X_test_scaled)\n",
    "\n",
    "# Evaluate the model\n",
    "mse = mean_squared_error(y_test, y_pred)\n",
    "r2 = r2_score(y_test, y_pred)\n",
    "\n",
    "print(\"Mean Squared Error:\", mse)\n",
    "print(\"R-squared score:\", r2)\n",
    "\"\"\""
   ]
  },
  {
   "cell_type": "markdown",
   "metadata": {},
   "source": [
    "Best parameters: {'learning_rate': 0.029515477895583855, 'n_estimators': 181}\n",
    "Best score: -0.1588402246170339\n",
    "Mean Squared Error: 0.1595497477178634\n",
    "R-squared score: 0.02342727228548369"
   ]
  },
  {
   "cell_type": "code",
   "execution_count": null,
   "metadata": {},
   "outputs": [],
   "source": []
  },
  {
   "cell_type": "markdown",
   "metadata": {},
   "source": [
    "# **RHP Breakingballs Stuff+**"
   ]
  },
  {
   "cell_type": "markdown",
   "metadata": {},
   "source": []
  },
  {
   "cell_type": "markdown",
   "metadata": {},
   "source": [
    "# **RHP Offspeed Stuff+**"
   ]
  },
  {
   "cell_type": "markdown",
   "metadata": {},
   "source": []
  },
  {
   "cell_type": "markdown",
   "metadata": {},
   "source": [
    "# **LHP Fastball Stuff+**"
   ]
  },
  {
   "cell_type": "markdown",
   "metadata": {},
   "source": []
  },
  {
   "cell_type": "markdown",
   "metadata": {},
   "source": [
    "# **LHP Breakingballs Stuff+**"
   ]
  },
  {
   "cell_type": "markdown",
   "metadata": {},
   "source": [
    "Group Sliders and Curveballs in the same dataframe"
   ]
  },
  {
   "cell_type": "markdown",
   "metadata": {},
   "source": []
  },
  {
   "cell_type": "markdown",
   "metadata": {},
   "source": [
    "# **LHP Offspeed Pitches Stuff+**"
   ]
  },
  {
   "cell_type": "markdown",
   "metadata": {},
   "source": [
    "Group changeups, splitters, screwballs, etc. in the same dataframe"
   ]
  },
  {
   "cell_type": "markdown",
   "metadata": {},
   "source": []
  }
 ],
 "metadata": {
  "kernelspec": {
   "display_name": "base",
   "language": "python",
   "name": "python3"
  },
  "language_info": {
   "codemirror_mode": {
    "name": "ipython",
    "version": 3
   },
   "file_extension": ".py",
   "mimetype": "text/x-python",
   "name": "python",
   "nbconvert_exporter": "python",
   "pygments_lexer": "ipython3",
   "version": "3.8.8"
  }
 },
 "nbformat": 4,
 "nbformat_minor": 2
}
