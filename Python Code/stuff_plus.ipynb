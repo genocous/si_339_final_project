{
 "cells": [
  {
   "cell_type": "code",
   "execution_count": 2,
   "metadata": {},
   "outputs": [],
   "source": [
    "# Load Libraries\n",
    "import pandas as pd\n",
    "import pickle\n",
    "from pandas import DataFrame, Series\n",
    "from sklearn.ensemble import RandomForestClassifier,RandomForestRegressor\n",
    "from sklearn.preprocessing import StandardScaler\n",
    "import numpy as np\n",
    "import seaborn as sns\n",
    "import statsmodels.api as sm\n",
    "from sklearn import linear_model, naive_bayes\n",
    "from sklearn.datasets import make_regression\n",
    "from sklearn.model_selection import train_test_split, cross_val_score\n",
    "from sklearn.naive_bayes import GaussianNB\n",
    "from sklearn.naive_bayes import MultinomialNB\n",
    "from sklearn.tree import DecisionTreeRegressor\n",
    "from sklearn import svm\n",
    "from statsmodels.stats.outliers_influence import variance_inflation_factor\n",
    "import matplotlib.pyplot as plt\n",
    "from sklearn.metrics import mean_squared_error,r2_score\n",
    "import pybaseball as pyb\n",
    "from pybaseball import statcast\n",
    "import xgboost as xgb\n",
    "from xgboost import XGBRegressor, XGBClassifier\n",
    "from keras.models import Sequential\n",
    "from keras.layers import Dense\n",
    "from sklearn.linear_model import LinearRegression\n",
    "from sklearn.svm import SVR\n",
    "from sklearn import model_selection\n",
    "from sklearn.linear_model import LogisticRegression\n",
    "from sklearn.tree import DecisionTreeClassifier\n",
    "from sklearn.neighbors import KNeighborsClassifier\n",
    "from sklearn.svm import SVC\n",
    "from sklearn.ensemble import VotingClassifier\n",
    "from sklearn.metrics import classification_report, confusion_matrix ,accuracy_score\n",
    "from sklearn.model_selection import GridSearchCV\n",
    "from sklearn.model_selection import KFold\n",
    "from sklearn.pipeline import Pipeline\n",
    "\n",
    "from pybaseball import statcast\n",
    "from pybaseball import  playerid_lookup\n",
    "from pybaseball import  statcast_pitcher\n",
    "from pybaseball import pitching_stats\n",
    "from pybaseball import batting_stats\n",
    "import matplotlib.pyplot as plt\n",
    "import matplotlib.patches as mpatches\n",
    "import numpy as np\n",
    "from pybaseball import pitching_stats_bref"
   ]
  },
  {
   "cell_type": "code",
   "execution_count": 3,
   "metadata": {},
   "outputs": [],
   "source": [
    "pyb.cache.enable()"
   ]
  },
  {
   "cell_type": "code",
   "execution_count": 100,
   "metadata": {},
   "outputs": [
    {
     "name": "stdout",
     "output_type": "stream",
     "text": [
      "This is a large query, it may take a moment to complete\n"
     ]
    },
    {
     "name": "stderr",
     "output_type": "stream",
     "text": [
      "100%|██████████| 209/209 [00:20<00:00, 10.16it/s]\n"
     ]
    }
   ],
   "source": [
    "data = statcast(start_dt=\"2023-03-30\", end_dt=\"2023-10-24\")\n",
    "columns = ['player_name', 'p_throws', 'stand', 'pitch_type', 'release_speed', 'pfx_x', 'pfx_z', 'release_pos_x', 'release_pos_y', 'release_pos_z', 'spin_axis', 'effective_speed', 'release_spin_rate', 'release_extension', 'plate_x', 'plate_z', 'description']\n"
   ]
  },
  {
   "cell_type": "code",
   "execution_count": 210,
   "metadata": {},
   "outputs": [],
   "source": [
    "df = data[columns]"
   ]
  },
  {
   "cell_type": "markdown",
   "metadata": {},
   "source": [
    "# **Data Cleaning**"
   ]
  },
  {
   "cell_type": "code",
   "execution_count": 211,
   "metadata": {},
   "outputs": [
    {
     "name": "stderr",
     "output_type": "stream",
     "text": [
      "c:\\Users\\genoc\\Anaconda3\\lib\\site-packages\\pandas\\core\\frame.py:4441: SettingWithCopyWarning: \n",
      "A value is trying to be set on a copy of a slice from a DataFrame\n",
      "\n",
      "See the caveats in the documentation: https://pandas.pydata.org/pandas-docs/stable/user_guide/indexing.html#returning-a-view-versus-a-copy\n",
      "  return super().rename(\n"
     ]
    }
   ],
   "source": [
    "# Rename columns for easier access\n",
    "column_mapping = {\n",
    "    'player_name': 'name',\n",
    "    'p_throws': 'p_hand',\n",
    "    'stand': 'batter_side',\n",
    "    'pitch_type': 'pitch_type',\n",
    "    'release_speed': 'velocity',\n",
    "    'pfx_x': 'horizontal_break',\n",
    "    'pfx_z': 'induced_vertical_break',\n",
    "    'release_pos_x': 'release_side',\n",
    "    'release_pos_y': 'release_dist_from_C',\n",
    "    'release_pos_z': 'release_height',\n",
    "    'spin_axis': 'spin_axis',\n",
    "    'effective_speed': 'effective_velocity',\n",
    "    'release_spin_rate': 'spin_rate',\n",
    "    'release_extension': 'extension',\n",
    "    'plate_x': 'pitch_height',\n",
    "    'plate_z': 'pitch_side'\n",
    "}\n",
    "\n",
    "df.rename(columns=column_mapping, inplace=True)"
   ]
  },
  {
   "cell_type": "code",
   "execution_count": 212,
   "metadata": {},
   "outputs": [
    {
     "name": "stderr",
     "output_type": "stream",
     "text": [
      "<ipython-input-212-8fbd3d1702b0>:5: SettingWithCopyWarning: \n",
      "A value is trying to be set on a copy of a slice from a DataFrame.\n",
      "Try using .loc[row_indexer,col_indexer] = value instead\n",
      "\n",
      "See the caveats in the documentation: https://pandas.pydata.org/pandas-docs/stable/user_guide/indexing.html#returning-a-view-versus-a-copy\n",
      "  df['name'] = df['name'].str.split(' ', expand=True)[1] + ' ' + df['name'].str.split(' ', expand=True)[0]\n",
      "<ipython-input-212-8fbd3d1702b0>:8: SettingWithCopyWarning: \n",
      "A value is trying to be set on a copy of a slice from a DataFrame.\n",
      "Try using .loc[row_indexer,col_indexer] = value instead\n",
      "\n",
      "See the caveats in the documentation: https://pandas.pydata.org/pandas-docs/stable/user_guide/indexing.html#returning-a-view-versus-a-copy\n",
      "  df['name'] = df['name'].replace(',', '', regex=True)\n"
     ]
    }
   ],
   "source": [
    "# release side, release height, induced vertical break, extension, velocity, horizontal break, differential break, spin rate, spin axis\n",
    "# pitcher name, pitcher team, pitch type\n",
    "\n",
    "# Edit the pitcher names so the first name is first and the last name is last\n",
    "df['name'] = df['name'].str.split(' ', expand=True)[1] + ' ' + df['name'].str.split(' ', expand=True)[0]\n",
    "\n",
    "# Remove the comma from the last name\n",
    "df['name'] = df['name'].replace(',', '', regex=True)"
   ]
  },
  {
   "cell_type": "code",
   "execution_count": 213,
   "metadata": {},
   "outputs": [
    {
     "name": "stderr",
     "output_type": "stream",
     "text": [
      "c:\\Users\\genoc\\Anaconda3\\lib\\site-packages\\pandas\\core\\frame.py:3191: SettingWithCopyWarning: \n",
      "A value is trying to be set on a copy of a slice from a DataFrame.\n",
      "Try using .loc[row_indexer,col_indexer] = value instead\n",
      "\n",
      "See the caveats in the documentation: https://pandas.pydata.org/pandas-docs/stable/user_guide/indexing.html#returning-a-view-versus-a-copy\n",
      "  self[k1] = value[k2]\n"
     ]
    },
    {
     "data": {
      "text/html": [
       "<div>\n",
       "<style scoped>\n",
       "    .dataframe tbody tr th:only-of-type {\n",
       "        vertical-align: middle;\n",
       "    }\n",
       "\n",
       "    .dataframe tbody tr th {\n",
       "        vertical-align: top;\n",
       "    }\n",
       "\n",
       "    .dataframe thead th {\n",
       "        text-align: right;\n",
       "    }\n",
       "</style>\n",
       "<table border=\"1\" class=\"dataframe\">\n",
       "  <thead>\n",
       "    <tr style=\"text-align: right;\">\n",
       "      <th></th>\n",
       "      <th>name</th>\n",
       "      <th>p_hand</th>\n",
       "      <th>batter_side</th>\n",
       "      <th>pitch_type</th>\n",
       "      <th>velocity</th>\n",
       "      <th>horizontal_break</th>\n",
       "      <th>induced_vertical_break</th>\n",
       "      <th>release_side</th>\n",
       "      <th>release_dist_from_C</th>\n",
       "      <th>release_height</th>\n",
       "      <th>spin_axis</th>\n",
       "      <th>effective_velocity</th>\n",
       "      <th>spin_rate</th>\n",
       "      <th>extension</th>\n",
       "      <th>pitch_height</th>\n",
       "      <th>pitch_side</th>\n",
       "      <th>description</th>\n",
       "    </tr>\n",
       "  </thead>\n",
       "  <tbody>\n",
       "    <tr>\n",
       "      <th>143</th>\n",
       "      <td>Paul Sewald</td>\n",
       "      <td>R</td>\n",
       "      <td>L</td>\n",
       "      <td>ST</td>\n",
       "      <td>86.8</td>\n",
       "      <td>0.6</td>\n",
       "      <td>12.84</td>\n",
       "      <td>-42.6</td>\n",
       "      <td>644.88</td>\n",
       "      <td>56.88</td>\n",
       "      <td>130</td>\n",
       "      <td>87.3</td>\n",
       "      <td>2588</td>\n",
       "      <td>6.8</td>\n",
       "      <td>0.02</td>\n",
       "      <td>2.19</td>\n",
       "      <td>hit_into_play</td>\n",
       "    </tr>\n",
       "    <tr>\n",
       "      <th>149</th>\n",
       "      <td>Paul Sewald</td>\n",
       "      <td>R</td>\n",
       "      <td>L</td>\n",
       "      <td>FF</td>\n",
       "      <td>93.8</td>\n",
       "      <td>-12.36</td>\n",
       "      <td>14.4</td>\n",
       "      <td>-43.2</td>\n",
       "      <td>646.8</td>\n",
       "      <td>54.84</td>\n",
       "      <td>236</td>\n",
       "      <td>93.8</td>\n",
       "      <td>2588</td>\n",
       "      <td>6.6</td>\n",
       "      <td>-0.37</td>\n",
       "      <td>3.42</td>\n",
       "      <td>foul</td>\n",
       "    </tr>\n",
       "    <tr>\n",
       "      <th>159</th>\n",
       "      <td>Paul Sewald</td>\n",
       "      <td>R</td>\n",
       "      <td>L</td>\n",
       "      <td>FF</td>\n",
       "      <td>93.6</td>\n",
       "      <td>-11.88</td>\n",
       "      <td>13.68</td>\n",
       "      <td>-42.48</td>\n",
       "      <td>652.92</td>\n",
       "      <td>55.92</td>\n",
       "      <td>236</td>\n",
       "      <td>92.8</td>\n",
       "      <td>2527</td>\n",
       "      <td>6.1</td>\n",
       "      <td>0.29</td>\n",
       "      <td>2.88</td>\n",
       "      <td>foul</td>\n",
       "    </tr>\n",
       "    <tr>\n",
       "      <th>167</th>\n",
       "      <td>Paul Sewald</td>\n",
       "      <td>R</td>\n",
       "      <td>L</td>\n",
       "      <td>FF</td>\n",
       "      <td>92.1</td>\n",
       "      <td>-8.28</td>\n",
       "      <td>14.16</td>\n",
       "      <td>-43.56</td>\n",
       "      <td>645.48</td>\n",
       "      <td>54.72</td>\n",
       "      <td>239</td>\n",
       "      <td>92.2</td>\n",
       "      <td>2588</td>\n",
       "      <td>6.7</td>\n",
       "      <td>0.21</td>\n",
       "      <td>3.22</td>\n",
       "      <td>foul</td>\n",
       "    </tr>\n",
       "    <tr>\n",
       "      <th>174</th>\n",
       "      <td>Paul Sewald</td>\n",
       "      <td>R</td>\n",
       "      <td>L</td>\n",
       "      <td>FF</td>\n",
       "      <td>93.0</td>\n",
       "      <td>-11.88</td>\n",
       "      <td>15.12</td>\n",
       "      <td>-42.84</td>\n",
       "      <td>652.32</td>\n",
       "      <td>56.52</td>\n",
       "      <td>237</td>\n",
       "      <td>92.5</td>\n",
       "      <td>2633</td>\n",
       "      <td>6.1</td>\n",
       "      <td>-1.08</td>\n",
       "      <td>3.82</td>\n",
       "      <td>ball</td>\n",
       "    </tr>\n",
       "  </tbody>\n",
       "</table>\n",
       "</div>"
      ],
      "text/plain": [
       "            name p_hand batter_side pitch_type  velocity  horizontal_break  \\\n",
       "143  Paul Sewald      R           L         ST      86.8               0.6   \n",
       "149  Paul Sewald      R           L         FF      93.8            -12.36   \n",
       "159  Paul Sewald      R           L         FF      93.6            -11.88   \n",
       "167  Paul Sewald      R           L         FF      92.1             -8.28   \n",
       "174  Paul Sewald      R           L         FF      93.0            -11.88   \n",
       "\n",
       "     induced_vertical_break  release_side  release_dist_from_C  \\\n",
       "143                   12.84         -42.6               644.88   \n",
       "149                    14.4         -43.2                646.8   \n",
       "159                   13.68        -42.48               652.92   \n",
       "167                   14.16        -43.56               645.48   \n",
       "174                   15.12        -42.84               652.32   \n",
       "\n",
       "     release_height  spin_axis  effective_velocity  spin_rate  extension  \\\n",
       "143           56.88        130                87.3       2588        6.8   \n",
       "149           54.84        236                93.8       2588        6.6   \n",
       "159           55.92        236                92.8       2527        6.1   \n",
       "167           54.72        239                92.2       2588        6.7   \n",
       "174           56.52        237                92.5       2633        6.1   \n",
       "\n",
       "     pitch_height  pitch_side    description  \n",
       "143          0.02        2.19  hit_into_play  \n",
       "149         -0.37        3.42           foul  \n",
       "159          0.29        2.88           foul  \n",
       "167          0.21        3.22           foul  \n",
       "174         -1.08        3.82           ball  "
      ]
     },
     "execution_count": 213,
     "metadata": {},
     "output_type": "execute_result"
    }
   ],
   "source": [
    "columns_to_convert = ['horizontal_break', 'induced_vertical_break', 'release_height', 'release_side', 'release_dist_from_C']\n",
    "\n",
    "df[columns_to_convert] = df[columns_to_convert] * 12\n",
    "\n",
    "df.head()"
   ]
  },
  {
   "cell_type": "code",
   "execution_count": 214,
   "metadata": {},
   "outputs": [
    {
     "name": "stderr",
     "output_type": "stream",
     "text": [
      "<ipython-input-214-b3f512f1a295>:15: SettingWithCopyWarning: \n",
      "A value is trying to be set on a copy of a slice from a DataFrame.\n",
      "Try using .loc[row_indexer,col_indexer] = value instead\n",
      "\n",
      "See the caveats in the documentation: https://pandas.pydata.org/pandas-docs/stable/user_guide/indexing.html#returning-a-view-versus-a-copy\n",
      "  df['pitch_type'] = df['pitch_type'].replace(pitch_type_mapping)\n"
     ]
    },
    {
     "name": "stdout",
     "output_type": "stream",
     "text": [
      "728284\n",
      "689151\n"
     ]
    },
    {
     "data": {
      "text/plain": [
       "array(['FB', 'SL', 'CB', 'CH'], dtype=object)"
      ]
     },
     "execution_count": 214,
     "metadata": {},
     "output_type": "execute_result"
    }
   ],
   "source": [
    "# Define a dictionary mapping old pitch types to new ones\n",
    "pitch_type_mapping = {\n",
    "    'FF': 'FB',\n",
    "    'FT': 'FB',\n",
    "    'SI': 'FB',\n",
    "    'FC': 'FB',\n",
    "    'CH': 'CH',\n",
    "    'FS': 'CH',\n",
    "    'CU': 'CB',\n",
    "    'KC': 'CB',\n",
    "    'SL': 'SL'\n",
    "}\n",
    "\n",
    "# Replace the pitch types\n",
    "df['pitch_type'] = df['pitch_type'].replace(pitch_type_mapping)\n",
    "print(len(df))\n",
    "# Remove pitch types that are not in the mapping\n",
    "df = df[df['pitch_type'].isin(pitch_type_mapping.values())]\n",
    "print(len(df))\n",
    "\n",
    "df['pitch_type'].unique()"
   ]
  },
  {
   "cell_type": "code",
   "execution_count": 215,
   "metadata": {},
   "outputs": [
    {
     "name": "stderr",
     "output_type": "stream",
     "text": [
      "<ipython-input-215-52f0830666ee>:7: FutureWarning: Indexing with multiple keys (implicitly converted to a tuple of keys) will be deprecated, use a list instead.\n",
      "  average_fastball = df[df['pitch_type'] == 'FB'].groupby('name')['velocity', 'horizontal_break', 'induced_vertical_break'].mean()\n"
     ]
    }
   ],
   "source": [
    "# Make horizontal break the absolute value\n",
    "df['horizontal_break'] = abs(df['horizontal_break'])\n",
    "\n",
    "# Create differential break column: induced vertical break - horizontal break\n",
    "df['differential_break'] = (df['induced_vertical_break'] - df['horizontal_break']).abs()\n",
    "# Calculate the average fastball velocity and movement for each pitcher\n",
    "average_fastball = df[df['pitch_type'] == 'FB'].groupby('name')['velocity', 'horizontal_break', 'induced_vertical_break'].mean()\n",
    "\n",
    "# Create new columns for the differences\n",
    "df['velocity_diff'] = df['velocity'] - df['name'].map(average_fastball['velocity'])\n",
    "df['horizontal_break_diff'] = df['horizontal_break'] - df['name'].map(average_fastball['horizontal_break'])\n",
    "df['induced_vertical_break_diff'] = df['induced_vertical_break'] - df['name'].map(average_fastball['induced_vertical_break'])"
   ]
  },
  {
   "cell_type": "code",
   "execution_count": 216,
   "metadata": {},
   "outputs": [],
   "source": [
    "# Create columns for whiff (swing and miss) and swings\n",
    "df['whiff'] = df['description'].apply(lambda x: 1 if x == \"swinging_strike\" or x == 'foul_tip' else 0)\n",
    "df['swing'] = df['description'].apply(lambda x: 1 if x == \"swinging_strike\" or x == \"hit_into_play\" or x == \"foul\" or x == \"foul_tip\" else 0)"
   ]
  },
  {
   "cell_type": "code",
   "execution_count": 217,
   "metadata": {},
   "outputs": [],
   "source": [
    "df_swing = df[df['swing'] == 1]"
   ]
  },
  {
   "cell_type": "code",
   "execution_count": 218,
   "metadata": {},
   "outputs": [
    {
     "name": "stdout",
     "output_type": "stream",
     "text": [
      "Difference between lengths of df and swing_df:  366118\n",
      "Amount of swings and misses:  323033\n"
     ]
    }
   ],
   "source": [
    "print(\"Difference between lengths of df and swing_df: \", len(df) - len(df_swing))\n",
    "print(\"Amount of swings and misses: \", len(df_swing))"
   ]
  },
  {
   "cell_type": "code",
   "execution_count": 219,
   "metadata": {},
   "outputs": [
    {
     "data": {
      "text/plain": [
       "count    688215.000000\n",
       "mean          6.445758\n",
       "std           0.457613\n",
       "min           4.000000\n",
       "25%           6.100000\n",
       "50%           6.500000\n",
       "75%           6.700000\n",
       "max          11.700000\n",
       "Name: extension, dtype: float64"
      ]
     },
     "execution_count": 219,
     "metadata": {},
     "output_type": "execute_result"
    }
   ],
   "source": [
    "#df.columns\n",
    "df['extension'].describe()"
   ]
  },
  {
   "cell_type": "code",
   "execution_count": 224,
   "metadata": {},
   "outputs": [
    {
     "name": "stdout",
     "output_type": "stream",
     "text": [
      "Amount of swings on fastballs:  189879\n",
      "Amount of swings on offspeed pitches:  131159\n"
     ]
    }
   ],
   "source": [
    "# Delete all nan values\n",
    "df_swing = df_swing.dropna()\n",
    "\n",
    "df_swing_fb = df_swing[df_swing['pitch_type'] == 'FB']\n",
    "df_swing_os = df_swing[df_swing['pitch_type'] != 'FB']\n",
    "\n",
    "print(\"Amount of swings on fastballs: \", len(df_swing_fb))\n",
    "print(\"Amount of swings on offspeed pitches: \", len(df_swing_os))"
   ]
  },
  {
   "cell_type": "markdown",
   "metadata": {},
   "source": [
    "# **Feature Selection**"
   ]
  },
  {
   "cell_type": "code",
   "execution_count": 228,
   "metadata": {},
   "outputs": [
    {
     "name": "stdout",
     "output_type": "stream",
     "text": [
      "75687\n"
     ]
    }
   ],
   "source": [
    "df_swing_fb_r_r = df_swing_fb[(df_swing_fb['p_hand'] == 'R') & (df_swing_fb['batter_side'] == 'R')]\n",
    "print(len(df_swing_fb_r_r))\n",
    "\n",
    "# Take a random sample of 10% of the fastballs\n",
    "df_swing_fb_sample = df_swing_fb_r_r.sample(frac=0.1)\n",
    "\n",
    "\n",
    "#X = df_swing_fb_sample[['velocity', 'horizontal_break', 'induced_vertical_break', 'release_side', 'release_dist_from_C', 'release_height', 'spin_axis', 'effective_velocity', 'spin_rate', 'extension', 'pitch_height', 'pitch_side', 'differential_break', 'velocity_diff', 'horizontal_break_diff', 'induced_vertical_break_diff']]\n",
    "X = df_swing_fb_sample[['velocity', 'horizontal_break', 'induced_vertical_break', 'release_side', 'release_dist_from_C', 'release_height', 'spin_rate', 'extension', 'differential_break']]\n",
    "y = df_swing_fb_sample['whiff']"
   ]
  },
  {
   "cell_type": "code",
   "execution_count": 229,
   "metadata": {},
   "outputs": [
    {
     "name": "stdout",
     "output_type": "stream",
     "text": [
      "Feature ranking:\n",
      "spin_rate: 0.14656490617571782\n",
      "release_side: 0.13595124137015363\n",
      "release_height: 0.12517874121502623\n",
      "velocity: 0.12203717366677687\n",
      "horizontal_break: 0.11598331913102095\n",
      "release_dist_from_C: 0.11202420531327276\n",
      "induced_vertical_break: 0.1057361713834135\n",
      "differential_break: 0.10246121675135614\n",
      "extension: 0.03406302499326222\n"
     ]
    }
   ],
   "source": [
    "# Assuming X is your feature matrix and y is the target variable\n",
    "model = RandomForestRegressor()\n",
    "model.fit(X, y)\n",
    "\n",
    "# Get feature importances\n",
    "importances = model.feature_importances_\n",
    "\n",
    "# Sort features by importance\n",
    "sorted_indices = np.argsort(importances)[::-1]\n",
    "\n",
    "# Print the feature ranking\n",
    "print(\"Feature ranking:\")\n",
    "for i in range(X.shape[1]):\n",
    "    print(f\"{X.columns[sorted_indices[i]]}: {importances[sorted_indices[i]]}\")"
   ]
  },
  {
   "cell_type": "markdown",
   "metadata": {},
   "source": [
    "First run with all pitches feature importances: \n",
    "\n",
    "pitch_side: 0.15918781968497506\n",
    "pitch_height: 0.08908142654563922\n",
    "velocity_diff: 0.07200292986109903\n",
    "spin_rate: 0.0675649136154043\n",
    "induced_vertical_break_diff: 0.06558167095284245\n",
    "release_side: 0.06404723328752208\n",
    "horizontal_break_diff: 0.0625597542981824\n",
    "release_height: 0.061032218805417794\n",
    "induced_vertical_break: 0.053478751471834965\n",
    "spin_axis: 0.05107679885974624\n",
    "release_dist_from_C: 0.04944773508657053\n",
    "differential_break: 0.04942184003709487\n",
    "horizontal_break: 0.048209646247451624\n",
    "effective_velocity: 0.044949296324100885\n",
    "velocity: 0.04427459388470133\n",
    "extension: 0.018083371037417324"
   ]
  },
  {
   "cell_type": "code",
   "execution_count": 230,
   "metadata": {},
   "outputs": [
    {
     "data": {
      "image/png": "[encoded data removed]",
      "text/plain": [
       "<Figure size 432x288 with 1 Axes>"
      ]
     },
     "metadata": {
      "needs_background": "light"
     },
     "output_type": "display_data"
    }
   ],
   "source": [
    "# Create a bar chart of feature importances\n",
    "plt.barh(X.columns[sorted_indices], importances[sorted_indices])\n",
    "plt.xlabel('Importance')\n",
    "plt.ylabel('Feature')\n",
    "plt.title('Feature importances')\n",
    "plt.show()"
   ]
  },
  {
   "cell_type": "markdown",
   "metadata": {},
   "source": [
    "# **Running the Random Forest Model**"
   ]
  },
  {
   "cell_type": "code",
   "execution_count": 231,
   "metadata": {},
   "outputs": [],
   "source": [
    "X = df_swing_fb[['velocity', 'horizontal_break', 'induced_vertical_break', 'release_side', 'release_dist_from_C', 'release_height', 'spin_rate', 'extension', 'differential_break']]\n",
    "y = df_swing_fb['whiff']"
   ]
  },
  {
   "cell_type": "code",
   "execution_count": 232,
   "metadata": {},
   "outputs": [],
   "source": [
    "X_train, X_test, y_train, y_test = train_test_split(X, y, test_size=0.2, random_state=1)"
   ]
  },
  {
   "cell_type": "code",
   "execution_count": 233,
   "metadata": {},
   "outputs": [
    {
     "data": {
      "text/plain": [
       "RandomForestRegressor(random_state=1)"
      ]
     },
     "execution_count": 233,
     "metadata": {},
     "output_type": "execute_result"
    }
   ],
   "source": [
    "model = RandomForestRegressor(n_estimators=100, random_state=1)\n",
    "\n",
    "model.fit(X_train, y_train)\n"
   ]
  },
  {
   "cell_type": "code",
   "execution_count": 237,
   "metadata": {},
   "outputs": [
    {
     "ename": "ValueError",
     "evalue": "Must have equal len keys and value when setting with an iterable",
     "output_type": "error",
     "traceback": [
      "\u001b[1;31m---------------------------------------------------------------------------\u001b[0m",
      "\u001b[1;31mValueError\u001b[0m                                Traceback (most recent call last)",
      "\u001b[1;32m<ipython-input-237-93f685989a72>\u001b[0m in \u001b[0;36m<module>\u001b[1;34m\u001b[0m\n\u001b[0;32m      4\u001b[0m \u001b[1;33m\u001b[0m\u001b[0m\n\u001b[0;32m      5\u001b[0m \u001b[1;31m# Add the predictions to the original DataFrame\u001b[0m\u001b[1;33m\u001b[0m\u001b[1;33m\u001b[0m\u001b[1;33m\u001b[0m\u001b[0m\n\u001b[1;32m----> 6\u001b[1;33m \u001b[0mdf\u001b[0m\u001b[1;33m.\u001b[0m\u001b[0mloc\u001b[0m\u001b[1;33m[\u001b[0m\u001b[0mX_test\u001b[0m\u001b[1;33m.\u001b[0m\u001b[0mindex\u001b[0m\u001b[1;33m,\u001b[0m \u001b[1;34m'stuff_plus_predictions'\u001b[0m\u001b[1;33m]\u001b[0m \u001b[1;33m=\u001b[0m \u001b[0mpredictions\u001b[0m\u001b[1;33m\u001b[0m\u001b[1;33m\u001b[0m\u001b[0m\n\u001b[0m",
      "\u001b[1;32mc:\\Users\\genoc\\Anaconda3\\lib\\site-packages\\pandas\\core\\indexing.py\u001b[0m in \u001b[0;36m__setitem__\u001b[1;34m(self, key, value)\u001b[0m\n\u001b[0;32m    690\u001b[0m \u001b[1;33m\u001b[0m\u001b[0m\n\u001b[0;32m    691\u001b[0m         \u001b[0miloc\u001b[0m \u001b[1;33m=\u001b[0m \u001b[0mself\u001b[0m \u001b[1;32mif\u001b[0m \u001b[0mself\u001b[0m\u001b[1;33m.\u001b[0m\u001b[0mname\u001b[0m \u001b[1;33m==\u001b[0m \u001b[1;34m\"iloc\"\u001b[0m \u001b[1;32melse\u001b[0m \u001b[0mself\u001b[0m\u001b[1;33m.\u001b[0m\u001b[0mobj\u001b[0m\u001b[1;33m.\u001b[0m\u001b[0miloc\u001b[0m\u001b[1;33m\u001b[0m\u001b[1;33m\u001b[0m\u001b[0m\n\u001b[1;32m--> 692\u001b[1;33m         \u001b[0miloc\u001b[0m\u001b[1;33m.\u001b[0m\u001b[0m_setitem_with_indexer\u001b[0m\u001b[1;33m(\u001b[0m\u001b[0mindexer\u001b[0m\u001b[1;33m,\u001b[0m \u001b[0mvalue\u001b[0m\u001b[1;33m,\u001b[0m \u001b[0mself\u001b[0m\u001b[1;33m.\u001b[0m\u001b[0mname\u001b[0m\u001b[1;33m)\u001b[0m\u001b[1;33m\u001b[0m\u001b[1;33m\u001b[0m\u001b[0m\n\u001b[0m\u001b[0;32m    693\u001b[0m \u001b[1;33m\u001b[0m\u001b[0m\n\u001b[0;32m    694\u001b[0m     \u001b[1;32mdef\u001b[0m \u001b[0m_validate_key\u001b[0m\u001b[1;33m(\u001b[0m\u001b[0mself\u001b[0m\u001b[1;33m,\u001b[0m \u001b[0mkey\u001b[0m\u001b[1;33m,\u001b[0m \u001b[0maxis\u001b[0m\u001b[1;33m:\u001b[0m \u001b[0mint\u001b[0m\u001b[1;33m)\u001b[0m\u001b[1;33m:\u001b[0m\u001b[1;33m\u001b[0m\u001b[1;33m\u001b[0m\u001b[0m\n",
      "\u001b[1;32mc:\\Users\\genoc\\Anaconda3\\lib\\site-packages\\pandas\\core\\indexing.py\u001b[0m in \u001b[0;36m_setitem_with_indexer\u001b[1;34m(self, indexer, value, name)\u001b[0m\n\u001b[0;32m   1633\u001b[0m         \u001b[1;32mif\u001b[0m \u001b[0mtake_split_path\u001b[0m\u001b[1;33m:\u001b[0m\u001b[1;33m\u001b[0m\u001b[1;33m\u001b[0m\u001b[0m\n\u001b[0;32m   1634\u001b[0m             \u001b[1;31m# We have to operate column-wise\u001b[0m\u001b[1;33m\u001b[0m\u001b[1;33m\u001b[0m\u001b[1;33m\u001b[0m\u001b[0m\n\u001b[1;32m-> 1635\u001b[1;33m             \u001b[0mself\u001b[0m\u001b[1;33m.\u001b[0m\u001b[0m_setitem_with_indexer_split_path\u001b[0m\u001b[1;33m(\u001b[0m\u001b[0mindexer\u001b[0m\u001b[1;33m,\u001b[0m \u001b[0mvalue\u001b[0m\u001b[1;33m,\u001b[0m \u001b[0mname\u001b[0m\u001b[1;33m)\u001b[0m\u001b[1;33m\u001b[0m\u001b[1;33m\u001b[0m\u001b[0m\n\u001b[0m\u001b[0;32m   1636\u001b[0m         \u001b[1;32melse\u001b[0m\u001b[1;33m:\u001b[0m\u001b[1;33m\u001b[0m\u001b[1;33m\u001b[0m\u001b[0m\n\u001b[0;32m   1637\u001b[0m             \u001b[0mself\u001b[0m\u001b[1;33m.\u001b[0m\u001b[0m_setitem_single_block\u001b[0m\u001b[1;33m(\u001b[0m\u001b[0mindexer\u001b[0m\u001b[1;33m,\u001b[0m \u001b[0mvalue\u001b[0m\u001b[1;33m,\u001b[0m \u001b[0mname\u001b[0m\u001b[1;33m)\u001b[0m\u001b[1;33m\u001b[0m\u001b[1;33m\u001b[0m\u001b[0m\n",
      "\u001b[1;32mc:\\Users\\genoc\\Anaconda3\\lib\\site-packages\\pandas\\core\\indexing.py\u001b[0m in \u001b[0;36m_setitem_with_indexer_split_path\u001b[1;34m(self, indexer, value, name)\u001b[0m\n\u001b[0;32m   1686\u001b[0m                     \u001b[1;32mreturn\u001b[0m \u001b[0mself\u001b[0m\u001b[1;33m.\u001b[0m\u001b[0m_setitem_with_indexer\u001b[0m\u001b[1;33m(\u001b[0m\u001b[1;33m(\u001b[0m\u001b[0mpi\u001b[0m\u001b[1;33m,\u001b[0m \u001b[0minfo_axis\u001b[0m\u001b[1;33m[\u001b[0m\u001b[1;36m0\u001b[0m\u001b[1;33m]\u001b[0m\u001b[1;33m)\u001b[0m\u001b[1;33m,\u001b[0m \u001b[0mvalue\u001b[0m\u001b[1;33m[\u001b[0m\u001b[1;36m0\u001b[0m\u001b[1;33m]\u001b[0m\u001b[1;33m)\u001b[0m\u001b[1;33m\u001b[0m\u001b[1;33m\u001b[0m\u001b[0m\n\u001b[0;32m   1687\u001b[0m \u001b[1;33m\u001b[0m\u001b[0m\n\u001b[1;32m-> 1688\u001b[1;33m                 raise ValueError(\n\u001b[0m\u001b[0;32m   1689\u001b[0m                     \u001b[1;34m\"Must have equal len keys and value \"\u001b[0m\u001b[1;33m\u001b[0m\u001b[1;33m\u001b[0m\u001b[0m\n\u001b[0;32m   1690\u001b[0m                     \u001b[1;34m\"when setting with an iterable\"\u001b[0m\u001b[1;33m\u001b[0m\u001b[1;33m\u001b[0m\u001b[0m\n",
      "\u001b[1;31mValueError\u001b[0m: Must have equal len keys and value when setting with an iterable"
     ]
    }
   ],
   "source": [
    "predictions = model.predict(X_test)\n",
    "\n",
    "assert len(predictions) == len(X_test)\n",
    "\n",
    "# Add the predictions to the original DataFrame\n",
    "df.loc[X_test.index, 'stuff_plus_predictions'] = predictions"
   ]
  },
  {
   "cell_type": "code",
   "execution_count": null,
   "metadata": {},
   "outputs": [],
   "source": [
    "df['stuff_plus'].describe()"
   ]
  },
  {
   "cell_type": "code",
   "execution_count": null,
   "metadata": {},
   "outputs": [],
   "source": []
  }
 ],
 "metadata": {
  "kernelspec": {
   "display_name": "base",
   "language": "python",
   "name": "python3"
  },
  "language_info": {
   "codemirror_mode": {
    "name": "ipython",
    "version": 3
   },
   "file_extension": ".py",
   "mimetype": "text/x-python",
   "name": "python",
   "nbconvert_exporter": "python",
   "pygments_lexer": "ipython3",
   "version": "3.8.8"
  }
 },
 "nbformat": 4,
 "nbformat_minor": 2
}
