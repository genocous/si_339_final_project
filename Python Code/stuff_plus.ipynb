{
 "cells": [
  {
   "cell_type": "code",
   "execution_count": 3,
   "metadata": {},
   "outputs": [],
   "source": [
    "# Load Libraries\n",
    "import pandas as pd\n",
    "import pickle\n",
    "from pandas import DataFrame, Series\n",
    "from sklearn.ensemble import RandomForestClassifier,RandomForestRegressor\n",
    "from sklearn.preprocessing import StandardScaler\n",
    "import numpy as np\n",
    "import seaborn as sns\n",
    "import statsmodels.api as sm\n",
    "from sklearn import linear_model, naive_bayes\n",
    "from sklearn.datasets import make_regression\n",
    "from sklearn.model_selection import train_test_split, cross_val_score\n",
    "from sklearn.naive_bayes import GaussianNB\n",
    "from sklearn.naive_bayes import MultinomialNB\n",
    "from sklearn.tree import DecisionTreeRegressor\n",
    "from sklearn import svm\n",
    "from statsmodels.stats.outliers_influence import variance_inflation_factor\n",
    "import matplotlib.pyplot as plt\n",
    "from sklearn.metrics import mean_squared_error,r2_score\n",
    "import pybaseball as pyb\n",
    "from pybaseball import statcast\n",
    "import xgboost as xgb\n",
    "from xgboost import XGBRegressor, XGBClassifier\n",
    "from keras.models import Sequential\n",
    "from keras.layers import Dense\n",
    "from sklearn.linear_model import LinearRegression\n",
    "from sklearn.svm import SVR\n",
    "from sklearn import model_selection\n",
    "from sklearn.linear_model import LogisticRegression\n",
    "from sklearn.tree import DecisionTreeClassifier\n",
    "from sklearn.neighbors import KNeighborsClassifier\n",
    "from sklearn.svm import SVC\n",
    "from sklearn.ensemble import VotingClassifier\n",
    "from sklearn.metrics import classification_report, confusion_matrix ,accuracy_score\n",
    "from sklearn.model_selection import GridSearchCV\n",
    "from sklearn.model_selection import KFold\n",
    "from sklearn.pipeline import Pipeline\n",
    "\n",
    "from pybaseball import statcast\n",
    "from pybaseball import  playerid_lookup\n",
    "from pybaseball import  statcast_pitcher\n",
    "from pybaseball import pitching_stats\n",
    "from pybaseball import batting_stats\n",
    "import matplotlib.pyplot as plt\n",
    "import matplotlib.patches as mpatches\n",
    "import numpy as np\n",
    "from pybaseball import pitching_stats_bref\n",
    "from pybaseball import statcast_batter"
   ]
  },
  {
   "cell_type": "code",
   "execution_count": 59,
   "metadata": {},
   "outputs": [],
   "source": [
    "pyb.cache.enable()"
   ]
  },
  {
   "cell_type": "code",
   "execution_count": 60,
   "metadata": {},
   "outputs": [
    {
     "name": "stdout",
     "output_type": "stream",
     "text": [
      "This is a large query, it may take a moment to complete\n"
     ]
    },
    {
     "name": "stderr",
     "output_type": "stream",
     "text": [
      "  0%|          | 0/209 [00:00<?, ?it/s]"
     ]
    },
    {
     "name": "stderr",
     "output_type": "stream",
     "text": [
      "100%|██████████| 209/209 [00:25<00:00,  8.05it/s]\n"
     ]
    }
   ],
   "source": [
    "data = statcast(start_dt=\"2023-03-30\", end_dt=\"2023-10-24\")\n",
    "columns = ['game_date', 'player_name', 'batter', 'p_throws', 'stand', 'pitch_type', 'release_speed', 'pfx_x', 'pfx_z', 'release_pos_x', 'release_pos_y', 'release_pos_z', 'spin_axis', 'effective_speed', 'release_spin_rate', 'release_extension', 'plate_x', 'plate_z', 'description']\n"
   ]
  },
  {
   "cell_type": "code",
   "execution_count": 61,
   "metadata": {},
   "outputs": [],
   "source": [
    "df = data[columns]"
   ]
  },
  {
   "cell_type": "markdown",
   "metadata": {},
   "source": [
    "# **Data Cleaning**"
   ]
  },
  {
   "cell_type": "code",
   "execution_count": 62,
   "metadata": {},
   "outputs": [
    {
     "name": "stderr",
     "output_type": "stream",
     "text": [
      "c:\\Users\\genoc\\Anaconda3\\lib\\site-packages\\pandas\\core\\frame.py:4441: SettingWithCopyWarning: \n",
      "A value is trying to be set on a copy of a slice from a DataFrame\n",
      "\n",
      "See the caveats in the documentation: https://pandas.pydata.org/pandas-docs/stable/user_guide/indexing.html#returning-a-view-versus-a-copy\n",
      "  return super().rename(\n"
     ]
    }
   ],
   "source": [
    "# Rename columns for easier access\n",
    "column_mapping = {\n",
    "    'game_date': 'date',\n",
    "    'player_name': 'pitcher_name',\n",
    "    'batter': 'batter_id',\n",
    "    'p_throws': 'p_hand',\n",
    "    'stand': 'batter_side',\n",
    "    'pitch_type': 'pitch_type',\n",
    "    'release_speed': 'velocity',\n",
    "    'pfx_x': 'horizontal_break',\n",
    "    'pfx_z': 'induced_vertical_break',\n",
    "    'release_pos_x': 'release_side',\n",
    "    'release_pos_y': 'release_dist_from_C',\n",
    "    'release_pos_z': 'release_height',\n",
    "    'spin_axis': 'spin_axis',\n",
    "    'effective_speed': 'effective_velocity',\n",
    "    'release_spin_rate': 'spin_rate',\n",
    "    'release_extension': 'extension',\n",
    "    'plate_x': 'pitch_height',\n",
    "    'plate_z': 'pitch_side'\n",
    "}\n",
    "\n",
    "df.rename(columns=column_mapping, inplace=True)"
   ]
  },
  {
   "cell_type": "code",
   "execution_count": 63,
   "metadata": {},
   "outputs": [
    {
     "name": "stderr",
     "output_type": "stream",
     "text": [
      "<ipython-input-63-630fba45d089>:5: SettingWithCopyWarning: \n",
      "A value is trying to be set on a copy of a slice from a DataFrame.\n",
      "Try using .loc[row_indexer,col_indexer] = value instead\n",
      "\n",
      "See the caveats in the documentation: https://pandas.pydata.org/pandas-docs/stable/user_guide/indexing.html#returning-a-view-versus-a-copy\n",
      "  df['pitcher_name'] = df['pitcher_name'].str.split(' ', expand=True)[1] + ' ' + df['pitcher_name'].str.split(' ', expand=True)[0]\n",
      "<ipython-input-63-630fba45d089>:8: SettingWithCopyWarning: \n",
      "A value is trying to be set on a copy of a slice from a DataFrame.\n",
      "Try using .loc[row_indexer,col_indexer] = value instead\n",
      "\n",
      "See the caveats in the documentation: https://pandas.pydata.org/pandas-docs/stable/user_guide/indexing.html#returning-a-view-versus-a-copy\n",
      "  df['pitcher_name'] = df['pitcher_name'].replace(',', '', regex=True)\n"
     ]
    }
   ],
   "source": [
    "# release side, release height, induced vertical break, extension, velocity, horizontal break, differential break, spin rate, spin axis\n",
    "# pitcher name, pitcher team, pitch type\n",
    "\n",
    "# Edit the pitcher names so the first name is first and the last name is last\n",
    "df['pitcher_name'] = df['pitcher_name'].str.split(' ', expand=True)[1] + ' ' + df['pitcher_name'].str.split(' ', expand=True)[0]\n",
    "\n",
    "# Remove the comma from the last name\n",
    "df['pitcher_name'] = df['pitcher_name'].replace(',', '', regex=True)"
   ]
  },
  {
   "cell_type": "code",
   "execution_count": 50,
   "metadata": {},
   "outputs": [
    {
     "data": {
      "text/plain": [
       "'\\n# Get a list of unique batter IDs in the dataframe\\nbatter_ids = df[\\'batter_id\\'].unique()\\n\\n# Initialize an empty DataFrame to store the player names\\ndf_batters = pd.DataFrame()\\n\\n# Loop over the batter IDs and look up the player names\\nfor batter_id in batter_ids:\\n    try:\\n        # Get data for the batter\\n        data = statcast_batter(\\'2023-03-30\\', \\'2023-10-24\\', batter_id)\\n        \\n        # Get the player\\'s name\\n        name = data[\\'player_name\\'].iloc[0]\\n        \\n        # Append the batter ID and name to df_batters\\n        df_batters = df_batters.append({\\'batter_id\\': batter_id, \\'name\\': name}, ignore_index=True)\\n    except:\\n        print(f\"No player found for ID {batter_id}\")\\n\\n# Split the \\'name\\' column into a DataFrame of separate words\\nname_df = df_batters[\\'name\\'].str.split(\\' \\', expand=True)\\n\\n# Initialize an empty list to store the new names\\nnew_names = []\\n\\n# Loop over the rows in name_df\\nfor i, row in name_df.iterrows():\\n    # If the name has only two words, use the existing method\\n    if row.count() == 2:\\n        new_name = row[1] + \\' \\' + row[0]\\n    # If the name has more than two words, use the other method\\n    else:\\n        first_name = row[row.last_valid_index()]\\n        last_name = \\' \\'.join(row[:row.last_valid_index()].dropna())\\n        new_name = first_name + \\' \\' + last_name\\n\\n    # Remove the comma from the new name\\n    new_name = new_name.replace(\\',\\', \\'\\')\\n\\n    # Append the new name to new_names\\n    new_names.append(new_name)\\n\\n# Replace the \\'name\\' column in df_batters with new_names\\ndf_batters[\\'name\\'] = new_names\\n'"
      ]
     },
     "execution_count": 50,
     "metadata": {},
     "output_type": "execute_result"
    }
   ],
   "source": [
    "\"\"\"\n",
    "# Get a list of unique batter IDs in the dataframe\n",
    "batter_ids = df['batter_id'].unique()\n",
    "\n",
    "# Initialize an empty DataFrame to store the player names\n",
    "df_batters = pd.DataFrame()\n",
    "\n",
    "# Loop over the batter IDs and look up the player names\n",
    "for batter_id in batter_ids:\n",
    "    try:\n",
    "        # Get data for the batter\n",
    "        data = statcast_batter('2023-03-30', '2023-10-24', batter_id)\n",
    "        \n",
    "        # Get the player's name\n",
    "        name = data['player_name'].iloc[0]\n",
    "        \n",
    "        # Append the batter ID and name to df_batters\n",
    "        df_batters = df_batters.append({'batter_id': batter_id, 'name': name}, ignore_index=True)\n",
    "    except:\n",
    "        print(f\"No player found for ID {batter_id}\")\n",
    "\n",
    "# Split the 'name' column into a DataFrame of separate words\n",
    "name_df = df_batters['name'].str.split(' ', expand=True)\n",
    "\n",
    "# Initialize an empty list to store the new names\n",
    "new_names = []\n",
    "\n",
    "# Loop over the rows in name_df\n",
    "for i, row in name_df.iterrows():\n",
    "    # If the name has only two words, use the existing method\n",
    "    if row.count() == 2:\n",
    "        new_name = row[1] + ' ' + row[0]\n",
    "    # If the name has more than two words, use the other method\n",
    "    else:\n",
    "        first_name = row[row.last_valid_index()]\n",
    "        last_name = ' '.join(row[:row.last_valid_index()].dropna())\n",
    "        new_name = first_name + ' ' + last_name\n",
    "\n",
    "    # Remove the comma from the new name\n",
    "    new_name = new_name.replace(',', '')\n",
    "\n",
    "    # Append the new name to new_names\n",
    "    new_names.append(new_name)\n",
    "\n",
    "# Replace the 'name' column in df_batters with new_names\n",
    "df_batters['name'] = new_names\n",
    "\"\"\"\n"
   ]
  },
  {
   "cell_type": "code",
   "execution_count": 39,
   "metadata": {},
   "outputs": [],
   "source": [
    "\"\"\"\n",
    "import pickle\n",
    "\n",
    "# Save the DataFrame to a pickle file\n",
    "with open('df_batters.pkl', 'wb') as f:\n",
    "    pickle.dump(df_batters, f)\n",
    "\"\"\""
   ]
  },
  {
   "cell_type": "code",
   "execution_count": 64,
   "metadata": {},
   "outputs": [
    {
     "data": {
      "text/plain": [
       "386"
      ]
     },
     "execution_count": 64,
     "metadata": {},
     "output_type": "execute_result"
    }
   ],
   "source": [
    "# Load the DataFrame from a pickle file\n",
    "with open('df_batters.pkl', 'rb') as f:\n",
    "    df_batters = pickle.load(f)\n",
    "\n",
    "len(df_batters)"
   ]
  },
  {
   "cell_type": "code",
   "execution_count": 65,
   "metadata": {},
   "outputs": [
    {
     "name": "stderr",
     "output_type": "stream",
     "text": [
      "<ipython-input-65-411bea550f7a>:5: SettingWithCopyWarning: \n",
      "A value is trying to be set on a copy of a slice from a DataFrame.\n",
      "Try using .loc[row_indexer,col_indexer] = value instead\n",
      "\n",
      "See the caveats in the documentation: https://pandas.pydata.org/pandas-docs/stable/user_guide/indexing.html#returning-a-view-versus-a-copy\n",
      "  df['batter_name'] = df['batter_id'].map(batter_id_to_name)\n"
     ]
    }
   ],
   "source": [
    "# Create a mapping from batter_id to name\n",
    "batter_id_to_name = df_batters.set_index('batter_id')['name'].to_dict()\n",
    "\n",
    "# Replace the batter_id values with names in the dataframe\n",
    "df['batter_name'] = df['batter_id'].map(batter_id_to_name)\n",
    "\n",
    "# Delete batter_id from the dataframe\n",
    "df = df.drop('batter_id', axis=1)"
   ]
  },
  {
   "cell_type": "code",
   "execution_count": 66,
   "metadata": {},
   "outputs": [
    {
     "name": "stdout",
     "output_type": "stream",
     "text": [
      "Total hitters who played in 2023: 385\n",
      "Total pitchers who played in 2023: 861\n",
      "Total players who played in 2023: 1246\n"
     ]
    }
   ],
   "source": [
    "print(\"Total hitters who played in 2023:\", df['batter_name'].nunique())\n",
    "print(\"Total pitchers who played in 2023:\", df['pitcher_name'].nunique())\n",
    "print(\"Total players who played in 2023:\", df['batter_name'].nunique() + df['pitcher_name'].nunique())"
   ]
  },
  {
   "cell_type": "code",
   "execution_count": 67,
   "metadata": {},
   "outputs": [
    {
     "name": "stdout",
     "output_type": "stream",
     "text": [
      "728284\n",
      "690003\n"
     ]
    },
    {
     "data": {
      "text/plain": [
       "array(['FB', 'SL', 'CB', 'CH'], dtype=object)"
      ]
     },
     "execution_count": 67,
     "metadata": {},
     "output_type": "execute_result"
    }
   ],
   "source": [
    "# Define a dictionary mapping different pitch types to standard ones\n",
    "pitch_type_mapping = {\n",
    "    'FF': 'FB',\n",
    "    'FT': 'FB',\n",
    "    'SI': 'FB',\n",
    "    'FC': 'FB',\n",
    "    'CH': 'CH',\n",
    "    'FS': 'CH',\n",
    "    'SC': 'CH',\n",
    "    'GY': 'CH',\n",
    "    'FO': 'CH',\n",
    "    'FS': 'CH',\n",
    "    'CU': 'CB',\n",
    "    'KC': 'CB',\n",
    "    'SL': 'SL'\n",
    "}\n",
    "\n",
    "# Replace the pitch types\n",
    "df['pitch_type'] = df['pitch_type'].replace(pitch_type_mapping)\n",
    "print(len(df))\n",
    "\n",
    "# Remove pitch types that are not in the mapping\n",
    "df = df[df['pitch_type'].isin(pitch_type_mapping.values())]\n",
    "print(len(df))\n",
    "\n",
    "df['pitch_type'].unique()"
   ]
  },
  {
   "cell_type": "code",
   "execution_count": 68,
   "metadata": {},
   "outputs": [
    {
     "name": "stderr",
     "output_type": "stream",
     "text": [
      "<ipython-input-68-8551bd8b0b96>:8: FutureWarning: Indexing with multiple keys (implicitly converted to a tuple of keys) will be deprecated, use a list instead.\n",
      "  average_fastball = df[df['pitch_type'] == 'FB'].groupby('pitcher_name')['velocity', 'horizontal_break', 'induced_vertical_break'].mean()\n"
     ]
    }
   ],
   "source": [
    "# Make horizontal break the absolute value\n",
    "df['horizontal_break'] = abs(df['horizontal_break'])\n",
    "\n",
    "# Create differential break column: induced vertical break - horizontal break\n",
    "df['differential_break'] = (df['induced_vertical_break'] - df['horizontal_break']).abs()\n",
    "\n",
    "# Calculate the average fastball velocity and movement for each pitcher\n",
    "average_fastball = df[df['pitch_type'] == 'FB'].groupby('pitcher_name')['velocity', 'horizontal_break', 'induced_vertical_break'].mean()\n",
    "\n",
    "# Create new columns for the differences\n",
    "df['velocity_diff'] = df['velocity'] - df['pitcher_name'].map(average_fastball['velocity'])\n",
    "df['horizontal_break_diff'] = df['horizontal_break'] - df['pitcher_name'].map(average_fastball['horizontal_break'])\n",
    "df['induced_vertical_break_diff'] = df['induced_vertical_break'] - df['pitcher_name'].map(average_fastball['induced_vertical_break'])"
   ]
  },
  {
   "cell_type": "code",
   "execution_count": 69,
   "metadata": {},
   "outputs": [],
   "source": [
    "# Create columns for whiff (swing and miss) and swings\n",
    "df['whiff'] = df['description'].apply(lambda x: 1 if x == \"swinging_strike\" or x == 'foul_tip' else 0)\n",
    "df['swing'] = df['description'].apply(lambda x: 1 if x == \"swinging_strike\" or x == \"hit_into_play\" or x == \"foul\" or x == \"foul_tip\" else 0)"
   ]
  },
  {
   "cell_type": "code",
   "execution_count": 70,
   "metadata": {},
   "outputs": [],
   "source": [
    "df_swing = df[df['swing'] == 1]\n",
    "df_rhp_fb = df[(df['p_hand'] == 'R') & (df['pitch_type'] == 'FB')]"
   ]
  },
  {
   "cell_type": "code",
   "execution_count": 71,
   "metadata": {},
   "outputs": [
    {
     "name": "stdout",
     "output_type": "stream",
     "text": [
      "Difference between lengths of df and swing_df: 366628\n",
      "Amount of swings and misses: 323375\n",
      "Total Fastballs thrown by RHP: 296320\n"
     ]
    }
   ],
   "source": [
    "print(\"Difference between lengths of df and swing_df:\", len(df) - len(df_swing))\n",
    "print(\"Amount of swings and misses:\", len(df_swing))\n",
    "print(\"Total Fastballs thrown by RHP:\", len(df_rhp_fb))"
   ]
  },
  {
   "cell_type": "code",
   "execution_count": 72,
   "metadata": {},
   "outputs": [
    {
     "name": "stdout",
     "output_type": "stream",
     "text": [
      "Amount of swings on fastballs:  142419\n",
      "Amount of swings on offspeed pitches:  98193\n",
      "Total Fastballs thrown by RHP: 221701\n"
     ]
    }
   ],
   "source": [
    "# Delete all nan values\n",
    "df_swing = df_swing.dropna()\n",
    "df_rhp_fb = df_rhp_fb.dropna()\n",
    "\n",
    "df_swing_fb = df_swing[df_swing['pitch_type'] == 'FB']\n",
    "df_swing_os = df_swing[df_swing['pitch_type'] != 'FB']\n",
    "\n",
    "print(\"Amount of swings on fastballs: \", len(df_swing_fb))\n",
    "print(\"Amount of swings on offspeed pitches: \", len(df_swing_os))\n",
    "print(\"Total Fastballs thrown by RHP:\", len(df_rhp_fb))"
   ]
  },
  {
   "cell_type": "markdown",
   "metadata": {},
   "source": [
    "# **Feature Selection**"
   ]
  },
  {
   "cell_type": "code",
   "execution_count": 73,
   "metadata": {},
   "outputs": [
    {
     "name": "stdout",
     "output_type": "stream",
     "text": [
      "57416\n"
     ]
    }
   ],
   "source": [
    "df_swing_fb_r_r = df_swing_fb[(df_swing_fb['p_hand'] == 'R') & (df_swing_fb['batter_side'] == 'R')]\n",
    "print(len(df_swing_fb_r_r))\n",
    "\n",
    "# Take a random sample of 10% of the fastballs\n",
    "df_swing_fb_sample = df_swing_fb_r_r.sample(frac=0.1)\n",
    "\n",
    "\n",
    "#X = df_swing_fb_sample[['velocity', 'horizontal_break', 'induced_vertical_break', 'release_side', 'release_dist_from_C', 'release_height', 'spin_axis', 'effective_velocity', 'spin_rate', 'extension', 'pitch_height', 'pitch_side', 'differential_break', 'velocity_diff', 'horizontal_break_diff', 'induced_vertical_break_diff']]\n",
    "X = df_swing_fb_sample[['velocity', 'horizontal_break', 'induced_vertical_break', 'release_side', 'release_dist_from_C', 'release_height', 'spin_rate', 'extension', 'differential_break']]\n",
    "y = df_swing_fb_sample['whiff']"
   ]
  },
  {
   "cell_type": "code",
   "execution_count": 74,
   "metadata": {},
   "outputs": [
    {
     "name": "stdout",
     "output_type": "stream",
     "text": [
      "Feature ranking:\n",
      "spin_rate: 0.14051594358446295\n",
      "release_side: 0.12952419763114564\n",
      "release_height: 0.12718210065807142\n",
      "velocity: 0.12318766968510834\n",
      "horizontal_break: 0.11569881197666639\n",
      "induced_vertical_break: 0.11509792638066935\n",
      "release_dist_from_C: 0.1072257704014753\n",
      "differential_break: 0.10570545856476211\n",
      "extension: 0.03586212111763853\n"
     ]
    }
   ],
   "source": [
    "# Assuming X is your feature matrix and y is the target variable\n",
    "model = RandomForestRegressor()\n",
    "model.fit(X, y)\n",
    "\n",
    "# Get feature importances\n",
    "importances = model.feature_importances_\n",
    "\n",
    "# Sort features by importance\n",
    "sorted_indices = np.argsort(importances)[::-1]\n",
    "\n",
    "# Print the feature ranking\n",
    "print(\"Feature ranking:\")\n",
    "for i in range(X.shape[1]):\n",
    "    print(f\"{X.columns[sorted_indices[i]]}: {importances[sorted_indices[i]]}\")"
   ]
  },
  {
   "cell_type": "markdown",
   "metadata": {},
   "source": [
    "First run with all pitches feature importances: \n",
    "\n",
    "pitch_side: 0.15918781968497506\n",
    "pitch_height: 0.08908142654563922\n",
    "velocity_diff: 0.07200292986109903\n",
    "spin_rate: 0.0675649136154043\n",
    "induced_vertical_break_diff: 0.06558167095284245\n",
    "release_side: 0.06404723328752208\n",
    "horizontal_break_diff: 0.0625597542981824\n",
    "release_height: 0.061032218805417794\n",
    "induced_vertical_break: 0.053478751471834965\n",
    "spin_axis: 0.05107679885974624\n",
    "release_dist_from_C: 0.04944773508657053\n",
    "differential_break: 0.04942184003709487\n",
    "horizontal_break: 0.048209646247451624\n",
    "effective_velocity: 0.044949296324100885\n",
    "velocity: 0.04427459388470133\n",
    "extension: 0.018083371037417324"
   ]
  },
  {
   "cell_type": "code",
   "execution_count": 75,
   "metadata": {},
   "outputs": [
    {
     "data": {
      "image/png": "[encoded data removed]",
      "text/plain": [
       "<Figure size 432x288 with 1 Axes>"
      ]
     },
     "metadata": {
      "needs_background": "light"
     },
     "output_type": "display_data"
    }
   ],
   "source": [
    "# Create a bar chart of feature importances\n",
    "plt.barh(X.columns[sorted_indices], importances[sorted_indices])\n",
    "plt.xlabel('Importance')\n",
    "plt.ylabel('Feature')\n",
    "plt.title('Feature importances')\n",
    "plt.show()"
   ]
  },
  {
   "cell_type": "markdown",
   "metadata": {},
   "source": [
    "# **Running the Random Forest Model**"
   ]
  },
  {
   "cell_type": "code",
   "execution_count": 76,
   "metadata": {},
   "outputs": [],
   "source": [
    "df_rhp_fb['velocity^2'] = df_rhp_fb['velocity']**2\n",
    "df_rhp_fb['extension_IVB'] = df_rhp_fb['extension'] * df_rhp_fb['induced_vertical_break']\n",
    "df_rhp_fb['spin_rate^3'] = df_rhp_fb['spin_rate']**3"
   ]
  },
  {
   "cell_type": "code",
   "execution_count": 77,
   "metadata": {},
   "outputs": [],
   "source": [
    "#X = df_swing_fb[['velocity', 'horizontal_break', 'induced_vertical_break', 'release_side', 'release_height', 'spin_rate', 'extension', 'differential_break']]\n",
    "X = df_rhp_fb[['spin_rate^3', 'velocity', 'velocity^2', 'extension', 'induced_vertical_break', 'horizontal_break', 'release_side', 'release_height', 'spin_rate', 'differential_break', 'extension_IVB']]\n",
    "y = df_rhp_fb['whiff']"
   ]
  },
  {
   "cell_type": "code",
   "execution_count": 78,
   "metadata": {},
   "outputs": [],
   "source": [
    "X_train, X_test, y_train, y_test = train_test_split(X, y, test_size=0.2, random_state=42)"
   ]
  },
  {
   "cell_type": "code",
   "execution_count": 79,
   "metadata": {},
   "outputs": [],
   "source": [
    "scaler = StandardScaler()\n",
    "X_train_scaled = scaler.fit_transform(X_train)\n",
    "X_test_scaled = scaler.transform(X_test)"
   ]
  },
  {
   "cell_type": "code",
   "execution_count": 80,
   "metadata": {},
   "outputs": [
    {
     "data": {
      "text/html": [
       "<style>#sk-container-id-2 {color: black;}#sk-container-id-2 pre{padding: 0;}#sk-container-id-2 div.sk-toggleable {background-color: white;}#sk-container-id-2 label.sk-toggleable__label {cursor: pointer;display: block;width: 100%;margin-bottom: 0;padding: 0.3em;box-sizing: border-box;text-align: center;}#sk-container-id-2 label.sk-toggleable__label-arrow:before {content: \"▸\";float: left;margin-right: 0.25em;color: #696969;}#sk-container-id-2 label.sk-toggleable__label-arrow:hover:before {color: black;}#sk-container-id-2 div.sk-estimator:hover label.sk-toggleable__label-arrow:before {color: black;}#sk-container-id-2 div.sk-toggleable__content {max-height: 0;max-width: 0;overflow: hidden;text-align: left;background-color: #f0f8ff;}#sk-container-id-2 div.sk-toggleable__content pre {margin: 0.2em;color: black;border-radius: 0.25em;background-color: #f0f8ff;}#sk-container-id-2 input.sk-toggleable__control:checked~div.sk-toggleable__content {max-height: 200px;max-width: 100%;overflow: auto;}#sk-container-id-2 input.sk-toggleable__control:checked~label.sk-toggleable__label-arrow:before {content: \"▾\";}#sk-container-id-2 div.sk-estimator input.sk-toggleable__control:checked~label.sk-toggleable__label {background-color: #d4ebff;}#sk-container-id-2 div.sk-label input.sk-toggleable__control:checked~label.sk-toggleable__label {background-color: #d4ebff;}#sk-container-id-2 input.sk-hidden--visually {border: 0;clip: rect(1px 1px 1px 1px);clip: rect(1px, 1px, 1px, 1px);height: 1px;margin: -1px;overflow: hidden;padding: 0;position: absolute;width: 1px;}#sk-container-id-2 div.sk-estimator {font-family: monospace;background-color: #f0f8ff;border: 1px dotted black;border-radius: 0.25em;box-sizing: border-box;margin-bottom: 0.5em;}#sk-container-id-2 div.sk-estimator:hover {background-color: #d4ebff;}#sk-container-id-2 div.sk-parallel-item::after {content: \"\";width: 100%;border-bottom: 1px solid gray;flex-grow: 1;}#sk-container-id-2 div.sk-label:hover label.sk-toggleable__label {background-color: #d4ebff;}#sk-container-id-2 div.sk-serial::before {content: \"\";position: absolute;border-left: 1px solid gray;box-sizing: border-box;top: 0;bottom: 0;left: 50%;z-index: 0;}#sk-container-id-2 div.sk-serial {display: flex;flex-direction: column;align-items: center;background-color: white;padding-right: 0.2em;padding-left: 0.2em;position: relative;}#sk-container-id-2 div.sk-item {position: relative;z-index: 1;}#sk-container-id-2 div.sk-parallel {display: flex;align-items: stretch;justify-content: center;background-color: white;position: relative;}#sk-container-id-2 div.sk-item::before, #sk-container-id-2 div.sk-parallel-item::before {content: \"\";position: absolute;border-left: 1px solid gray;box-sizing: border-box;top: 0;bottom: 0;left: 50%;z-index: -1;}#sk-container-id-2 div.sk-parallel-item {display: flex;flex-direction: column;z-index: 1;position: relative;background-color: white;}#sk-container-id-2 div.sk-parallel-item:first-child::after {align-self: flex-end;width: 50%;}#sk-container-id-2 div.sk-parallel-item:last-child::after {align-self: flex-start;width: 50%;}#sk-container-id-2 div.sk-parallel-item:only-child::after {width: 0;}#sk-container-id-2 div.sk-dashed-wrapped {border: 1px dashed gray;margin: 0 0.4em 0.5em 0.4em;box-sizing: border-box;padding-bottom: 0.4em;background-color: white;}#sk-container-id-2 div.sk-label label {font-family: monospace;font-weight: bold;display: inline-block;line-height: 1.2em;}#sk-container-id-2 div.sk-label-container {text-align: center;}#sk-container-id-2 div.sk-container {/* jupyter's `normalize.less` sets `[hidden] { display: none; }` but bootstrap.min.css set `[hidden] { display: none !important; }` so we also need the `!important` here to be able to override the default hidden behavior on the sphinx rendered scikit-learn.org. See: https://github.com/scikit-learn/scikit-learn/issues/21755 */display: inline-block !important;position: relative;}#sk-container-id-2 div.sk-text-repr-fallback {display: none;}</style><div id=\"sk-container-id-2\" class=\"sk-top-container\"><div class=\"sk-text-repr-fallback\"><pre>RandomForestRegressor(random_state=1)</pre><b>In a Jupyter environment, please rerun this cell to show the HTML representation or trust the notebook. <br />On GitHub, the HTML representation is unable to render, please try loading this page with nbviewer.org.</b></div><div class=\"sk-container\" hidden><div class=\"sk-item\"><div class=\"sk-estimator sk-toggleable\"><input class=\"sk-toggleable__control sk-hidden--visually\" id=\"sk-estimator-id-2\" type=\"checkbox\" checked><label for=\"sk-estimator-id-2\" class=\"sk-toggleable__label sk-toggleable__label-arrow\">RandomForestRegressor</label><div class=\"sk-toggleable__content\"><pre>RandomForestRegressor(random_state=1)</pre></div></div></div></div></div>"
      ],
      "text/plain": [
       "RandomForestRegressor(random_state=1)"
      ]
     },
     "execution_count": 80,
     "metadata": {},
     "output_type": "execute_result"
    }
   ],
   "source": [
    "model = RandomForestRegressor(n_estimators=100, random_state=1)\n",
    "\n",
    "model.fit(X_train, y_train)\n"
   ]
  },
  {
   "cell_type": "code",
   "execution_count": 81,
   "metadata": {},
   "outputs": [
    {
     "name": "stdout",
     "output_type": "stream",
     "text": [
      "Random Forest Mean Squared Error: 0.09089446561872759\n",
      "Random Forest R-squared score: -0.03408474275913398\n"
     ]
    }
   ],
   "source": [
    "# Predict Stuff+ scores for the test set using the Random Forest model\n",
    "y_rf_pred = model.predict(X_test)\n",
    "\n",
    "# Evaluate the Random Forest model's performance\n",
    "rf_mse = mean_squared_error(y_test, y_rf_pred)\n",
    "rf_r2 = r2_score(y_test, y_rf_pred)\n",
    "\n",
    "print(\"Random Forest Mean Squared Error:\", rf_mse)\n",
    "print(\"Random Forest R-squared score:\", rf_r2)"
   ]
  },
  {
   "cell_type": "code",
   "execution_count": 82,
   "metadata": {},
   "outputs": [
    {
     "name": "stdout",
     "output_type": "stream",
     "text": [
      "                        importance\n",
      "release_side              0.134288\n",
      "release_height            0.123063\n",
      "extension_IVB             0.112492\n",
      "horizontal_break          0.098028\n",
      "differential_break        0.094761\n",
      "spin_rate                 0.084508\n",
      "spin_rate^3               0.084028\n",
      "induced_vertical_break    0.076482\n",
      "extension                 0.064854\n",
      "velocity                  0.064120\n",
      "velocity^2                0.063377\n"
     ]
    }
   ],
   "source": [
    "# Get feature importances from the model\n",
    "feature_importances = model.feature_importances_\n",
    "\n",
    "# Create a DataFrame with feature importances\n",
    "feature_importances_df = pd.DataFrame({'importance': feature_importances}, index=X_train.columns)\n",
    "\n",
    "# Sort the DataFrame by importance in descending order\n",
    "feature_importances_df = feature_importances_df.sort_values('importance', ascending=False)\n",
    "\n",
    "# Print the feature importances\n",
    "print(feature_importances_df)"
   ]
  },
  {
   "cell_type": "markdown",
   "metadata": {},
   "source": [
    "# **XG Boost Model Training**"
   ]
  },
  {
   "cell_type": "code",
   "execution_count": 83,
   "metadata": {},
   "outputs": [],
   "source": [
    "# XG Boost Model\n",
    "df_rhp_fb['velocity^2'] = df_rhp_fb['velocity']**2\n",
    "df_rhp_fb['extension_spin'] = df_rhp_fb['extension'] * df_rhp_fb['spin_rate']\n",
    "df_rhp_fb['spin_rate^3'] = df_rhp_fb['spin_rate']**3\n",
    "df_rhp_fb['IVB^3'] = df_rhp_fb['induced_vertical_break']**3\n",
    "df_rhp_fb['HB^3'] = df_rhp_fb['horizontal_break']**3\n",
    "df_rhp_fb['DB^2'] = df_rhp_fb['differential_break']**2\n",
    "df_rhp_fb['velocity_feature'] = df_rhp_fb['velocity^2'] *  (df_rhp_fb['velocity']**3)"
   ]
  },
  {
   "cell_type": "code",
   "execution_count": 84,
   "metadata": {},
   "outputs": [],
   "source": [
    "# Select the features and target variable\n",
    "X = df_rhp_fb[['HB^3', 'velocity_feature', 'IVB^3', 'release_side', 'release_height', 'extension_spin', 'DB^2']]\n",
    "y = df_rhp_fb['whiff']"
   ]
  },
  {
   "cell_type": "code",
   "execution_count": 85,
   "metadata": {},
   "outputs": [
    {
     "name": "stdout",
     "output_type": "stream",
     "text": [
      "XGBoost Mean Squared Error: 0.08612990072272347\n",
      "XGBoost R-squared score: 0.014209429751895541\n",
      "                  importance\n",
      "HB^3                0.206626\n",
      "IVB^3               0.188987\n",
      "velocity_feature    0.153342\n",
      "extension_spin      0.121557\n",
      "release_height      0.120786\n",
      "DB^2                0.105206\n",
      "release_side        0.103496\n"
     ]
    }
   ],
   "source": [
    "#X = df_swing_fb_sample[['velocity', 'horizontal_break', 'induced_vertical_break', 'release_side', 'release_dist_from_C', 'release_height', 'spin_axis', 'effective_velocity', 'spin_rate', 'extension', 'pitch_height', 'pitch_side', 'differential_break', 'velocity_diff', 'horizontal_break_diff', 'induced_vertical_break_diff']]\n",
    "\n",
    "X_train, X_test, y_train, y_test = train_test_split(X, y, test_size=0.2, random_state=1)\n",
    "\n",
    "# Standardize the features for better SVR training\n",
    "scaler = StandardScaler()\n",
    "X_train_scaled = scaler.fit_transform(X_train)\n",
    "X_test_scaled = scaler.transform(X_test)\n",
    "\n",
    "# Create the XGBoost regressor object with the best parameters from the hyperparameter tuning\n",
    "xgb_model = xgb.XGBRegressor(n_estimators=254, learning_rate=0.02521371583925624, max_depth=6, reg_alpha=1.0387116997045198, reg_lambda=0.47113390095546825, random_state=1)\n",
    "\n",
    "# Train the XGBoost model using the training data\n",
    "xgb_model.fit(X_train_scaled, y_train)\n",
    "\n",
    "# Predict Stuff+ scores for the test set using the XGBoost model\n",
    "y_xgb_pred = xgb_model.predict(X_test_scaled)\n",
    "\n",
    "# Evaluate the XGBoost model's performance\n",
    "xgb_mse = mean_squared_error(y_test, y_xgb_pred)\n",
    "xgb_r2 = r2_score(y_test, y_xgb_pred)\n",
    "\n",
    "print(\"XGBoost Mean Squared Error:\", xgb_mse)\n",
    "print(\"XGBoost R-squared score:\", xgb_r2)\n",
    "\n",
    "# Get feature importances from the model\n",
    "feature_importances = xgb_model.feature_importances_\n",
    "\n",
    "# Create a DataFrame with feature importances\n",
    "feature_importances_df = pd.DataFrame({'importance': feature_importances}, index=X_train.columns)\n",
    "\n",
    "# Sort the DataFrame by importance in descending order\n",
    "feature_importances_df = feature_importances_df.sort_values('importance', ascending=False)\n",
    "\n",
    "# Print the feature importances\n",
    "print(feature_importances_df)"
   ]
  },
  {
   "cell_type": "markdown",
   "metadata": {},
   "source": [
    "# **XG Boost Model Application**"
   ]
  },
  {
   "cell_type": "code",
   "execution_count": 86,
   "metadata": {},
   "outputs": [
    {
     "data": {
      "text/plain": [
       "count    221701.000000\n",
       "mean        100.001077\n",
       "std          36.365598\n",
       "min          10.790000\n",
       "25%          73.000000\n",
       "50%          97.020000\n",
       "75%         118.360000\n",
       "max         705.110000\n",
       "Name: stuff_plus, dtype: float64"
      ]
     },
     "execution_count": 86,
     "metadata": {},
     "output_type": "execute_result"
    }
   ],
   "source": [
    "# Predict xWhiff for all rows in the DataFrame\n",
    "df_rhp_fb['xWhiff'] = xgb_model.predict(scaler.transform(df_rhp_fb[X.columns]))\n",
    "\n",
    "# Scale the predictions so that the average is 100\n",
    "df_rhp_fb['stuff_plus'] = (100 * df_rhp_fb['xWhiff'] / df_rhp_fb['xWhiff'].mean()).round(2)\n",
    "\n",
    "df_rhp_fb['stuff_plus'].describe()"
   ]
  },
  {
   "cell_type": "markdown",
   "metadata": {},
   "source": [
    "# **Results**"
   ]
  },
  {
   "cell_type": "code",
   "execution_count": 87,
   "metadata": {},
   "outputs": [
    {
     "data": {
      "text/plain": [
       "array(['R'], dtype=object)"
      ]
     },
     "execution_count": 87,
     "metadata": {},
     "output_type": "execute_result"
    }
   ],
   "source": [
    "df_rhp_fb['p_hand'].unique()"
   ]
  },
  {
   "cell_type": "code",
   "execution_count": 88,
   "metadata": {},
   "outputs": [
    {
     "data": {
      "text/html": [
       "<div>\n",
       "<style scoped>\n",
       "    .dataframe tbody tr th:only-of-type {\n",
       "        vertical-align: middle;\n",
       "    }\n",
       "\n",
       "    .dataframe tbody tr th {\n",
       "        vertical-align: top;\n",
       "    }\n",
       "\n",
       "    .dataframe thead th {\n",
       "        text-align: right;\n",
       "    }\n",
       "</style>\n",
       "<table border=\"1\" class=\"dataframe\">\n",
       "  <thead>\n",
       "    <tr style=\"text-align: right;\">\n",
       "      <th></th>\n",
       "      <th>date</th>\n",
       "      <th>pitcher_name</th>\n",
       "      <th>p_hand</th>\n",
       "      <th>batter_side</th>\n",
       "      <th>pitch_type</th>\n",
       "      <th>velocity</th>\n",
       "      <th>horizontal_break</th>\n",
       "      <th>induced_vertical_break</th>\n",
       "      <th>release_side</th>\n",
       "      <th>release_dist_from_C</th>\n",
       "      <th>...</th>\n",
       "      <th>velocity^2</th>\n",
       "      <th>extension_IVB</th>\n",
       "      <th>spin_rate^3</th>\n",
       "      <th>extension_spin</th>\n",
       "      <th>IVB^3</th>\n",
       "      <th>HB^3</th>\n",
       "      <th>DB^2</th>\n",
       "      <th>velocity_feature</th>\n",
       "      <th>xWhiff</th>\n",
       "      <th>stuff_plus</th>\n",
       "    </tr>\n",
       "  </thead>\n",
       "  <tbody>\n",
       "    <tr>\n",
       "      <th>0</th>\n",
       "      <td>2023-05-22</td>\n",
       "      <td>Ryan Helsley</td>\n",
       "      <td>R</td>\n",
       "      <td>R</td>\n",
       "      <td>FB</td>\n",
       "      <td>102.4</td>\n",
       "      <td>0.3</td>\n",
       "      <td>1.63</td>\n",
       "      <td>-0.04</td>\n",
       "      <td>53.67</td>\n",
       "      <td>...</td>\n",
       "      <td>10485.76</td>\n",
       "      <td>11.084</td>\n",
       "      <td>21601086625</td>\n",
       "      <td>18938.0</td>\n",
       "      <td>4.330747</td>\n",
       "      <td>0.027</td>\n",
       "      <td>1.7689</td>\n",
       "      <td>11258999068.426245</td>\n",
       "      <td>0.683095</td>\n",
       "      <td>705.11</td>\n",
       "    </tr>\n",
       "    <tr>\n",
       "      <th>1</th>\n",
       "      <td>2023-06-02</td>\n",
       "      <td>Félix Bautista</td>\n",
       "      <td>R</td>\n",
       "      <td>L</td>\n",
       "      <td>FB</td>\n",
       "      <td>98.9</td>\n",
       "      <td>0.58</td>\n",
       "      <td>1.82</td>\n",
       "      <td>-0.08</td>\n",
       "      <td>54.18</td>\n",
       "      <td>...</td>\n",
       "      <td>9781.21</td>\n",
       "      <td>11.466</td>\n",
       "      <td>10175991463</td>\n",
       "      <td>13652.1</td>\n",
       "      <td>6.028568</td>\n",
       "      <td>0.195112</td>\n",
       "      <td>1.5376</td>\n",
       "      <td>9461967630.439491</td>\n",
       "      <td>0.617192</td>\n",
       "      <td>637.08</td>\n",
       "    </tr>\n",
       "    <tr>\n",
       "      <th>2</th>\n",
       "      <td>2023-03-30</td>\n",
       "      <td>Ryan Helsley</td>\n",
       "      <td>R</td>\n",
       "      <td>R</td>\n",
       "      <td>FB</td>\n",
       "      <td>100.5</td>\n",
       "      <td>0.27</td>\n",
       "      <td>1.85</td>\n",
       "      <td>-0.04</td>\n",
       "      <td>53.7</td>\n",
       "      <td>...</td>\n",
       "      <td>10100.25</td>\n",
       "      <td>12.58</td>\n",
       "      <td>21184951663</td>\n",
       "      <td>18815.6</td>\n",
       "      <td>6.331625</td>\n",
       "      <td>0.019683</td>\n",
       "      <td>2.4964</td>\n",
       "      <td>10252512531.28125</td>\n",
       "      <td>0.574035</td>\n",
       "      <td>592.54</td>\n",
       "    </tr>\n",
       "    <tr>\n",
       "      <th>3</th>\n",
       "      <td>2023-04-24</td>\n",
       "      <td>Alexis Díaz</td>\n",
       "      <td>R</td>\n",
       "      <td>L</td>\n",
       "      <td>FB</td>\n",
       "      <td>96.1</td>\n",
       "      <td>0.72</td>\n",
       "      <td>1.53</td>\n",
       "      <td>-2.17</td>\n",
       "      <td>52.78</td>\n",
       "      <td>...</td>\n",
       "      <td>9235.21</td>\n",
       "      <td>11.781</td>\n",
       "      <td>18884848247</td>\n",
       "      <td>20505.1</td>\n",
       "      <td>3.581577</td>\n",
       "      <td>0.373248</td>\n",
       "      <td>0.6561</td>\n",
       "      <td>8196282869.808008</td>\n",
       "      <td>0.527949</td>\n",
       "      <td>544.96</td>\n",
       "    </tr>\n",
       "    <tr>\n",
       "      <th>4</th>\n",
       "      <td>2023-08-23</td>\n",
       "      <td>Reynaldo López</td>\n",
       "      <td>R</td>\n",
       "      <td>L</td>\n",
       "      <td>FB</td>\n",
       "      <td>101.0</td>\n",
       "      <td>0.78</td>\n",
       "      <td>1.63</td>\n",
       "      <td>-1.75</td>\n",
       "      <td>53.96</td>\n",
       "      <td>...</td>\n",
       "      <td>10201.0</td>\n",
       "      <td>10.595</td>\n",
       "      <td>11883569768</td>\n",
       "      <td>14833.0</td>\n",
       "      <td>4.330747</td>\n",
       "      <td>0.474552</td>\n",
       "      <td>0.7225</td>\n",
       "      <td>10510100501.0</td>\n",
       "      <td>0.524255</td>\n",
       "      <td>541.15</td>\n",
       "    </tr>\n",
       "    <tr>\n",
       "      <th>5</th>\n",
       "      <td>2023-09-13</td>\n",
       "      <td>Robert Stephenson</td>\n",
       "      <td>R</td>\n",
       "      <td>R</td>\n",
       "      <td>FB</td>\n",
       "      <td>86.9</td>\n",
       "      <td>0.13</td>\n",
       "      <td>-0.05</td>\n",
       "      <td>-0.62</td>\n",
       "      <td>54.53</td>\n",
       "      <td>...</td>\n",
       "      <td>7551.61</td>\n",
       "      <td>-0.3</td>\n",
       "      <td>28149950088</td>\n",
       "      <td>18252.0</td>\n",
       "      <td>-0.000125</td>\n",
       "      <td>0.002197</td>\n",
       "      <td>0.0324</td>\n",
       "      <td>4955630101.153491</td>\n",
       "      <td>0.517756</td>\n",
       "      <td>534.44</td>\n",
       "    </tr>\n",
       "    <tr>\n",
       "      <th>6</th>\n",
       "      <td>2023-06-25</td>\n",
       "      <td>Félix Bautista</td>\n",
       "      <td>R</td>\n",
       "      <td>R</td>\n",
       "      <td>FB</td>\n",
       "      <td>102.5</td>\n",
       "      <td>0.59</td>\n",
       "      <td>1.63</td>\n",
       "      <td>-0.26</td>\n",
       "      <td>53.55</td>\n",
       "      <td>...</td>\n",
       "      <td>10506.25</td>\n",
       "      <td>11.41</td>\n",
       "      <td>13060888875</td>\n",
       "      <td>16485.0</td>\n",
       "      <td>4.330747</td>\n",
       "      <td>0.205379</td>\n",
       "      <td>1.0816</td>\n",
       "      <td>11314082128.90625</td>\n",
       "      <td>0.515841</td>\n",
       "      <td>532.47</td>\n",
       "    </tr>\n",
       "    <tr>\n",
       "      <th>7</th>\n",
       "      <td>2023-08-22</td>\n",
       "      <td>Justin Verlander</td>\n",
       "      <td>R</td>\n",
       "      <td>L</td>\n",
       "      <td>FB</td>\n",
       "      <td>95.5</td>\n",
       "      <td>0.77</td>\n",
       "      <td>1.84</td>\n",
       "      <td>-1.25</td>\n",
       "      <td>54.78</td>\n",
       "      <td>...</td>\n",
       "      <td>9120.25</td>\n",
       "      <td>10.488</td>\n",
       "      <td>16620420608</td>\n",
       "      <td>14546.4</td>\n",
       "      <td>6.229504</td>\n",
       "      <td>0.456533</td>\n",
       "      <td>1.1449</td>\n",
       "      <td>7943590685.96875</td>\n",
       "      <td>0.509871</td>\n",
       "      <td>526.30</td>\n",
       "    </tr>\n",
       "    <tr>\n",
       "      <th>8</th>\n",
       "      <td>2023-08-22</td>\n",
       "      <td>Justin Verlander</td>\n",
       "      <td>R</td>\n",
       "      <td>L</td>\n",
       "      <td>FB</td>\n",
       "      <td>95.8</td>\n",
       "      <td>0.62</td>\n",
       "      <td>1.85</td>\n",
       "      <td>-1.07</td>\n",
       "      <td>54.51</td>\n",
       "      <td>...</td>\n",
       "      <td>9177.64</td>\n",
       "      <td>11.1</td>\n",
       "      <td>14366628991</td>\n",
       "      <td>14586.0</td>\n",
       "      <td>6.331625</td>\n",
       "      <td>0.238328</td>\n",
       "      <td>1.5129</td>\n",
       "      <td>8069145477.887678</td>\n",
       "      <td>0.507181</td>\n",
       "      <td>523.53</td>\n",
       "    </tr>\n",
       "    <tr>\n",
       "      <th>9</th>\n",
       "      <td>2023-04-09</td>\n",
       "      <td>James Karinchak</td>\n",
       "      <td>R</td>\n",
       "      <td>R</td>\n",
       "      <td>FB</td>\n",
       "      <td>95.6</td>\n",
       "      <td>0.4</td>\n",
       "      <td>1.84</td>\n",
       "      <td>-0.04</td>\n",
       "      <td>54.45</td>\n",
       "      <td>...</td>\n",
       "      <td>9139.36</td>\n",
       "      <td>11.224</td>\n",
       "      <td>10604499373</td>\n",
       "      <td>13401.7</td>\n",
       "      <td>6.229504</td>\n",
       "      <td>0.064</td>\n",
       "      <td>2.0736</td>\n",
       "      <td>7985267355.637758</td>\n",
       "      <td>0.504987</td>\n",
       "      <td>521.26</td>\n",
       "    </tr>\n",
       "    <tr>\n",
       "      <th>10</th>\n",
       "      <td>2023-04-24</td>\n",
       "      <td>Alexis Díaz</td>\n",
       "      <td>R</td>\n",
       "      <td>L</td>\n",
       "      <td>FB</td>\n",
       "      <td>95.3</td>\n",
       "      <td>0.71</td>\n",
       "      <td>1.52</td>\n",
       "      <td>-2.29</td>\n",
       "      <td>52.95</td>\n",
       "      <td>...</td>\n",
       "      <td>9082.09</td>\n",
       "      <td>11.552</td>\n",
       "      <td>19661138099</td>\n",
       "      <td>20512.4</td>\n",
       "      <td>3.511808</td>\n",
       "      <td>0.357911</td>\n",
       "      <td>0.6561</td>\n",
       "      <td>7860759390.599929</td>\n",
       "      <td>0.490602</td>\n",
       "      <td>506.41</td>\n",
       "    </tr>\n",
       "    <tr>\n",
       "      <th>11</th>\n",
       "      <td>2023-07-31</td>\n",
       "      <td>Félix Bautista</td>\n",
       "      <td>R</td>\n",
       "      <td>L</td>\n",
       "      <td>FB</td>\n",
       "      <td>100.3</td>\n",
       "      <td>0.43</td>\n",
       "      <td>1.86</td>\n",
       "      <td>-0.04</td>\n",
       "      <td>53.87</td>\n",
       "      <td>...</td>\n",
       "      <td>10060.09</td>\n",
       "      <td>12.276</td>\n",
       "      <td>15271450641</td>\n",
       "      <td>16374.6</td>\n",
       "      <td>6.434856</td>\n",
       "      <td>0.079507</td>\n",
       "      <td>2.0449</td>\n",
       "      <td>10150902704.052429</td>\n",
       "      <td>0.470220</td>\n",
       "      <td>485.37</td>\n",
       "    </tr>\n",
       "    <tr>\n",
       "      <th>12</th>\n",
       "      <td>2023-04-03</td>\n",
       "      <td>James Karinchak</td>\n",
       "      <td>R</td>\n",
       "      <td>R</td>\n",
       "      <td>FB</td>\n",
       "      <td>95.2</td>\n",
       "      <td>0.37</td>\n",
       "      <td>1.98</td>\n",
       "      <td>0.13</td>\n",
       "      <td>54.3</td>\n",
       "      <td>...</td>\n",
       "      <td>9063.04</td>\n",
       "      <td>12.276</td>\n",
       "      <td>9924513949</td>\n",
       "      <td>13323.8</td>\n",
       "      <td>7.762392</td>\n",
       "      <td>0.050653</td>\n",
       "      <td>2.5921</td>\n",
       "      <td>7819603672.760322</td>\n",
       "      <td>0.465836</td>\n",
       "      <td>480.85</td>\n",
       "    </tr>\n",
       "    <tr>\n",
       "      <th>13</th>\n",
       "      <td>2023-04-03</td>\n",
       "      <td>James Karinchak</td>\n",
       "      <td>R</td>\n",
       "      <td>R</td>\n",
       "      <td>FB</td>\n",
       "      <td>95.4</td>\n",
       "      <td>0.36</td>\n",
       "      <td>1.93</td>\n",
       "      <td>0.17</td>\n",
       "      <td>54.31</td>\n",
       "      <td>...</td>\n",
       "      <td>9101.16</td>\n",
       "      <td>11.966</td>\n",
       "      <td>9855401984</td>\n",
       "      <td>13292.8</td>\n",
       "      <td>7.189057</td>\n",
       "      <td>0.046656</td>\n",
       "      <td>2.4649</td>\n",
       "      <td>7902088213.170242</td>\n",
       "      <td>0.464267</td>\n",
       "      <td>479.23</td>\n",
       "    </tr>\n",
       "    <tr>\n",
       "      <th>14</th>\n",
       "      <td>2023-06-28</td>\n",
       "      <td>Félix Bautista</td>\n",
       "      <td>R</td>\n",
       "      <td>R</td>\n",
       "      <td>FB</td>\n",
       "      <td>103.3</td>\n",
       "      <td>0.45</td>\n",
       "      <td>1.71</td>\n",
       "      <td>0.14</td>\n",
       "      <td>53.98</td>\n",
       "      <td>...</td>\n",
       "      <td>10670.89</td>\n",
       "      <td>11.115</td>\n",
       "      <td>17313676003</td>\n",
       "      <td>16815.5</td>\n",
       "      <td>5.000211</td>\n",
       "      <td>0.091125</td>\n",
       "      <td>1.5876</td>\n",
       "      <td>11762553387.403929</td>\n",
       "      <td>0.462469</td>\n",
       "      <td>477.37</td>\n",
       "    </tr>\n",
       "    <tr>\n",
       "      <th>15</th>\n",
       "      <td>2023-10-01</td>\n",
       "      <td>Ryan Helsley</td>\n",
       "      <td>R</td>\n",
       "      <td>R</td>\n",
       "      <td>FB</td>\n",
       "      <td>101.4</td>\n",
       "      <td>0.09</td>\n",
       "      <td>1.42</td>\n",
       "      <td>-0.15</td>\n",
       "      <td>53.5</td>\n",
       "      <td>...</td>\n",
       "      <td>10281.96</td>\n",
       "      <td>9.94</td>\n",
       "      <td>19704878101</td>\n",
       "      <td>18907.0</td>\n",
       "      <td>2.863288</td>\n",
       "      <td>0.000729</td>\n",
       "      <td>1.7689</td>\n",
       "      <td>10719876326.178244</td>\n",
       "      <td>0.458856</td>\n",
       "      <td>473.64</td>\n",
       "    </tr>\n",
       "    <tr>\n",
       "      <th>16</th>\n",
       "      <td>2023-05-27</td>\n",
       "      <td>Ryan Helsley</td>\n",
       "      <td>R</td>\n",
       "      <td>R</td>\n",
       "      <td>FB</td>\n",
       "      <td>100.4</td>\n",
       "      <td>0.24</td>\n",
       "      <td>1.64</td>\n",
       "      <td>-0.31</td>\n",
       "      <td>53.85</td>\n",
       "      <td>...</td>\n",
       "      <td>10080.16</td>\n",
       "      <td>10.988</td>\n",
       "      <td>21300003648</td>\n",
       "      <td>18572.4</td>\n",
       "      <td>4.410944</td>\n",
       "      <td>0.013824</td>\n",
       "      <td>1.96</td>\n",
       "      <td>10201606412.810244</td>\n",
       "      <td>0.457953</td>\n",
       "      <td>472.71</td>\n",
       "    </tr>\n",
       "    <tr>\n",
       "      <th>17</th>\n",
       "      <td>2023-07-22</td>\n",
       "      <td>Shintaro Fujinami</td>\n",
       "      <td>R</td>\n",
       "      <td>R</td>\n",
       "      <td>FB</td>\n",
       "      <td>101.4</td>\n",
       "      <td>1.01</td>\n",
       "      <td>1.48</td>\n",
       "      <td>-1.81</td>\n",
       "      <td>53.37</td>\n",
       "      <td>...</td>\n",
       "      <td>10281.96</td>\n",
       "      <td>10.508</td>\n",
       "      <td>7750636739</td>\n",
       "      <td>14050.9</td>\n",
       "      <td>3.241792</td>\n",
       "      <td>1.030301</td>\n",
       "      <td>0.2209</td>\n",
       "      <td>10719876326.178244</td>\n",
       "      <td>0.455567</td>\n",
       "      <td>470.25</td>\n",
       "    </tr>\n",
       "    <tr>\n",
       "      <th>18</th>\n",
       "      <td>2023-05-03</td>\n",
       "      <td>Ian Kennedy</td>\n",
       "      <td>R</td>\n",
       "      <td>R</td>\n",
       "      <td>FB</td>\n",
       "      <td>91.1</td>\n",
       "      <td>0.56</td>\n",
       "      <td>1.56</td>\n",
       "      <td>-1.46</td>\n",
       "      <td>53.91</td>\n",
       "      <td>...</td>\n",
       "      <td>8299.21</td>\n",
       "      <td>10.296</td>\n",
       "      <td>12730945375</td>\n",
       "      <td>15411.0</td>\n",
       "      <td>3.796416</td>\n",
       "      <td>0.175616</td>\n",
       "      <td>1.0</td>\n",
       "      <td>6274684371.455508</td>\n",
       "      <td>0.452471</td>\n",
       "      <td>467.05</td>\n",
       "    </tr>\n",
       "    <tr>\n",
       "      <th>19</th>\n",
       "      <td>2023-05-20</td>\n",
       "      <td>Félix Bautista</td>\n",
       "      <td>R</td>\n",
       "      <td>R</td>\n",
       "      <td>FB</td>\n",
       "      <td>98.1</td>\n",
       "      <td>0.54</td>\n",
       "      <td>2.03</td>\n",
       "      <td>-0.11</td>\n",
       "      <td>54.02</td>\n",
       "      <td>...</td>\n",
       "      <td>9623.61</td>\n",
       "      <td>13.195</td>\n",
       "      <td>14508930519</td>\n",
       "      <td>15853.5</td>\n",
       "      <td>8.365427</td>\n",
       "      <td>0.157464</td>\n",
       "      <td>2.2201</td>\n",
       "      <td>9085420591.289007</td>\n",
       "      <td>0.451306</td>\n",
       "      <td>465.85</td>\n",
       "    </tr>\n",
       "  </tbody>\n",
       "</table>\n",
       "<p>20 rows × 35 columns</p>\n",
       "</div>"
      ],
      "text/plain": [
       "         date       pitcher_name p_hand batter_side pitch_type  velocity  \\\n",
       "0  2023-05-22       Ryan Helsley      R           R         FB     102.4   \n",
       "1  2023-06-02     Félix Bautista      R           L         FB      98.9   \n",
       "2  2023-03-30       Ryan Helsley      R           R         FB     100.5   \n",
       "3  2023-04-24        Alexis Díaz      R           L         FB      96.1   \n",
       "4  2023-08-23     Reynaldo López      R           L         FB     101.0   \n",
       "5  2023-09-13  Robert Stephenson      R           R         FB      86.9   \n",
       "6  2023-06-25     Félix Bautista      R           R         FB     102.5   \n",
       "7  2023-08-22   Justin Verlander      R           L         FB      95.5   \n",
       "8  2023-08-22   Justin Verlander      R           L         FB      95.8   \n",
       "9  2023-04-09    James Karinchak      R           R         FB      95.6   \n",
       "10 2023-04-24        Alexis Díaz      R           L         FB      95.3   \n",
       "11 2023-07-31     Félix Bautista      R           L         FB     100.3   \n",
       "12 2023-04-03    James Karinchak      R           R         FB      95.2   \n",
       "13 2023-04-03    James Karinchak      R           R         FB      95.4   \n",
       "14 2023-06-28     Félix Bautista      R           R         FB     103.3   \n",
       "15 2023-10-01       Ryan Helsley      R           R         FB     101.4   \n",
       "16 2023-05-27       Ryan Helsley      R           R         FB     100.4   \n",
       "17 2023-07-22  Shintaro Fujinami      R           R         FB     101.4   \n",
       "18 2023-05-03        Ian Kennedy      R           R         FB      91.1   \n",
       "19 2023-05-20     Félix Bautista      R           R         FB      98.1   \n",
       "\n",
       "    horizontal_break  induced_vertical_break  release_side  \\\n",
       "0                0.3                    1.63         -0.04   \n",
       "1               0.58                    1.82         -0.08   \n",
       "2               0.27                    1.85         -0.04   \n",
       "3               0.72                    1.53         -2.17   \n",
       "4               0.78                    1.63         -1.75   \n",
       "5               0.13                   -0.05         -0.62   \n",
       "6               0.59                    1.63         -0.26   \n",
       "7               0.77                    1.84         -1.25   \n",
       "8               0.62                    1.85         -1.07   \n",
       "9                0.4                    1.84         -0.04   \n",
       "10              0.71                    1.52         -2.29   \n",
       "11              0.43                    1.86         -0.04   \n",
       "12              0.37                    1.98          0.13   \n",
       "13              0.36                    1.93          0.17   \n",
       "14              0.45                    1.71          0.14   \n",
       "15              0.09                    1.42         -0.15   \n",
       "16              0.24                    1.64         -0.31   \n",
       "17              1.01                    1.48         -1.81   \n",
       "18              0.56                    1.56         -1.46   \n",
       "19              0.54                    2.03         -0.11   \n",
       "\n",
       "    release_dist_from_C  ...  velocity^2  extension_IVB  spin_rate^3  \\\n",
       "0                 53.67  ...    10485.76         11.084  21601086625   \n",
       "1                 54.18  ...     9781.21         11.466  10175991463   \n",
       "2                  53.7  ...    10100.25          12.58  21184951663   \n",
       "3                 52.78  ...     9235.21         11.781  18884848247   \n",
       "4                 53.96  ...     10201.0         10.595  11883569768   \n",
       "5                 54.53  ...     7551.61           -0.3  28149950088   \n",
       "6                 53.55  ...    10506.25          11.41  13060888875   \n",
       "7                 54.78  ...     9120.25         10.488  16620420608   \n",
       "8                 54.51  ...     9177.64           11.1  14366628991   \n",
       "9                 54.45  ...     9139.36         11.224  10604499373   \n",
       "10                52.95  ...     9082.09         11.552  19661138099   \n",
       "11                53.87  ...    10060.09         12.276  15271450641   \n",
       "12                 54.3  ...     9063.04         12.276   9924513949   \n",
       "13                54.31  ...     9101.16         11.966   9855401984   \n",
       "14                53.98  ...    10670.89         11.115  17313676003   \n",
       "15                 53.5  ...    10281.96           9.94  19704878101   \n",
       "16                53.85  ...    10080.16         10.988  21300003648   \n",
       "17                53.37  ...    10281.96         10.508   7750636739   \n",
       "18                53.91  ...     8299.21         10.296  12730945375   \n",
       "19                54.02  ...     9623.61         13.195  14508930519   \n",
       "\n",
       "    extension_spin     IVB^3      HB^3    DB^2    velocity_feature    xWhiff  \\\n",
       "0          18938.0  4.330747     0.027  1.7689  11258999068.426245  0.683095   \n",
       "1          13652.1  6.028568  0.195112  1.5376   9461967630.439491  0.617192   \n",
       "2          18815.6  6.331625  0.019683  2.4964   10252512531.28125  0.574035   \n",
       "3          20505.1  3.581577  0.373248  0.6561   8196282869.808008  0.527949   \n",
       "4          14833.0  4.330747  0.474552  0.7225       10510100501.0  0.524255   \n",
       "5          18252.0 -0.000125  0.002197  0.0324   4955630101.153491  0.517756   \n",
       "6          16485.0  4.330747  0.205379  1.0816   11314082128.90625  0.515841   \n",
       "7          14546.4  6.229504  0.456533  1.1449    7943590685.96875  0.509871   \n",
       "8          14586.0  6.331625  0.238328  1.5129   8069145477.887678  0.507181   \n",
       "9          13401.7  6.229504     0.064  2.0736   7985267355.637758  0.504987   \n",
       "10         20512.4  3.511808  0.357911  0.6561   7860759390.599929  0.490602   \n",
       "11         16374.6  6.434856  0.079507  2.0449  10150902704.052429  0.470220   \n",
       "12         13323.8  7.762392  0.050653  2.5921   7819603672.760322  0.465836   \n",
       "13         13292.8  7.189057  0.046656  2.4649   7902088213.170242  0.464267   \n",
       "14         16815.5  5.000211  0.091125  1.5876  11762553387.403929  0.462469   \n",
       "15         18907.0  2.863288  0.000729  1.7689  10719876326.178244  0.458856   \n",
       "16         18572.4  4.410944  0.013824    1.96  10201606412.810244  0.457953   \n",
       "17         14050.9  3.241792  1.030301  0.2209  10719876326.178244  0.455567   \n",
       "18         15411.0  3.796416  0.175616     1.0   6274684371.455508  0.452471   \n",
       "19         15853.5  8.365427  0.157464  2.2201   9085420591.289007  0.451306   \n",
       "\n",
       "    stuff_plus  \n",
       "0       705.11  \n",
       "1       637.08  \n",
       "2       592.54  \n",
       "3       544.96  \n",
       "4       541.15  \n",
       "5       534.44  \n",
       "6       532.47  \n",
       "7       526.30  \n",
       "8       523.53  \n",
       "9       521.26  \n",
       "10      506.41  \n",
       "11      485.37  \n",
       "12      480.85  \n",
       "13      479.23  \n",
       "14      477.37  \n",
       "15      473.64  \n",
       "16      472.71  \n",
       "17      470.25  \n",
       "18      467.05  \n",
       "19      465.85  \n",
       "\n",
       "[20 rows x 35 columns]"
      ]
     },
     "execution_count": 88,
     "metadata": {},
     "output_type": "execute_result"
    }
   ],
   "source": [
    "# Sort the DataFrame by 'Stuff+' values in descending order\n",
    "df_sorted = df_rhp_fb.sort_values(by='stuff_plus', ascending=False)\n",
    "\n",
    "# Reset the index of the sorted DataFrame\n",
    "df_sorted.reset_index(drop=True, inplace=True)\n",
    "\n",
    "df_sorted.head(20)"
   ]
  },
  {
   "cell_type": "code",
   "execution_count": 89,
   "metadata": {},
   "outputs": [
    {
     "data": {
      "image/png": "[encoded data removed]",
      "text/plain": [
       "<Figure size 432x288 with 1 Axes>"
      ]
     },
     "metadata": {
      "needs_background": "light"
     },
     "output_type": "display_data"
    }
   ],
   "source": [
    "# Define the strike zone boundaries\n",
    "sz_top = 1  \n",
    "sz_bottom = -1\n",
    "\n",
    "# The width of the strike zone is 17 inches, which is approximately 1.42 feet\n",
    "# Since pitch_side is centered around 2.627, the left and right boundaries are 2.627 - 0.71 and 2.627 + 0.71\n",
    "sz_left = 2.627 - 0.71\n",
    "sz_right = 2.627 + 0.71\n",
    "\n",
    "# Create a figure and axis\n",
    "fig, ax = plt.subplots()\n",
    "\n",
    "# Plot the strike zone\n",
    "ax.plot([sz_left, sz_right, sz_right, sz_left, sz_left], [sz_bottom, sz_bottom, sz_top, sz_top, sz_bottom], color='black')\n",
    "\n",
    "# Plot the locations of the pitches\n",
    "ax.scatter(df_sorted.head(20)['pitch_side'], df_sorted.head(20)['pitch_height'], color='red')\n",
    "\n",
    "# Set the x and y axis limits to slightly larger than the strike zone\n",
    "ax.set_xlim(sz_left - 1, sz_right + 1)\n",
    "ax.set_ylim(sz_bottom - 1, sz_top + 1)\n",
    "\n",
    "# Set the aspect of the plot to be equal, so the strike zone is square\n",
    "ax.set_aspect('equal')\n",
    "\n",
    "# Add labels and a title\n",
    "ax.set_xlabel('Pitch Side')\n",
    "ax.set_ylabel('Pitch Height')\n",
    "ax.set_title('Locations of the 20 Best Fastballs by Stuff+')\n",
    "\n",
    "# Show the plot\n",
    "plt.show()"
   ]
  },
  {
   "cell_type": "code",
   "execution_count": 90,
   "metadata": {},
   "outputs": [
    {
     "data": {
      "image/png": "[encoded data removed]",
      "text/plain": [
       "<Figure size 720x432 with 1 Axes>"
      ]
     },
     "metadata": {},
     "output_type": "display_data"
    }
   ],
   "source": [
    "# Average Stuff+ for each possible pitch event\n",
    "# Assuming df_sorted.groupby(by='description')['stuff_plus'].mean().round(2) is stored in the variable 'series'\n",
    "series = df_sorted.groupby(by='description')['stuff_plus'].mean().round(2)\n",
    "\n",
    "# Create a new figure with a white background\n",
    "fig = plt.figure(figsize=(10, 6), facecolor='gold')\n",
    "\n",
    "# Add the series values as text annotations\n",
    "for i, (index, value) in enumerate(series.items()):\n",
    "    plt.text(0, i, f'{index}: {value}', fontsize=12)\n",
    "\n",
    "# Hide the axes\n",
    "plt.axis('off')\n",
    "\n",
    "# Adjust the limits and layout\n",
    "plt.ylim(-1, len(series))\n",
    "plt.tight_layout()\n",
    "\n",
    "# Save the figure as an image\n",
    "#plt.savefig('avg_stuff+_per_event.png', bbox_inches='tight', facecolor='white')"
   ]
  },
  {
   "cell_type": "code",
   "execution_count": 91,
   "metadata": {},
   "outputs": [
    {
     "name": "stderr",
     "output_type": "stream",
     "text": [
      "c:\\Users\\genoc\\Anaconda3\\lib\\site-packages\\pandas\\core\\frame.py:3191: SettingWithCopyWarning: \n",
      "A value is trying to be set on a copy of a slice from a DataFrame.\n",
      "Try using .loc[row_indexer,col_indexer] = value instead\n",
      "\n",
      "See the caveats in the documentation: https://pandas.pydata.org/pandas-docs/stable/user_guide/indexing.html#returning-a-view-versus-a-copy\n",
      "  self[k1] = value[k2]\n"
     ]
    },
    {
     "data": {
      "text/html": [
       "<div>\n",
       "<style scoped>\n",
       "    .dataframe tbody tr th:only-of-type {\n",
       "        vertical-align: middle;\n",
       "    }\n",
       "\n",
       "    .dataframe tbody tr th {\n",
       "        vertical-align: top;\n",
       "    }\n",
       "\n",
       "    .dataframe thead th {\n",
       "        text-align: right;\n",
       "    }\n",
       "</style>\n",
       "<table border=\"1\" class=\"dataframe\">\n",
       "  <thead>\n",
       "    <tr style=\"text-align: right;\">\n",
       "      <th></th>\n",
       "      <th>stuff_plus</th>\n",
       "      <th>pitcher_name</th>\n",
       "      <th>batter_name</th>\n",
       "      <th>date</th>\n",
       "      <th>description</th>\n",
       "      <th>velocity</th>\n",
       "      <th>spin_rate</th>\n",
       "      <th>induced_vertical_break</th>\n",
       "      <th>horizontal_break</th>\n",
       "      <th>differential_break</th>\n",
       "    </tr>\n",
       "  </thead>\n",
       "  <tbody>\n",
       "    <tr>\n",
       "      <th>0</th>\n",
       "      <td>705.11</td>\n",
       "      <td>Ryan Helsley</td>\n",
       "      <td>Spencer Steer</td>\n",
       "      <td>2023-05-22</td>\n",
       "      <td>swinging_strike</td>\n",
       "      <td>102.4</td>\n",
       "      <td>2785</td>\n",
       "      <td>19.56</td>\n",
       "      <td>3.6</td>\n",
       "      <td>15.96</td>\n",
       "    </tr>\n",
       "    <tr>\n",
       "      <th>1</th>\n",
       "      <td>637.08</td>\n",
       "      <td>Félix Bautista</td>\n",
       "      <td>Michael Conforto</td>\n",
       "      <td>2023-06-02</td>\n",
       "      <td>swinging_strike</td>\n",
       "      <td>98.9</td>\n",
       "      <td>2167</td>\n",
       "      <td>21.84</td>\n",
       "      <td>6.96</td>\n",
       "      <td>14.88</td>\n",
       "    </tr>\n",
       "    <tr>\n",
       "      <th>2</th>\n",
       "      <td>592.54</td>\n",
       "      <td>Ryan Helsley</td>\n",
       "      <td>Bo Bichette</td>\n",
       "      <td>2023-03-30</td>\n",
       "      <td>swinging_strike</td>\n",
       "      <td>100.5</td>\n",
       "      <td>2767</td>\n",
       "      <td>22.2</td>\n",
       "      <td>3.24</td>\n",
       "      <td>18.96</td>\n",
       "    </tr>\n",
       "    <tr>\n",
       "      <th>3</th>\n",
       "      <td>544.96</td>\n",
       "      <td>Alexis Díaz</td>\n",
       "      <td>Jonah Heim</td>\n",
       "      <td>2023-04-24</td>\n",
       "      <td>swinging_strike</td>\n",
       "      <td>96.1</td>\n",
       "      <td>2663</td>\n",
       "      <td>18.36</td>\n",
       "      <td>8.64</td>\n",
       "      <td>9.72</td>\n",
       "    </tr>\n",
       "    <tr>\n",
       "      <th>4</th>\n",
       "      <td>541.15</td>\n",
       "      <td>Reynaldo López</td>\n",
       "      <td>TJ Friedl</td>\n",
       "      <td>2023-08-23</td>\n",
       "      <td>swinging_strike</td>\n",
       "      <td>101.0</td>\n",
       "      <td>2282</td>\n",
       "      <td>19.56</td>\n",
       "      <td>9.36</td>\n",
       "      <td>10.2</td>\n",
       "    </tr>\n",
       "    <tr>\n",
       "      <th>5</th>\n",
       "      <td>534.44</td>\n",
       "      <td>Robert Stephenson</td>\n",
       "      <td>Christian Vázquez</td>\n",
       "      <td>2023-09-13</td>\n",
       "      <td>swinging_strike</td>\n",
       "      <td>86.9</td>\n",
       "      <td>3042</td>\n",
       "      <td>-0.6</td>\n",
       "      <td>1.56</td>\n",
       "      <td>2.16</td>\n",
       "    </tr>\n",
       "    <tr>\n",
       "      <th>6</th>\n",
       "      <td>532.47</td>\n",
       "      <td>Félix Bautista</td>\n",
       "      <td>Teoscar Hernández</td>\n",
       "      <td>2023-06-25</td>\n",
       "      <td>foul_tip</td>\n",
       "      <td>102.5</td>\n",
       "      <td>2355</td>\n",
       "      <td>19.56</td>\n",
       "      <td>7.08</td>\n",
       "      <td>12.48</td>\n",
       "    </tr>\n",
       "    <tr>\n",
       "      <th>7</th>\n",
       "      <td>526.30</td>\n",
       "      <td>Justin Verlander</td>\n",
       "      <td>Rafael Devers</td>\n",
       "      <td>2023-08-22</td>\n",
       "      <td>swinging_strike</td>\n",
       "      <td>95.5</td>\n",
       "      <td>2552</td>\n",
       "      <td>22.08</td>\n",
       "      <td>9.24</td>\n",
       "      <td>12.84</td>\n",
       "    </tr>\n",
       "    <tr>\n",
       "      <th>8</th>\n",
       "      <td>523.53</td>\n",
       "      <td>Justin Verlander</td>\n",
       "      <td>Rafael Devers</td>\n",
       "      <td>2023-08-22</td>\n",
       "      <td>swinging_strike</td>\n",
       "      <td>95.8</td>\n",
       "      <td>2431</td>\n",
       "      <td>22.2</td>\n",
       "      <td>7.44</td>\n",
       "      <td>14.76</td>\n",
       "    </tr>\n",
       "    <tr>\n",
       "      <th>9</th>\n",
       "      <td>521.26</td>\n",
       "      <td>James Karinchak</td>\n",
       "      <td>Eugenio Suárez</td>\n",
       "      <td>2023-04-09</td>\n",
       "      <td>foul</td>\n",
       "      <td>95.6</td>\n",
       "      <td>2197</td>\n",
       "      <td>22.08</td>\n",
       "      <td>4.8</td>\n",
       "      <td>17.28</td>\n",
       "    </tr>\n",
       "    <tr>\n",
       "      <th>10</th>\n",
       "      <td>506.41</td>\n",
       "      <td>Alexis Díaz</td>\n",
       "      <td>Travis Jankowski</td>\n",
       "      <td>2023-04-24</td>\n",
       "      <td>swinging_strike</td>\n",
       "      <td>95.3</td>\n",
       "      <td>2699</td>\n",
       "      <td>18.24</td>\n",
       "      <td>8.52</td>\n",
       "      <td>9.72</td>\n",
       "    </tr>\n",
       "    <tr>\n",
       "      <th>11</th>\n",
       "      <td>485.37</td>\n",
       "      <td>Félix Bautista</td>\n",
       "      <td>Daulton Varsho</td>\n",
       "      <td>2023-07-31</td>\n",
       "      <td>foul_tip</td>\n",
       "      <td>100.3</td>\n",
       "      <td>2481</td>\n",
       "      <td>22.32</td>\n",
       "      <td>5.16</td>\n",
       "      <td>17.16</td>\n",
       "    </tr>\n",
       "    <tr>\n",
       "      <th>12</th>\n",
       "      <td>480.85</td>\n",
       "      <td>James Karinchak</td>\n",
       "      <td>Shea Langeliers</td>\n",
       "      <td>2023-04-03</td>\n",
       "      <td>swinging_strike</td>\n",
       "      <td>95.2</td>\n",
       "      <td>2149</td>\n",
       "      <td>23.76</td>\n",
       "      <td>4.44</td>\n",
       "      <td>19.32</td>\n",
       "    </tr>\n",
       "    <tr>\n",
       "      <th>13</th>\n",
       "      <td>479.23</td>\n",
       "      <td>James Karinchak</td>\n",
       "      <td>Shea Langeliers</td>\n",
       "      <td>2023-04-03</td>\n",
       "      <td>swinging_strike</td>\n",
       "      <td>95.4</td>\n",
       "      <td>2144</td>\n",
       "      <td>23.16</td>\n",
       "      <td>4.32</td>\n",
       "      <td>18.84</td>\n",
       "    </tr>\n",
       "    <tr>\n",
       "      <th>14</th>\n",
       "      <td>477.37</td>\n",
       "      <td>Félix Bautista</td>\n",
       "      <td>Spencer Steer</td>\n",
       "      <td>2023-06-28</td>\n",
       "      <td>swinging_strike</td>\n",
       "      <td>103.3</td>\n",
       "      <td>2587</td>\n",
       "      <td>20.52</td>\n",
       "      <td>5.4</td>\n",
       "      <td>15.12</td>\n",
       "    </tr>\n",
       "    <tr>\n",
       "      <th>15</th>\n",
       "      <td>473.64</td>\n",
       "      <td>Ryan Helsley</td>\n",
       "      <td>Stuart Fairchild</td>\n",
       "      <td>2023-10-01</td>\n",
       "      <td>swinging_strike</td>\n",
       "      <td>101.4</td>\n",
       "      <td>2701</td>\n",
       "      <td>17.04</td>\n",
       "      <td>1.08</td>\n",
       "      <td>15.96</td>\n",
       "    </tr>\n",
       "    <tr>\n",
       "      <th>16</th>\n",
       "      <td>472.71</td>\n",
       "      <td>Ryan Helsley</td>\n",
       "      <td>Myles Straw</td>\n",
       "      <td>2023-05-27</td>\n",
       "      <td>foul_tip</td>\n",
       "      <td>100.4</td>\n",
       "      <td>2772</td>\n",
       "      <td>19.68</td>\n",
       "      <td>2.88</td>\n",
       "      <td>16.8</td>\n",
       "    </tr>\n",
       "    <tr>\n",
       "      <th>17</th>\n",
       "      <td>470.25</td>\n",
       "      <td>Shintaro Fujinami</td>\n",
       "      <td>Randy Arozarena</td>\n",
       "      <td>2023-07-22</td>\n",
       "      <td>swinging_strike</td>\n",
       "      <td>101.4</td>\n",
       "      <td>1979</td>\n",
       "      <td>17.76</td>\n",
       "      <td>12.12</td>\n",
       "      <td>5.64</td>\n",
       "    </tr>\n",
       "    <tr>\n",
       "      <th>18</th>\n",
       "      <td>467.05</td>\n",
       "      <td>Ian Kennedy</td>\n",
       "      <td>Christian Walker</td>\n",
       "      <td>2023-05-03</td>\n",
       "      <td>swinging_strike</td>\n",
       "      <td>91.1</td>\n",
       "      <td>2335</td>\n",
       "      <td>18.72</td>\n",
       "      <td>6.72</td>\n",
       "      <td>12.0</td>\n",
       "    </tr>\n",
       "    <tr>\n",
       "      <th>19</th>\n",
       "      <td>465.85</td>\n",
       "      <td>Félix Bautista</td>\n",
       "      <td>Matt Chapman</td>\n",
       "      <td>2023-05-20</td>\n",
       "      <td>swinging_strike</td>\n",
       "      <td>98.1</td>\n",
       "      <td>2439</td>\n",
       "      <td>24.36</td>\n",
       "      <td>6.48</td>\n",
       "      <td>17.88</td>\n",
       "    </tr>\n",
       "  </tbody>\n",
       "</table>\n",
       "</div>"
      ],
      "text/plain": [
       "    stuff_plus       pitcher_name        batter_name       date  \\\n",
       "0       705.11       Ryan Helsley      Spencer Steer 2023-05-22   \n",
       "1       637.08     Félix Bautista   Michael Conforto 2023-06-02   \n",
       "2       592.54       Ryan Helsley        Bo Bichette 2023-03-30   \n",
       "3       544.96        Alexis Díaz         Jonah Heim 2023-04-24   \n",
       "4       541.15     Reynaldo López          TJ Friedl 2023-08-23   \n",
       "5       534.44  Robert Stephenson  Christian Vázquez 2023-09-13   \n",
       "6       532.47     Félix Bautista  Teoscar Hernández 2023-06-25   \n",
       "7       526.30   Justin Verlander      Rafael Devers 2023-08-22   \n",
       "8       523.53   Justin Verlander      Rafael Devers 2023-08-22   \n",
       "9       521.26    James Karinchak     Eugenio Suárez 2023-04-09   \n",
       "10      506.41        Alexis Díaz   Travis Jankowski 2023-04-24   \n",
       "11      485.37     Félix Bautista     Daulton Varsho 2023-07-31   \n",
       "12      480.85    James Karinchak    Shea Langeliers 2023-04-03   \n",
       "13      479.23    James Karinchak    Shea Langeliers 2023-04-03   \n",
       "14      477.37     Félix Bautista      Spencer Steer 2023-06-28   \n",
       "15      473.64       Ryan Helsley   Stuart Fairchild 2023-10-01   \n",
       "16      472.71       Ryan Helsley        Myles Straw 2023-05-27   \n",
       "17      470.25  Shintaro Fujinami    Randy Arozarena 2023-07-22   \n",
       "18      467.05        Ian Kennedy   Christian Walker 2023-05-03   \n",
       "19      465.85     Félix Bautista       Matt Chapman 2023-05-20   \n",
       "\n",
       "        description  velocity  spin_rate  induced_vertical_break  \\\n",
       "0   swinging_strike     102.4       2785                   19.56   \n",
       "1   swinging_strike      98.9       2167                   21.84   \n",
       "2   swinging_strike     100.5       2767                    22.2   \n",
       "3   swinging_strike      96.1       2663                   18.36   \n",
       "4   swinging_strike     101.0       2282                   19.56   \n",
       "5   swinging_strike      86.9       3042                    -0.6   \n",
       "6          foul_tip     102.5       2355                   19.56   \n",
       "7   swinging_strike      95.5       2552                   22.08   \n",
       "8   swinging_strike      95.8       2431                    22.2   \n",
       "9              foul      95.6       2197                   22.08   \n",
       "10  swinging_strike      95.3       2699                   18.24   \n",
       "11         foul_tip     100.3       2481                   22.32   \n",
       "12  swinging_strike      95.2       2149                   23.76   \n",
       "13  swinging_strike      95.4       2144                   23.16   \n",
       "14  swinging_strike     103.3       2587                   20.52   \n",
       "15  swinging_strike     101.4       2701                   17.04   \n",
       "16         foul_tip     100.4       2772                   19.68   \n",
       "17  swinging_strike     101.4       1979                   17.76   \n",
       "18  swinging_strike      91.1       2335                   18.72   \n",
       "19  swinging_strike      98.1       2439                   24.36   \n",
       "\n",
       "    horizontal_break  differential_break  \n",
       "0                3.6               15.96  \n",
       "1               6.96               14.88  \n",
       "2               3.24               18.96  \n",
       "3               8.64                9.72  \n",
       "4               9.36                10.2  \n",
       "5               1.56                2.16  \n",
       "6               7.08               12.48  \n",
       "7               9.24               12.84  \n",
       "8               7.44               14.76  \n",
       "9                4.8               17.28  \n",
       "10              8.52                9.72  \n",
       "11              5.16               17.16  \n",
       "12              4.44               19.32  \n",
       "13              4.32               18.84  \n",
       "14               5.4               15.12  \n",
       "15              1.08               15.96  \n",
       "16              2.88                16.8  \n",
       "17             12.12                5.64  \n",
       "18              6.72                12.0  \n",
       "19              6.48               17.88  "
      ]
     },
     "execution_count": 91,
     "metadata": {},
     "output_type": "execute_result"
    }
   ],
   "source": [
    "top_20 = df_sorted.head(20)\n",
    "top_20[['induced_vertical_break', 'horizontal_break', 'differential_break']] = top_20[['induced_vertical_break', 'horizontal_break', 'differential_break']] * 12\n",
    "top_20[['stuff_plus', 'pitcher_name', 'batter_name', 'date', 'description', 'velocity', 'spin_rate', 'induced_vertical_break', 'horizontal_break', 'differential_break']].head(30)\n"
   ]
  },
  {
   "cell_type": "markdown",
   "metadata": {},
   "source": [
    "# Top 5 RHP Fastballs by Stuff+ (Find videos on Statcast):\n",
    "Emmanuel Clase vs. Randy Arozarena, 8/12, 102.8 mph  \n",
    "Ryan Helsley vs. Bo Bichette, 3/30, 100.5 MPH  \n",
    "Camilo Doval vs. Brandon Nimmo, 6/30, 102.4 MPH  \n",
    "Emmanuel Clase vs. Wander Franco, 8/12, 102.4 MPH  \n",
    "Ryne Nelson vs. Xander Bogaerts, 4/3, 93.9 MPH  \n",
    "\n",
    "Best by a starter:  \n",
    "Jacob Degrom vs. Ryan Noda, 4/23, 101 MPH  \n",
    "Justin Verlander vs. Everson Pereira, 9/1, 94.2 MPH  \n",
    "Maybe more?"
   ]
  },
  {
   "cell_type": "code",
   "execution_count": 92,
   "metadata": {},
   "outputs": [
    {
     "data": {
      "text/plain": [
       "pitcher_name\n",
       "Félix Bautista       203.97\n",
       "Jhoan Duran          183.22\n",
       "Spencer Strider      169.09\n",
       "Hunter Harvey        167.50\n",
       "Robert Stephenson    166.45\n",
       "                      ...  \n",
       "Alec Mills            56.23\n",
       "James Naile           54.19\n",
       "Darren McCaughan      53.75\n",
       "Kyle Hendricks        52.00\n",
       "Tyler Rogers          48.24\n",
       "Name: stuff_plus, Length: 588, dtype: float64"
      ]
     },
     "execution_count": 92,
     "metadata": {},
     "output_type": "execute_result"
    }
   ],
   "source": [
    "average_fb_Stuff = df_sorted.groupby('pitcher_name')['stuff_plus'].mean()\n",
    "average_fb_Stuff = average_fb_Stuff.round(2)\n",
    "\n",
    "# Sort the Series in descending order based on the average Stuff+ values\n",
    "average_fb_Stuff_sorted = average_fb_Stuff.sort_values(ascending=False)\n",
    "\n",
    "average_fb_Stuff_sorted"
   ]
  },
  {
   "cell_type": "markdown",
   "metadata": {},
   "source": [
    "# **Importing Season Stats for Analysis**"
   ]
  },
  {
   "cell_type": "code",
   "execution_count": 93,
   "metadata": {},
   "outputs": [
    {
     "ename": "KeyError",
     "evalue": "\"None of [Index(['Name', 'ERA', 'WHIP', 'FIP'], dtype='object')] are in the [columns]\"",
     "output_type": "error",
     "traceback": [
      "\u001b[1;31m---------------------------------------------------------------------------\u001b[0m",
      "\u001b[1;31mKeyError\u001b[0m                                  Traceback (most recent call last)",
      "\u001b[1;32m<ipython-input-93-de90178a4392>\u001b[0m in \u001b[0;36m<module>\u001b[1;34m\u001b[0m\n\u001b[0;32m      3\u001b[0m \u001b[1;33m\u001b[0m\u001b[0m\n\u001b[0;32m      4\u001b[0m \u001b[1;31m# Filter the data to include only ERA, WHIP, and FIP\u001b[0m\u001b[1;33m\u001b[0m\u001b[1;33m\u001b[0m\u001b[1;33m\u001b[0m\u001b[0m\n\u001b[1;32m----> 5\u001b[1;33m \u001b[0mfiltered_data\u001b[0m \u001b[1;33m=\u001b[0m \u001b[0mdata\u001b[0m\u001b[1;33m[\u001b[0m\u001b[1;33m[\u001b[0m\u001b[1;34m'Name'\u001b[0m\u001b[1;33m,\u001b[0m \u001b[1;34m'ERA'\u001b[0m\u001b[1;33m,\u001b[0m \u001b[1;34m'WHIP'\u001b[0m\u001b[1;33m,\u001b[0m \u001b[1;34m'FIP'\u001b[0m\u001b[1;33m]\u001b[0m\u001b[1;33m]\u001b[0m\u001b[1;33m\u001b[0m\u001b[1;33m\u001b[0m\u001b[0m\n\u001b[0m\u001b[0;32m      6\u001b[0m \u001b[1;33m\u001b[0m\u001b[0m\n\u001b[0;32m      7\u001b[0m \u001b[0mprint\u001b[0m\u001b[1;33m(\u001b[0m\u001b[0mfiltered_data\u001b[0m\u001b[1;33m)\u001b[0m\u001b[1;33m\u001b[0m\u001b[1;33m\u001b[0m\u001b[0m\n",
      "\u001b[1;32mc:\\Users\\genoc\\Anaconda3\\lib\\site-packages\\pandas\\core\\frame.py\u001b[0m in \u001b[0;36m__getitem__\u001b[1;34m(self, key)\u001b[0m\n\u001b[0;32m   3028\u001b[0m             \u001b[1;32mif\u001b[0m \u001b[0mis_iterator\u001b[0m\u001b[1;33m(\u001b[0m\u001b[0mkey\u001b[0m\u001b[1;33m)\u001b[0m\u001b[1;33m:\u001b[0m\u001b[1;33m\u001b[0m\u001b[1;33m\u001b[0m\u001b[0m\n\u001b[0;32m   3029\u001b[0m                 \u001b[0mkey\u001b[0m \u001b[1;33m=\u001b[0m \u001b[0mlist\u001b[0m\u001b[1;33m(\u001b[0m\u001b[0mkey\u001b[0m\u001b[1;33m)\u001b[0m\u001b[1;33m\u001b[0m\u001b[1;33m\u001b[0m\u001b[0m\n\u001b[1;32m-> 3030\u001b[1;33m             \u001b[0mindexer\u001b[0m \u001b[1;33m=\u001b[0m \u001b[0mself\u001b[0m\u001b[1;33m.\u001b[0m\u001b[0mloc\u001b[0m\u001b[1;33m.\u001b[0m\u001b[0m_get_listlike_indexer\u001b[0m\u001b[1;33m(\u001b[0m\u001b[0mkey\u001b[0m\u001b[1;33m,\u001b[0m \u001b[0maxis\u001b[0m\u001b[1;33m=\u001b[0m\u001b[1;36m1\u001b[0m\u001b[1;33m,\u001b[0m \u001b[0mraise_missing\u001b[0m\u001b[1;33m=\u001b[0m\u001b[1;32mTrue\u001b[0m\u001b[1;33m)\u001b[0m\u001b[1;33m[\u001b[0m\u001b[1;36m1\u001b[0m\u001b[1;33m]\u001b[0m\u001b[1;33m\u001b[0m\u001b[1;33m\u001b[0m\u001b[0m\n\u001b[0m\u001b[0;32m   3031\u001b[0m \u001b[1;33m\u001b[0m\u001b[0m\n\u001b[0;32m   3032\u001b[0m         \u001b[1;31m# take() does not accept boolean indexers\u001b[0m\u001b[1;33m\u001b[0m\u001b[1;33m\u001b[0m\u001b[1;33m\u001b[0m\u001b[0m\n",
      "\u001b[1;32mc:\\Users\\genoc\\Anaconda3\\lib\\site-packages\\pandas\\core\\indexing.py\u001b[0m in \u001b[0;36m_get_listlike_indexer\u001b[1;34m(self, key, axis, raise_missing)\u001b[0m\n\u001b[0;32m   1264\u001b[0m             \u001b[0mkeyarr\u001b[0m\u001b[1;33m,\u001b[0m \u001b[0mindexer\u001b[0m\u001b[1;33m,\u001b[0m \u001b[0mnew_indexer\u001b[0m \u001b[1;33m=\u001b[0m \u001b[0max\u001b[0m\u001b[1;33m.\u001b[0m\u001b[0m_reindex_non_unique\u001b[0m\u001b[1;33m(\u001b[0m\u001b[0mkeyarr\u001b[0m\u001b[1;33m)\u001b[0m\u001b[1;33m\u001b[0m\u001b[1;33m\u001b[0m\u001b[0m\n\u001b[0;32m   1265\u001b[0m \u001b[1;33m\u001b[0m\u001b[0m\n\u001b[1;32m-> 1266\u001b[1;33m         \u001b[0mself\u001b[0m\u001b[1;33m.\u001b[0m\u001b[0m_validate_read_indexer\u001b[0m\u001b[1;33m(\u001b[0m\u001b[0mkeyarr\u001b[0m\u001b[1;33m,\u001b[0m \u001b[0mindexer\u001b[0m\u001b[1;33m,\u001b[0m \u001b[0maxis\u001b[0m\u001b[1;33m,\u001b[0m \u001b[0mraise_missing\u001b[0m\u001b[1;33m=\u001b[0m\u001b[0mraise_missing\u001b[0m\u001b[1;33m)\u001b[0m\u001b[1;33m\u001b[0m\u001b[1;33m\u001b[0m\u001b[0m\n\u001b[0m\u001b[0;32m   1267\u001b[0m         \u001b[1;32mreturn\u001b[0m \u001b[0mkeyarr\u001b[0m\u001b[1;33m,\u001b[0m \u001b[0mindexer\u001b[0m\u001b[1;33m\u001b[0m\u001b[1;33m\u001b[0m\u001b[0m\n\u001b[0;32m   1268\u001b[0m \u001b[1;33m\u001b[0m\u001b[0m\n",
      "\u001b[1;32mc:\\Users\\genoc\\Anaconda3\\lib\\site-packages\\pandas\\core\\indexing.py\u001b[0m in \u001b[0;36m_validate_read_indexer\u001b[1;34m(self, key, indexer, axis, raise_missing)\u001b[0m\n\u001b[0;32m   1306\u001b[0m             \u001b[1;32mif\u001b[0m \u001b[0mmissing\u001b[0m \u001b[1;33m==\u001b[0m \u001b[0mlen\u001b[0m\u001b[1;33m(\u001b[0m\u001b[0mindexer\u001b[0m\u001b[1;33m)\u001b[0m\u001b[1;33m:\u001b[0m\u001b[1;33m\u001b[0m\u001b[1;33m\u001b[0m\u001b[0m\n\u001b[0;32m   1307\u001b[0m                 \u001b[0maxis_name\u001b[0m \u001b[1;33m=\u001b[0m \u001b[0mself\u001b[0m\u001b[1;33m.\u001b[0m\u001b[0mobj\u001b[0m\u001b[1;33m.\u001b[0m\u001b[0m_get_axis_name\u001b[0m\u001b[1;33m(\u001b[0m\u001b[0maxis\u001b[0m\u001b[1;33m)\u001b[0m\u001b[1;33m\u001b[0m\u001b[1;33m\u001b[0m\u001b[0m\n\u001b[1;32m-> 1308\u001b[1;33m                 \u001b[1;32mraise\u001b[0m \u001b[0mKeyError\u001b[0m\u001b[1;33m(\u001b[0m\u001b[1;34mf\"None of [{key}] are in the [{axis_name}]\"\u001b[0m\u001b[1;33m)\u001b[0m\u001b[1;33m\u001b[0m\u001b[1;33m\u001b[0m\u001b[0m\n\u001b[0m\u001b[0;32m   1309\u001b[0m \u001b[1;33m\u001b[0m\u001b[0m\n\u001b[0;32m   1310\u001b[0m             \u001b[0max\u001b[0m \u001b[1;33m=\u001b[0m \u001b[0mself\u001b[0m\u001b[1;33m.\u001b[0m\u001b[0mobj\u001b[0m\u001b[1;33m.\u001b[0m\u001b[0m_get_axis\u001b[0m\u001b[1;33m(\u001b[0m\u001b[0maxis\u001b[0m\u001b[1;33m)\u001b[0m\u001b[1;33m\u001b[0m\u001b[1;33m\u001b[0m\u001b[0m\n",
      "\u001b[1;31mKeyError\u001b[0m: \"None of [Index(['Name', 'ERA', 'WHIP', 'FIP'], dtype='object')] are in the [columns]\""
     ]
    }
   ],
   "source": [
    "# Get pitching stats for 2023\n",
    "data = pitching_stats(2023)\n",
    "\n",
    "# Filter the data to include only ERA, WHIP, and FIP\n",
    "filtered_data = data[['Name', 'ERA', 'WHIP', 'FIP']]\n",
    "\n",
    "print(filtered_data)"
   ]
  },
  {
   "cell_type": "code",
   "execution_count": null,
   "metadata": {},
   "outputs": [],
   "source": []
  },
  {
   "cell_type": "code",
   "execution_count": null,
   "metadata": {},
   "outputs": [],
   "source": []
  },
  {
   "cell_type": "markdown",
   "metadata": {},
   "source": [
    "# **Visualizations**"
   ]
  },
  {
   "cell_type": "code",
   "execution_count": null,
   "metadata": {},
   "outputs": [
    {
     "ename": "TypeError",
     "evalue": "barh() missing 1 required positional argument: 'width'",
     "output_type": "error",
     "traceback": [
      "\u001b[1;31m---------------------------------------------------------------------------\u001b[0m",
      "\u001b[1;31mTypeError\u001b[0m                                 Traceback (most recent call last)",
      "\u001b[1;32m<ipython-input-38-8af690389369>\u001b[0m in \u001b[0;36m<module>\u001b[1;34m\u001b[0m\n\u001b[0;32m      1\u001b[0m \u001b[1;31m# Distribution of Stuff+\u001b[0m\u001b[1;33m\u001b[0m\u001b[1;33m\u001b[0m\u001b[1;33m\u001b[0m\u001b[0m\n\u001b[0;32m      2\u001b[0m \u001b[1;33m\u001b[0m\u001b[0m\n\u001b[1;32m----> 3\u001b[1;33m \u001b[0mplt\u001b[0m\u001b[1;33m.\u001b[0m\u001b[0mbarh\u001b[0m\u001b[1;33m(\u001b[0m\u001b[0mdf_sorted\u001b[0m\u001b[1;33m[\u001b[0m\u001b[1;34m'stuff_plus'\u001b[0m\u001b[1;33m]\u001b[0m\u001b[1;33m,\u001b[0m \u001b[0mbins\u001b[0m\u001b[1;33m=\u001b[0m\u001b[1;36m10\u001b[0m\u001b[1;33m,\u001b[0m \u001b[0mcolor\u001b[0m\u001b[1;33m=\u001b[0m\u001b[1;34m'blue'\u001b[0m\u001b[1;33m)\u001b[0m\u001b[1;33m\u001b[0m\u001b[1;33m\u001b[0m\u001b[0m\n\u001b[0m\u001b[0;32m      4\u001b[0m \u001b[0mplt\u001b[0m\u001b[1;33m.\u001b[0m\u001b[0mxlabel\u001b[0m\u001b[1;33m(\u001b[0m\u001b[1;34m'Stuff+'\u001b[0m\u001b[1;33m)\u001b[0m\u001b[1;33m\u001b[0m\u001b[1;33m\u001b[0m\u001b[0m\n\u001b[0;32m      5\u001b[0m \u001b[0mplt\u001b[0m\u001b[1;33m.\u001b[0m\u001b[0mylabel\u001b[0m\u001b[1;33m(\u001b[0m\u001b[1;34m'Frequency'\u001b[0m\u001b[1;33m)\u001b[0m\u001b[1;33m\u001b[0m\u001b[1;33m\u001b[0m\u001b[0m\n",
      "\u001b[1;31mTypeError\u001b[0m: barh() missing 1 required positional argument: 'width'"
     ]
    }
   ],
   "source": [
    "# Distribution of Stuff+\n",
    "\n",
    "df['stuff_plus'].plot(kind='hist', bins=10, color='blue')"
   ]
  },
  {
   "cell_type": "code",
   "execution_count": null,
   "metadata": {},
   "outputs": [],
   "source": [
    "df.boxplot(column='stuff_plus', by='pitcher_name')"
   ]
  },
  {
   "cell_type": "code",
   "execution_count": null,
   "metadata": {},
   "outputs": [],
   "source": [
    "df_sorted['stuff_plus'].plot(kind='line')"
   ]
  },
  {
   "cell_type": "code",
   "execution_count": null,
   "metadata": {},
   "outputs": [],
   "source": [
    "# Does the average Stuff+ decrease as the season progresses\n",
    "march_april = df_sorted[(df_sorted['date'] >= '2023-03-30') & (df_sorted['date'] <= '2023-04-30')]\n",
    "may = df_sorted[(df_sorted['date'] >= '2023-05-01') & (df_sorted['date'] <= '2023-05-31')]\n",
    "june = df_sorted[(df_sorted['date'] >= '2023-06-01') & (df_sorted['date'] <= '2023-06-30')]\n",
    "july = df_sorted[(df_sorted['date'] >= '2023-07-01') & (df_sorted['date'] <= '2023-07-31')]\n",
    "august = df_sorted[(df_sorted['date'] >= '2023-08-01') & (df_sorted['date'] <= '2023-08-31')]\n",
    "september_october = df_sorted[(df_sorted['date'] >= '2023-09-01') & (df_sorted['date'] <= '2023-09-30')]\n",
    "\n",
    "# Plot the mean Stuff+ values for each month\n",
    "plt.plot(['March-April', 'May', 'June', 'July', 'August', 'September-October'], [march_april['stuff_plus'].mean(), may['stuff_plus'].mean(), june['stuff_plus'].mean(), july['stuff_plus'].mean(), august['stuff_plus'].mean(), september_october['stuff_plus'].mean()], marker='o')\n",
    "plt.xlabel('Month')\n",
    "plt.ylabel('Average Stuff+')\n",
    "plt.title('Average Stuff+ by Month')\n",
    "plt.show()"
   ]
  },
  {
   "cell_type": "code",
   "execution_count": null,
   "metadata": {},
   "outputs": [],
   "source": [
    "corr = df_sorted[['stuff_plus', 'spin_rate', 'velocity']].corr()\n",
    "sns.heatmap(corr, annot=True)"
   ]
  },
  {
   "cell_type": "markdown",
   "metadata": {},
   "source": [
    "Variable Relationships with Stuff+"
   ]
  },
  {
   "cell_type": "code",
   "execution_count": null,
   "metadata": {},
   "outputs": [],
   "source": [
    "# try average_fb_Stuff as well\n",
    "df_sorted.plot(kind='scatter', x='stuff_plus', y='spin_rate')"
   ]
  },
  {
   "cell_type": "markdown",
   "metadata": {},
   "source": [
    "# Which hitters faced the best fastball Stuff+ from RHP?"
   ]
  },
  {
   "cell_type": "code",
   "execution_count": null,
   "metadata": {},
   "outputs": [],
   "source": [
    "# Count the number of pitches each batter has seen\n",
    "pitch_count = df_sorted.groupby('batter_name')['stuff_plus'].count()\n",
    "\n",
    "# Add the pitch count to the DataFrame\n",
    "average_fb_Stuff = df_sorted.groupby('batter_name')['stuff_plus'].mean().reset_index()\n",
    "average_fb_Stuff['pitch_count'] = pitch_count.values\n",
    "average_fb_Stuff = average_fb_Stuff.round(2)\n",
    "\n",
    "# Filter the DataFrame\n",
    "average_fb_Stuff_filtered = average_fb_Stuff[average_fb_Stuff['pitch_count'] >= 50]\n",
    "\n",
    "# Sort the DataFrame in descending order based on the average Stuff+ values\n",
    "average_fb_Stuff_sorted = average_fb_Stuff_filtered.sort_values(by='stuff_plus', ascending=False)\n",
    "\n",
    "top_10 = average_fb_Stuff_sorted.iloc[:10]\n",
    "bottom_10 = average_fb_Stuff_sorted.iloc[-10:]"
   ]
  },
  {
   "cell_type": "code",
   "execution_count": null,
   "metadata": {},
   "outputs": [
    {
     "name": "stdout",
     "output_type": "stream",
     "text": [
      "             batter_name  stuff_plus  pitch_count\n",
      "103  Canaan Smith-Njigba      124.25           68\n",
      "323         Jordyn Adams      119.35           59\n",
      "278          Jared Walsh      118.63          221\n",
      "239      Heston Kjerstad      118.14           58\n",
      "490           Oneil Cruz      117.77           52\n",
      "598       Tyler Heineman      116.65           98\n",
      "162        David Hensley      114.79          155\n",
      "494      Osleivis Basabe      114.44          123\n",
      "31      Andrew Stevenson      114.27           53\n",
      "466         Nathan Lukes      113.79           55\n",
      "-----------------------------------------\n",
      "        batter_name  stuff_plus  pitch_count\n",
      "419      Masyn Winn       88.17          230\n",
      "347     José Fermín       87.77          101\n",
      "438  Michael Chavis       87.67           67\n",
      "150      Dane Myers       86.54          106\n",
      "577      Tomás Nido       86.48           50\n",
      "519     Riley Adams       85.79          153\n",
      "312  Jonathan Araúz       84.50           99\n",
      "634   Yonathan Daza       82.84          119\n",
      "250    Iván Herrera       82.82          102\n",
      "309     Jonah Bride       80.36          157\n"
     ]
    }
   ],
   "source": [
    "# It would be interesting to find their batting average against fastballs vs. their stuff+ faced. \n",
    "# Likely negative correlation btwn BA and Stuff+ (stuff on x-axis)\n",
    "print(top_10)\n",
    "print(\"-----------------------------------------\")\n",
    "print(bottom_10)"
   ]
  },
  {
   "cell_type": "markdown",
   "metadata": {},
   "source": [
    "# **Hyperparameter Tuning**"
   ]
  },
  {
   "cell_type": "code",
   "execution_count": null,
   "metadata": {},
   "outputs": [
    {
     "ename": "KeyboardInterrupt",
     "evalue": "",
     "output_type": "error",
     "traceback": [
      "\u001b[1;31m---------------------------------------------------------------------------\u001b[0m",
      "\u001b[1;31mKeyboardInterrupt\u001b[0m                         Traceback (most recent call last)",
      "\u001b[1;32m<ipython-input-291-37910b61d12d>\u001b[0m in \u001b[0;36m<module>\u001b[1;34m\u001b[0m\n\u001b[0;32m     18\u001b[0m \u001b[1;33m\u001b[0m\u001b[0m\n\u001b[0;32m     19\u001b[0m \u001b[1;31m# Fit the random search object to the data\u001b[0m\u001b[1;33m\u001b[0m\u001b[1;33m\u001b[0m\u001b[1;33m\u001b[0m\u001b[0m\n\u001b[1;32m---> 20\u001b[1;33m \u001b[0mrandom_search\u001b[0m\u001b[1;33m.\u001b[0m\u001b[0mfit\u001b[0m\u001b[1;33m(\u001b[0m\u001b[0mX\u001b[0m\u001b[1;33m,\u001b[0m \u001b[0my\u001b[0m\u001b[1;33m)\u001b[0m\u001b[1;33m\u001b[0m\u001b[1;33m\u001b[0m\u001b[0m\n\u001b[0m\u001b[0;32m     21\u001b[0m \u001b[1;33m\u001b[0m\u001b[0m\n\u001b[0;32m     22\u001b[0m \u001b[1;31m# Print the best parameters\u001b[0m\u001b[1;33m\u001b[0m\u001b[1;33m\u001b[0m\u001b[1;33m\u001b[0m\u001b[0m\n",
      "\u001b[1;32mc:\\Users\\genoc\\Anaconda3\\lib\\site-packages\\sklearn\\utils\\validation.py\u001b[0m in \u001b[0;36minner_f\u001b[1;34m(*args, **kwargs)\u001b[0m\n\u001b[0;32m     61\u001b[0m         \u001b[1;33m@\u001b[0m\u001b[0mwraps\u001b[0m\u001b[1;33m(\u001b[0m\u001b[0mf\u001b[0m\u001b[1;33m)\u001b[0m\u001b[1;33m\u001b[0m\u001b[1;33m\u001b[0m\u001b[0m\n\u001b[0;32m     62\u001b[0m         \u001b[1;32mdef\u001b[0m \u001b[0minner_f\u001b[0m\u001b[1;33m(\u001b[0m\u001b[1;33m*\u001b[0m\u001b[0margs\u001b[0m\u001b[1;33m,\u001b[0m \u001b[1;33m**\u001b[0m\u001b[0mkwargs\u001b[0m\u001b[1;33m)\u001b[0m\u001b[1;33m:\u001b[0m\u001b[1;33m\u001b[0m\u001b[1;33m\u001b[0m\u001b[0m\n\u001b[1;32m---> 63\u001b[1;33m             \u001b[0mextra_args\u001b[0m \u001b[1;33m=\u001b[0m \u001b[0mlen\u001b[0m\u001b[1;33m(\u001b[0m\u001b[0margs\u001b[0m\u001b[1;33m)\u001b[0m \u001b[1;33m-\u001b[0m \u001b[0mlen\u001b[0m\u001b[1;33m(\u001b[0m\u001b[0mall_args\u001b[0m\u001b[1;33m)\u001b[0m\u001b[1;33m\u001b[0m\u001b[1;33m\u001b[0m\u001b[0m\n\u001b[0m\u001b[0;32m     64\u001b[0m             \u001b[1;32mif\u001b[0m \u001b[0mextra_args\u001b[0m \u001b[1;33m<=\u001b[0m \u001b[1;36m0\u001b[0m\u001b[1;33m:\u001b[0m\u001b[1;33m\u001b[0m\u001b[1;33m\u001b[0m\u001b[0m\n\u001b[0;32m     65\u001b[0m                 \u001b[1;32mreturn\u001b[0m \u001b[0mf\u001b[0m\u001b[1;33m(\u001b[0m\u001b[1;33m*\u001b[0m\u001b[0margs\u001b[0m\u001b[1;33m,\u001b[0m \u001b[1;33m**\u001b[0m\u001b[0mkwargs\u001b[0m\u001b[1;33m)\u001b[0m\u001b[1;33m\u001b[0m\u001b[1;33m\u001b[0m\u001b[0m\n",
      "\u001b[1;32mc:\\Users\\genoc\\Anaconda3\\lib\\site-packages\\sklearn\\model_selection\\_search.py\u001b[0m in \u001b[0;36mfit\u001b[1;34m(self, X, y, groups, **fit_params)\u001b[0m\n\u001b[0;32m    839\u001b[0m                         \u001b[1;34m\"Fitting {0} folds for each of {1} candidates,\"\u001b[0m\u001b[1;33m\u001b[0m\u001b[1;33m\u001b[0m\u001b[0m\n\u001b[0;32m    840\u001b[0m                         \" totalling {2} fits\".format(\n\u001b[1;32m--> 841\u001b[1;33m                             \u001b[0mn_splits\u001b[0m\u001b[1;33m,\u001b[0m \u001b[0mn_candidates\u001b[0m\u001b[1;33m,\u001b[0m \u001b[0mn_candidates\u001b[0m \u001b[1;33m*\u001b[0m \u001b[0mn_splits\u001b[0m\u001b[1;33m\u001b[0m\u001b[1;33m\u001b[0m\u001b[0m\n\u001b[0m\u001b[0;32m    842\u001b[0m                         )\n\u001b[0;32m    843\u001b[0m                     )\n",
      "\u001b[1;32mc:\\Users\\genoc\\Anaconda3\\lib\\site-packages\\sklearn\\model_selection\\_search.py\u001b[0m in \u001b[0;36m_run_search\u001b[1;34m(self, evaluate_candidates)\u001b[0m\n\u001b[0;32m   1617\u001b[0m         \u001b[1;33m+\u001b[0m\u001b[1;33m-\u001b[0m\u001b[1;33m-\u001b[0m\u001b[1;33m-\u001b[0m\u001b[1;33m-\u001b[0m\u001b[1;33m-\u001b[0m\u001b[1;33m-\u001b[0m\u001b[1;33m-\u001b[0m\u001b[1;33m-\u001b[0m\u001b[1;33m-\u001b[0m\u001b[1;33m-\u001b[0m\u001b[1;33m-\u001b[0m\u001b[1;33m-\u001b[0m\u001b[1;33m-\u001b[0m\u001b[1;33m-\u001b[0m\u001b[1;33m+\u001b[0m\u001b[1;33m-\u001b[0m\u001b[1;33m-\u001b[0m\u001b[1;33m-\u001b[0m\u001b[1;33m-\u001b[0m\u001b[1;33m-\u001b[0m\u001b[1;33m-\u001b[0m\u001b[1;33m-\u001b[0m\u001b[1;33m-\u001b[0m\u001b[1;33m-\u001b[0m\u001b[1;33m-\u001b[0m\u001b[1;33m-\u001b[0m\u001b[1;33m-\u001b[0m\u001b[1;33m-\u001b[0m\u001b[1;33m+\u001b[0m\u001b[1;33m-\u001b[0m\u001b[1;33m-\u001b[0m\u001b[1;33m-\u001b[0m\u001b[1;33m-\u001b[0m\u001b[1;33m-\u001b[0m\u001b[1;33m-\u001b[0m\u001b[1;33m-\u001b[0m\u001b[1;33m-\u001b[0m\u001b[1;33m-\u001b[0m\u001b[1;33m-\u001b[0m\u001b[1;33m-\u001b[0m\u001b[1;33m-\u001b[0m\u001b[1;33m-\u001b[0m\u001b[1;33m-\u001b[0m\u001b[1;33m-\u001b[0m\u001b[1;33m-\u001b[0m\u001b[1;33m-\u001b[0m\u001b[1;33m-\u001b[0m\u001b[1;33m-\u001b[0m\u001b[1;33m+\u001b[0m\u001b[1;33m-\u001b[0m\u001b[1;33m-\u001b[0m\u001b[1;33m-\u001b[0m\u001b[1;33m+\u001b[0m\u001b[1;33m-\u001b[0m\u001b[1;33m-\u001b[0m\u001b[1;33m-\u001b[0m\u001b[1;33m-\u001b[0m\u001b[1;33m-\u001b[0m\u001b[1;33m-\u001b[0m\u001b[1;33m-\u001b[0m\u001b[1;33m-\u001b[0m\u001b[1;33m-\u001b[0m\u001b[1;33m-\u001b[0m\u001b[1;33m-\u001b[0m\u001b[1;33m-\u001b[0m\u001b[1;33m-\u001b[0m\u001b[1;33m-\u001b[0m\u001b[1;33m-\u001b[0m\u001b[1;33m+\u001b[0m\u001b[1;33m\u001b[0m\u001b[1;33m\u001b[0m\u001b[0m\n\u001b[0;32m   1618\u001b[0m         \u001b[1;33m|\u001b[0m    \u001b[1;34m'rbf'\u001b[0m     \u001b[1;33m|\u001b[0m     \u001b[1;36m0.3\u001b[0m     \u001b[1;33m|\u001b[0m       \u001b[1;36m0.70\u001b[0m        \u001b[1;33m|\u001b[0m\u001b[1;33m...\u001b[0m\u001b[1;33m|\u001b[0m       \u001b[1;36m2\u001b[0m       \u001b[1;33m|\u001b[0m\u001b[1;33m\u001b[0m\u001b[1;33m\u001b[0m\u001b[0m\n\u001b[1;32m-> 1619\u001b[1;33m         \u001b[1;33m+\u001b[0m\u001b[1;33m-\u001b[0m\u001b[1;33m-\u001b[0m\u001b[1;33m-\u001b[0m\u001b[1;33m-\u001b[0m\u001b[1;33m-\u001b[0m\u001b[1;33m-\u001b[0m\u001b[1;33m-\u001b[0m\u001b[1;33m-\u001b[0m\u001b[1;33m-\u001b[0m\u001b[1;33m-\u001b[0m\u001b[1;33m-\u001b[0m\u001b[1;33m-\u001b[0m\u001b[1;33m-\u001b[0m\u001b[1;33m-\u001b[0m\u001b[1;33m+\u001b[0m\u001b[1;33m-\u001b[0m\u001b[1;33m-\u001b[0m\u001b[1;33m-\u001b[0m\u001b[1;33m-\u001b[0m\u001b[1;33m-\u001b[0m\u001b[1;33m-\u001b[0m\u001b[1;33m-\u001b[0m\u001b[1;33m-\u001b[0m\u001b[1;33m-\u001b[0m\u001b[1;33m-\u001b[0m\u001b[1;33m-\u001b[0m\u001b[1;33m-\u001b[0m\u001b[1;33m-\u001b[0m\u001b[1;33m+\u001b[0m\u001b[1;33m-\u001b[0m\u001b[1;33m-\u001b[0m\u001b[1;33m-\u001b[0m\u001b[1;33m-\u001b[0m\u001b[1;33m-\u001b[0m\u001b[1;33m-\u001b[0m\u001b[1;33m-\u001b[0m\u001b[1;33m-\u001b[0m\u001b[1;33m-\u001b[0m\u001b[1;33m-\u001b[0m\u001b[1;33m-\u001b[0m\u001b[1;33m-\u001b[0m\u001b[1;33m-\u001b[0m\u001b[1;33m-\u001b[0m\u001b[1;33m-\u001b[0m\u001b[1;33m-\u001b[0m\u001b[1;33m-\u001b[0m\u001b[1;33m-\u001b[0m\u001b[1;33m-\u001b[0m\u001b[1;33m+\u001b[0m\u001b[1;33m-\u001b[0m\u001b[1;33m-\u001b[0m\u001b[1;33m-\u001b[0m\u001b[1;33m+\u001b[0m\u001b[1;33m-\u001b[0m\u001b[1;33m-\u001b[0m\u001b[1;33m-\u001b[0m\u001b[1;33m-\u001b[0m\u001b[1;33m-\u001b[0m\u001b[1;33m-\u001b[0m\u001b[1;33m-\u001b[0m\u001b[1;33m-\u001b[0m\u001b[1;33m-\u001b[0m\u001b[1;33m-\u001b[0m\u001b[1;33m-\u001b[0m\u001b[1;33m-\u001b[0m\u001b[1;33m-\u001b[0m\u001b[1;33m-\u001b[0m\u001b[1;33m-\u001b[0m\u001b[1;33m+\u001b[0m\u001b[1;33m\u001b[0m\u001b[1;33m\u001b[0m\u001b[0m\n\u001b[0m\u001b[0;32m   1620\u001b[0m \u001b[1;33m\u001b[0m\u001b[0m\n\u001b[0;32m   1621\u001b[0m         \u001b[0mwill\u001b[0m \u001b[0mbe\u001b[0m \u001b[0mrepresented\u001b[0m \u001b[0mby\u001b[0m \u001b[0ma\u001b[0m\u001b[0;31m \u001b[0m\u001b[0;31m`\u001b[0m\u001b[0;31m`\u001b[0m\u001b[0mcv_results_\u001b[0m\u001b[0;31m`\u001b[0m\u001b[0;31m`\u001b[0m \u001b[0mdict\u001b[0m \u001b[0mof\u001b[0m\u001b[1;33m:\u001b[0m\u001b[1;33m:\u001b[0m\u001b[1;33m\u001b[0m\u001b[1;33m\u001b[0m\u001b[0m\n",
      "\u001b[1;32mc:\\Users\\genoc\\Anaconda3\\lib\\site-packages\\sklearn\\model_selection\\_search.py\u001b[0m in \u001b[0;36mevaluate_candidates\u001b[1;34m(candidate_params, cv, more_results)\u001b[0m\n\u001b[0;32m    793\u001b[0m         \"\"\"\n\u001b[0;32m    794\u001b[0m         \u001b[0mestimator\u001b[0m \u001b[1;33m=\u001b[0m \u001b[0mself\u001b[0m\u001b[1;33m.\u001b[0m\u001b[0mestimator\u001b[0m\u001b[1;33m\u001b[0m\u001b[1;33m\u001b[0m\u001b[0m\n\u001b[1;32m--> 795\u001b[1;33m         \u001b[0mrefit_metric\u001b[0m \u001b[1;33m=\u001b[0m \u001b[1;34m\"score\"\u001b[0m\u001b[1;33m\u001b[0m\u001b[1;33m\u001b[0m\u001b[0m\n\u001b[0m\u001b[0;32m    796\u001b[0m \u001b[1;33m\u001b[0m\u001b[0m\n\u001b[0;32m    797\u001b[0m         \u001b[1;32mif\u001b[0m \u001b[0mcallable\u001b[0m\u001b[1;33m(\u001b[0m\u001b[0mself\u001b[0m\u001b[1;33m.\u001b[0m\u001b[0mscoring\u001b[0m\u001b[1;33m)\u001b[0m\u001b[1;33m:\u001b[0m\u001b[1;33m\u001b[0m\u001b[1;33m\u001b[0m\u001b[0m\n",
      "\u001b[1;32mc:\\Users\\genoc\\Anaconda3\\lib\\site-packages\\joblib\\parallel.py\u001b[0m in \u001b[0;36m__call__\u001b[1;34m(self, iterable)\u001b[0m\n\u001b[0;32m   1042\u001b[0m             \u001b[0mthe\u001b[0m \u001b[0mtime\u001b[0m \u001b[0mon\u001b[0m \u001b[0mthe\u001b[0m \u001b[0morder\u001b[0m \u001b[0mof\u001b[0m \u001b[0mhalf\u001b[0m \u001b[0ma\u001b[0m \u001b[0msecond\u001b[0m\u001b[1;33m,\u001b[0m \u001b[0musing\u001b[0m \u001b[0ma\u001b[0m \u001b[0mheuristic\u001b[0m\u001b[1;33m.\u001b[0m \u001b[0mThe\u001b[0m\u001b[1;33m\u001b[0m\u001b[1;33m\u001b[0m\u001b[0m\n\u001b[0;32m   1043\u001b[0m             \u001b[0minitial\u001b[0m \u001b[0mbatch\u001b[0m \u001b[0msize\u001b[0m \u001b[1;32mis\u001b[0m \u001b[1;36m1.\u001b[0m\u001b[1;33m\u001b[0m\u001b[1;33m\u001b[0m\u001b[0m\n\u001b[1;32m-> 1044\u001b[1;33m             \u001b[0;31m`\u001b[0m\u001b[0;31m`\u001b[0m\u001b[0mbatch_size\u001b[0m\u001b[1;33m=\u001b[0m\u001b[1;34m\"auto\"\u001b[0m\u001b[0;31m`\u001b[0m\u001b[0;31m`\u001b[0m \u001b[1;32mwith\u001b[0m\u001b[0;31m \u001b[0m\u001b[0;31m`\u001b[0m\u001b[0;31m`\u001b[0m\u001b[0mbackend\u001b[0m\u001b[1;33m=\u001b[0m\u001b[1;34m\"threading\"\u001b[0m\u001b[0;31m`\u001b[0m\u001b[0;31m`\u001b[0m \u001b[0mwill\u001b[0m \u001b[0mdispatch\u001b[0m\u001b[1;33m\u001b[0m\u001b[1;33m\u001b[0m\u001b[0m\n\u001b[0m\u001b[0;32m   1045\u001b[0m             \u001b[0mbatches\u001b[0m \u001b[0mof\u001b[0m \u001b[0ma\u001b[0m \u001b[0msingle\u001b[0m \u001b[0mtask\u001b[0m \u001b[0mat\u001b[0m \u001b[0ma\u001b[0m \u001b[0mtime\u001b[0m \u001b[1;32mas\u001b[0m \u001b[0mthe\u001b[0m \u001b[0mthreading\u001b[0m \u001b[0mbackend\u001b[0m \u001b[0mhas\u001b[0m\u001b[1;33m\u001b[0m\u001b[1;33m\u001b[0m\u001b[0m\n\u001b[0;32m   1046\u001b[0m             \u001b[0mvery\u001b[0m \u001b[0mlittle\u001b[0m \u001b[0moverhead\u001b[0m \u001b[1;32mand\u001b[0m \u001b[0musing\u001b[0m \u001b[0mlarger\u001b[0m \u001b[0mbatch\u001b[0m \u001b[0msize\u001b[0m \u001b[0mhas\u001b[0m \u001b[1;32mnot\u001b[0m \u001b[0mproved\u001b[0m \u001b[0mto\u001b[0m\u001b[1;33m\u001b[0m\u001b[1;33m\u001b[0m\u001b[0m\n",
      "\u001b[1;32mc:\\Users\\genoc\\Anaconda3\\lib\\site-packages\\joblib\\parallel.py\u001b[0m in \u001b[0;36mdispatch_one_batch\u001b[1;34m(self, iterator)\u001b[0m\n\u001b[0;32m    857\u001b[0m             \u001b[0me\u001b[0m\u001b[1;33m.\u001b[0m\u001b[0m__traceback__\u001b[0m \u001b[1;33m=\u001b[0m \u001b[1;32mNone\u001b[0m\u001b[1;33m\u001b[0m\u001b[1;33m\u001b[0m\u001b[0m\n\u001b[0;32m    858\u001b[0m             \u001b[0moutcome\u001b[0m \u001b[1;33m=\u001b[0m \u001b[0mdict\u001b[0m\u001b[1;33m(\u001b[0m\u001b[0mresult\u001b[0m\u001b[1;33m=\u001b[0m\u001b[0me\u001b[0m\u001b[1;33m,\u001b[0m \u001b[0mstatus\u001b[0m\u001b[1;33m=\u001b[0m\u001b[0mTASK_ERROR\u001b[0m\u001b[1;33m)\u001b[0m\u001b[1;33m\u001b[0m\u001b[1;33m\u001b[0m\u001b[0m\n\u001b[1;32m--> 859\u001b[1;33m \u001b[1;33m\u001b[0m\u001b[0m\n\u001b[0m\u001b[0;32m    860\u001b[0m         \u001b[0mself\u001b[0m\u001b[1;33m.\u001b[0m\u001b[0m_register_outcome\u001b[0m\u001b[1;33m(\u001b[0m\u001b[0moutcome\u001b[0m\u001b[1;33m)\u001b[0m\u001b[1;33m\u001b[0m\u001b[1;33m\u001b[0m\u001b[0m\n\u001b[0;32m    861\u001b[0m         \u001b[1;32mreturn\u001b[0m \u001b[0moutcome\u001b[0m\u001b[1;33m[\u001b[0m\u001b[1;34m'status'\u001b[0m\u001b[1;33m]\u001b[0m \u001b[1;33m!=\u001b[0m \u001b[0mTASK_ERROR\u001b[0m\u001b[1;33m\u001b[0m\u001b[1;33m\u001b[0m\u001b[0m\n",
      "\u001b[1;32mc:\\Users\\genoc\\Anaconda3\\lib\\site-packages\\joblib\\parallel.py\u001b[0m in \u001b[0;36m_dispatch\u001b[1;34m(self, batch)\u001b[0m\n\u001b[0;32m    775\u001b[0m             \u001b[1;32mreturn\u001b[0m \u001b[0mself\u001b[0m\u001b[1;33m.\u001b[0m\u001b[0mstatus\u001b[0m\u001b[1;33m\u001b[0m\u001b[1;33m\u001b[0m\u001b[0m\n\u001b[0;32m    776\u001b[0m \u001b[1;33m\u001b[0m\u001b[0m\n\u001b[1;32m--> 777\u001b[1;33m         \u001b[1;31m# The computation are running and the status is pending.\u001b[0m\u001b[1;33m\u001b[0m\u001b[1;33m\u001b[0m\u001b[1;33m\u001b[0m\u001b[0m\n\u001b[0m\u001b[0;32m    778\u001b[0m         \u001b[1;31m# Check that we did not wait for this jobs more than `timeout`.\u001b[0m\u001b[1;33m\u001b[0m\u001b[1;33m\u001b[0m\u001b[1;33m\u001b[0m\u001b[0m\n\u001b[0;32m    779\u001b[0m         \u001b[0mnow\u001b[0m \u001b[1;33m=\u001b[0m \u001b[0mtime\u001b[0m\u001b[1;33m.\u001b[0m\u001b[0mtime\u001b[0m\u001b[1;33m(\u001b[0m\u001b[1;33m)\u001b[0m\u001b[1;33m\u001b[0m\u001b[1;33m\u001b[0m\u001b[0m\n",
      "\u001b[1;32mc:\\Users\\genoc\\Anaconda3\\lib\\site-packages\\joblib\\_parallel_backends.py\u001b[0m in \u001b[0;36mapply_async\u001b[1;34m(self, func, callback)\u001b[0m\n\u001b[0;32m    206\u001b[0m \u001b[1;33m\u001b[0m\u001b[0m\n\u001b[0;32m    207\u001b[0m \u001b[1;33m\u001b[0m\u001b[0m\n\u001b[1;32m--> 208\u001b[1;33m \u001b[1;32mclass\u001b[0m \u001b[0mSequentialBackend\u001b[0m\u001b[1;33m(\u001b[0m\u001b[0mParallelBackendBase\u001b[0m\u001b[1;33m)\u001b[0m\u001b[1;33m:\u001b[0m\u001b[1;33m\u001b[0m\u001b[1;33m\u001b[0m\u001b[0m\n\u001b[0m\u001b[0;32m    209\u001b[0m     \"\"\"A ParallelBackend which will execute all batches sequentially.\n\u001b[0;32m    210\u001b[0m \u001b[1;33m\u001b[0m\u001b[0m\n",
      "\u001b[1;32mc:\\Users\\genoc\\Anaconda3\\lib\\site-packages\\joblib\\_parallel_backends.py\u001b[0m in \u001b[0;36m__init__\u001b[1;34m(self, batch)\u001b[0m\n\u001b[0;32m    570\u001b[0m                     )\n\u001b[0;32m    571\u001b[0m                 \u001b[0mwarnings\u001b[0m\u001b[1;33m.\u001b[0m\u001b[0mwarn\u001b[0m\u001b[1;33m(\u001b[0m\u001b[0mmsg\u001b[0m\u001b[1;33m,\u001b[0m \u001b[0mstacklevel\u001b[0m\u001b[1;33m=\u001b[0m\u001b[1;36m3\u001b[0m\u001b[1;33m)\u001b[0m\u001b[1;33m\u001b[0m\u001b[1;33m\u001b[0m\u001b[0m\n\u001b[1;32m--> 572\u001b[1;33m \u001b[1;33m\u001b[0m\u001b[0m\n\u001b[0m\u001b[0;32m    573\u001b[0m             \u001b[1;32mreturn\u001b[0m \u001b[1;36m1\u001b[0m\u001b[1;33m\u001b[0m\u001b[1;33m\u001b[0m\u001b[0m\n\u001b[0;32m    574\u001b[0m         \u001b[1;32melif\u001b[0m \u001b[1;32mnot\u001b[0m \u001b[1;33m(\u001b[0m\u001b[0mself\u001b[0m\u001b[1;33m.\u001b[0m\u001b[0min_main_thread\u001b[0m\u001b[1;33m(\u001b[0m\u001b[1;33m)\u001b[0m \u001b[1;32mor\u001b[0m \u001b[0mself\u001b[0m\u001b[1;33m.\u001b[0m\u001b[0mnesting_level\u001b[0m \u001b[1;33m==\u001b[0m \u001b[1;36m0\u001b[0m\u001b[1;33m)\u001b[0m\u001b[1;33m:\u001b[0m\u001b[1;33m\u001b[0m\u001b[1;33m\u001b[0m\u001b[0m\n",
      "\u001b[1;32mc:\\Users\\genoc\\Anaconda3\\lib\\site-packages\\joblib\\parallel.py\u001b[0m in \u001b[0;36m__call__\u001b[1;34m(self)\u001b[0m\n\u001b[0;32m    260\u001b[0m         \u001b[0mthread\u001b[0m\u001b[1;33m-\u001b[0m\u001b[0mpool\u001b[0m \u001b[0mwhen\u001b[0m\u001b[0;31m \u001b[0m\u001b[0;31m`\u001b[0m\u001b[0;31m`\u001b[0m\u001b[0mbackend\u001b[0m\u001b[1;33m=\u001b[0m\u001b[1;34m\"threading\"\u001b[0m\u001b[0;31m`\u001b[0m\u001b[0;31m`\u001b[0m\u001b[1;33m.\u001b[0m\u001b[1;33m\u001b[0m\u001b[1;33m\u001b[0m\u001b[0m\n\u001b[0;32m    261\u001b[0m         \u001b[0mThis\u001b[0m \u001b[0margument\u001b[0m \u001b[1;32mis\u001b[0m \u001b[0mconverted\u001b[0m \u001b[0mto\u001b[0m \u001b[0man\u001b[0m \u001b[0minteger\u001b[0m\u001b[1;33m,\u001b[0m \u001b[0mrounded\u001b[0m \u001b[0mbelow\u001b[0m \u001b[1;32mfor\u001b[0m \u001b[0mfloat\u001b[0m\u001b[1;33m.\u001b[0m\u001b[1;33m\u001b[0m\u001b[1;33m\u001b[0m\u001b[0m\n\u001b[1;32m--> 262\u001b[1;33m         \u001b[0mIf\u001b[0m \u001b[1;33m-\u001b[0m\u001b[1;36m1\u001b[0m \u001b[1;32mis\u001b[0m \u001b[0mgiven\u001b[0m\u001b[1;33m,\u001b[0m\u001b[0;31m \u001b[0m\u001b[0;31m`\u001b[0m\u001b[0mjoblib\u001b[0m\u001b[0;31m`\u001b[0m \u001b[0mtries\u001b[0m \u001b[0mto\u001b[0m \u001b[0muse\u001b[0m \u001b[0mall\u001b[0m \u001b[0mCPUs\u001b[0m\u001b[1;33m.\u001b[0m \u001b[0mThe\u001b[0m \u001b[0mnumber\u001b[0m \u001b[0mof\u001b[0m \u001b[0mCPUs\u001b[0m\u001b[1;33m\u001b[0m\u001b[1;33m\u001b[0m\u001b[0m\n\u001b[0m\u001b[0;32m    263\u001b[0m         \u001b[0;31m`\u001b[0m\u001b[0;31m`\u001b[0m\u001b[0mn_cpus\u001b[0m\u001b[0;31m`\u001b[0m\u001b[0;31m`\u001b[0m \u001b[1;32mis\u001b[0m \u001b[0mobtained\u001b[0m \u001b[1;32mwith\u001b[0m \u001b[1;33m:\u001b[0m\u001b[0mfunc\u001b[0m\u001b[1;33m:\u001b[0m\u001b[0;31m`\u001b[0m\u001b[1;33m~\u001b[0m\u001b[0mcpu_count\u001b[0m\u001b[0;31m`\u001b[0m\u001b[1;33m.\u001b[0m\u001b[1;33m\u001b[0m\u001b[1;33m\u001b[0m\u001b[0m\n\u001b[0;32m    264\u001b[0m         \u001b[0mFor\u001b[0m \u001b[0mn_jobs\u001b[0m \u001b[0mbelow\u001b[0m \u001b[1;33m-\u001b[0m\u001b[1;36m1\u001b[0m\u001b[1;33m,\u001b[0m \u001b[1;33m(\u001b[0m\u001b[0mn_cpus\u001b[0m \u001b[1;33m+\u001b[0m \u001b[1;36m1\u001b[0m \u001b[1;33m+\u001b[0m \u001b[0mn_jobs\u001b[0m\u001b[1;33m)\u001b[0m \u001b[0mare\u001b[0m \u001b[0mused\u001b[0m\u001b[1;33m.\u001b[0m \u001b[0mFor\u001b[0m \u001b[0minstance\u001b[0m\u001b[1;33m,\u001b[0m\u001b[1;33m\u001b[0m\u001b[1;33m\u001b[0m\u001b[0m\n",
      "\u001b[1;32mc:\\Users\\genoc\\Anaconda3\\lib\\site-packages\\joblib\\parallel.py\u001b[0m in \u001b[0;36m<listcomp>\u001b[1;34m(.0)\u001b[0m\n\u001b[0;32m    260\u001b[0m         \u001b[0mthread\u001b[0m\u001b[1;33m-\u001b[0m\u001b[0mpool\u001b[0m \u001b[0mwhen\u001b[0m\u001b[0;31m \u001b[0m\u001b[0;31m`\u001b[0m\u001b[0;31m`\u001b[0m\u001b[0mbackend\u001b[0m\u001b[1;33m=\u001b[0m\u001b[1;34m\"threading\"\u001b[0m\u001b[0;31m`\u001b[0m\u001b[0;31m`\u001b[0m\u001b[1;33m.\u001b[0m\u001b[1;33m\u001b[0m\u001b[1;33m\u001b[0m\u001b[0m\n\u001b[0;32m    261\u001b[0m         \u001b[0mThis\u001b[0m \u001b[0margument\u001b[0m \u001b[1;32mis\u001b[0m \u001b[0mconverted\u001b[0m \u001b[0mto\u001b[0m \u001b[0man\u001b[0m \u001b[0minteger\u001b[0m\u001b[1;33m,\u001b[0m \u001b[0mrounded\u001b[0m \u001b[0mbelow\u001b[0m \u001b[1;32mfor\u001b[0m \u001b[0mfloat\u001b[0m\u001b[1;33m.\u001b[0m\u001b[1;33m\u001b[0m\u001b[1;33m\u001b[0m\u001b[0m\n\u001b[1;32m--> 262\u001b[1;33m         \u001b[0mIf\u001b[0m \u001b[1;33m-\u001b[0m\u001b[1;36m1\u001b[0m \u001b[1;32mis\u001b[0m \u001b[0mgiven\u001b[0m\u001b[1;33m,\u001b[0m\u001b[0;31m \u001b[0m\u001b[0;31m`\u001b[0m\u001b[0mjoblib\u001b[0m\u001b[0;31m`\u001b[0m \u001b[0mtries\u001b[0m \u001b[0mto\u001b[0m \u001b[0muse\u001b[0m \u001b[0mall\u001b[0m \u001b[0mCPUs\u001b[0m\u001b[1;33m.\u001b[0m \u001b[0mThe\u001b[0m \u001b[0mnumber\u001b[0m \u001b[0mof\u001b[0m \u001b[0mCPUs\u001b[0m\u001b[1;33m\u001b[0m\u001b[1;33m\u001b[0m\u001b[0m\n\u001b[0m\u001b[0;32m    263\u001b[0m         \u001b[0;31m`\u001b[0m\u001b[0;31m`\u001b[0m\u001b[0mn_cpus\u001b[0m\u001b[0;31m`\u001b[0m\u001b[0;31m`\u001b[0m \u001b[1;32mis\u001b[0m \u001b[0mobtained\u001b[0m \u001b[1;32mwith\u001b[0m \u001b[1;33m:\u001b[0m\u001b[0mfunc\u001b[0m\u001b[1;33m:\u001b[0m\u001b[0;31m`\u001b[0m\u001b[1;33m~\u001b[0m\u001b[0mcpu_count\u001b[0m\u001b[0;31m`\u001b[0m\u001b[1;33m.\u001b[0m\u001b[1;33m\u001b[0m\u001b[1;33m\u001b[0m\u001b[0m\n\u001b[0;32m    264\u001b[0m         \u001b[0mFor\u001b[0m \u001b[0mn_jobs\u001b[0m \u001b[0mbelow\u001b[0m \u001b[1;33m-\u001b[0m\u001b[1;36m1\u001b[0m\u001b[1;33m,\u001b[0m \u001b[1;33m(\u001b[0m\u001b[0mn_cpus\u001b[0m \u001b[1;33m+\u001b[0m \u001b[1;36m1\u001b[0m \u001b[1;33m+\u001b[0m \u001b[0mn_jobs\u001b[0m\u001b[1;33m)\u001b[0m \u001b[0mare\u001b[0m \u001b[0mused\u001b[0m\u001b[1;33m.\u001b[0m \u001b[0mFor\u001b[0m \u001b[0minstance\u001b[0m\u001b[1;33m,\u001b[0m\u001b[1;33m\u001b[0m\u001b[1;33m\u001b[0m\u001b[0m\n",
      "\u001b[1;32mc:\\Users\\genoc\\Anaconda3\\lib\\site-packages\\sklearn\\utils\\fixes.py\u001b[0m in \u001b[0;36m__call__\u001b[1;34m(self, *args, **kwargs)\u001b[0m\n",
      "\u001b[1;32mc:\\Users\\genoc\\Anaconda3\\lib\\site-packages\\sklearn\\model_selection\\_validation.py\u001b[0m in \u001b[0;36m_fit_and_score\u001b[1;34m(estimator, X, y, scorer, train, test, verbose, parameters, fit_params, return_train_score, return_parameters, return_n_test_samples, return_times, return_estimator, split_progress, candidate_progress, error_score)\u001b[0m\n\u001b[0;32m    591\u001b[0m     \u001b[0mreturn_times\u001b[0m\u001b[1;33m=\u001b[0m\u001b[1;32mFalse\u001b[0m\u001b[1;33m,\u001b[0m\u001b[1;33m\u001b[0m\u001b[1;33m\u001b[0m\u001b[0m\n\u001b[0;32m    592\u001b[0m     \u001b[0mreturn_estimator\u001b[0m\u001b[1;33m=\u001b[0m\u001b[1;32mFalse\u001b[0m\u001b[1;33m,\u001b[0m\u001b[1;33m\u001b[0m\u001b[1;33m\u001b[0m\u001b[0m\n\u001b[1;32m--> 593\u001b[1;33m     \u001b[0msplit_progress\u001b[0m\u001b[1;33m=\u001b[0m\u001b[1;32mNone\u001b[0m\u001b[1;33m,\u001b[0m\u001b[1;33m\u001b[0m\u001b[1;33m\u001b[0m\u001b[0m\n\u001b[0m\u001b[0;32m    594\u001b[0m     \u001b[0mcandidate_progress\u001b[0m\u001b[1;33m=\u001b[0m\u001b[1;32mNone\u001b[0m\u001b[1;33m,\u001b[0m\u001b[1;33m\u001b[0m\u001b[1;33m\u001b[0m\u001b[0m\n\u001b[0;32m    595\u001b[0m     \u001b[0merror_score\u001b[0m\u001b[1;33m=\u001b[0m\u001b[0mnp\u001b[0m\u001b[1;33m.\u001b[0m\u001b[0mnan\u001b[0m\u001b[1;33m,\u001b[0m\u001b[1;33m\u001b[0m\u001b[1;33m\u001b[0m\u001b[0m\n",
      "\u001b[1;32mc:\\Users\\genoc\\Anaconda3\\lib\\site-packages\\xgboost\\core.py\u001b[0m in \u001b[0;36minner_f\u001b[1;34m(*args, **kwargs)\u001b[0m\n\u001b[0;32m    618\u001b[0m             \u001b[1;32mfor\u001b[0m \u001b[0mk\u001b[0m\u001b[1;33m,\u001b[0m \u001b[0marg\u001b[0m \u001b[1;32min\u001b[0m \u001b[0mzip\u001b[0m\u001b[1;33m(\u001b[0m\u001b[0msig\u001b[0m\u001b[1;33m.\u001b[0m\u001b[0mparameters\u001b[0m\u001b[1;33m,\u001b[0m \u001b[0margs\u001b[0m\u001b[1;33m)\u001b[0m\u001b[1;33m:\u001b[0m\u001b[1;33m\u001b[0m\u001b[1;33m\u001b[0m\u001b[0m\n\u001b[0;32m    619\u001b[0m                 \u001b[0mkwargs\u001b[0m\u001b[1;33m[\u001b[0m\u001b[0mk\u001b[0m\u001b[1;33m]\u001b[0m \u001b[1;33m=\u001b[0m \u001b[0marg\u001b[0m\u001b[1;33m\u001b[0m\u001b[1;33m\u001b[0m\u001b[0m\n\u001b[1;32m--> 620\u001b[1;33m             \u001b[1;32mreturn\u001b[0m \u001b[0mfunc\u001b[0m\u001b[1;33m(\u001b[0m\u001b[1;33m**\u001b[0m\u001b[0mkwargs\u001b[0m\u001b[1;33m)\u001b[0m\u001b[1;33m\u001b[0m\u001b[1;33m\u001b[0m\u001b[0m\n\u001b[0m\u001b[0;32m    621\u001b[0m \u001b[1;33m\u001b[0m\u001b[0m\n\u001b[0;32m    622\u001b[0m         \u001b[1;32mreturn\u001b[0m \u001b[0minner_f\u001b[0m\u001b[1;33m\u001b[0m\u001b[1;33m\u001b[0m\u001b[0m\n",
      "\u001b[1;32mc:\\Users\\genoc\\Anaconda3\\lib\\site-packages\\xgboost\\sklearn.py\u001b[0m in \u001b[0;36mfit\u001b[1;34m(self, X, y, sample_weight, base_margin, eval_set, eval_metric, early_stopping_rounds, verbose, xgb_model, sample_weight_eval_set, base_margin_eval_set, feature_weights, callbacks)\u001b[0m\n\u001b[0;32m   1023\u001b[0m                 \u001b[0mxgb_model\u001b[0m\u001b[1;33m,\u001b[0m \u001b[0meval_metric\u001b[0m\u001b[1;33m,\u001b[0m \u001b[0mparams\u001b[0m\u001b[1;33m,\u001b[0m \u001b[0mearly_stopping_rounds\u001b[0m\u001b[1;33m,\u001b[0m \u001b[0mcallbacks\u001b[0m\u001b[1;33m\u001b[0m\u001b[1;33m\u001b[0m\u001b[0m\n\u001b[0;32m   1024\u001b[0m             )\n\u001b[1;32m-> 1025\u001b[1;33m             self._Booster = train(\n\u001b[0m\u001b[0;32m   1026\u001b[0m                 \u001b[0mparams\u001b[0m\u001b[1;33m,\u001b[0m\u001b[1;33m\u001b[0m\u001b[1;33m\u001b[0m\u001b[0m\n\u001b[0;32m   1027\u001b[0m                 \u001b[0mtrain_dmatrix\u001b[0m\u001b[1;33m,\u001b[0m\u001b[1;33m\u001b[0m\u001b[1;33m\u001b[0m\u001b[0m\n",
      "\u001b[1;32mc:\\Users\\genoc\\Anaconda3\\lib\\site-packages\\xgboost\\core.py\u001b[0m in \u001b[0;36minner_f\u001b[1;34m(*args, **kwargs)\u001b[0m\n\u001b[0;32m    618\u001b[0m             \u001b[1;32mfor\u001b[0m \u001b[0mk\u001b[0m\u001b[1;33m,\u001b[0m \u001b[0marg\u001b[0m \u001b[1;32min\u001b[0m \u001b[0mzip\u001b[0m\u001b[1;33m(\u001b[0m\u001b[0msig\u001b[0m\u001b[1;33m.\u001b[0m\u001b[0mparameters\u001b[0m\u001b[1;33m,\u001b[0m \u001b[0margs\u001b[0m\u001b[1;33m)\u001b[0m\u001b[1;33m:\u001b[0m\u001b[1;33m\u001b[0m\u001b[1;33m\u001b[0m\u001b[0m\n\u001b[0;32m    619\u001b[0m                 \u001b[0mkwargs\u001b[0m\u001b[1;33m[\u001b[0m\u001b[0mk\u001b[0m\u001b[1;33m]\u001b[0m \u001b[1;33m=\u001b[0m \u001b[0marg\u001b[0m\u001b[1;33m\u001b[0m\u001b[1;33m\u001b[0m\u001b[0m\n\u001b[1;32m--> 620\u001b[1;33m             \u001b[1;32mreturn\u001b[0m \u001b[0mfunc\u001b[0m\u001b[1;33m(\u001b[0m\u001b[1;33m**\u001b[0m\u001b[0mkwargs\u001b[0m\u001b[1;33m)\u001b[0m\u001b[1;33m\u001b[0m\u001b[1;33m\u001b[0m\u001b[0m\n\u001b[0m\u001b[0;32m    621\u001b[0m \u001b[1;33m\u001b[0m\u001b[0m\n\u001b[0;32m    622\u001b[0m         \u001b[1;32mreturn\u001b[0m \u001b[0minner_f\u001b[0m\u001b[1;33m\u001b[0m\u001b[1;33m\u001b[0m\u001b[0m\n",
      "\u001b[1;32mc:\\Users\\genoc\\Anaconda3\\lib\\site-packages\\xgboost\\training.py\u001b[0m in \u001b[0;36mtrain\u001b[1;34m(params, dtrain, num_boost_round, evals, obj, feval, maximize, early_stopping_rounds, evals_result, verbose_eval, xgb_model, callbacks, custom_metric)\u001b[0m\n\u001b[0;32m    183\u001b[0m         \u001b[1;32mif\u001b[0m \u001b[0mcb_container\u001b[0m\u001b[1;33m.\u001b[0m\u001b[0mbefore_iteration\u001b[0m\u001b[1;33m(\u001b[0m\u001b[0mbst\u001b[0m\u001b[1;33m,\u001b[0m \u001b[0mi\u001b[0m\u001b[1;33m,\u001b[0m \u001b[0mdtrain\u001b[0m\u001b[1;33m,\u001b[0m \u001b[0mevals\u001b[0m\u001b[1;33m)\u001b[0m\u001b[1;33m:\u001b[0m\u001b[1;33m\u001b[0m\u001b[1;33m\u001b[0m\u001b[0m\n\u001b[0;32m    184\u001b[0m             \u001b[1;32mbreak\u001b[0m\u001b[1;33m\u001b[0m\u001b[1;33m\u001b[0m\u001b[0m\n\u001b[1;32m--> 185\u001b[1;33m         \u001b[0mbst\u001b[0m\u001b[1;33m.\u001b[0m\u001b[0mupdate\u001b[0m\u001b[1;33m(\u001b[0m\u001b[0mdtrain\u001b[0m\u001b[1;33m,\u001b[0m \u001b[0mi\u001b[0m\u001b[1;33m,\u001b[0m \u001b[0mobj\u001b[0m\u001b[1;33m)\u001b[0m\u001b[1;33m\u001b[0m\u001b[1;33m\u001b[0m\u001b[0m\n\u001b[0m\u001b[0;32m    186\u001b[0m         \u001b[1;32mif\u001b[0m \u001b[0mcb_container\u001b[0m\u001b[1;33m.\u001b[0m\u001b[0mafter_iteration\u001b[0m\u001b[1;33m(\u001b[0m\u001b[0mbst\u001b[0m\u001b[1;33m,\u001b[0m \u001b[0mi\u001b[0m\u001b[1;33m,\u001b[0m \u001b[0mdtrain\u001b[0m\u001b[1;33m,\u001b[0m \u001b[0mevals\u001b[0m\u001b[1;33m)\u001b[0m\u001b[1;33m:\u001b[0m\u001b[1;33m\u001b[0m\u001b[1;33m\u001b[0m\u001b[0m\n\u001b[0;32m    187\u001b[0m             \u001b[1;32mbreak\u001b[0m\u001b[1;33m\u001b[0m\u001b[1;33m\u001b[0m\u001b[0m\n",
      "\u001b[1;32mc:\\Users\\genoc\\Anaconda3\\lib\\site-packages\\xgboost\\core.py\u001b[0m in \u001b[0;36mupdate\u001b[1;34m(self, dtrain, iteration, fobj)\u001b[0m\n\u001b[0;32m   1916\u001b[0m \u001b[1;33m\u001b[0m\u001b[0m\n\u001b[0;32m   1917\u001b[0m         \u001b[1;32mif\u001b[0m \u001b[0mfobj\u001b[0m \u001b[1;32mis\u001b[0m \u001b[1;32mNone\u001b[0m\u001b[1;33m:\u001b[0m\u001b[1;33m\u001b[0m\u001b[1;33m\u001b[0m\u001b[0m\n\u001b[1;32m-> 1918\u001b[1;33m             _check_call(_LIB.XGBoosterUpdateOneIter(self.handle,\n\u001b[0m\u001b[0;32m   1919\u001b[0m                                                     \u001b[0mctypes\u001b[0m\u001b[1;33m.\u001b[0m\u001b[0mc_int\u001b[0m\u001b[1;33m(\u001b[0m\u001b[0miteration\u001b[0m\u001b[1;33m)\u001b[0m\u001b[1;33m,\u001b[0m\u001b[1;33m\u001b[0m\u001b[1;33m\u001b[0m\u001b[0m\n\u001b[0;32m   1920\u001b[0m                                                     dtrain.handle))\n",
      "\u001b[1;31mKeyboardInterrupt\u001b[0m: "
     ]
    }
   ],
   "source": [
    "from sklearn.model_selection import RandomizedSearchCV\n",
    "from scipy.stats import uniform, randint\n",
    "\n",
    "# Define the parameter distribution\n",
    "param_dist = {\n",
    "    'n_estimators': randint(100, 300),\n",
    "    'learning_rate': uniform(0.01, 0.1),\n",
    "    'max_depth': randint(3, 7),\n",
    "    'reg_alpha': uniform(0.1, 1.0),\n",
    "    'reg_lambda': uniform(0.1, 1.0)\n",
    "}\n",
    "\n",
    "# Create the XGBoost model\n",
    "xgb_model = xgb.XGBRegressor(random_state=1)\n",
    "\n",
    "# Create the random search object\n",
    "random_search = RandomizedSearchCV(xgb_model, param_dist, n_iter=50, cv=5, scoring='neg_mean_squared_error', random_state=1)\n",
    "\n",
    "# Fit the random search object to the data\n",
    "random_search.fit(X, y)\n",
    "\n",
    "# Print the best parameters\n",
    "print(random_search.best_params_)"
   ]
  },
  {
   "cell_type": "markdown",
   "metadata": {},
   "source": [
    "'learning_rate': 0.02521371583925624, 'max_depth': 6, \n",
    "'n_estimators': 254, \n",
    "'reg_alpha': 1.0387116997045198, 'reg_lambda': 0.47113390095546825"
   ]
  },
  {
   "cell_type": "code",
   "execution_count": null,
   "metadata": {},
   "outputs": [
    {
     "data": {
      "text/plain": [
       "'\\n# List of features to include\\nfeatures = [\\'HB^3\\', \\'velocity^2\\', \\'IVB^3\\', \\'release_side\\', \\'release_height\\', \\'extension_spin\\', \\'diff_break_bin_high\\']\\n\\n# Train and evaluate the model with the diff_break_bin_high feature\\nX_with = df_swing_fb[features]\\nX_train_with, X_test_with, y_train, y_test = train_test_split(X_with, y, test_size=0.2, random_state=1)\\nX_train_scaled_with = scaler.fit_transform(X_train_with)\\nX_test_scaled_with = scaler.transform(X_test_with)\\nxgb_model_with = xgb.XGBRegressor(n_estimators=181, learning_rate=0.029515477895583855, random_state=1)\\nxgb_model_with.fit(X_train_scaled_with, y_train)\\ny_pred_with = xgb_model_with.predict(X_test_scaled_with)\\nmse_with = mean_squared_error(y_test, y_pred_with)\\nr2_with = r2_score(y_test, y_pred_with)\\n\\n# List of features to include\\nfeatures = [\\'HB^3\\', \\'velocity^2\\', \\'IVB^3\\', \\'release_side\\', \\'release_height\\', \\'extension_spin\\']\\n\\n# Train and evaluate the model without the diff_break_bin_high feature\\nX_without = df_swing_fb[features]\\nX_train_without, X_test_without, y_train, y_test = train_test_split(X_without, y, test_size=0.2, random_state=1)\\nX_train_scaled_without = scaler.fit_transform(X_train_without)\\nX_test_scaled_without = scaler.transform(X_test_without)\\nxgb_model_without = xgb.XGBRegressor(n_estimators=181, learning_rate=0.029515477895583855, random_state=1)\\nxgb_model_without.fit(X_train_scaled_without, y_train)\\ny_pred_without = xgb_model_without.predict(X_test_scaled_without)\\nmse_without = mean_squared_error(y_test, y_pred_without)\\nr2_without = r2_score(y_test, y_pred_without)\\n\\n# Print the results\\nprint(\"With diff_break_bin_high:\")\\nprint(\"Mean Squared Error:\", mse_with)\\nprint(\"R-squared score:\", r2_with)\\nprint(\"\\nWithout diff_break_bin_high:\")\\nprint(\"Mean Squared Error:\", mse_without)\\nprint(\"R-squared score:\", r2_without)\\n'"
      ]
     },
     "execution_count": 224,
     "metadata": {},
     "output_type": "execute_result"
    }
   ],
   "source": [
    "\"\"\"\n",
    "# List of features to include\n",
    "features = ['HB^3', 'velocity^2', 'IVB^3', 'release_side', 'release_height', 'extension_spin', 'diff_break_bin_high']\n",
    "\n",
    "# Train and evaluate the model with the diff_break_bin_high feature\n",
    "X_with = df_swing_fb[features]\n",
    "X_train_with, X_test_with, y_train, y_test = train_test_split(X_with, y, test_size=0.2, random_state=1)\n",
    "X_train_scaled_with = scaler.fit_transform(X_train_with)\n",
    "X_test_scaled_with = scaler.transform(X_test_with)\n",
    "xgb_model_with = xgb.XGBRegressor(n_estimators=181, learning_rate=0.029515477895583855, random_state=1)\n",
    "xgb_model_with.fit(X_train_scaled_with, y_train)\n",
    "y_pred_with = xgb_model_with.predict(X_test_scaled_with)\n",
    "mse_with = mean_squared_error(y_test, y_pred_with)\n",
    "r2_with = r2_score(y_test, y_pred_with)\n",
    "\n",
    "# List of features to include\n",
    "features = ['HB^3', 'velocity^2', 'IVB^3', 'release_side', 'release_height', 'extension_spin']\n",
    "\n",
    "# Train and evaluate the model without the diff_break_bin_high feature\n",
    "X_without = df_swing_fb[features]\n",
    "X_train_without, X_test_without, y_train, y_test = train_test_split(X_without, y, test_size=0.2, random_state=1)\n",
    "X_train_scaled_without = scaler.fit_transform(X_train_without)\n",
    "X_test_scaled_without = scaler.transform(X_test_without)\n",
    "xgb_model_without = xgb.XGBRegressor(n_estimators=181, learning_rate=0.029515477895583855, random_state=1)\n",
    "xgb_model_without.fit(X_train_scaled_without, y_train)\n",
    "y_pred_without = xgb_model_without.predict(X_test_scaled_without)\n",
    "mse_without = mean_squared_error(y_test, y_pred_without)\n",
    "r2_without = r2_score(y_test, y_pred_without)\n",
    "\n",
    "# Print the results\n",
    "print(\"With diff_break_bin_high:\")\n",
    "print(\"Mean Squared Error:\", mse_with)\n",
    "print(\"R-squared score:\", r2_with)\n",
    "print(\"\\nWithout diff_break_bin_high:\")\n",
    "print(\"Mean Squared Error:\", mse_without)\n",
    "print(\"R-squared score:\", r2_without)\n",
    "\"\"\""
   ]
  },
  {
   "cell_type": "code",
   "execution_count": null,
   "metadata": {},
   "outputs": [
    {
     "data": {
      "text/plain": [
       "'\\nfrom sklearn.model_selection import GridSearchCV\\n\\n# Define the parameter grid\\nparam_grid = {\\n    \\'n_estimators\\': [50, 100, 150, 200],\\n    \\'learning_rate\\': [0.01, 0.1, 0.2, 0.3]\\n}\\n\\n# Create the GridSearchCV object\\ngrid_search = GridSearchCV(xgb.XGBRegressor(random_state=42), param_grid, cv=5, scoring=\\'neg_mean_squared_error\\')\\n\\n# Fit the GridSearchCV object to the data\\ngrid_search.fit(X_train_scaled, y_train)\\n\\n# Print the best parameters and the best score\\nprint(\"Best parameters:\", grid_search.best_params_)\\nprint(\"Best score:\", grid_search.best_score_)\\n\\n# Use the best estimator to make predictions\\ny_pred = grid_search.best_estimator_.predict(X_test_scaled)\\n\\n# Evaluate the model\\nmse = mean_squared_error(y_test, y_pred)\\nr2 = r2_score(y_test, y_pred)\\n\\nprint(\"Mean Squared Error:\", mse)\\nprint(\"R-squared score:\", r2)\\n'"
      ]
     },
     "execution_count": 198,
     "metadata": {},
     "output_type": "execute_result"
    }
   ],
   "source": [
    "\"\"\"\n",
    "from sklearn.model_selection import GridSearchCV\n",
    "\n",
    "# Define the parameter grid\n",
    "param_grid = {\n",
    "    'n_estimators': [50, 100, 150, 200],\n",
    "    'learning_rate': [0.01, 0.1, 0.2, 0.3]\n",
    "}\n",
    "\n",
    "# Create the GridSearchCV object\n",
    "grid_search = GridSearchCV(xgb.XGBRegressor(random_state=42), param_grid, cv=5, scoring='neg_mean_squared_error')\n",
    "\n",
    "# Fit the GridSearchCV object to the data\n",
    "grid_search.fit(X_train_scaled, y_train)\n",
    "\n",
    "# Print the best parameters and the best score\n",
    "print(\"Best parameters:\", grid_search.best_params_)\n",
    "print(\"Best score:\", grid_search.best_score_)\n",
    "\n",
    "# Use the best estimator to make predictions\n",
    "y_pred = grid_search.best_estimator_.predict(X_test_scaled)\n",
    "\n",
    "# Evaluate the model\n",
    "mse = mean_squared_error(y_test, y_pred)\n",
    "r2 = r2_score(y_test, y_pred)\n",
    "\n",
    "print(\"Mean Squared Error:\", mse)\n",
    "print(\"R-squared score:\", r2)\n",
    "\"\"\""
   ]
  },
  {
   "cell_type": "code",
   "execution_count": null,
   "metadata": {},
   "outputs": [
    {
     "data": {
      "text/plain": [
       "'\\nfrom sklearn.model_selection import RandomizedSearchCV\\nfrom scipy.stats import randint, uniform\\n\\n# Define the parameter distribution\\nparam_dist = {\\n    \\'n_estimators\\': randint(50, 200),\\n    \\'learning_rate\\': uniform(0.01, 0.3)\\n}\\n\\n# Create the RandomizedSearchCV object\\nrandom_search = RandomizedSearchCV(xgb.XGBRegressor(random_state=42), param_dist, n_iter=50, cv=5, scoring=\\'neg_mean_squared_error\\', random_state=42)\\n\\n# Fit the RandomizedSearchCV object to the data\\nrandom_search.fit(X_train_scaled, y_train)\\n\\n# Print the best parameters and the best score\\nprint(\"Best parameters:\", random_search.best_params_)\\nprint(\"Best score:\", random_search.best_score_)\\n\\n# Use the best estimator to make predictions\\ny_pred = random_search.best_estimator_.predict(X_test_scaled)\\n\\n# Evaluate the model\\nmse = mean_squared_error(y_test, y_pred)\\nr2 = r2_score(y_test, y_pred)\\n\\nprint(\"Mean Squared Error:\", mse)\\nprint(\"R-squared score:\", r2)\\n'"
      ]
     },
     "execution_count": 223,
     "metadata": {},
     "output_type": "execute_result"
    }
   ],
   "source": [
    "\"\"\"\n",
    "from sklearn.model_selection import RandomizedSearchCV\n",
    "from scipy.stats import randint, uniform\n",
    "\n",
    "# Define the parameter distribution\n",
    "param_dist = {\n",
    "    'n_estimators': randint(50, 200),\n",
    "    'learning_rate': uniform(0.01, 0.3)\n",
    "}\n",
    "\n",
    "# Create the RandomizedSearchCV object\n",
    "random_search = RandomizedSearchCV(xgb.XGBRegressor(random_state=42), param_dist, n_iter=50, cv=5, scoring='neg_mean_squared_error', random_state=42)\n",
    "\n",
    "# Fit the RandomizedSearchCV object to the data\n",
    "random_search.fit(X_train_scaled, y_train)\n",
    "\n",
    "# Print the best parameters and the best score\n",
    "print(\"Best parameters:\", random_search.best_params_)\n",
    "print(\"Best score:\", random_search.best_score_)\n",
    "\n",
    "# Use the best estimator to make predictions\n",
    "y_pred = random_search.best_estimator_.predict(X_test_scaled)\n",
    "\n",
    "# Evaluate the model\n",
    "mse = mean_squared_error(y_test, y_pred)\n",
    "r2 = r2_score(y_test, y_pred)\n",
    "\n",
    "print(\"Mean Squared Error:\", mse)\n",
    "print(\"R-squared score:\", r2)\n",
    "\"\"\""
   ]
  },
  {
   "cell_type": "markdown",
   "metadata": {},
   "source": [
    "Best parameters: {'learning_rate': 0.029515477895583855, 'n_estimators': 181}\n",
    "Best score: -0.1588402246170339\n",
    "Mean Squared Error: 0.1595497477178634\n",
    "R-squared score: 0.02342727228548369"
   ]
  },
  {
   "cell_type": "code",
   "execution_count": null,
   "metadata": {},
   "outputs": [],
   "source": []
  }
 ],
 "metadata": {
  "kernelspec": {
   "display_name": "base",
   "language": "python",
   "name": "python3"
  },
  "language_info": {
   "codemirror_mode": {
    "name": "ipython",
    "version": 3
   },
   "file_extension": ".py",
   "mimetype": "text/x-python",
   "name": "python",
   "nbconvert_exporter": "python",
   "pygments_lexer": "ipython3",
   "version": "3.8.8"
  }
 },
 "nbformat": 4,
 "nbformat_minor": 2
}
